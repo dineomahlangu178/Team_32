{
 "cells": [
  {
   "cell_type": "markdown",
   "metadata": {},
   "source": [
    "# EDSA Apple Prices Challenge\n",
    "### by team_32 on 17 May  2021\n",
    "###### Dimakatso Mongwegelwa , Dineo Mahlangu , Phuti Marokhu, Letlhogonolo Menwe, Siphamandla Mandindi"
   ]
  },
  {
   "cell_type": "markdown",
   "metadata": {},
   "source": [
    "# Challenge Description\n",
    "Team_32 is required to predict the price of golden delicus apples per kilogram in the fresh produce industry, the prices may depend on seasons. \n",
    "\n",
    "This solution is meant to help the farming industry economically, such that the users of the system are able to accurately determine how much stock they need to have on hand and what price to set the golden delicius apples. "
   ]
  },
  {
   "cell_type": "markdown",
   "metadata": {},
   "source": [
    "# Dataset Description"
   ]
  },
  {
   "cell_type": "markdown",
   "metadata": {},
   "source": [
    "The Golden Delicious apples dataset was taken from the kaggle competition called the EDSA Apple Prices Challenge [1]. We would like to thank the Inventory Management Incubate team who did the initial work with this dataset. The dataset consists of 65 061 instances (rows) and 13 variables (columns).The following table describes variables that are in the dataset:"
   ]
  },
  {
   "cell_type": "markdown",
   "metadata": {},
   "source": [
    "| Variable name | Type   | Definitions                      | Values and/or measure  |\n",
    "|---------------|--------|----------------------------------| -----------------------|  \n",
    "|Province\t|Catagorical |\tProvince to which the apples come from?| *** distict values, eg. 'Cape'       |\n",
    "|Container\t|Catagorical |A Containers unique identifier\t    |Not applicable          |\n",
    "|Size_Grade\t        |Categorical|\tQuantity and Size if the grade of apples      | '1M' = '1 medium', '1L', '1X', '1S'| \n",
    "|Weight\t        |Numeric\t |Weight of apples in Kilograms        |  \tIn Kilograms(kg)           |\n",
    "|Commodities        |Categorical | raw material or primary agricultural product that can be bought and sold | 'APPLE GOLDEN DELICIOUS' |\n",
    "|Date\t        | Date-time | \t    Dates                    | in \"YYYY-MM-DD\" format     |\n",
    "|Low_Price\t        | Numeric  | Lowest prices\t    | Positive integers    |\n",
    "|High_Price|\tNumeric | Highest prices |Positive integers|\n",
    "|Sales_Total|\tNumeric| Total sales made| Positive  floats | \n",
    "|Total_Kg_Sold\t| Numeric|\tTotal unit(kg) of Apples sold |\tPositive integers|\n",
    "|Stock_On_Hand|Numeric |Shows how the hospital bill is to be paid or is paid|Positive integers|\n"
   ]
  },
  {
   "cell_type": "markdown",
   "metadata": {},
   "source": [
    "## Notebook Outline\n",
    " 1. Package Installation\n",
    " 2. Importing Libraries\n",
    " 3. Loading the Data\n",
    " 4. Data Cleaning and Formating\n",
    " 5. Exploratory Data Analysis\n",
    " 6. Feature Engineering and Selection\n",
    " 7. Linear regression & Parameter Tuning\n",
    " 8. Model Evaluation\n",
    " 9. Submission\n"
   ]
  },
  {
   "cell_type": "markdown",
   "metadata": {},
   "source": [
    "# 1. Package Installation"
   ]
  },
  {
   "cell_type": "code",
   "execution_count": 1,
   "metadata": {},
   "outputs": [
    {
     "name": "stdout",
     "output_type": "stream",
     "text": [
      "Requirement already up-to-date: flask in c:\\users\\dineo\\anaconda3\\lib\\site-packages (2.0.0)\n",
      "Requirement already up-to-date: numpy in c:\\users\\dineo\\anaconda3\\lib\\site-packages (1.20.3)\n",
      "Requirement already up-to-date: pandas in c:\\users\\dineo\\anaconda3\\lib\\site-packages (1.2.4)\n",
      "Requirement already up-to-date: scikit-learn in c:\\users\\dineo\\anaconda3\\lib\\site-packages (0.24.2)\n",
      "Requirement already satisfied, skipping upgrade: Jinja2>=3.0 in c:\\users\\dineo\\anaconda3\\lib\\site-packages (from flask) (3.0.0)\n",
      "Requirement already satisfied, skipping upgrade: click>=7.1.2 in c:\\users\\dineo\\anaconda3\\lib\\site-packages (from flask) (7.1.2)\n",
      "Requirement already satisfied, skipping upgrade: Werkzeug>=2.0 in c:\\users\\dineo\\anaconda3\\lib\\site-packages (from flask) (2.0.0)\n",
      "Requirement already satisfied, skipping upgrade: itsdangerous>=2.0 in c:\\users\\dineo\\anaconda3\\lib\\site-packages (from flask) (2.0.0)\n",
      "Requirement already satisfied, skipping upgrade: pytz>=2017.3 in c:\\users\\dineo\\anaconda3\\lib\\site-packages (from pandas) (2020.1)\n",
      "Requirement already satisfied, skipping upgrade: python-dateutil>=2.7.3 in c:\\users\\dineo\\anaconda3\\lib\\site-packages (from pandas) (2.8.1)\n",
      "Requirement already satisfied, skipping upgrade: threadpoolctl>=2.0.0 in c:\\users\\dineo\\anaconda3\\lib\\site-packages (from scikit-learn) (2.1.0)\n",
      "Requirement already satisfied, skipping upgrade: joblib>=0.11 in c:\\users\\dineo\\anaconda3\\lib\\site-packages (from scikit-learn) (0.17.0)\n",
      "Requirement already satisfied, skipping upgrade: scipy>=0.19.1 in c:\\users\\dineo\\anaconda3\\lib\\site-packages (from scikit-learn) (1.5.2)\n",
      "Requirement already satisfied, skipping upgrade: MarkupSafe>=2.0.0rc2 in c:\\users\\dineo\\anaconda3\\lib\\site-packages (from Jinja2>=3.0->flask) (2.0.0)\n",
      "Requirement already satisfied, skipping upgrade: six>=1.5 in c:\\users\\dineo\\anaconda3\\lib\\site-packages (from python-dateutil>=2.7.3->pandas) (1.15.0)\n",
      "Note: you may need to restart the kernel to use updated packages.\n"
     ]
    }
   ],
   "source": [
    "pip install -U flask numpy pandas scikit-learn"
   ]
  },
  {
   "cell_type": "markdown",
   "metadata": {},
   "source": [
    "# 2. Importing Libraries"
   ]
  },
  {
   "cell_type": "code",
   "execution_count": 4,
   "metadata": {},
   "outputs": [],
   "source": [
    "import numpy as np\n",
    "import pandas as pd\n",
    "import matplotlib as plt\n",
    "import matplotlib.pyplot as plt\n",
    "import seaborn as sns\n",
    "import datetime \n",
    "from sklearn.linear_model import LinearRegression\n",
    "from sklearn.model_selection import train_test_split\n",
    "from sklearn import metrics\n",
    "import math\n",
    "from sklearn.metrics import mean_squared_error\n",
    "from sklearn.metrics import r2_score\n",
    "import pickle\n",
    "#import math from scipy\n",
    "#import stats from scipy.stats"
   ]
  },
  {
   "cell_type": "markdown",
   "metadata": {},
   "source": [
    "# 3. Loading the Dataset"
   ]
  },
  {
   "cell_type": "code",
   "execution_count": 65,
   "metadata": {},
   "outputs": [],
   "source": [
    "df1 = pd.read_csv('sample_submission.csv')\n",
    "df_test = pd.read_csv('df-test_set.csv')\n",
    "df_train = pd.read_csv('df-train_set.csv')\n",
    "test_id = df_test ['Index']\n",
    "df_test = df_test.drop ('Index', axis = 1)"
   ]
  },
  {
   "cell_type": "markdown",
   "metadata": {},
   "source": [
    "## 3.1 Understanding the Data"
   ]
  },
  {
   "cell_type": "code",
   "execution_count": 67,
   "metadata": {},
   "outputs": [
    {
     "data": {
      "text/html": [
       "<div>\n",
       "<style scoped>\n",
       "    .dataframe tbody tr th:only-of-type {\n",
       "        vertical-align: middle;\n",
       "    }\n",
       "\n",
       "    .dataframe tbody tr th {\n",
       "        vertical-align: top;\n",
       "    }\n",
       "\n",
       "    .dataframe thead th {\n",
       "        text-align: right;\n",
       "    }\n",
       "</style>\n",
       "<table border=\"1\" class=\"dataframe\">\n",
       "  <thead>\n",
       "    <tr style=\"text-align: right;\">\n",
       "      <th></th>\n",
       "      <th>Index</th>\n",
       "      <th>avg_price_per_kg</th>\n",
       "    </tr>\n",
       "  </thead>\n",
       "  <tbody>\n",
       "    <tr>\n",
       "      <th>0</th>\n",
       "      <td>1</td>\n",
       "      <td>13.94</td>\n",
       "    </tr>\n",
       "    <tr>\n",
       "      <th>1</th>\n",
       "      <td>2</td>\n",
       "      <td>1.30</td>\n",
       "    </tr>\n",
       "  </tbody>\n",
       "</table>\n",
       "</div>"
      ],
      "text/plain": [
       "   Index  avg_price_per_kg\n",
       "0      1             13.94\n",
       "1      2              1.30"
      ]
     },
     "execution_count": 67,
     "metadata": {},
     "output_type": "execute_result"
    }
   ],
   "source": [
    "df1.head()"
   ]
  },
  {
   "cell_type": "code",
   "execution_count": 68,
   "metadata": {},
   "outputs": [
    {
     "data": {
      "text/html": [
       "<div>\n",
       "<style scoped>\n",
       "    .dataframe tbody tr th:only-of-type {\n",
       "        vertical-align: middle;\n",
       "    }\n",
       "\n",
       "    .dataframe tbody tr th {\n",
       "        vertical-align: top;\n",
       "    }\n",
       "\n",
       "    .dataframe thead th {\n",
       "        text-align: right;\n",
       "    }\n",
       "</style>\n",
       "<table border=\"1\" class=\"dataframe\">\n",
       "  <thead>\n",
       "    <tr style=\"text-align: right;\">\n",
       "      <th></th>\n",
       "      <th>Province</th>\n",
       "      <th>Container</th>\n",
       "      <th>Size_Grade</th>\n",
       "      <th>Weight_Kg</th>\n",
       "      <th>Commodities</th>\n",
       "      <th>Date</th>\n",
       "      <th>Low_Price</th>\n",
       "      <th>High_Price</th>\n",
       "      <th>Sales_Total</th>\n",
       "      <th>Total_Qty_Sold</th>\n",
       "      <th>Total_Kg_Sold</th>\n",
       "      <th>Stock_On_Hand</th>\n",
       "    </tr>\n",
       "  </thead>\n",
       "  <tbody>\n",
       "    <tr>\n",
       "      <th>0</th>\n",
       "      <td>W.CAPE-BERGRIVER ETC</td>\n",
       "      <td>EC120</td>\n",
       "      <td>1M</td>\n",
       "      <td>12.0</td>\n",
       "      <td>APPLE GOLDEN DELICIOUS</td>\n",
       "      <td>2020-07-09</td>\n",
       "      <td>128.0</td>\n",
       "      <td>136.0</td>\n",
       "      <td>5008.0</td>\n",
       "      <td>38</td>\n",
       "      <td>456.0</td>\n",
       "      <td>0</td>\n",
       "    </tr>\n",
       "    <tr>\n",
       "      <th>1</th>\n",
       "      <td>W.CAPE-BERGRIVER ETC</td>\n",
       "      <td>M4183</td>\n",
       "      <td>1X</td>\n",
       "      <td>18.3</td>\n",
       "      <td>APPLE GOLDEN DELICIOUS</td>\n",
       "      <td>2020-01-20</td>\n",
       "      <td>220.0</td>\n",
       "      <td>220.0</td>\n",
       "      <td>1760.0</td>\n",
       "      <td>8</td>\n",
       "      <td>146.4</td>\n",
       "      <td>2</td>\n",
       "    </tr>\n",
       "    <tr>\n",
       "      <th>2</th>\n",
       "      <td>W.CAPE-BERGRIVER ETC</td>\n",
       "      <td>EC120</td>\n",
       "      <td>1S</td>\n",
       "      <td>12.0</td>\n",
       "      <td>APPLE GOLDEN DELICIOUS</td>\n",
       "      <td>2020-08-19</td>\n",
       "      <td>120.0</td>\n",
       "      <td>120.0</td>\n",
       "      <td>720.0</td>\n",
       "      <td>6</td>\n",
       "      <td>72.0</td>\n",
       "      <td>45</td>\n",
       "    </tr>\n",
       "    <tr>\n",
       "      <th>3</th>\n",
       "      <td>W.CAPE-BERGRIVER ETC</td>\n",
       "      <td>M4183</td>\n",
       "      <td>1M</td>\n",
       "      <td>18.3</td>\n",
       "      <td>APPLE GOLDEN DELICIOUS</td>\n",
       "      <td>2020-05-06</td>\n",
       "      <td>160.0</td>\n",
       "      <td>160.0</td>\n",
       "      <td>160.0</td>\n",
       "      <td>1</td>\n",
       "      <td>18.3</td>\n",
       "      <td>8</td>\n",
       "    </tr>\n",
       "    <tr>\n",
       "      <th>4</th>\n",
       "      <td>W.CAPE-BERGRIVER ETC</td>\n",
       "      <td>M4183</td>\n",
       "      <td>1L</td>\n",
       "      <td>18.3</td>\n",
       "      <td>APPLE GOLDEN DELICIOUS</td>\n",
       "      <td>2020-05-04</td>\n",
       "      <td>140.0</td>\n",
       "      <td>160.0</td>\n",
       "      <td>14140.0</td>\n",
       "      <td>100</td>\n",
       "      <td>1830.0</td>\n",
       "      <td>19</td>\n",
       "    </tr>\n",
       "  </tbody>\n",
       "</table>\n",
       "</div>"
      ],
      "text/plain": [
       "               Province Container Size_Grade  Weight_Kg  \\\n",
       "0  W.CAPE-BERGRIVER ETC     EC120         1M       12.0   \n",
       "1  W.CAPE-BERGRIVER ETC     M4183         1X       18.3   \n",
       "2  W.CAPE-BERGRIVER ETC     EC120         1S       12.0   \n",
       "3  W.CAPE-BERGRIVER ETC     M4183         1M       18.3   \n",
       "4  W.CAPE-BERGRIVER ETC     M4183         1L       18.3   \n",
       "\n",
       "              Commodities        Date  Low_Price  High_Price  Sales_Total  \\\n",
       "0  APPLE GOLDEN DELICIOUS  2020-07-09      128.0       136.0       5008.0   \n",
       "1  APPLE GOLDEN DELICIOUS  2020-01-20      220.0       220.0       1760.0   \n",
       "2  APPLE GOLDEN DELICIOUS  2020-08-19      120.0       120.0        720.0   \n",
       "3  APPLE GOLDEN DELICIOUS  2020-05-06      160.0       160.0        160.0   \n",
       "4  APPLE GOLDEN DELICIOUS  2020-05-04      140.0       160.0      14140.0   \n",
       "\n",
       "   Total_Qty_Sold  Total_Kg_Sold  Stock_On_Hand  \n",
       "0              38          456.0              0  \n",
       "1               8          146.4              2  \n",
       "2               6           72.0             45  \n",
       "3               1           18.3              8  \n",
       "4             100         1830.0             19  "
      ]
     },
     "execution_count": 68,
     "metadata": {},
     "output_type": "execute_result"
    }
   ],
   "source": [
    "df_test.head()"
   ]
  },
  {
   "cell_type": "code",
   "execution_count": 69,
   "metadata": {},
   "outputs": [
    {
     "data": {
      "text/html": [
       "<div>\n",
       "<style scoped>\n",
       "    .dataframe tbody tr th:only-of-type {\n",
       "        vertical-align: middle;\n",
       "    }\n",
       "\n",
       "    .dataframe tbody tr th {\n",
       "        vertical-align: top;\n",
       "    }\n",
       "\n",
       "    .dataframe thead th {\n",
       "        text-align: right;\n",
       "    }\n",
       "</style>\n",
       "<table border=\"1\" class=\"dataframe\">\n",
       "  <thead>\n",
       "    <tr style=\"text-align: right;\">\n",
       "      <th></th>\n",
       "      <th>Province</th>\n",
       "      <th>Container</th>\n",
       "      <th>Size_Grade</th>\n",
       "      <th>Weight_Kg</th>\n",
       "      <th>Commodities</th>\n",
       "      <th>Date</th>\n",
       "      <th>Low_Price</th>\n",
       "      <th>High_Price</th>\n",
       "      <th>Sales_Total</th>\n",
       "      <th>Total_Qty_Sold</th>\n",
       "      <th>Total_Kg_Sold</th>\n",
       "      <th>Stock_On_Hand</th>\n",
       "      <th>avg_price_per_kg</th>\n",
       "    </tr>\n",
       "  </thead>\n",
       "  <tbody>\n",
       "    <tr>\n",
       "      <th>0</th>\n",
       "      <td>CAPE</td>\n",
       "      <td>EC120</td>\n",
       "      <td>1L</td>\n",
       "      <td>12.0</td>\n",
       "      <td>APPLE GRANNY SMITH</td>\n",
       "      <td>2020-03-10</td>\n",
       "      <td>108.0</td>\n",
       "      <td>112.0</td>\n",
       "      <td>3236.0</td>\n",
       "      <td>29</td>\n",
       "      <td>348.0</td>\n",
       "      <td>0</td>\n",
       "      <td>9.30</td>\n",
       "    </tr>\n",
       "    <tr>\n",
       "      <th>1</th>\n",
       "      <td>CAPE</td>\n",
       "      <td>M4183</td>\n",
       "      <td>1L</td>\n",
       "      <td>18.3</td>\n",
       "      <td>APPLE GOLDEN DELICIOUS</td>\n",
       "      <td>2020-09-09</td>\n",
       "      <td>150.0</td>\n",
       "      <td>170.0</td>\n",
       "      <td>51710.0</td>\n",
       "      <td>332</td>\n",
       "      <td>6075.6</td>\n",
       "      <td>822</td>\n",
       "      <td>8.51</td>\n",
       "    </tr>\n",
       "    <tr>\n",
       "      <th>2</th>\n",
       "      <td>GAUTENG</td>\n",
       "      <td>AT200</td>\n",
       "      <td>1L</td>\n",
       "      <td>20.0</td>\n",
       "      <td>AVOCADO PINKERTON</td>\n",
       "      <td>2020-05-05</td>\n",
       "      <td>70.0</td>\n",
       "      <td>80.0</td>\n",
       "      <td>4860.0</td>\n",
       "      <td>66</td>\n",
       "      <td>1320.0</td>\n",
       "      <td>50</td>\n",
       "      <td>3.68</td>\n",
       "    </tr>\n",
       "    <tr>\n",
       "      <th>3</th>\n",
       "      <td>TRANSVAAL</td>\n",
       "      <td>BJ090</td>\n",
       "      <td>1L</td>\n",
       "      <td>9.0</td>\n",
       "      <td>TOMATOES-LONG LIFE</td>\n",
       "      <td>2020-01-20</td>\n",
       "      <td>60.0</td>\n",
       "      <td>60.0</td>\n",
       "      <td>600.0</td>\n",
       "      <td>10</td>\n",
       "      <td>90.0</td>\n",
       "      <td>0</td>\n",
       "      <td>6.67</td>\n",
       "    </tr>\n",
       "    <tr>\n",
       "      <th>4</th>\n",
       "      <td>WESTERN FREESTATE</td>\n",
       "      <td>PP100</td>\n",
       "      <td>1R</td>\n",
       "      <td>10.0</td>\n",
       "      <td>POTATO SIFRA (WASHED)</td>\n",
       "      <td>2020-07-14</td>\n",
       "      <td>40.0</td>\n",
       "      <td>45.0</td>\n",
       "      <td>41530.0</td>\n",
       "      <td>927</td>\n",
       "      <td>9270.0</td>\n",
       "      <td>393</td>\n",
       "      <td>4.48</td>\n",
       "    </tr>\n",
       "  </tbody>\n",
       "</table>\n",
       "</div>"
      ],
      "text/plain": [
       "            Province Container Size_Grade  Weight_Kg             Commodities  \\\n",
       "0               CAPE     EC120         1L       12.0      APPLE GRANNY SMITH   \n",
       "1               CAPE     M4183         1L       18.3  APPLE GOLDEN DELICIOUS   \n",
       "2            GAUTENG     AT200         1L       20.0       AVOCADO PINKERTON   \n",
       "3          TRANSVAAL     BJ090         1L        9.0      TOMATOES-LONG LIFE   \n",
       "4  WESTERN FREESTATE     PP100         1R       10.0   POTATO SIFRA (WASHED)   \n",
       "\n",
       "         Date  Low_Price  High_Price  Sales_Total  Total_Qty_Sold  \\\n",
       "0  2020-03-10      108.0       112.0       3236.0              29   \n",
       "1  2020-09-09      150.0       170.0      51710.0             332   \n",
       "2  2020-05-05       70.0        80.0       4860.0              66   \n",
       "3  2020-01-20       60.0        60.0        600.0              10   \n",
       "4  2020-07-14       40.0        45.0      41530.0             927   \n",
       "\n",
       "   Total_Kg_Sold  Stock_On_Hand  avg_price_per_kg  \n",
       "0          348.0              0              9.30  \n",
       "1         6075.6            822              8.51  \n",
       "2         1320.0             50              3.68  \n",
       "3           90.0              0              6.67  \n",
       "4         9270.0            393              4.48  "
      ]
     },
     "execution_count": 69,
     "metadata": {},
     "output_type": "execute_result"
    }
   ],
   "source": [
    "df_train.head()"
   ]
  },
  {
   "cell_type": "code",
   "execution_count": 70,
   "metadata": {},
   "outputs": [],
   "source": [
    "df2=df_train[df_train['Commodities']=='APPLE GOLDEN DELICIOUS']"
   ]
  },
  {
   "cell_type": "code",
   "execution_count": 71,
   "metadata": {},
   "outputs": [
    {
     "data": {
      "text/html": [
       "<div>\n",
       "<style scoped>\n",
       "    .dataframe tbody tr th:only-of-type {\n",
       "        vertical-align: middle;\n",
       "    }\n",
       "\n",
       "    .dataframe tbody tr th {\n",
       "        vertical-align: top;\n",
       "    }\n",
       "\n",
       "    .dataframe thead th {\n",
       "        text-align: right;\n",
       "    }\n",
       "</style>\n",
       "<table border=\"1\" class=\"dataframe\">\n",
       "  <thead>\n",
       "    <tr style=\"text-align: right;\">\n",
       "      <th></th>\n",
       "      <th>Province</th>\n",
       "      <th>Container</th>\n",
       "      <th>Size_Grade</th>\n",
       "      <th>Weight_Kg</th>\n",
       "      <th>Commodities</th>\n",
       "      <th>Date</th>\n",
       "      <th>Low_Price</th>\n",
       "      <th>High_Price</th>\n",
       "      <th>Sales_Total</th>\n",
       "      <th>Total_Qty_Sold</th>\n",
       "      <th>Total_Kg_Sold</th>\n",
       "      <th>Stock_On_Hand</th>\n",
       "      <th>avg_price_per_kg</th>\n",
       "    </tr>\n",
       "  </thead>\n",
       "  <tbody>\n",
       "    <tr>\n",
       "      <th>1</th>\n",
       "      <td>CAPE</td>\n",
       "      <td>M4183</td>\n",
       "      <td>1L</td>\n",
       "      <td>18.3</td>\n",
       "      <td>APPLE GOLDEN DELICIOUS</td>\n",
       "      <td>2020-09-09</td>\n",
       "      <td>150.0</td>\n",
       "      <td>170.0</td>\n",
       "      <td>51710.0</td>\n",
       "      <td>332</td>\n",
       "      <td>6075.6</td>\n",
       "      <td>822</td>\n",
       "      <td>8.51</td>\n",
       "    </tr>\n",
       "    <tr>\n",
       "      <th>7</th>\n",
       "      <td>CAPE</td>\n",
       "      <td>JG110</td>\n",
       "      <td>2M</td>\n",
       "      <td>11.0</td>\n",
       "      <td>APPLE GOLDEN DELICIOUS</td>\n",
       "      <td>2020-04-14</td>\n",
       "      <td>50.0</td>\n",
       "      <td>50.0</td>\n",
       "      <td>16000.0</td>\n",
       "      <td>320</td>\n",
       "      <td>3520.0</td>\n",
       "      <td>0</td>\n",
       "      <td>4.55</td>\n",
       "    </tr>\n",
       "    <tr>\n",
       "      <th>24</th>\n",
       "      <td>W.CAPE-BERGRIVER ETC</td>\n",
       "      <td>JE090</td>\n",
       "      <td>2S</td>\n",
       "      <td>9.0</td>\n",
       "      <td>APPLE GOLDEN DELICIOUS</td>\n",
       "      <td>2020-04-16</td>\n",
       "      <td>55.0</td>\n",
       "      <td>55.0</td>\n",
       "      <td>990.0</td>\n",
       "      <td>18</td>\n",
       "      <td>162.0</td>\n",
       "      <td>1506</td>\n",
       "      <td>6.11</td>\n",
       "    </tr>\n",
       "    <tr>\n",
       "      <th>40</th>\n",
       "      <td>CAPE</td>\n",
       "      <td>M4183</td>\n",
       "      <td>1S</td>\n",
       "      <td>18.3</td>\n",
       "      <td>APPLE GOLDEN DELICIOUS</td>\n",
       "      <td>2020-05-04</td>\n",
       "      <td>80.0</td>\n",
       "      <td>120.0</td>\n",
       "      <td>32020.0</td>\n",
       "      <td>388</td>\n",
       "      <td>7100.4</td>\n",
       "      <td>443</td>\n",
       "      <td>4.51</td>\n",
       "    </tr>\n",
       "    <tr>\n",
       "      <th>69</th>\n",
       "      <td>EASTERN CAPE</td>\n",
       "      <td>IA400</td>\n",
       "      <td>1S</td>\n",
       "      <td>400.0</td>\n",
       "      <td>APPLE GOLDEN DELICIOUS</td>\n",
       "      <td>2020-09-28</td>\n",
       "      <td>1800.0</td>\n",
       "      <td>1800.0</td>\n",
       "      <td>1800.0</td>\n",
       "      <td>1</td>\n",
       "      <td>400.0</td>\n",
       "      <td>2</td>\n",
       "      <td>4.50</td>\n",
       "    </tr>\n",
       "  </tbody>\n",
       "</table>\n",
       "</div>"
      ],
      "text/plain": [
       "                Province Container Size_Grade  Weight_Kg  \\\n",
       "1                   CAPE     M4183         1L       18.3   \n",
       "7                   CAPE     JG110         2M       11.0   \n",
       "24  W.CAPE-BERGRIVER ETC     JE090         2S        9.0   \n",
       "40                  CAPE     M4183         1S       18.3   \n",
       "69          EASTERN CAPE     IA400         1S      400.0   \n",
       "\n",
       "               Commodities        Date  Low_Price  High_Price  Sales_Total  \\\n",
       "1   APPLE GOLDEN DELICIOUS  2020-09-09      150.0       170.0      51710.0   \n",
       "7   APPLE GOLDEN DELICIOUS  2020-04-14       50.0        50.0      16000.0   \n",
       "24  APPLE GOLDEN DELICIOUS  2020-04-16       55.0        55.0        990.0   \n",
       "40  APPLE GOLDEN DELICIOUS  2020-05-04       80.0       120.0      32020.0   \n",
       "69  APPLE GOLDEN DELICIOUS  2020-09-28     1800.0      1800.0       1800.0   \n",
       "\n",
       "    Total_Qty_Sold  Total_Kg_Sold  Stock_On_Hand  avg_price_per_kg  \n",
       "1              332         6075.6            822              8.51  \n",
       "7              320         3520.0              0              4.55  \n",
       "24              18          162.0           1506              6.11  \n",
       "40             388         7100.4            443              4.51  \n",
       "69               1          400.0              2              4.50  "
      ]
     },
     "execution_count": 71,
     "metadata": {},
     "output_type": "execute_result"
    }
   ],
   "source": [
    "df2.head()"
   ]
  },
  {
   "cell_type": "code",
   "execution_count": 72,
   "metadata": {},
   "outputs": [
    {
     "name": "stdout",
     "output_type": "stream",
     "text": [
      "The number of entries in training set:\n",
      "1952\n",
      "The number of entries in testing set:\n",
      "685\n",
      "The shape of the dataFrame is:\n",
      "(1952, 13)\n",
      "The shape of the dataFrame is:\n",
      "(685, 12)\n",
      "the total entries of the dataset\n",
      "2637\n"
     ]
    }
   ],
   "source": [
    "# checking how many entries are there in the dataset, this should correspond to the 65061 noted above\n",
    "print (\"The number of entries in training set:\")\n",
    "print(len(df2))  #  we were checking rows in the dataset\n",
    "print (\"The number of entries in testing set:\")\n",
    "print(len(df_test)) #  we were checking rows in the dataset\n",
    "print(\"The shape of the dataFrame is:\")\n",
    "print(df2.shape)  #  we were checking rows how the dataset us structured\n",
    "print(\"The shape of the dataFrame is:\")\n",
    "print(df_test.shape) \n",
    "# adding the rows of both training and testing set\n",
    "print(\"the total entries of the dataset\")\n",
    "print(len(df2) + len(df_test))  "
   ]
  },
  {
   "cell_type": "code",
   "execution_count": 73,
   "metadata": {},
   "outputs": [
    {
     "data": {
      "text/plain": [
       "Index(['Province', 'Container', 'Size_Grade', 'Weight_Kg', 'Commodities',\n",
       "       'Date', 'Low_Price', 'High_Price', 'Sales_Total', 'Total_Qty_Sold',\n",
       "       'Total_Kg_Sold', 'Stock_On_Hand', 'avg_price_per_kg'],\n",
       "      dtype='object')"
      ]
     },
     "execution_count": 73,
     "metadata": {},
     "output_type": "execute_result"
    }
   ],
   "source": [
    "# Listing the Column names\n",
    "df2.columns"
   ]
  },
  {
   "cell_type": "code",
   "execution_count": 74,
   "metadata": {},
   "outputs": [
    {
     "data": {
      "text/plain": [
       "Province             object\n",
       "Container            object\n",
       "Size_Grade           object\n",
       "Weight_Kg           float64\n",
       "Commodities          object\n",
       "Date                 object\n",
       "Low_Price           float64\n",
       "High_Price          float64\n",
       "Sales_Total         float64\n",
       "Total_Qty_Sold        int64\n",
       "Total_Kg_Sold       float64\n",
       "Stock_On_Hand         int64\n",
       "avg_price_per_kg    float64\n",
       "dtype: object"
      ]
     },
     "execution_count": 74,
     "metadata": {},
     "output_type": "execute_result"
    }
   ],
   "source": [
    "# Checking Data types of the variables\n",
    "df2.dtypes"
   ]
  },
  {
   "cell_type": "code",
   "execution_count": 75,
   "metadata": {},
   "outputs": [
    {
     "data": {
      "text/plain": [
       "Province            1952\n",
       "Container           1952\n",
       "Size_Grade          1952\n",
       "Weight_Kg           1952\n",
       "Commodities         1952\n",
       "Date                1952\n",
       "Low_Price           1952\n",
       "High_Price          1952\n",
       "Sales_Total         1952\n",
       "Total_Qty_Sold      1952\n",
       "Total_Kg_Sold       1952\n",
       "Stock_On_Hand       1952\n",
       "avg_price_per_kg    1952\n",
       "dtype: int64"
      ]
     },
     "execution_count": 75,
     "metadata": {},
     "output_type": "execute_result"
    }
   ],
   "source": [
    "df2.count()"
   ]
  },
  {
   "cell_type": "markdown",
   "metadata": {},
   "source": [
    "###### There are no empty cells in this dataframe. Thus we can continue with cleaning the data."
   ]
  },
  {
   "cell_type": "markdown",
   "metadata": {},
   "source": [
    "# 4. Data Cleaning and Formating"
   ]
  },
  {
   "cell_type": "markdown",
   "metadata": {},
   "source": [
    "#### 4.1 Dealing with Missing Values "
   ]
  },
  {
   "cell_type": "code",
   "execution_count": 76,
   "metadata": {},
   "outputs": [
    {
     "data": {
      "text/plain": [
       "Province            0\n",
       "Container           0\n",
       "Size_Grade          0\n",
       "Weight_Kg           0\n",
       "Commodities         0\n",
       "Date                0\n",
       "Low_Price           0\n",
       "High_Price          0\n",
       "Sales_Total         0\n",
       "Total_Qty_Sold      0\n",
       "Total_Kg_Sold       0\n",
       "Stock_On_Hand       0\n",
       "avg_price_per_kg    0\n",
       "dtype: int64"
      ]
     },
     "execution_count": 76,
     "metadata": {},
     "output_type": "execute_result"
    }
   ],
   "source": [
    "# check for cell that are empty \n",
    "((df2 == \" \").sum())"
   ]
  },
  {
   "cell_type": "code",
   "execution_count": 77,
   "metadata": {},
   "outputs": [
    {
     "data": {
      "text/plain": [
       "Province            0\n",
       "Container           0\n",
       "Size_Grade          0\n",
       "Weight_Kg           0\n",
       "Commodities         0\n",
       "Date                0\n",
       "Low_Price           0\n",
       "High_Price          0\n",
       "Sales_Total         0\n",
       "Total_Qty_Sold      0\n",
       "Total_Kg_Sold       0\n",
       "Stock_On_Hand       0\n",
       "avg_price_per_kg    0\n",
       "dtype: int64"
      ]
     },
     "execution_count": 77,
     "metadata": {},
     "output_type": "execute_result"
    }
   ],
   "source": [
    "((df2 == \"-\").sum())"
   ]
  },
  {
   "cell_type": "code",
   "execution_count": 78,
   "metadata": {},
   "outputs": [
    {
     "data": {
      "text/plain": [
       "Province            0\n",
       "Container           0\n",
       "Size_Grade          0\n",
       "Weight_Kg           0\n",
       "Commodities         0\n",
       "Date                0\n",
       "Low_Price           0\n",
       "High_Price          0\n",
       "Sales_Total         0\n",
       "Total_Qty_Sold      0\n",
       "Total_Kg_Sold       0\n",
       "Stock_On_Hand       0\n",
       "avg_price_per_kg    0\n",
       "dtype: int64"
      ]
     },
     "execution_count": 78,
     "metadata": {},
     "output_type": "execute_result"
    }
   ],
   "source": [
    "((df2 == \"999\").sum())"
   ]
  },
  {
   "cell_type": "code",
   "execution_count": 79,
   "metadata": {},
   "outputs": [
    {
     "data": {
      "text/plain": [
       "Province            0\n",
       "Container           0\n",
       "Size_Grade          0\n",
       "Weight_Kg           0\n",
       "Commodities         0\n",
       "Date                0\n",
       "Low_Price           0\n",
       "High_Price          0\n",
       "Sales_Total         0\n",
       "Total_Qty_Sold      0\n",
       "Total_Kg_Sold       0\n",
       "Stock_On_Hand       0\n",
       "avg_price_per_kg    0\n",
       "dtype: int64"
      ]
     },
     "execution_count": 79,
     "metadata": {},
     "output_type": "execute_result"
    }
   ],
   "source": [
    "((df2 == \"NaN\").sum())"
   ]
  },
  {
   "cell_type": "markdown",
   "metadata": {},
   "source": [
    "##### All the data is present in the datset as we observed no empty cells"
   ]
  },
  {
   "cell_type": "markdown",
   "metadata": {},
   "source": [
    "#### 4.2 Dealing with special values"
   ]
  },
  {
   "cell_type": "code",
   "execution_count": 80,
   "metadata": {},
   "outputs": [
    {
     "data": {
      "text/html": [
       "<div>\n",
       "<style scoped>\n",
       "    .dataframe tbody tr th:only-of-type {\n",
       "        vertical-align: middle;\n",
       "    }\n",
       "\n",
       "    .dataframe tbody tr th {\n",
       "        vertical-align: top;\n",
       "    }\n",
       "\n",
       "    .dataframe thead th {\n",
       "        text-align: right;\n",
       "    }\n",
       "</style>\n",
       "<table border=\"1\" class=\"dataframe\">\n",
       "  <thead>\n",
       "    <tr style=\"text-align: right;\">\n",
       "      <th></th>\n",
       "      <th>Province</th>\n",
       "      <th>Container</th>\n",
       "      <th>Size_Grade</th>\n",
       "      <th>Weight_Kg</th>\n",
       "      <th>Commodities</th>\n",
       "      <th>Date</th>\n",
       "      <th>Low_Price</th>\n",
       "      <th>High_Price</th>\n",
       "      <th>Sales_Total</th>\n",
       "      <th>Total_Qty_Sold</th>\n",
       "      <th>Total_Kg_Sold</th>\n",
       "      <th>Stock_On_Hand</th>\n",
       "      <th>avg_price_per_kg</th>\n",
       "    </tr>\n",
       "  </thead>\n",
       "  <tbody>\n",
       "    <tr>\n",
       "      <th>1</th>\n",
       "      <td>False</td>\n",
       "      <td>False</td>\n",
       "      <td>False</td>\n",
       "      <td>False</td>\n",
       "      <td>False</td>\n",
       "      <td>False</td>\n",
       "      <td>False</td>\n",
       "      <td>False</td>\n",
       "      <td>False</td>\n",
       "      <td>False</td>\n",
       "      <td>False</td>\n",
       "      <td>False</td>\n",
       "      <td>False</td>\n",
       "    </tr>\n",
       "    <tr>\n",
       "      <th>7</th>\n",
       "      <td>False</td>\n",
       "      <td>False</td>\n",
       "      <td>False</td>\n",
       "      <td>False</td>\n",
       "      <td>False</td>\n",
       "      <td>False</td>\n",
       "      <td>False</td>\n",
       "      <td>False</td>\n",
       "      <td>False</td>\n",
       "      <td>False</td>\n",
       "      <td>False</td>\n",
       "      <td>False</td>\n",
       "      <td>False</td>\n",
       "    </tr>\n",
       "    <tr>\n",
       "      <th>24</th>\n",
       "      <td>False</td>\n",
       "      <td>False</td>\n",
       "      <td>False</td>\n",
       "      <td>False</td>\n",
       "      <td>False</td>\n",
       "      <td>False</td>\n",
       "      <td>False</td>\n",
       "      <td>False</td>\n",
       "      <td>False</td>\n",
       "      <td>False</td>\n",
       "      <td>False</td>\n",
       "      <td>False</td>\n",
       "      <td>False</td>\n",
       "    </tr>\n",
       "    <tr>\n",
       "      <th>40</th>\n",
       "      <td>False</td>\n",
       "      <td>False</td>\n",
       "      <td>False</td>\n",
       "      <td>False</td>\n",
       "      <td>False</td>\n",
       "      <td>False</td>\n",
       "      <td>False</td>\n",
       "      <td>False</td>\n",
       "      <td>False</td>\n",
       "      <td>False</td>\n",
       "      <td>False</td>\n",
       "      <td>False</td>\n",
       "      <td>False</td>\n",
       "    </tr>\n",
       "    <tr>\n",
       "      <th>69</th>\n",
       "      <td>False</td>\n",
       "      <td>False</td>\n",
       "      <td>False</td>\n",
       "      <td>False</td>\n",
       "      <td>False</td>\n",
       "      <td>False</td>\n",
       "      <td>False</td>\n",
       "      <td>False</td>\n",
       "      <td>False</td>\n",
       "      <td>False</td>\n",
       "      <td>False</td>\n",
       "      <td>False</td>\n",
       "      <td>False</td>\n",
       "    </tr>\n",
       "    <tr>\n",
       "      <th>...</th>\n",
       "      <td>...</td>\n",
       "      <td>...</td>\n",
       "      <td>...</td>\n",
       "      <td>...</td>\n",
       "      <td>...</td>\n",
       "      <td>...</td>\n",
       "      <td>...</td>\n",
       "      <td>...</td>\n",
       "      <td>...</td>\n",
       "      <td>...</td>\n",
       "      <td>...</td>\n",
       "      <td>...</td>\n",
       "      <td>...</td>\n",
       "    </tr>\n",
       "    <tr>\n",
       "      <th>64276</th>\n",
       "      <td>False</td>\n",
       "      <td>False</td>\n",
       "      <td>False</td>\n",
       "      <td>False</td>\n",
       "      <td>False</td>\n",
       "      <td>False</td>\n",
       "      <td>False</td>\n",
       "      <td>False</td>\n",
       "      <td>False</td>\n",
       "      <td>False</td>\n",
       "      <td>False</td>\n",
       "      <td>False</td>\n",
       "      <td>False</td>\n",
       "    </tr>\n",
       "    <tr>\n",
       "      <th>64291</th>\n",
       "      <td>False</td>\n",
       "      <td>False</td>\n",
       "      <td>False</td>\n",
       "      <td>False</td>\n",
       "      <td>False</td>\n",
       "      <td>False</td>\n",
       "      <td>False</td>\n",
       "      <td>False</td>\n",
       "      <td>False</td>\n",
       "      <td>False</td>\n",
       "      <td>False</td>\n",
       "      <td>False</td>\n",
       "      <td>False</td>\n",
       "    </tr>\n",
       "    <tr>\n",
       "      <th>64297</th>\n",
       "      <td>False</td>\n",
       "      <td>False</td>\n",
       "      <td>False</td>\n",
       "      <td>False</td>\n",
       "      <td>False</td>\n",
       "      <td>False</td>\n",
       "      <td>False</td>\n",
       "      <td>False</td>\n",
       "      <td>False</td>\n",
       "      <td>False</td>\n",
       "      <td>False</td>\n",
       "      <td>False</td>\n",
       "      <td>False</td>\n",
       "    </tr>\n",
       "    <tr>\n",
       "      <th>64304</th>\n",
       "      <td>False</td>\n",
       "      <td>False</td>\n",
       "      <td>False</td>\n",
       "      <td>False</td>\n",
       "      <td>False</td>\n",
       "      <td>False</td>\n",
       "      <td>False</td>\n",
       "      <td>False</td>\n",
       "      <td>False</td>\n",
       "      <td>False</td>\n",
       "      <td>False</td>\n",
       "      <td>False</td>\n",
       "      <td>False</td>\n",
       "    </tr>\n",
       "    <tr>\n",
       "      <th>64310</th>\n",
       "      <td>False</td>\n",
       "      <td>False</td>\n",
       "      <td>False</td>\n",
       "      <td>False</td>\n",
       "      <td>False</td>\n",
       "      <td>False</td>\n",
       "      <td>False</td>\n",
       "      <td>False</td>\n",
       "      <td>False</td>\n",
       "      <td>False</td>\n",
       "      <td>False</td>\n",
       "      <td>False</td>\n",
       "      <td>False</td>\n",
       "    </tr>\n",
       "  </tbody>\n",
       "</table>\n",
       "<p>1952 rows × 13 columns</p>\n",
       "</div>"
      ],
      "text/plain": [
       "       Province  Container  Size_Grade  Weight_Kg  Commodities   Date  \\\n",
       "1         False      False       False      False        False  False   \n",
       "7         False      False       False      False        False  False   \n",
       "24        False      False       False      False        False  False   \n",
       "40        False      False       False      False        False  False   \n",
       "69        False      False       False      False        False  False   \n",
       "...         ...        ...         ...        ...          ...    ...   \n",
       "64276     False      False       False      False        False  False   \n",
       "64291     False      False       False      False        False  False   \n",
       "64297     False      False       False      False        False  False   \n",
       "64304     False      False       False      False        False  False   \n",
       "64310     False      False       False      False        False  False   \n",
       "\n",
       "       Low_Price  High_Price  Sales_Total  Total_Qty_Sold  Total_Kg_Sold  \\\n",
       "1          False       False        False           False          False   \n",
       "7          False       False        False           False          False   \n",
       "24         False       False        False           False          False   \n",
       "40         False       False        False           False          False   \n",
       "69         False       False        False           False          False   \n",
       "...          ...         ...          ...             ...            ...   \n",
       "64276      False       False        False           False          False   \n",
       "64291      False       False        False           False          False   \n",
       "64297      False       False        False           False          False   \n",
       "64304      False       False        False           False          False   \n",
       "64310      False       False        False           False          False   \n",
       "\n",
       "       Stock_On_Hand  avg_price_per_kg  \n",
       "1              False             False  \n",
       "7              False             False  \n",
       "24             False             False  \n",
       "40             False             False  \n",
       "69             False             False  \n",
       "...              ...               ...  \n",
       "64276          False             False  \n",
       "64291          False             False  \n",
       "64297          False             False  \n",
       "64304          False             False  \n",
       "64310          False             False  \n",
       "\n",
       "[1952 rows x 13 columns]"
      ]
     },
     "execution_count": 80,
     "metadata": {},
     "output_type": "execute_result"
    }
   ],
   "source": [
    "# checking your NaN - use encoding methods\n",
    "df2.isnull()"
   ]
  },
  {
   "cell_type": "code",
   "execution_count": 81,
   "metadata": {},
   "outputs": [
    {
     "data": {
      "text/plain": [
       "Province            1952\n",
       "Container           1952\n",
       "Size_Grade          1952\n",
       "Weight_Kg           1952\n",
       "Commodities         1952\n",
       "Date                1952\n",
       "Low_Price           1952\n",
       "High_Price          1952\n",
       "Sales_Total         1952\n",
       "Total_Qty_Sold      1952\n",
       "Total_Kg_Sold       1952\n",
       "Stock_On_Hand       1952\n",
       "avg_price_per_kg    1952\n",
       "dtype: int64"
      ]
     },
     "execution_count": 81,
     "metadata": {},
     "output_type": "execute_result"
    }
   ],
   "source": [
    "df2.isnull().count()"
   ]
  },
  {
   "cell_type": "markdown",
   "metadata": {},
   "source": [
    "#### 4.3 Dealing with outliers"
   ]
  },
  {
   "cell_type": "code",
   "execution_count": 82,
   "metadata": {},
   "outputs": [
    {
     "name": "stderr",
     "output_type": "stream",
     "text": [
      "C:\\Users\\dineo\\anaconda3\\lib\\site-packages\\seaborn\\_decorators.py:36: FutureWarning: Pass the following variable as a keyword arg: x. From version 0.12, the only valid positional argument will be `data`, and passing other arguments without an explicit keyword will result in an error or misinterpretation.\n",
      "  warnings.warn(\n"
     ]
    },
    {
     "data": {
      "text/plain": [
       "<AxesSubplot:xlabel='Sales_Total'>"
      ]
     },
     "execution_count": 82,
     "metadata": {},
     "output_type": "execute_result"
    },
    {
     "data": {
      "image/png": "[encoded data removed]",
      "text/plain": [
       "<Figure size 432x288 with 1 Axes>"
      ]
     },
     "metadata": {
      "needs_background": "light"
     },
     "output_type": "display_data"
    }
   ],
   "source": [
    "# use Histogram or Boxplot to see outliers and then remove\n",
    "sns.boxplot(df2['Sales_Total'])"
   ]
  },
  {
   "cell_type": "code",
   "execution_count": 83,
   "metadata": {},
   "outputs": [
    {
     "name": "stderr",
     "output_type": "stream",
     "text": [
      "C:\\Users\\dineo\\anaconda3\\lib\\site-packages\\seaborn\\_decorators.py:36: FutureWarning: Pass the following variable as a keyword arg: x. From version 0.12, the only valid positional argument will be `data`, and passing other arguments without an explicit keyword will result in an error or misinterpretation.\n",
      "  warnings.warn(\n"
     ]
    },
    {
     "data": {
      "text/plain": [
       "<AxesSubplot:xlabel='Weight_Kg'>"
      ]
     },
     "execution_count": 83,
     "metadata": {},
     "output_type": "execute_result"
    },
    {
     "data": {
      "image/png": "[encoded data removed]",
      "text/plain": [
       "<Figure size 432x288 with 1 Axes>"
      ]
     },
     "metadata": {
      "needs_background": "light"
     },
     "output_type": "display_data"
    }
   ],
   "source": [
    "sns.boxplot(df2['Weight_Kg'])"
   ]
  },
  {
   "cell_type": "code",
   "execution_count": 84,
   "metadata": {},
   "outputs": [
    {
     "name": "stderr",
     "output_type": "stream",
     "text": [
      "C:\\Users\\dineo\\anaconda3\\lib\\site-packages\\seaborn\\_decorators.py:36: FutureWarning: Pass the following variable as a keyword arg: x. From version 0.12, the only valid positional argument will be `data`, and passing other arguments without an explicit keyword will result in an error or misinterpretation.\n",
      "  warnings.warn(\n"
     ]
    },
    {
     "data": {
      "text/plain": [
       "<AxesSubplot:xlabel='Low_Price'>"
      ]
     },
     "execution_count": 84,
     "metadata": {},
     "output_type": "execute_result"
    },
    {
     "data": {
      "image/png": "[encoded data removed]",
      "text/plain": [
       "<Figure size 432x288 with 1 Axes>"
      ]
     },
     "metadata": {
      "needs_background": "light"
     },
     "output_type": "display_data"
    }
   ],
   "source": [
    "sns.boxplot(df2['Low_Price'])"
   ]
  },
  {
   "cell_type": "code",
   "execution_count": 85,
   "metadata": {},
   "outputs": [
    {
     "name": "stderr",
     "output_type": "stream",
     "text": [
      "C:\\Users\\dineo\\anaconda3\\lib\\site-packages\\seaborn\\_decorators.py:36: FutureWarning: Pass the following variable as a keyword arg: x. From version 0.12, the only valid positional argument will be `data`, and passing other arguments without an explicit keyword will result in an error or misinterpretation.\n",
      "  warnings.warn(\n"
     ]
    },
    {
     "data": {
      "text/plain": [
       "<AxesSubplot:xlabel='High_Price'>"
      ]
     },
     "execution_count": 85,
     "metadata": {},
     "output_type": "execute_result"
    },
    {
     "data": {
      "image/png": "[encoded data removed]",
      "text/plain": [
       "<Figure size 432x288 with 1 Axes>"
      ]
     },
     "metadata": {
      "needs_background": "light"
     },
     "output_type": "display_data"
    }
   ],
   "source": [
    "sns.boxplot(df2['High_Price'])"
   ]
  },
  {
   "cell_type": "code",
   "execution_count": 86,
   "metadata": {},
   "outputs": [
    {
     "name": "stderr",
     "output_type": "stream",
     "text": [
      "C:\\Users\\dineo\\anaconda3\\lib\\site-packages\\seaborn\\_decorators.py:36: FutureWarning: Pass the following variable as a keyword arg: x. From version 0.12, the only valid positional argument will be `data`, and passing other arguments without an explicit keyword will result in an error or misinterpretation.\n",
      "  warnings.warn(\n"
     ]
    },
    {
     "data": {
      "text/plain": [
       "<AxesSubplot:xlabel='Total_Qty_Sold'>"
      ]
     },
     "execution_count": 86,
     "metadata": {},
     "output_type": "execute_result"
    },
    {
     "data": {
      "image/png": "[encoded data removed]",
      "text/plain": [
       "<Figure size 432x288 with 1 Axes>"
      ]
     },
     "metadata": {
      "needs_background": "light"
     },
     "output_type": "display_data"
    }
   ],
   "source": [
    "sns.boxplot(df2['Total_Qty_Sold'])"
   ]
  },
  {
   "cell_type": "code",
   "execution_count": 87,
   "metadata": {},
   "outputs": [
    {
     "name": "stderr",
     "output_type": "stream",
     "text": [
      "C:\\Users\\dineo\\anaconda3\\lib\\site-packages\\seaborn\\_decorators.py:36: FutureWarning: Pass the following variable as a keyword arg: x. From version 0.12, the only valid positional argument will be `data`, and passing other arguments without an explicit keyword will result in an error or misinterpretation.\n",
      "  warnings.warn(\n"
     ]
    },
    {
     "data": {
      "text/plain": [
       "<AxesSubplot:xlabel='Stock_On_Hand'>"
      ]
     },
     "execution_count": 87,
     "metadata": {},
     "output_type": "execute_result"
    },
    {
     "data": {
      "image/png": "[encoded data removed]",
      "text/plain": [
       "<Figure size 432x288 with 1 Axes>"
      ]
     },
     "metadata": {
      "needs_background": "light"
     },
     "output_type": "display_data"
    }
   ],
   "source": [
    "sns.boxplot(df2['Stock_On_Hand'])"
   ]
  },
  {
   "cell_type": "code",
   "execution_count": 88,
   "metadata": {},
   "outputs": [
    {
     "name": "stderr",
     "output_type": "stream",
     "text": [
      "C:\\Users\\dineo\\anaconda3\\lib\\site-packages\\seaborn\\_decorators.py:36: FutureWarning: Pass the following variable as a keyword arg: x. From version 0.12, the only valid positional argument will be `data`, and passing other arguments without an explicit keyword will result in an error or misinterpretation.\n",
      "  warnings.warn(\n"
     ]
    },
    {
     "data": {
      "text/plain": [
       "<AxesSubplot:xlabel='avg_price_per_kg'>"
      ]
     },
     "execution_count": 88,
     "metadata": {},
     "output_type": "execute_result"
    },
    {
     "data": {
      "image/png": "[encoded data removed]",
      "text/plain": [
       "<Figure size 432x288 with 1 Axes>"
      ]
     },
     "metadata": {
      "needs_background": "light"
     },
     "output_type": "display_data"
    }
   ],
   "source": [
    "sns.boxplot(df2['avg_price_per_kg']) "
   ]
  },
  {
   "cell_type": "markdown",
   "metadata": {},
   "source": [
    "###### This varaible has inconsistancies and must be delt with"
   ]
  },
  {
   "cell_type": "code",
   "execution_count": 89,
   "metadata": {},
   "outputs": [
    {
     "data": {
      "image/png": "[encoded data removed]",
      "text/plain": [
       "<Figure size 864x864 with 6 Axes>"
      ]
     },
     "metadata": {
      "needs_background": "light"
     },
     "output_type": "display_data"
    }
   ],
   "source": [
    "features = ['Sales_Total','Weight_Kg','Low_Price', 'High_Price', 'Total_Qty_Sold', 'Stock_On_Hand'] # create a list of all numerical features\n",
    "df2[features].hist(figsize=(12,12));"
   ]
  },
  {
   "cell_type": "markdown",
   "metadata": {},
   "source": [
    "#### 4.4 Dealing with Inconsistancies"
   ]
  },
  {
   "cell_type": "code",
   "execution_count": 90,
   "metadata": {},
   "outputs": [
    {
     "data": {
      "text/plain": [
       "CAPE                    1045\n",
       "W.CAPE-BERGRIVER ETC     440\n",
       "EASTERN CAPE             206\n",
       "WEST COAST               126\n",
       "NATAL                    111\n",
       "TRANSVAAL                 15\n",
       "ORANGE FREE STATE          9\n",
       "Name: Province, dtype: int64"
      ]
     },
     "execution_count": 90,
     "metadata": {},
     "output_type": "execute_result"
    }
   ],
   "source": [
    "# inconsistancies = eg male, female , dog\n",
    "# here, we will go through all the catagorical to look for inconsistancies\n",
    "\n",
    "df2[\"Province\"].value_counts()\n"
   ]
  },
  {
   "cell_type": "code",
   "execution_count": 91,
   "metadata": {},
   "outputs": [
    {
     "data": {
      "text/plain": [
       "M4183    588\n",
       "JE090    565\n",
       "EC120    448\n",
       "IA400    139\n",
       "JG110     85\n",
       "EF120     74\n",
       "AC030     31\n",
       "M6125     10\n",
       "DT063      6\n",
       "M9125      3\n",
       "EG140      3\n",
       "Name: Container, dtype: int64"
      ]
     },
     "execution_count": 91,
     "metadata": {},
     "output_type": "execute_result"
    }
   ],
   "source": [
    "df2[\"Container\"].value_counts()"
   ]
  },
  {
   "cell_type": "code",
   "execution_count": 92,
   "metadata": {},
   "outputs": [
    {
     "data": {
      "text/plain": [
       "1S    532\n",
       "1M    319\n",
       "2S    308\n",
       "2M    232\n",
       "1L    225\n",
       "1X    171\n",
       "2L    120\n",
       "2X     26\n",
       "2U     17\n",
       "1U      2\n",
       "Name: Size_Grade, dtype: int64"
      ]
     },
     "execution_count": 92,
     "metadata": {},
     "output_type": "execute_result"
    }
   ],
   "source": [
    "df2[\"Size_Grade\"].value_counts()"
   ]
  },
  {
   "cell_type": "code",
   "execution_count": 93,
   "metadata": {},
   "outputs": [
    {
     "data": {
      "text/plain": [
       "APPLE GOLDEN DELICIOUS    1952\n",
       "Name: Commodities, dtype: int64"
      ]
     },
     "execution_count": 93,
     "metadata": {},
     "output_type": "execute_result"
    }
   ],
   "source": [
    "df2[\"Commodities\"].value_counts() "
   ]
  },
  {
   "cell_type": "markdown",
   "metadata": {},
   "source": [
    "#### 4.5 Dealing with Duplicates"
   ]
  },
  {
   "cell_type": "code",
   "execution_count": null,
   "metadata": {},
   "outputs": [],
   "source": []
  },
  {
   "cell_type": "code",
   "execution_count": null,
   "metadata": {},
   "outputs": [],
   "source": []
  },
  {
   "cell_type": "markdown",
   "metadata": {},
   "source": [
    "# 5. Exploratory Data Analysis"
   ]
  },
  {
   "cell_type": "markdown",
   "metadata": {},
   "source": [
    "### 5.1 Univaraite Data analysis"
   ]
  },
  {
   "cell_type": "markdown",
   "metadata": {},
   "source": [
    "##### Univariate Analysis: Non-Graphical"
   ]
  },
  {
   "cell_type": "markdown",
   "metadata": {},
   "source": [
    "##### Summary Statistics"
   ]
  },
  {
   "cell_type": "code",
   "execution_count": 94,
   "metadata": {},
   "outputs": [
    {
     "data": {
      "text/html": [
       "<div>\n",
       "<style scoped>\n",
       "    .dataframe tbody tr th:only-of-type {\n",
       "        vertical-align: middle;\n",
       "    }\n",
       "\n",
       "    .dataframe tbody tr th {\n",
       "        vertical-align: top;\n",
       "    }\n",
       "\n",
       "    .dataframe thead th {\n",
       "        text-align: right;\n",
       "    }\n",
       "</style>\n",
       "<table border=\"1\" class=\"dataframe\">\n",
       "  <thead>\n",
       "    <tr style=\"text-align: right;\">\n",
       "      <th></th>\n",
       "      <th>Weight_Kg</th>\n",
       "      <th>Low_Price</th>\n",
       "      <th>High_Price</th>\n",
       "      <th>Sales_Total</th>\n",
       "      <th>Total_Qty_Sold</th>\n",
       "      <th>Total_Kg_Sold</th>\n",
       "      <th>Stock_On_Hand</th>\n",
       "      <th>avg_price_per_kg</th>\n",
       "    </tr>\n",
       "  </thead>\n",
       "  <tbody>\n",
       "    <tr>\n",
       "      <th>count</th>\n",
       "      <td>1952.000000</td>\n",
       "      <td>1952.000000</td>\n",
       "      <td>1952.000000</td>\n",
       "      <td>1952.000000</td>\n",
       "      <td>1952.000000</td>\n",
       "      <td>1952.000000</td>\n",
       "      <td>1952.000000</td>\n",
       "      <td>1952.000000</td>\n",
       "    </tr>\n",
       "    <tr>\n",
       "      <th>mean</th>\n",
       "      <td>40.460912</td>\n",
       "      <td>174.307377</td>\n",
       "      <td>215.648053</td>\n",
       "      <td>20053.533811</td>\n",
       "      <td>174.510758</td>\n",
       "      <td>2960.176332</td>\n",
       "      <td>408.393955</td>\n",
       "      <td>6.778893</td>\n",
       "    </tr>\n",
       "    <tr>\n",
       "      <th>std</th>\n",
       "      <td>99.655169</td>\n",
       "      <td>373.553578</td>\n",
       "      <td>433.546159</td>\n",
       "      <td>39005.069445</td>\n",
       "      <td>308.810797</td>\n",
       "      <td>6097.416527</td>\n",
       "      <td>724.450582</td>\n",
       "      <td>2.248744</td>\n",
       "    </tr>\n",
       "    <tr>\n",
       "      <th>min</th>\n",
       "      <td>3.000000</td>\n",
       "      <td>2.000000</td>\n",
       "      <td>5.000000</td>\n",
       "      <td>5.000000</td>\n",
       "      <td>1.000000</td>\n",
       "      <td>3.000000</td>\n",
       "      <td>0.000000</td>\n",
       "      <td>0.250000</td>\n",
       "    </tr>\n",
       "    <tr>\n",
       "      <th>25%</th>\n",
       "      <td>9.000000</td>\n",
       "      <td>50.000000</td>\n",
       "      <td>60.000000</td>\n",
       "      <td>1325.000000</td>\n",
       "      <td>12.000000</td>\n",
       "      <td>219.600000</td>\n",
       "      <td>9.000000</td>\n",
       "      <td>5.460000</td>\n",
       "    </tr>\n",
       "    <tr>\n",
       "      <th>50%</th>\n",
       "      <td>12.000000</td>\n",
       "      <td>80.000000</td>\n",
       "      <td>108.000000</td>\n",
       "      <td>5495.000000</td>\n",
       "      <td>64.000000</td>\n",
       "      <td>853.500000</td>\n",
       "      <td>126.500000</td>\n",
       "      <td>6.670000</td>\n",
       "    </tr>\n",
       "    <tr>\n",
       "      <th>75%</th>\n",
       "      <td>18.300000</td>\n",
       "      <td>127.250000</td>\n",
       "      <td>160.000000</td>\n",
       "      <td>21082.500000</td>\n",
       "      <td>200.000000</td>\n",
       "      <td>3093.525000</td>\n",
       "      <td>468.000000</td>\n",
       "      <td>8.280000</td>\n",
       "    </tr>\n",
       "    <tr>\n",
       "      <th>max</th>\n",
       "      <td>400.000000</td>\n",
       "      <td>2300.000000</td>\n",
       "      <td>3300.000000</td>\n",
       "      <td>369464.000000</td>\n",
       "      <td>4237.000000</td>\n",
       "      <td>74000.000000</td>\n",
       "      <td>6400.000000</td>\n",
       "      <td>21.240000</td>\n",
       "    </tr>\n",
       "  </tbody>\n",
       "</table>\n",
       "</div>"
      ],
      "text/plain": [
       "         Weight_Kg    Low_Price   High_Price    Sales_Total  Total_Qty_Sold  \\\n",
       "count  1952.000000  1952.000000  1952.000000    1952.000000     1952.000000   \n",
       "mean     40.460912   174.307377   215.648053   20053.533811      174.510758   \n",
       "std      99.655169   373.553578   433.546159   39005.069445      308.810797   \n",
       "min       3.000000     2.000000     5.000000       5.000000        1.000000   \n",
       "25%       9.000000    50.000000    60.000000    1325.000000       12.000000   \n",
       "50%      12.000000    80.000000   108.000000    5495.000000       64.000000   \n",
       "75%      18.300000   127.250000   160.000000   21082.500000      200.000000   \n",
       "max     400.000000  2300.000000  3300.000000  369464.000000     4237.000000   \n",
       "\n",
       "       Total_Kg_Sold  Stock_On_Hand  avg_price_per_kg  \n",
       "count    1952.000000    1952.000000       1952.000000  \n",
       "mean     2960.176332     408.393955          6.778893  \n",
       "std      6097.416527     724.450582          2.248744  \n",
       "min         3.000000       0.000000          0.250000  \n",
       "25%       219.600000       9.000000          5.460000  \n",
       "50%       853.500000     126.500000          6.670000  \n",
       "75%      3093.525000     468.000000          8.280000  \n",
       "max     74000.000000    6400.000000         21.240000  "
      ]
     },
     "execution_count": 94,
     "metadata": {},
     "output_type": "execute_result"
    }
   ],
   "source": [
    "# Numeric Stats\n",
    "df2.describe()"
   ]
  },
  {
   "cell_type": "code",
   "execution_count": 95,
   "metadata": {},
   "outputs": [
    {
     "data": {
      "text/html": [
       "<div>\n",
       "<style scoped>\n",
       "    .dataframe tbody tr th:only-of-type {\n",
       "        vertical-align: middle;\n",
       "    }\n",
       "\n",
       "    .dataframe tbody tr th {\n",
       "        vertical-align: top;\n",
       "    }\n",
       "\n",
       "    .dataframe thead th {\n",
       "        text-align: right;\n",
       "    }\n",
       "</style>\n",
       "<table border=\"1\" class=\"dataframe\">\n",
       "  <thead>\n",
       "    <tr style=\"text-align: right;\">\n",
       "      <th></th>\n",
       "      <th>Province</th>\n",
       "      <th>Container</th>\n",
       "      <th>Size_Grade</th>\n",
       "      <th>Commodities</th>\n",
       "      <th>Date</th>\n",
       "    </tr>\n",
       "  </thead>\n",
       "  <tbody>\n",
       "    <tr>\n",
       "      <th>count</th>\n",
       "      <td>1952</td>\n",
       "      <td>1952</td>\n",
       "      <td>1952</td>\n",
       "      <td>1952</td>\n",
       "      <td>1952</td>\n",
       "    </tr>\n",
       "    <tr>\n",
       "      <th>unique</th>\n",
       "      <td>7</td>\n",
       "      <td>11</td>\n",
       "      <td>10</td>\n",
       "      <td>1</td>\n",
       "      <td>147</td>\n",
       "    </tr>\n",
       "    <tr>\n",
       "      <th>top</th>\n",
       "      <td>CAPE</td>\n",
       "      <td>M4183</td>\n",
       "      <td>1S</td>\n",
       "      <td>APPLE GOLDEN DELICIOUS</td>\n",
       "      <td>2020-07-20</td>\n",
       "    </tr>\n",
       "    <tr>\n",
       "      <th>freq</th>\n",
       "      <td>1045</td>\n",
       "      <td>588</td>\n",
       "      <td>532</td>\n",
       "      <td>1952</td>\n",
       "      <td>35</td>\n",
       "    </tr>\n",
       "  </tbody>\n",
       "</table>\n",
       "</div>"
      ],
      "text/plain": [
       "       Province Container Size_Grade             Commodities        Date\n",
       "count      1952      1952       1952                    1952        1952\n",
       "unique        7        11         10                       1         147\n",
       "top        CAPE     M4183         1S  APPLE GOLDEN DELICIOUS  2020-07-20\n",
       "freq       1045       588        532                    1952          35"
      ]
     },
     "execution_count": 95,
     "metadata": {},
     "output_type": "execute_result"
    }
   ],
   "source": [
    "# Catagotical Stats\n",
    "df2.describe(include='O')"
   ]
  },
  {
   "cell_type": "code",
   "execution_count": null,
   "metadata": {},
   "outputs": [],
   "source": []
  },
  {
   "cell_type": "markdown",
   "metadata": {},
   "source": [
    "###### Checking skewness and Kurtosis"
   ]
  },
  {
   "cell_type": "markdown",
   "metadata": {},
   "source": [
    "|   Skew Value (x)  |       Description of Data      |\n",
    "|:-------------------|:---------------:|\n",
    "| -0.5 < x < 0.5              |Fairly Symmetrical |\n",
    "| -1 < x < -0.5 | Moderate Negative Skew  | \n",
    "| 0.5 < x < 1             | Moderate Positive Skew  | \n",
    "|       x < -1     |High Negative Skew  | \n",
    "|       x > 1  |High Positve Skew | "
   ]
  },
  {
   "cell_type": "code",
   "execution_count": 96,
   "metadata": {},
   "outputs": [
    {
     "data": {
      "text/plain": [
       "Weight_Kg           3.328254\n",
       "Low_Price           4.222672\n",
       "High_Price          3.828819\n",
       "Sales_Total         4.250317\n",
       "Total_Qty_Sold      4.445169\n",
       "Total_Kg_Sold       5.529586\n",
       "Stock_On_Hand       3.391815\n",
       "avg_price_per_kg    0.082452\n",
       "dtype: float64"
      ]
     },
     "execution_count": 96,
     "metadata": {},
     "output_type": "execute_result"
    }
   ],
   "source": [
    "df2.skew()"
   ]
  },
  {
   "cell_type": "code",
   "execution_count": 97,
   "metadata": {},
   "outputs": [
    {
     "data": {
      "text/plain": [
       "Weight_Kg            9.109698\n",
       "Low_Price           17.073369\n",
       "High_Price          13.630768\n",
       "Sales_Total         24.200524\n",
       "Total_Qty_Sold      32.338123\n",
       "Total_Kg_Sold       45.153801\n",
       "Stock_On_Hand       14.671224\n",
       "avg_price_per_kg     1.042921\n",
       "dtype: float64"
      ]
     },
     "execution_count": 97,
     "metadata": {},
     "output_type": "execute_result"
    }
   ],
   "source": [
    "df2.kurtosis()"
   ]
  },
  {
   "cell_type": "markdown",
   "metadata": {},
   "source": [
    "##### Univariate Analysis: Graphical"
   ]
  },
  {
   "cell_type": "code",
   "execution_count": 98,
   "metadata": {},
   "outputs": [
    {
     "data": {
      "image/png": "[encoded data removed]",
      "text/plain": [
       "<Figure size 720x720 with 6 Axes>"
      ]
     },
     "metadata": {
      "needs_background": "light"
     },
     "output_type": "display_data"
    }
   ],
   "source": [
    "df2[features].plot(kind='density', subplots=True, layout=(3, 2), sharex=False, figsize=(10, 10));"
   ]
  },
  {
   "cell_type": "code",
   "execution_count": 99,
   "metadata": {},
   "outputs": [
    {
     "data": {
      "text/plain": [
       "(array([0, 1, 2, 3, 4, 5, 6]),\n",
       " [Text(0, 0, 'CAPE'),\n",
       "  Text(1, 0, 'W.CAPE-BERGRIVER ETC'),\n",
       "  Text(2, 0, 'EASTERN CAPE'),\n",
       "  Text(3, 0, 'NATAL'),\n",
       "  Text(4, 0, 'WEST COAST'),\n",
       "  Text(5, 0, 'TRANSVAAL'),\n",
       "  Text(6, 0, 'ORANGE FREE STATE')])"
      ]
     },
     "execution_count": 99,
     "metadata": {},
     "output_type": "execute_result"
    },
    {
     "data": {
      "image/png": "[encoded data removed]",
      "text/plain": [
       "<Figure size 432x288 with 1 Axes>"
      ]
     },
     "metadata": {
      "needs_background": "light"
     },
     "output_type": "display_data"
    }
   ],
   "source": [
    "sns.countplot(x = 'Province', data = df2, palette=\"hls\")\n",
    "plt.xticks(rotation=45)"
   ]
  },
  {
   "cell_type": "code",
   "execution_count": 100,
   "metadata": {},
   "outputs": [
    {
     "data": {
      "text/plain": [
       "(array([ 0,  1,  2,  3,  4,  5,  6,  7,  8,  9, 10]),\n",
       " [Text(0, 0, 'M4183'),\n",
       "  Text(1, 0, 'JG110'),\n",
       "  Text(2, 0, 'JE090'),\n",
       "  Text(3, 0, 'IA400'),\n",
       "  Text(4, 0, 'EC120'),\n",
       "  Text(5, 0, 'AC030'),\n",
       "  Text(6, 0, 'M6125'),\n",
       "  Text(7, 0, 'EF120'),\n",
       "  Text(8, 0, 'DT063'),\n",
       "  Text(9, 0, 'M9125'),\n",
       "  Text(10, 0, 'EG140')])"
      ]
     },
     "execution_count": 100,
     "metadata": {},
     "output_type": "execute_result"
    },
    {
     "data": {
      "image/png": "[encoded data removed]",
      "text/plain": [
       "<Figure size 432x288 with 1 Axes>"
      ]
     },
     "metadata": {
      "needs_background": "light"
     },
     "output_type": "display_data"
    }
   ],
   "source": [
    "sns.countplot(x = 'Container', data = df2, palette=\"hls\")\n",
    "plt.xticks(rotation=45)"
   ]
  },
  {
   "cell_type": "code",
   "execution_count": 101,
   "metadata": {},
   "outputs": [
    {
     "data": {
      "text/plain": [
       "<AxesSubplot:xlabel='Commodities', ylabel='count'>"
      ]
     },
     "execution_count": 101,
     "metadata": {},
     "output_type": "execute_result"
    },
    {
     "data": {
      "image/png": "[encoded data removed]",
      "text/plain": [
       "<Figure size 432x288 with 1 Axes>"
      ]
     },
     "metadata": {
      "needs_background": "light"
     },
     "output_type": "display_data"
    }
   ],
   "source": [
    "sns.countplot(x = 'Commodities', data = df2, palette=\"hls\")\n"
   ]
  },
  {
   "cell_type": "code",
   "execution_count": 102,
   "metadata": {},
   "outputs": [
    {
     "data": {
      "text/plain": [
       "<AxesSubplot:xlabel='Size_Grade', ylabel='count'>"
      ]
     },
     "execution_count": 102,
     "metadata": {},
     "output_type": "execute_result"
    },
    {
     "data": {
      "image/png": "[encoded data removed]",
      "text/plain": [
       "<Figure size 432x288 with 1 Axes>"
      ]
     },
     "metadata": {
      "needs_background": "light"
     },
     "output_type": "display_data"
    }
   ],
   "source": [
    "sns.countplot(x = 'Size_Grade', data = df2, palette=\"hls\")"
   ]
  },
  {
   "cell_type": "code",
   "execution_count": 103,
   "metadata": {},
   "outputs": [
    {
     "name": "stderr",
     "output_type": "stream",
     "text": [
      "C:\\Users\\dineo\\anaconda3\\lib\\site-packages\\seaborn\\distributions.py:2551: FutureWarning: `distplot` is a deprecated function and will be removed in a future version. Please adapt your code to use either `displot` (a figure-level function with similar flexibility) or `histplot` (an axes-level function for histograms).\n",
      "  warnings.warn(msg, FutureWarning)\n"
     ]
    },
    {
     "data": {
      "text/plain": [
       "<AxesSubplot:xlabel='avg_price_per_kg', ylabel='Density'>"
      ]
     },
     "execution_count": 103,
     "metadata": {},
     "output_type": "execute_result"
    },
    {
     "data": {
      "image/png": "[encoded data removed]",
      "text/plain": [
       "<Figure size 720x504 with 1 Axes>"
      ]
     },
     "metadata": {
      "needs_background": "light"
     },
     "output_type": "display_data"
    }
   ],
   "source": [
    "plt.subplots(figsize=(10,7))\n",
    "sns.distplot(df2['avg_price_per_kg'],kde=True)"
   ]
  },
  {
   "cell_type": "markdown",
   "metadata": {},
   "source": [
    "#### 5.2 Multivariate Data analysis"
   ]
  },
  {
   "cell_type": "code",
   "execution_count": 104,
   "metadata": {},
   "outputs": [],
   "source": [
    "# check correlation with sales(research this). The ones(variables) with a high correlation we should select in below step.\n"
   ]
  },
  {
   "cell_type": "markdown",
   "metadata": {},
   "source": [
    "# 6. Feature Engineering and Selection"
   ]
  },
  {
   "cell_type": "code",
   "execution_count": 105,
   "metadata": {},
   "outputs": [
    {
     "name": "stdout",
     "output_type": "stream",
     "text": [
      "<class 'pandas.core.frame.DataFrame'>\n",
      "Int64Index: 1952 entries, 1 to 64310\n",
      "Data columns (total 13 columns):\n",
      " #   Column            Non-Null Count  Dtype  \n",
      "---  ------            --------------  -----  \n",
      " 0   Province          1952 non-null   object \n",
      " 1   Container         1952 non-null   object \n",
      " 2   Size_Grade        1952 non-null   object \n",
      " 3   Weight_Kg         1952 non-null   float64\n",
      " 4   Commodities       1952 non-null   object \n",
      " 5   Date              1952 non-null   object \n",
      " 6   Low_Price         1952 non-null   float64\n",
      " 7   High_Price        1952 non-null   float64\n",
      " 8   Sales_Total       1952 non-null   float64\n",
      " 9   Total_Qty_Sold    1952 non-null   int64  \n",
      " 10  Total_Kg_Sold     1952 non-null   float64\n",
      " 11  Stock_On_Hand     1952 non-null   int64  \n",
      " 12  avg_price_per_kg  1952 non-null   float64\n",
      "dtypes: float64(6), int64(2), object(5)\n",
      "memory usage: 278.0+ KB\n"
     ]
    }
   ],
   "source": [
    "# here, we will create new variable that will help in the prediction (if necessary) eg BMI\n",
    "# also select variables that contribute to the response variable\n",
    "df2.info()"
   ]
  },
  {
   "cell_type": "code",
   "execution_count": 106,
   "metadata": {},
   "outputs": [
    {
     "name": "stderr",
     "output_type": "stream",
     "text": [
      "<ipython-input-106-25f17800053a>:1: SettingWithCopyWarning: \n",
      "A value is trying to be set on a copy of a slice from a DataFrame.\n",
      "Try using .loc[row_indexer,col_indexer] = value instead\n",
      "\n",
      "See the caveats in the documentation: https://pandas.pydata.org/pandas-docs/stable/user_guide/indexing.html#returning-a-view-versus-a-copy\n",
      "  df2['Year'] = pd.DatetimeIndex(df2['Date']).year\n",
      "<ipython-input-106-25f17800053a>:2: SettingWithCopyWarning: \n",
      "A value is trying to be set on a copy of a slice from a DataFrame.\n",
      "Try using .loc[row_indexer,col_indexer] = value instead\n",
      "\n",
      "See the caveats in the documentation: https://pandas.pydata.org/pandas-docs/stable/user_guide/indexing.html#returning-a-view-versus-a-copy\n",
      "  df2['Month'] = pd.DatetimeIndex(df2['Date']).month\n",
      "<ipython-input-106-25f17800053a>:3: SettingWithCopyWarning: \n",
      "A value is trying to be set on a copy of a slice from a DataFrame.\n",
      "Try using .loc[row_indexer,col_indexer] = value instead\n",
      "\n",
      "See the caveats in the documentation: https://pandas.pydata.org/pandas-docs/stable/user_guide/indexing.html#returning-a-view-versus-a-copy\n",
      "  df2['Day'] = pd.DatetimeIndex(df2['Date']).day\n",
      "C:\\Users\\dineo\\anaconda3\\lib\\site-packages\\pandas\\core\\frame.py:4308: SettingWithCopyWarning: \n",
      "A value is trying to be set on a copy of a slice from a DataFrame\n",
      "\n",
      "See the caveats in the documentation: https://pandas.pydata.org/pandas-docs/stable/user_guide/indexing.html#returning-a-view-versus-a-copy\n",
      "  return super().drop(\n"
     ]
    },
    {
     "data": {
      "text/html": [
       "<div>\n",
       "<style scoped>\n",
       "    .dataframe tbody tr th:only-of-type {\n",
       "        vertical-align: middle;\n",
       "    }\n",
       "\n",
       "    .dataframe tbody tr th {\n",
       "        vertical-align: top;\n",
       "    }\n",
       "\n",
       "    .dataframe thead th {\n",
       "        text-align: right;\n",
       "    }\n",
       "</style>\n",
       "<table border=\"1\" class=\"dataframe\">\n",
       "  <thead>\n",
       "    <tr style=\"text-align: right;\">\n",
       "      <th></th>\n",
       "      <th>Province</th>\n",
       "      <th>Container</th>\n",
       "      <th>Size_Grade</th>\n",
       "      <th>Weight_Kg</th>\n",
       "      <th>Commodities</th>\n",
       "      <th>Low_Price</th>\n",
       "      <th>High_Price</th>\n",
       "      <th>Sales_Total</th>\n",
       "      <th>Total_Qty_Sold</th>\n",
       "      <th>Total_Kg_Sold</th>\n",
       "      <th>Stock_On_Hand</th>\n",
       "      <th>avg_price_per_kg</th>\n",
       "      <th>Year</th>\n",
       "      <th>Month</th>\n",
       "      <th>Day</th>\n",
       "    </tr>\n",
       "  </thead>\n",
       "  <tbody>\n",
       "    <tr>\n",
       "      <th>1</th>\n",
       "      <td>CAPE</td>\n",
       "      <td>M4183</td>\n",
       "      <td>1L</td>\n",
       "      <td>18.3</td>\n",
       "      <td>APPLE GOLDEN DELICIOUS</td>\n",
       "      <td>150.0</td>\n",
       "      <td>170.0</td>\n",
       "      <td>51710.0</td>\n",
       "      <td>332</td>\n",
       "      <td>6075.6</td>\n",
       "      <td>822</td>\n",
       "      <td>8.51</td>\n",
       "      <td>2020</td>\n",
       "      <td>9</td>\n",
       "      <td>9</td>\n",
       "    </tr>\n",
       "    <tr>\n",
       "      <th>7</th>\n",
       "      <td>CAPE</td>\n",
       "      <td>JG110</td>\n",
       "      <td>2M</td>\n",
       "      <td>11.0</td>\n",
       "      <td>APPLE GOLDEN DELICIOUS</td>\n",
       "      <td>50.0</td>\n",
       "      <td>50.0</td>\n",
       "      <td>16000.0</td>\n",
       "      <td>320</td>\n",
       "      <td>3520.0</td>\n",
       "      <td>0</td>\n",
       "      <td>4.55</td>\n",
       "      <td>2020</td>\n",
       "      <td>4</td>\n",
       "      <td>14</td>\n",
       "    </tr>\n",
       "    <tr>\n",
       "      <th>24</th>\n",
       "      <td>W.CAPE-BERGRIVER ETC</td>\n",
       "      <td>JE090</td>\n",
       "      <td>2S</td>\n",
       "      <td>9.0</td>\n",
       "      <td>APPLE GOLDEN DELICIOUS</td>\n",
       "      <td>55.0</td>\n",
       "      <td>55.0</td>\n",
       "      <td>990.0</td>\n",
       "      <td>18</td>\n",
       "      <td>162.0</td>\n",
       "      <td>1506</td>\n",
       "      <td>6.11</td>\n",
       "      <td>2020</td>\n",
       "      <td>4</td>\n",
       "      <td>16</td>\n",
       "    </tr>\n",
       "    <tr>\n",
       "      <th>40</th>\n",
       "      <td>CAPE</td>\n",
       "      <td>M4183</td>\n",
       "      <td>1S</td>\n",
       "      <td>18.3</td>\n",
       "      <td>APPLE GOLDEN DELICIOUS</td>\n",
       "      <td>80.0</td>\n",
       "      <td>120.0</td>\n",
       "      <td>32020.0</td>\n",
       "      <td>388</td>\n",
       "      <td>7100.4</td>\n",
       "      <td>443</td>\n",
       "      <td>4.51</td>\n",
       "      <td>2020</td>\n",
       "      <td>5</td>\n",
       "      <td>4</td>\n",
       "    </tr>\n",
       "    <tr>\n",
       "      <th>69</th>\n",
       "      <td>EASTERN CAPE</td>\n",
       "      <td>IA400</td>\n",
       "      <td>1S</td>\n",
       "      <td>400.0</td>\n",
       "      <td>APPLE GOLDEN DELICIOUS</td>\n",
       "      <td>1800.0</td>\n",
       "      <td>1800.0</td>\n",
       "      <td>1800.0</td>\n",
       "      <td>1</td>\n",
       "      <td>400.0</td>\n",
       "      <td>2</td>\n",
       "      <td>4.50</td>\n",
       "      <td>2020</td>\n",
       "      <td>9</td>\n",
       "      <td>28</td>\n",
       "    </tr>\n",
       "  </tbody>\n",
       "</table>\n",
       "</div>"
      ],
      "text/plain": [
       "                Province Container Size_Grade  Weight_Kg  \\\n",
       "1                   CAPE     M4183         1L       18.3   \n",
       "7                   CAPE     JG110         2M       11.0   \n",
       "24  W.CAPE-BERGRIVER ETC     JE090         2S        9.0   \n",
       "40                  CAPE     M4183         1S       18.3   \n",
       "69          EASTERN CAPE     IA400         1S      400.0   \n",
       "\n",
       "               Commodities  Low_Price  High_Price  Sales_Total  \\\n",
       "1   APPLE GOLDEN DELICIOUS      150.0       170.0      51710.0   \n",
       "7   APPLE GOLDEN DELICIOUS       50.0        50.0      16000.0   \n",
       "24  APPLE GOLDEN DELICIOUS       55.0        55.0        990.0   \n",
       "40  APPLE GOLDEN DELICIOUS       80.0       120.0      32020.0   \n",
       "69  APPLE GOLDEN DELICIOUS     1800.0      1800.0       1800.0   \n",
       "\n",
       "    Total_Qty_Sold  Total_Kg_Sold  Stock_On_Hand  avg_price_per_kg  Year  \\\n",
       "1              332         6075.6            822              8.51  2020   \n",
       "7              320         3520.0              0              4.55  2020   \n",
       "24              18          162.0           1506              6.11  2020   \n",
       "40             388         7100.4            443              4.51  2020   \n",
       "69               1          400.0              2              4.50  2020   \n",
       "\n",
       "    Month  Day  \n",
       "1       9    9  \n",
       "7       4   14  \n",
       "24      4   16  \n",
       "40      5    4  \n",
       "69      9   28  "
      ]
     },
     "execution_count": 106,
     "metadata": {},
     "output_type": "execute_result"
    }
   ],
   "source": [
    "df2['Year'] = pd.DatetimeIndex(df2['Date']).year\n",
    "df2['Month'] = pd.DatetimeIndex(df2['Date']).month\n",
    "df2['Day'] = pd.DatetimeIndex(df2['Date']).day\n",
    "df2.drop('Date', inplace=True, axis=1)\n",
    "\n",
    "df2.head()"
   ]
  },
  {
   "cell_type": "code",
   "execution_count": 107,
   "metadata": {},
   "outputs": [
    {
     "data": {
      "text/html": [
       "<div>\n",
       "<style scoped>\n",
       "    .dataframe tbody tr th:only-of-type {\n",
       "        vertical-align: middle;\n",
       "    }\n",
       "\n",
       "    .dataframe tbody tr th {\n",
       "        vertical-align: top;\n",
       "    }\n",
       "\n",
       "    .dataframe thead th {\n",
       "        text-align: right;\n",
       "    }\n",
       "</style>\n",
       "<table border=\"1\" class=\"dataframe\">\n",
       "  <thead>\n",
       "    <tr style=\"text-align: right;\">\n",
       "      <th></th>\n",
       "      <th>Weight_Kg</th>\n",
       "      <th>Low_Price</th>\n",
       "      <th>High_Price</th>\n",
       "      <th>Sales_Total</th>\n",
       "      <th>Total_Qty_Sold</th>\n",
       "      <th>Total_Kg_Sold</th>\n",
       "      <th>Stock_On_Hand</th>\n",
       "      <th>avg_price_per_kg</th>\n",
       "      <th>Year</th>\n",
       "      <th>Month</th>\n",
       "      <th>...</th>\n",
       "      <th>Size_Grade_1M</th>\n",
       "      <th>Size_Grade_1S</th>\n",
       "      <th>Size_Grade_1U</th>\n",
       "      <th>Size_Grade_1X</th>\n",
       "      <th>Size_Grade_2L</th>\n",
       "      <th>Size_Grade_2M</th>\n",
       "      <th>Size_Grade_2S</th>\n",
       "      <th>Size_Grade_2U</th>\n",
       "      <th>Size_Grade_2X</th>\n",
       "      <th>Commodities_APPLE_GOLDEN_DELICIOUS</th>\n",
       "    </tr>\n",
       "  </thead>\n",
       "  <tbody>\n",
       "    <tr>\n",
       "      <th>1</th>\n",
       "      <td>18.3</td>\n",
       "      <td>150.0</td>\n",
       "      <td>170.0</td>\n",
       "      <td>51710.0</td>\n",
       "      <td>332</td>\n",
       "      <td>6075.6</td>\n",
       "      <td>822</td>\n",
       "      <td>8.51</td>\n",
       "      <td>2020</td>\n",
       "      <td>9</td>\n",
       "      <td>...</td>\n",
       "      <td>0</td>\n",
       "      <td>0</td>\n",
       "      <td>0</td>\n",
       "      <td>0</td>\n",
       "      <td>0</td>\n",
       "      <td>0</td>\n",
       "      <td>0</td>\n",
       "      <td>0</td>\n",
       "      <td>0</td>\n",
       "      <td>1</td>\n",
       "    </tr>\n",
       "    <tr>\n",
       "      <th>7</th>\n",
       "      <td>11.0</td>\n",
       "      <td>50.0</td>\n",
       "      <td>50.0</td>\n",
       "      <td>16000.0</td>\n",
       "      <td>320</td>\n",
       "      <td>3520.0</td>\n",
       "      <td>0</td>\n",
       "      <td>4.55</td>\n",
       "      <td>2020</td>\n",
       "      <td>4</td>\n",
       "      <td>...</td>\n",
       "      <td>0</td>\n",
       "      <td>0</td>\n",
       "      <td>0</td>\n",
       "      <td>0</td>\n",
       "      <td>0</td>\n",
       "      <td>1</td>\n",
       "      <td>0</td>\n",
       "      <td>0</td>\n",
       "      <td>0</td>\n",
       "      <td>1</td>\n",
       "    </tr>\n",
       "    <tr>\n",
       "      <th>24</th>\n",
       "      <td>9.0</td>\n",
       "      <td>55.0</td>\n",
       "      <td>55.0</td>\n",
       "      <td>990.0</td>\n",
       "      <td>18</td>\n",
       "      <td>162.0</td>\n",
       "      <td>1506</td>\n",
       "      <td>6.11</td>\n",
       "      <td>2020</td>\n",
       "      <td>4</td>\n",
       "      <td>...</td>\n",
       "      <td>0</td>\n",
       "      <td>0</td>\n",
       "      <td>0</td>\n",
       "      <td>0</td>\n",
       "      <td>0</td>\n",
       "      <td>0</td>\n",
       "      <td>1</td>\n",
       "      <td>0</td>\n",
       "      <td>0</td>\n",
       "      <td>1</td>\n",
       "    </tr>\n",
       "    <tr>\n",
       "      <th>40</th>\n",
       "      <td>18.3</td>\n",
       "      <td>80.0</td>\n",
       "      <td>120.0</td>\n",
       "      <td>32020.0</td>\n",
       "      <td>388</td>\n",
       "      <td>7100.4</td>\n",
       "      <td>443</td>\n",
       "      <td>4.51</td>\n",
       "      <td>2020</td>\n",
       "      <td>5</td>\n",
       "      <td>...</td>\n",
       "      <td>0</td>\n",
       "      <td>1</td>\n",
       "      <td>0</td>\n",
       "      <td>0</td>\n",
       "      <td>0</td>\n",
       "      <td>0</td>\n",
       "      <td>0</td>\n",
       "      <td>0</td>\n",
       "      <td>0</td>\n",
       "      <td>1</td>\n",
       "    </tr>\n",
       "    <tr>\n",
       "      <th>69</th>\n",
       "      <td>400.0</td>\n",
       "      <td>1800.0</td>\n",
       "      <td>1800.0</td>\n",
       "      <td>1800.0</td>\n",
       "      <td>1</td>\n",
       "      <td>400.0</td>\n",
       "      <td>2</td>\n",
       "      <td>4.50</td>\n",
       "      <td>2020</td>\n",
       "      <td>9</td>\n",
       "      <td>...</td>\n",
       "      <td>0</td>\n",
       "      <td>1</td>\n",
       "      <td>0</td>\n",
       "      <td>0</td>\n",
       "      <td>0</td>\n",
       "      <td>0</td>\n",
       "      <td>0</td>\n",
       "      <td>0</td>\n",
       "      <td>0</td>\n",
       "      <td>1</td>\n",
       "    </tr>\n",
       "  </tbody>\n",
       "</table>\n",
       "<p>5 rows × 40 columns</p>\n",
       "</div>"
      ],
      "text/plain": [
       "    Weight_Kg  Low_Price  High_Price  Sales_Total  Total_Qty_Sold  \\\n",
       "1        18.3      150.0       170.0      51710.0             332   \n",
       "7        11.0       50.0        50.0      16000.0             320   \n",
       "24        9.0       55.0        55.0        990.0              18   \n",
       "40       18.3       80.0       120.0      32020.0             388   \n",
       "69      400.0     1800.0      1800.0       1800.0               1   \n",
       "\n",
       "    Total_Kg_Sold  Stock_On_Hand  avg_price_per_kg  Year  Month  ...  \\\n",
       "1          6075.6            822              8.51  2020      9  ...   \n",
       "7          3520.0              0              4.55  2020      4  ...   \n",
       "24          162.0           1506              6.11  2020      4  ...   \n",
       "40         7100.4            443              4.51  2020      5  ...   \n",
       "69          400.0              2              4.50  2020      9  ...   \n",
       "\n",
       "    Size_Grade_1M  Size_Grade_1S  Size_Grade_1U  Size_Grade_1X  Size_Grade_2L  \\\n",
       "1               0              0              0              0              0   \n",
       "7               0              0              0              0              0   \n",
       "24              0              0              0              0              0   \n",
       "40              0              1              0              0              0   \n",
       "69              0              1              0              0              0   \n",
       "\n",
       "    Size_Grade_2M  Size_Grade_2S  Size_Grade_2U  Size_Grade_2X  \\\n",
       "1               0              0              0              0   \n",
       "7               1              0              0              0   \n",
       "24              0              1              0              0   \n",
       "40              0              0              0              0   \n",
       "69              0              0              0              0   \n",
       "\n",
       "    Commodities_APPLE_GOLDEN_DELICIOUS  \n",
       "1                                    1  \n",
       "7                                    1  \n",
       "24                                   1  \n",
       "40                                   1  \n",
       "69                                   1  \n",
       "\n",
       "[5 rows x 40 columns]"
      ]
     },
     "execution_count": 107,
     "metadata": {},
     "output_type": "execute_result"
    }
   ],
   "source": [
    "df_dummies = pd.get_dummies(df2)\n",
    "\n",
    "# Again we make sure that all the column names have underscores instead of periods,whitespaces and dashes\n",
    "df_dummies.columns = [col.replace(\".\",\"_\") for col in df_dummies.columns] \n",
    "df_dummies.columns = [col.replace(\" \", \"_\")for col in df_dummies.columns]\n",
    "df_dummies.columns = [col.replace(\"-\", \"_\")for col in df_dummies.columns]\n",
    "\n",
    "df_dummies.head()"
   ]
  },
  {
   "cell_type": "code",
   "execution_count": 108,
   "metadata": {},
   "outputs": [
    {
     "data": {
      "text/plain": [
       "(1952, 40)"
      ]
     },
     "execution_count": 108,
     "metadata": {},
     "output_type": "execute_result"
    }
   ],
   "source": [
    "df_dummies.shape"
   ]
  },
  {
   "cell_type": "markdown",
   "metadata": {},
   "source": [
    "Re-order my dependendent variable (avg_price_per_kg) to be the last column"
   ]
  },
  {
   "cell_type": "code",
   "execution_count": 109,
   "metadata": {},
   "outputs": [],
   "source": [
    "column_titles = [col for col in df_dummies.columns if col!= 'avg_price_per_kg'] + ['avg_price_per_kg']\n",
    "df_dummies=df_dummies.reindex(columns=column_titles)"
   ]
  },
  {
   "cell_type": "markdown",
   "metadata": {},
   "source": [
    "Correlation Matrix"
   ]
  },
  {
   "cell_type": "code",
   "execution_count": 110,
   "metadata": {},
   "outputs": [
    {
     "data": {
      "text/html": [
       "<div>\n",
       "<style scoped>\n",
       "    .dataframe tbody tr th:only-of-type {\n",
       "        vertical-align: middle;\n",
       "    }\n",
       "\n",
       "    .dataframe tbody tr th {\n",
       "        vertical-align: top;\n",
       "    }\n",
       "\n",
       "    .dataframe thead th {\n",
       "        text-align: right;\n",
       "    }\n",
       "</style>\n",
       "<table border=\"1\" class=\"dataframe\">\n",
       "  <thead>\n",
       "    <tr style=\"text-align: right;\">\n",
       "      <th></th>\n",
       "      <th>Weight_Kg</th>\n",
       "      <th>Low_Price</th>\n",
       "      <th>High_Price</th>\n",
       "      <th>Sales_Total</th>\n",
       "      <th>Total_Qty_Sold</th>\n",
       "      <th>Total_Kg_Sold</th>\n",
       "      <th>Stock_On_Hand</th>\n",
       "      <th>Year</th>\n",
       "      <th>Month</th>\n",
       "      <th>Day</th>\n",
       "      <th>...</th>\n",
       "      <th>Size_Grade_1S</th>\n",
       "      <th>Size_Grade_1U</th>\n",
       "      <th>Size_Grade_1X</th>\n",
       "      <th>Size_Grade_2L</th>\n",
       "      <th>Size_Grade_2M</th>\n",
       "      <th>Size_Grade_2S</th>\n",
       "      <th>Size_Grade_2U</th>\n",
       "      <th>Size_Grade_2X</th>\n",
       "      <th>Commodities_APPLE_GOLDEN_DELICIOUS</th>\n",
       "      <th>avg_price_per_kg</th>\n",
       "    </tr>\n",
       "  </thead>\n",
       "  <tbody>\n",
       "    <tr>\n",
       "      <th>Weight_Kg</th>\n",
       "      <td>1.000000</td>\n",
       "      <td>0.863182</td>\n",
       "      <td>0.905852</td>\n",
       "      <td>0.180518</td>\n",
       "      <td>-0.133317</td>\n",
       "      <td>0.294117</td>\n",
       "      <td>-0.144105</td>\n",
       "      <td>-0.019772</td>\n",
       "      <td>0.047613</td>\n",
       "      <td>0.016251</td>\n",
       "      <td>...</td>\n",
       "      <td>0.314679</td>\n",
       "      <td>-0.007124</td>\n",
       "      <td>-0.068923</td>\n",
       "      <td>-0.080647</td>\n",
       "      <td>-0.083726</td>\n",
       "      <td>-0.064374</td>\n",
       "      <td>-0.029488</td>\n",
       "      <td>-0.036183</td>\n",
       "      <td>NaN</td>\n",
       "      <td>-0.337886</td>\n",
       "    </tr>\n",
       "    <tr>\n",
       "      <th>Low_Price</th>\n",
       "      <td>0.863182</td>\n",
       "      <td>1.000000</td>\n",
       "      <td>0.938140</td>\n",
       "      <td>0.183230</td>\n",
       "      <td>-0.122823</td>\n",
       "      <td>0.269744</td>\n",
       "      <td>-0.127677</td>\n",
       "      <td>-0.021276</td>\n",
       "      <td>0.039084</td>\n",
       "      <td>-0.015764</td>\n",
       "      <td>...</td>\n",
       "      <td>0.288148</td>\n",
       "      <td>-0.008087</td>\n",
       "      <td>-0.025554</td>\n",
       "      <td>-0.084578</td>\n",
       "      <td>-0.104532</td>\n",
       "      <td>-0.102040</td>\n",
       "      <td>-0.032675</td>\n",
       "      <td>-0.038494</td>\n",
       "      <td>NaN</td>\n",
       "      <td>-0.141740</td>\n",
       "    </tr>\n",
       "    <tr>\n",
       "      <th>High_Price</th>\n",
       "      <td>0.905852</td>\n",
       "      <td>0.938140</td>\n",
       "      <td>1.000000</td>\n",
       "      <td>0.265672</td>\n",
       "      <td>-0.096456</td>\n",
       "      <td>0.372282</td>\n",
       "      <td>-0.094174</td>\n",
       "      <td>-0.018911</td>\n",
       "      <td>0.047717</td>\n",
       "      <td>0.002058</td>\n",
       "      <td>...</td>\n",
       "      <td>0.331683</td>\n",
       "      <td>-0.007067</td>\n",
       "      <td>-0.030418</td>\n",
       "      <td>-0.092192</td>\n",
       "      <td>-0.118314</td>\n",
       "      <td>-0.118517</td>\n",
       "      <td>-0.035822</td>\n",
       "      <td>-0.042342</td>\n",
       "      <td>NaN</td>\n",
       "      <td>-0.164496</td>\n",
       "    </tr>\n",
       "    <tr>\n",
       "      <th>Sales_Total</th>\n",
       "      <td>0.180518</td>\n",
       "      <td>0.183230</td>\n",
       "      <td>0.265672</td>\n",
       "      <td>1.000000</td>\n",
       "      <td>0.771865</td>\n",
       "      <td>0.962338</td>\n",
       "      <td>0.284693</td>\n",
       "      <td>0.031264</td>\n",
       "      <td>-0.055853</td>\n",
       "      <td>-0.011699</td>\n",
       "      <td>...</td>\n",
       "      <td>0.285465</td>\n",
       "      <td>-0.012618</td>\n",
       "      <td>-0.075793</td>\n",
       "      <td>-0.105784</td>\n",
       "      <td>-0.109908</td>\n",
       "      <td>-0.132595</td>\n",
       "      <td>-0.040623</td>\n",
       "      <td>-0.046104</td>\n",
       "      <td>NaN</td>\n",
       "      <td>0.108473</td>\n",
       "    </tr>\n",
       "    <tr>\n",
       "      <th>Total_Qty_Sold</th>\n",
       "      <td>-0.133317</td>\n",
       "      <td>-0.122823</td>\n",
       "      <td>-0.096456</td>\n",
       "      <td>0.771865</td>\n",
       "      <td>1.000000</td>\n",
       "      <td>0.651440</td>\n",
       "      <td>0.390168</td>\n",
       "      <td>0.042132</td>\n",
       "      <td>-0.058639</td>\n",
       "      <td>-0.020402</td>\n",
       "      <td>...</td>\n",
       "      <td>0.202586</td>\n",
       "      <td>-0.012138</td>\n",
       "      <td>-0.100508</td>\n",
       "      <td>-0.085270</td>\n",
       "      <td>-0.037270</td>\n",
       "      <td>-0.027759</td>\n",
       "      <td>-0.032337</td>\n",
       "      <td>-0.033339</td>\n",
       "      <td>NaN</td>\n",
       "      <td>0.087536</td>\n",
       "    </tr>\n",
       "    <tr>\n",
       "      <th>Total_Kg_Sold</th>\n",
       "      <td>0.294117</td>\n",
       "      <td>0.269744</td>\n",
       "      <td>0.372282</td>\n",
       "      <td>0.962338</td>\n",
       "      <td>0.651440</td>\n",
       "      <td>1.000000</td>\n",
       "      <td>0.229062</td>\n",
       "      <td>0.030462</td>\n",
       "      <td>-0.023098</td>\n",
       "      <td>0.003238</td>\n",
       "      <td>...</td>\n",
       "      <td>0.306478</td>\n",
       "      <td>-0.010024</td>\n",
       "      <td>-0.081291</td>\n",
       "      <td>-0.097158</td>\n",
       "      <td>-0.093815</td>\n",
       "      <td>-0.100862</td>\n",
       "      <td>-0.035961</td>\n",
       "      <td>-0.041667</td>\n",
       "      <td>NaN</td>\n",
       "      <td>-0.001007</td>\n",
       "    </tr>\n",
       "    <tr>\n",
       "      <th>Stock_On_Hand</th>\n",
       "      <td>-0.144105</td>\n",
       "      <td>-0.127677</td>\n",
       "      <td>-0.094174</td>\n",
       "      <td>0.284693</td>\n",
       "      <td>0.390168</td>\n",
       "      <td>0.229062</td>\n",
       "      <td>1.000000</td>\n",
       "      <td>-0.045846</td>\n",
       "      <td>-0.011749</td>\n",
       "      <td>0.081923</td>\n",
       "      <td>...</td>\n",
       "      <td>0.171355</td>\n",
       "      <td>-0.015715</td>\n",
       "      <td>-0.044300</td>\n",
       "      <td>-0.086927</td>\n",
       "      <td>-0.086702</td>\n",
       "      <td>-0.008891</td>\n",
       "      <td>-0.046085</td>\n",
       "      <td>-0.005271</td>\n",
       "      <td>NaN</td>\n",
       "      <td>0.105028</td>\n",
       "    </tr>\n",
       "    <tr>\n",
       "      <th>Year</th>\n",
       "      <td>-0.019772</td>\n",
       "      <td>-0.021276</td>\n",
       "      <td>-0.018911</td>\n",
       "      <td>0.031264</td>\n",
       "      <td>0.042132</td>\n",
       "      <td>0.030462</td>\n",
       "      <td>-0.045846</td>\n",
       "      <td>1.000000</td>\n",
       "      <td>-0.430853</td>\n",
       "      <td>-0.023257</td>\n",
       "      <td>...</td>\n",
       "      <td>0.012449</td>\n",
       "      <td>0.005800</td>\n",
       "      <td>0.004457</td>\n",
       "      <td>-0.014455</td>\n",
       "      <td>0.012357</td>\n",
       "      <td>0.030314</td>\n",
       "      <td>0.016977</td>\n",
       "      <td>-0.004439</td>\n",
       "      <td>NaN</td>\n",
       "      <td>-0.135526</td>\n",
       "    </tr>\n",
       "    <tr>\n",
       "      <th>Month</th>\n",
       "      <td>0.047613</td>\n",
       "      <td>0.039084</td>\n",
       "      <td>0.047717</td>\n",
       "      <td>-0.055853</td>\n",
       "      <td>-0.058639</td>\n",
       "      <td>-0.023098</td>\n",
       "      <td>-0.011749</td>\n",
       "      <td>-0.430853</td>\n",
       "      <td>1.000000</td>\n",
       "      <td>0.010012</td>\n",
       "      <td>...</td>\n",
       "      <td>0.035952</td>\n",
       "      <td>-0.007261</td>\n",
       "      <td>-0.064184</td>\n",
       "      <td>0.067404</td>\n",
       "      <td>0.012777</td>\n",
       "      <td>-0.022811</td>\n",
       "      <td>-0.047931</td>\n",
       "      <td>0.013578</td>\n",
       "      <td>NaN</td>\n",
       "      <td>0.005205</td>\n",
       "    </tr>\n",
       "    <tr>\n",
       "      <th>Day</th>\n",
       "      <td>0.016251</td>\n",
       "      <td>-0.015764</td>\n",
       "      <td>0.002058</td>\n",
       "      <td>-0.011699</td>\n",
       "      <td>-0.020402</td>\n",
       "      <td>0.003238</td>\n",
       "      <td>0.081923</td>\n",
       "      <td>-0.023257</td>\n",
       "      <td>0.010012</td>\n",
       "      <td>1.000000</td>\n",
       "      <td>...</td>\n",
       "      <td>0.028307</td>\n",
       "      <td>0.009691</td>\n",
       "      <td>-0.030633</td>\n",
       "      <td>0.014469</td>\n",
       "      <td>-0.029280</td>\n",
       "      <td>0.035713</td>\n",
       "      <td>0.019178</td>\n",
       "      <td>-0.026454</td>\n",
       "      <td>NaN</td>\n",
       "      <td>-0.071334</td>\n",
       "    </tr>\n",
       "    <tr>\n",
       "      <th>Province_CAPE</th>\n",
       "      <td>0.076956</td>\n",
       "      <td>0.102353</td>\n",
       "      <td>0.130507</td>\n",
       "      <td>0.263142</td>\n",
       "      <td>0.231782</td>\n",
       "      <td>0.248872</td>\n",
       "      <td>0.268337</td>\n",
       "      <td>-0.028164</td>\n",
       "      <td>-0.088139</td>\n",
       "      <td>-0.027058</td>\n",
       "      <td>...</td>\n",
       "      <td>0.023518</td>\n",
       "      <td>0.029836</td>\n",
       "      <td>-0.023778</td>\n",
       "      <td>-0.026692</td>\n",
       "      <td>-0.035552</td>\n",
       "      <td>-0.070124</td>\n",
       "      <td>0.065213</td>\n",
       "      <td>0.072404</td>\n",
       "      <td>NaN</td>\n",
       "      <td>0.086135</td>\n",
       "    </tr>\n",
       "    <tr>\n",
       "      <th>Province_EASTERN_CAPE</th>\n",
       "      <td>-0.082671</td>\n",
       "      <td>-0.085458</td>\n",
       "      <td>-0.097573</td>\n",
       "      <td>-0.153576</td>\n",
       "      <td>-0.144064</td>\n",
       "      <td>-0.139492</td>\n",
       "      <td>-0.140210</td>\n",
       "      <td>0.033688</td>\n",
       "      <td>-0.004021</td>\n",
       "      <td>0.022327</td>\n",
       "      <td>...</td>\n",
       "      <td>-0.011771</td>\n",
       "      <td>-0.011000</td>\n",
       "      <td>-0.094638</td>\n",
       "      <td>0.057867</td>\n",
       "      <td>0.157235</td>\n",
       "      <td>-0.048046</td>\n",
       "      <td>-0.032196</td>\n",
       "      <td>-0.039909</td>\n",
       "      <td>NaN</td>\n",
       "      <td>-0.178531</td>\n",
       "    </tr>\n",
       "    <tr>\n",
       "      <th>Province_NATAL</th>\n",
       "      <td>0.182454</td>\n",
       "      <td>0.000035</td>\n",
       "      <td>0.033792</td>\n",
       "      <td>-0.088184</td>\n",
       "      <td>-0.091620</td>\n",
       "      <td>-0.060972</td>\n",
       "      <td>-0.135137</td>\n",
       "      <td>-0.005984</td>\n",
       "      <td>0.064545</td>\n",
       "      <td>0.035035</td>\n",
       "      <td>...</td>\n",
       "      <td>0.048429</td>\n",
       "      <td>-0.007864</td>\n",
       "      <td>-0.076085</td>\n",
       "      <td>-0.062844</td>\n",
       "      <td>-0.056002</td>\n",
       "      <td>0.221405</td>\n",
       "      <td>-0.023015</td>\n",
       "      <td>-0.028529</td>\n",
       "      <td>NaN</td>\n",
       "      <td>-0.379801</td>\n",
       "    </tr>\n",
       "    <tr>\n",
       "      <th>Province_ORANGE_FREE_STATE</th>\n",
       "      <td>0.011943</td>\n",
       "      <td>0.023433</td>\n",
       "      <td>0.014501</td>\n",
       "      <td>-0.000229</td>\n",
       "      <td>-0.003297</td>\n",
       "      <td>-0.005604</td>\n",
       "      <td>-0.036748</td>\n",
       "      <td>0.012327</td>\n",
       "      <td>-0.080171</td>\n",
       "      <td>-0.040660</td>\n",
       "      <td>...</td>\n",
       "      <td>-0.007691</td>\n",
       "      <td>-0.002180</td>\n",
       "      <td>0.085903</td>\n",
       "      <td>-0.017419</td>\n",
       "      <td>-0.001628</td>\n",
       "      <td>-0.008714</td>\n",
       "      <td>-0.006379</td>\n",
       "      <td>-0.007908</td>\n",
       "      <td>NaN</td>\n",
       "      <td>-0.025026</td>\n",
       "    </tr>\n",
       "    <tr>\n",
       "      <th>Province_TRANSVAAL</th>\n",
       "      <td>-0.025492</td>\n",
       "      <td>-0.025898</td>\n",
       "      <td>-0.026755</td>\n",
       "      <td>0.036189</td>\n",
       "      <td>0.089299</td>\n",
       "      <td>0.041585</td>\n",
       "      <td>-0.046745</td>\n",
       "      <td>0.015938</td>\n",
       "      <td>0.034641</td>\n",
       "      <td>0.000004</td>\n",
       "      <td>...</td>\n",
       "      <td>0.117419</td>\n",
       "      <td>-0.002818</td>\n",
       "      <td>-0.027268</td>\n",
       "      <td>-0.022522</td>\n",
       "      <td>-0.032319</td>\n",
       "      <td>-0.005903</td>\n",
       "      <td>-0.008248</td>\n",
       "      <td>-0.010224</td>\n",
       "      <td>NaN</td>\n",
       "      <td>-0.020415</td>\n",
       "    </tr>\n",
       "    <tr>\n",
       "      <th>Province_W_CAPE_BERGRIVER_ETC</th>\n",
       "      <td>-0.084757</td>\n",
       "      <td>-0.019829</td>\n",
       "      <td>-0.053877</td>\n",
       "      <td>-0.108360</td>\n",
       "      <td>-0.107589</td>\n",
       "      <td>-0.123775</td>\n",
       "      <td>-0.068248</td>\n",
       "      <td>0.020802</td>\n",
       "      <td>0.040153</td>\n",
       "      <td>0.004343</td>\n",
       "      <td>...</td>\n",
       "      <td>-0.041076</td>\n",
       "      <td>-0.017276</td>\n",
       "      <td>0.140743</td>\n",
       "      <td>0.020166</td>\n",
       "      <td>-0.069311</td>\n",
       "      <td>-0.024976</td>\n",
       "      <td>-0.050563</td>\n",
       "      <td>-0.019899</td>\n",
       "      <td>NaN</td>\n",
       "      <td>0.262051</td>\n",
       "    </tr>\n",
       "    <tr>\n",
       "      <th>Province_WEST_COAST</th>\n",
       "      <td>-0.074890</td>\n",
       "      <td>-0.064464</td>\n",
       "      <td>-0.077612</td>\n",
       "      <td>-0.087502</td>\n",
       "      <td>-0.051844</td>\n",
       "      <td>-0.076015</td>\n",
       "      <td>-0.099175</td>\n",
       "      <td>-0.023752</td>\n",
       "      <td>0.064604</td>\n",
       "      <td>-0.002192</td>\n",
       "      <td>...</td>\n",
       "      <td>-0.048414</td>\n",
       "      <td>-0.008413</td>\n",
       "      <td>-0.015028</td>\n",
       "      <td>0.019564</td>\n",
       "      <td>0.058138</td>\n",
       "      <td>0.040713</td>\n",
       "      <td>0.020254</td>\n",
       "      <td>-0.030521</td>\n",
       "      <td>NaN</td>\n",
       "      <td>-0.025122</td>\n",
       "    </tr>\n",
       "    <tr>\n",
       "      <th>Container_AC030</th>\n",
       "      <td>-0.047765</td>\n",
       "      <td>-0.055111</td>\n",
       "      <td>-0.059450</td>\n",
       "      <td>-0.056335</td>\n",
       "      <td>-0.003183</td>\n",
       "      <td>-0.051262</td>\n",
       "      <td>0.014166</td>\n",
       "      <td>0.023008</td>\n",
       "      <td>0.044413</td>\n",
       "      <td>0.048093</td>\n",
       "      <td>...</td>\n",
       "      <td>0.087901</td>\n",
       "      <td>-0.004068</td>\n",
       "      <td>-0.039363</td>\n",
       "      <td>-0.032512</td>\n",
       "      <td>-0.046655</td>\n",
       "      <td>0.079909</td>\n",
       "      <td>-0.011907</td>\n",
       "      <td>-0.014760</td>\n",
       "      <td>NaN</td>\n",
       "      <td>-0.144427</td>\n",
       "    </tr>\n",
       "    <tr>\n",
       "      <th>Container_DT063</th>\n",
       "      <td>-0.019039</td>\n",
       "      <td>-0.021828</td>\n",
       "      <td>-0.024103</td>\n",
       "      <td>-0.028371</td>\n",
       "      <td>-0.029978</td>\n",
       "      <td>-0.026515</td>\n",
       "      <td>-0.029355</td>\n",
       "      <td>0.010057</td>\n",
       "      <td>0.008079</td>\n",
       "      <td>0.005106</td>\n",
       "      <td>...</td>\n",
       "      <td>-0.033987</td>\n",
       "      <td>-0.001778</td>\n",
       "      <td>-0.017206</td>\n",
       "      <td>-0.014211</td>\n",
       "      <td>0.036801</td>\n",
       "      <td>0.077513</td>\n",
       "      <td>-0.005205</td>\n",
       "      <td>-0.006452</td>\n",
       "      <td>NaN</td>\n",
       "      <td>-0.059579</td>\n",
       "    </tr>\n",
       "    <tr>\n",
       "      <th>Container_EC120</th>\n",
       "      <td>-0.155910</td>\n",
       "      <td>-0.136387</td>\n",
       "      <td>-0.131819</td>\n",
       "      <td>0.072059</td>\n",
       "      <td>0.177089</td>\n",
       "      <td>0.030087</td>\n",
       "      <td>0.138249</td>\n",
       "      <td>-0.005353</td>\n",
       "      <td>-0.011738</td>\n",
       "      <td>0.019442</td>\n",
       "      <td>...</td>\n",
       "      <td>0.317107</td>\n",
       "      <td>-0.017479</td>\n",
       "      <td>-0.169115</td>\n",
       "      <td>-0.139683</td>\n",
       "      <td>-0.200445</td>\n",
       "      <td>-0.182762</td>\n",
       "      <td>-0.051156</td>\n",
       "      <td>-0.063412</td>\n",
       "      <td>NaN</td>\n",
       "      <td>0.188162</td>\n",
       "    </tr>\n",
       "    <tr>\n",
       "      <th>Container_EF120</th>\n",
       "      <td>-0.056706</td>\n",
       "      <td>-0.042398</td>\n",
       "      <td>-0.051627</td>\n",
       "      <td>-0.072041</td>\n",
       "      <td>-0.069864</td>\n",
       "      <td>-0.070662</td>\n",
       "      <td>-0.074805</td>\n",
       "      <td>0.005360</td>\n",
       "      <td>0.020893</td>\n",
       "      <td>0.050822</td>\n",
       "      <td>...</td>\n",
       "      <td>0.258038</td>\n",
       "      <td>-0.006357</td>\n",
       "      <td>-0.061508</td>\n",
       "      <td>-0.050804</td>\n",
       "      <td>-0.072903</td>\n",
       "      <td>-0.085920</td>\n",
       "      <td>-0.018606</td>\n",
       "      <td>-0.023064</td>\n",
       "      <td>NaN</td>\n",
       "      <td>0.114297</td>\n",
       "    </tr>\n",
       "    <tr>\n",
       "      <th>Container_EG140</th>\n",
       "      <td>-0.010420</td>\n",
       "      <td>-0.006336</td>\n",
       "      <td>-0.009201</td>\n",
       "      <td>0.005516</td>\n",
       "      <td>0.006289</td>\n",
       "      <td>0.001132</td>\n",
       "      <td>-0.022123</td>\n",
       "      <td>0.007106</td>\n",
       "      <td>0.020312</td>\n",
       "      <td>0.027649</td>\n",
       "      <td>...</td>\n",
       "      <td>0.064098</td>\n",
       "      <td>-0.001256</td>\n",
       "      <td>-0.012157</td>\n",
       "      <td>-0.010041</td>\n",
       "      <td>-0.014409</td>\n",
       "      <td>-0.016982</td>\n",
       "      <td>-0.003677</td>\n",
       "      <td>-0.004558</td>\n",
       "      <td>NaN</td>\n",
       "      <td>0.023753</td>\n",
       "    </tr>\n",
       "    <tr>\n",
       "      <th>Container_IA400</th>\n",
       "      <td>0.999231</td>\n",
       "      <td>0.860219</td>\n",
       "      <td>0.902518</td>\n",
       "      <td>0.172753</td>\n",
       "      <td>-0.135627</td>\n",
       "      <td>0.288659</td>\n",
       "      <td>-0.147545</td>\n",
       "      <td>-0.018005</td>\n",
       "      <td>0.049925</td>\n",
       "      <td>0.018444</td>\n",
       "      <td>...</td>\n",
       "      <td>0.313686</td>\n",
       "      <td>-0.008868</td>\n",
       "      <td>-0.085797</td>\n",
       "      <td>-0.070866</td>\n",
       "      <td>-0.070915</td>\n",
       "      <td>-0.048811</td>\n",
       "      <td>-0.025953</td>\n",
       "      <td>-0.032171</td>\n",
       "      <td>NaN</td>\n",
       "      <td>-0.355565</td>\n",
       "    </tr>\n",
       "    <tr>\n",
       "      <th>Container_JE090</th>\n",
       "      <td>-0.201543</td>\n",
       "      <td>-0.216723</td>\n",
       "      <td>-0.234796</td>\n",
       "      <td>-0.225452</td>\n",
       "      <td>-0.107026</td>\n",
       "      <td>-0.194275</td>\n",
       "      <td>-0.066647</td>\n",
       "      <td>0.057624</td>\n",
       "      <td>0.030631</td>\n",
       "      <td>-0.005251</td>\n",
       "      <td>...</td>\n",
       "      <td>-0.390659</td>\n",
       "      <td>-0.020440</td>\n",
       "      <td>-0.197766</td>\n",
       "      <td>0.382186</td>\n",
       "      <td>0.411370</td>\n",
       "      <td>0.417872</td>\n",
       "      <td>0.134700</td>\n",
       "      <td>0.162335</td>\n",
       "      <td>NaN</td>\n",
       "      <td>-0.322235</td>\n",
       "    </tr>\n",
       "    <tr>\n",
       "      <th>Container_JG110</th>\n",
       "      <td>-0.063095</td>\n",
       "      <td>-0.067325</td>\n",
       "      <td>-0.074943</td>\n",
       "      <td>-0.025977</td>\n",
       "      <td>0.050806</td>\n",
       "      <td>-0.008118</td>\n",
       "      <td>-0.071657</td>\n",
       "      <td>-0.061555</td>\n",
       "      <td>-0.019412</td>\n",
       "      <td>-0.000471</td>\n",
       "      <td>...</td>\n",
       "      <td>-0.130602</td>\n",
       "      <td>-0.006833</td>\n",
       "      <td>-0.066116</td>\n",
       "      <td>-0.012806</td>\n",
       "      <td>0.231913</td>\n",
       "      <td>0.176202</td>\n",
       "      <td>0.007017</td>\n",
       "      <td>-0.002894</td>\n",
       "      <td>NaN</td>\n",
       "      <td>-0.140148</td>\n",
       "    </tr>\n",
       "    <tr>\n",
       "      <th>Container_M4183</th>\n",
       "      <td>-0.146043</td>\n",
       "      <td>-0.073773</td>\n",
       "      <td>-0.074061</td>\n",
       "      <td>0.125820</td>\n",
       "      <td>0.035805</td>\n",
       "      <td>0.058321</td>\n",
       "      <td>0.093458</td>\n",
       "      <td>-0.027531</td>\n",
       "      <td>-0.050774</td>\n",
       "      <td>-0.060604</td>\n",
       "      <td>...</td>\n",
       "      <td>-0.146087</td>\n",
       "      <td>0.048777</td>\n",
       "      <td>0.471938</td>\n",
       "      <td>-0.168039</td>\n",
       "      <td>-0.241136</td>\n",
       "      <td>-0.284188</td>\n",
       "      <td>-0.061541</td>\n",
       "      <td>-0.066545</td>\n",
       "      <td>NaN</td>\n",
       "      <td>0.403229</td>\n",
       "    </tr>\n",
       "    <tr>\n",
       "      <th>Container_M6125</th>\n",
       "      <td>-0.020139</td>\n",
       "      <td>-0.016776</td>\n",
       "      <td>-0.020885</td>\n",
       "      <td>-0.031959</td>\n",
       "      <td>-0.031962</td>\n",
       "      <td>-0.029402</td>\n",
       "      <td>-0.032883</td>\n",
       "      <td>0.012997</td>\n",
       "      <td>-0.064348</td>\n",
       "      <td>0.010172</td>\n",
       "      <td>...</td>\n",
       "      <td>-0.043922</td>\n",
       "      <td>-0.002298</td>\n",
       "      <td>-0.022235</td>\n",
       "      <td>-0.018366</td>\n",
       "      <td>-0.026355</td>\n",
       "      <td>-0.031060</td>\n",
       "      <td>-0.006726</td>\n",
       "      <td>-0.008337</td>\n",
       "      <td>NaN</td>\n",
       "      <td>0.007568</td>\n",
       "    </tr>\n",
       "    <tr>\n",
       "      <th>Container_M9125</th>\n",
       "      <td>-0.011011</td>\n",
       "      <td>-0.009207</td>\n",
       "      <td>-0.011222</td>\n",
       "      <td>-0.012063</td>\n",
       "      <td>-0.010528</td>\n",
       "      <td>-0.011677</td>\n",
       "      <td>-0.022123</td>\n",
       "      <td>0.007106</td>\n",
       "      <td>-0.018631</td>\n",
       "      <td>-0.011418</td>\n",
       "      <td>...</td>\n",
       "      <td>-0.024014</td>\n",
       "      <td>-0.001256</td>\n",
       "      <td>-0.012157</td>\n",
       "      <td>-0.010041</td>\n",
       "      <td>-0.014409</td>\n",
       "      <td>-0.016982</td>\n",
       "      <td>-0.003677</td>\n",
       "      <td>-0.004558</td>\n",
       "      <td>NaN</td>\n",
       "      <td>0.002812</td>\n",
       "    </tr>\n",
       "    <tr>\n",
       "      <th>Size_Grade_1L</th>\n",
       "      <td>-0.082596</td>\n",
       "      <td>-0.041625</td>\n",
       "      <td>-0.039102</td>\n",
       "      <td>0.107093</td>\n",
       "      <td>0.034295</td>\n",
       "      <td>0.042648</td>\n",
       "      <td>0.013519</td>\n",
       "      <td>-0.053546</td>\n",
       "      <td>0.006537</td>\n",
       "      <td>-0.029844</td>\n",
       "      <td>...</td>\n",
       "      <td>-0.220931</td>\n",
       "      <td>-0.011560</td>\n",
       "      <td>-0.111844</td>\n",
       "      <td>-0.092379</td>\n",
       "      <td>-0.132564</td>\n",
       "      <td>-0.156232</td>\n",
       "      <td>-0.033832</td>\n",
       "      <td>-0.041938</td>\n",
       "      <td>NaN</td>\n",
       "      <td>0.280966</td>\n",
       "    </tr>\n",
       "    <tr>\n",
       "      <th>Size_Grade_1M</th>\n",
       "      <td>-0.046532</td>\n",
       "      <td>-0.023629</td>\n",
       "      <td>-0.039365</td>\n",
       "      <td>-0.057071</td>\n",
       "      <td>-0.061837</td>\n",
       "      <td>-0.076261</td>\n",
       "      <td>-0.028461</td>\n",
       "      <td>-0.006856</td>\n",
       "      <td>-0.023882</td>\n",
       "      <td>-0.001329</td>\n",
       "      <td>...</td>\n",
       "      <td>-0.270529</td>\n",
       "      <td>-0.014155</td>\n",
       "      <td>-0.136952</td>\n",
       "      <td>-0.113118</td>\n",
       "      <td>-0.162324</td>\n",
       "      <td>-0.191305</td>\n",
       "      <td>-0.041427</td>\n",
       "      <td>-0.051352</td>\n",
       "      <td>NaN</td>\n",
       "      <td>0.175779</td>\n",
       "    </tr>\n",
       "    <tr>\n",
       "      <th>Size_Grade_1S</th>\n",
       "      <td>0.314679</td>\n",
       "      <td>0.288148</td>\n",
       "      <td>0.331683</td>\n",
       "      <td>0.285465</td>\n",
       "      <td>0.202586</td>\n",
       "      <td>0.306478</td>\n",
       "      <td>0.171355</td>\n",
       "      <td>0.012449</td>\n",
       "      <td>0.035952</td>\n",
       "      <td>0.028307</td>\n",
       "      <td>...</td>\n",
       "      <td>1.000000</td>\n",
       "      <td>-0.019602</td>\n",
       "      <td>-0.189661</td>\n",
       "      <td>-0.156653</td>\n",
       "      <td>-0.224797</td>\n",
       "      <td>-0.264933</td>\n",
       "      <td>-0.057371</td>\n",
       "      <td>-0.071116</td>\n",
       "      <td>NaN</td>\n",
       "      <td>-0.028506</td>\n",
       "    </tr>\n",
       "    <tr>\n",
       "      <th>Size_Grade_1U</th>\n",
       "      <td>-0.007124</td>\n",
       "      <td>-0.008087</td>\n",
       "      <td>-0.007067</td>\n",
       "      <td>-0.012618</td>\n",
       "      <td>-0.012138</td>\n",
       "      <td>-0.010024</td>\n",
       "      <td>-0.015715</td>\n",
       "      <td>0.005800</td>\n",
       "      <td>-0.007261</td>\n",
       "      <td>0.009691</td>\n",
       "      <td>...</td>\n",
       "      <td>-0.019602</td>\n",
       "      <td>1.000000</td>\n",
       "      <td>-0.009923</td>\n",
       "      <td>-0.008196</td>\n",
       "      <td>-0.011762</td>\n",
       "      <td>-0.013862</td>\n",
       "      <td>-0.003002</td>\n",
       "      <td>-0.003721</td>\n",
       "      <td>NaN</td>\n",
       "      <td>-0.027335</td>\n",
       "    </tr>\n",
       "    <tr>\n",
       "      <th>Size_Grade_1X</th>\n",
       "      <td>-0.068923</td>\n",
       "      <td>-0.025554</td>\n",
       "      <td>-0.030418</td>\n",
       "      <td>-0.075793</td>\n",
       "      <td>-0.100508</td>\n",
       "      <td>-0.081291</td>\n",
       "      <td>-0.044300</td>\n",
       "      <td>0.004457</td>\n",
       "      <td>-0.064184</td>\n",
       "      <td>-0.030633</td>\n",
       "      <td>...</td>\n",
       "      <td>-0.189661</td>\n",
       "      <td>-0.009923</td>\n",
       "      <td>1.000000</td>\n",
       "      <td>-0.079304</td>\n",
       "      <td>-0.113801</td>\n",
       "      <td>-0.134119</td>\n",
       "      <td>-0.029044</td>\n",
       "      <td>-0.036002</td>\n",
       "      <td>NaN</td>\n",
       "      <td>0.251451</td>\n",
       "    </tr>\n",
       "    <tr>\n",
       "      <th>Size_Grade_2L</th>\n",
       "      <td>-0.080647</td>\n",
       "      <td>-0.084578</td>\n",
       "      <td>-0.092192</td>\n",
       "      <td>-0.105784</td>\n",
       "      <td>-0.085270</td>\n",
       "      <td>-0.097158</td>\n",
       "      <td>-0.086927</td>\n",
       "      <td>-0.014455</td>\n",
       "      <td>0.067404</td>\n",
       "      <td>0.014469</td>\n",
       "      <td>...</td>\n",
       "      <td>-0.156653</td>\n",
       "      <td>-0.008196</td>\n",
       "      <td>-0.079304</td>\n",
       "      <td>1.000000</td>\n",
       "      <td>-0.093996</td>\n",
       "      <td>-0.110778</td>\n",
       "      <td>-0.023989</td>\n",
       "      <td>-0.029736</td>\n",
       "      <td>NaN</td>\n",
       "      <td>-0.089733</td>\n",
       "    </tr>\n",
       "    <tr>\n",
       "      <th>Size_Grade_2M</th>\n",
       "      <td>-0.083726</td>\n",
       "      <td>-0.104532</td>\n",
       "      <td>-0.118314</td>\n",
       "      <td>-0.109908</td>\n",
       "      <td>-0.037270</td>\n",
       "      <td>-0.093815</td>\n",
       "      <td>-0.086702</td>\n",
       "      <td>0.012357</td>\n",
       "      <td>0.012777</td>\n",
       "      <td>-0.029280</td>\n",
       "      <td>...</td>\n",
       "      <td>-0.224797</td>\n",
       "      <td>-0.011762</td>\n",
       "      <td>-0.113801</td>\n",
       "      <td>-0.093996</td>\n",
       "      <td>1.000000</td>\n",
       "      <td>-0.158966</td>\n",
       "      <td>-0.034424</td>\n",
       "      <td>-0.042672</td>\n",
       "      <td>NaN</td>\n",
       "      <td>-0.153372</td>\n",
       "    </tr>\n",
       "    <tr>\n",
       "      <th>Size_Grade_2S</th>\n",
       "      <td>-0.064374</td>\n",
       "      <td>-0.102040</td>\n",
       "      <td>-0.118517</td>\n",
       "      <td>-0.132595</td>\n",
       "      <td>-0.027759</td>\n",
       "      <td>-0.100862</td>\n",
       "      <td>-0.008891</td>\n",
       "      <td>0.030314</td>\n",
       "      <td>-0.022811</td>\n",
       "      <td>0.035713</td>\n",
       "      <td>...</td>\n",
       "      <td>-0.264933</td>\n",
       "      <td>-0.013862</td>\n",
       "      <td>-0.134119</td>\n",
       "      <td>-0.110778</td>\n",
       "      <td>-0.158966</td>\n",
       "      <td>1.000000</td>\n",
       "      <td>-0.040570</td>\n",
       "      <td>-0.050290</td>\n",
       "      <td>NaN</td>\n",
       "      <td>-0.352996</td>\n",
       "    </tr>\n",
       "    <tr>\n",
       "      <th>Size_Grade_2U</th>\n",
       "      <td>-0.029488</td>\n",
       "      <td>-0.032675</td>\n",
       "      <td>-0.035822</td>\n",
       "      <td>-0.040623</td>\n",
       "      <td>-0.032337</td>\n",
       "      <td>-0.035961</td>\n",
       "      <td>-0.046085</td>\n",
       "      <td>0.016977</td>\n",
       "      <td>-0.047931</td>\n",
       "      <td>0.019178</td>\n",
       "      <td>...</td>\n",
       "      <td>-0.057371</td>\n",
       "      <td>-0.003002</td>\n",
       "      <td>-0.029044</td>\n",
       "      <td>-0.023989</td>\n",
       "      <td>-0.034424</td>\n",
       "      <td>-0.040570</td>\n",
       "      <td>1.000000</td>\n",
       "      <td>-0.010890</td>\n",
       "      <td>NaN</td>\n",
       "      <td>-0.069457</td>\n",
       "    </tr>\n",
       "    <tr>\n",
       "      <th>Size_Grade_2X</th>\n",
       "      <td>-0.036183</td>\n",
       "      <td>-0.038494</td>\n",
       "      <td>-0.042342</td>\n",
       "      <td>-0.046104</td>\n",
       "      <td>-0.033339</td>\n",
       "      <td>-0.041667</td>\n",
       "      <td>-0.005271</td>\n",
       "      <td>-0.004439</td>\n",
       "      <td>0.013578</td>\n",
       "      <td>-0.026454</td>\n",
       "      <td>...</td>\n",
       "      <td>-0.071116</td>\n",
       "      <td>-0.003721</td>\n",
       "      <td>-0.036002</td>\n",
       "      <td>-0.029736</td>\n",
       "      <td>-0.042672</td>\n",
       "      <td>-0.050290</td>\n",
       "      <td>-0.010890</td>\n",
       "      <td>1.000000</td>\n",
       "      <td>NaN</td>\n",
       "      <td>-0.051624</td>\n",
       "    </tr>\n",
       "    <tr>\n",
       "      <th>Commodities_APPLE_GOLDEN_DELICIOUS</th>\n",
       "      <td>NaN</td>\n",
       "      <td>NaN</td>\n",
       "      <td>NaN</td>\n",
       "      <td>NaN</td>\n",
       "      <td>NaN</td>\n",
       "      <td>NaN</td>\n",
       "      <td>NaN</td>\n",
       "      <td>NaN</td>\n",
       "      <td>NaN</td>\n",
       "      <td>NaN</td>\n",
       "      <td>...</td>\n",
       "      <td>NaN</td>\n",
       "      <td>NaN</td>\n",
       "      <td>NaN</td>\n",
       "      <td>NaN</td>\n",
       "      <td>NaN</td>\n",
       "      <td>NaN</td>\n",
       "      <td>NaN</td>\n",
       "      <td>NaN</td>\n",
       "      <td>NaN</td>\n",
       "      <td>NaN</td>\n",
       "    </tr>\n",
       "    <tr>\n",
       "      <th>avg_price_per_kg</th>\n",
       "      <td>-0.337886</td>\n",
       "      <td>-0.141740</td>\n",
       "      <td>-0.164496</td>\n",
       "      <td>0.108473</td>\n",
       "      <td>0.087536</td>\n",
       "      <td>-0.001007</td>\n",
       "      <td>0.105028</td>\n",
       "      <td>-0.135526</td>\n",
       "      <td>0.005205</td>\n",
       "      <td>-0.071334</td>\n",
       "      <td>...</td>\n",
       "      <td>-0.028506</td>\n",
       "      <td>-0.027335</td>\n",
       "      <td>0.251451</td>\n",
       "      <td>-0.089733</td>\n",
       "      <td>-0.153372</td>\n",
       "      <td>-0.352996</td>\n",
       "      <td>-0.069457</td>\n",
       "      <td>-0.051624</td>\n",
       "      <td>NaN</td>\n",
       "      <td>1.000000</td>\n",
       "    </tr>\n",
       "  </tbody>\n",
       "</table>\n",
       "<p>40 rows × 40 columns</p>\n",
       "</div>"
      ],
      "text/plain": [
       "                                    Weight_Kg  Low_Price  High_Price  \\\n",
       "Weight_Kg                            1.000000   0.863182    0.905852   \n",
       "Low_Price                            0.863182   1.000000    0.938140   \n",
       "High_Price                           0.905852   0.938140    1.000000   \n",
       "Sales_Total                          0.180518   0.183230    0.265672   \n",
       "Total_Qty_Sold                      -0.133317  -0.122823   -0.096456   \n",
       "Total_Kg_Sold                        0.294117   0.269744    0.372282   \n",
       "Stock_On_Hand                       -0.144105  -0.127677   -0.094174   \n",
       "Year                                -0.019772  -0.021276   -0.018911   \n",
       "Month                                0.047613   0.039084    0.047717   \n",
       "Day                                  0.016251  -0.015764    0.002058   \n",
       "Province_CAPE                        0.076956   0.102353    0.130507   \n",
       "Province_EASTERN_CAPE               -0.082671  -0.085458   -0.097573   \n",
       "Province_NATAL                       0.182454   0.000035    0.033792   \n",
       "Province_ORANGE_FREE_STATE           0.011943   0.023433    0.014501   \n",
       "Province_TRANSVAAL                  -0.025492  -0.025898   -0.026755   \n",
       "Province_W_CAPE_BERGRIVER_ETC       -0.084757  -0.019829   -0.053877   \n",
       "Province_WEST_COAST                 -0.074890  -0.064464   -0.077612   \n",
       "Container_AC030                     -0.047765  -0.055111   -0.059450   \n",
       "Container_DT063                     -0.019039  -0.021828   -0.024103   \n",
       "Container_EC120                     -0.155910  -0.136387   -0.131819   \n",
       "Container_EF120                     -0.056706  -0.042398   -0.051627   \n",
       "Container_EG140                     -0.010420  -0.006336   -0.009201   \n",
       "Container_IA400                      0.999231   0.860219    0.902518   \n",
       "Container_JE090                     -0.201543  -0.216723   -0.234796   \n",
       "Container_JG110                     -0.063095  -0.067325   -0.074943   \n",
       "Container_M4183                     -0.146043  -0.073773   -0.074061   \n",
       "Container_M6125                     -0.020139  -0.016776   -0.020885   \n",
       "Container_M9125                     -0.011011  -0.009207   -0.011222   \n",
       "Size_Grade_1L                       -0.082596  -0.041625   -0.039102   \n",
       "Size_Grade_1M                       -0.046532  -0.023629   -0.039365   \n",
       "Size_Grade_1S                        0.314679   0.288148    0.331683   \n",
       "Size_Grade_1U                       -0.007124  -0.008087   -0.007067   \n",
       "Size_Grade_1X                       -0.068923  -0.025554   -0.030418   \n",
       "Size_Grade_2L                       -0.080647  -0.084578   -0.092192   \n",
       "Size_Grade_2M                       -0.083726  -0.104532   -0.118314   \n",
       "Size_Grade_2S                       -0.064374  -0.102040   -0.118517   \n",
       "Size_Grade_2U                       -0.029488  -0.032675   -0.035822   \n",
       "Size_Grade_2X                       -0.036183  -0.038494   -0.042342   \n",
       "Commodities_APPLE_GOLDEN_DELICIOUS        NaN        NaN         NaN   \n",
       "avg_price_per_kg                    -0.337886  -0.141740   -0.164496   \n",
       "\n",
       "                                    Sales_Total  Total_Qty_Sold  \\\n",
       "Weight_Kg                              0.180518       -0.133317   \n",
       "Low_Price                              0.183230       -0.122823   \n",
       "High_Price                             0.265672       -0.096456   \n",
       "Sales_Total                            1.000000        0.771865   \n",
       "Total_Qty_Sold                         0.771865        1.000000   \n",
       "Total_Kg_Sold                          0.962338        0.651440   \n",
       "Stock_On_Hand                          0.284693        0.390168   \n",
       "Year                                   0.031264        0.042132   \n",
       "Month                                 -0.055853       -0.058639   \n",
       "Day                                   -0.011699       -0.020402   \n",
       "Province_CAPE                          0.263142        0.231782   \n",
       "Province_EASTERN_CAPE                 -0.153576       -0.144064   \n",
       "Province_NATAL                        -0.088184       -0.091620   \n",
       "Province_ORANGE_FREE_STATE            -0.000229       -0.003297   \n",
       "Province_TRANSVAAL                     0.036189        0.089299   \n",
       "Province_W_CAPE_BERGRIVER_ETC         -0.108360       -0.107589   \n",
       "Province_WEST_COAST                   -0.087502       -0.051844   \n",
       "Container_AC030                       -0.056335       -0.003183   \n",
       "Container_DT063                       -0.028371       -0.029978   \n",
       "Container_EC120                        0.072059        0.177089   \n",
       "Container_EF120                       -0.072041       -0.069864   \n",
       "Container_EG140                        0.005516        0.006289   \n",
       "Container_IA400                        0.172753       -0.135627   \n",
       "Container_JE090                       -0.225452       -0.107026   \n",
       "Container_JG110                       -0.025977        0.050806   \n",
       "Container_M4183                        0.125820        0.035805   \n",
       "Container_M6125                       -0.031959       -0.031962   \n",
       "Container_M9125                       -0.012063       -0.010528   \n",
       "Size_Grade_1L                          0.107093        0.034295   \n",
       "Size_Grade_1M                         -0.057071       -0.061837   \n",
       "Size_Grade_1S                          0.285465        0.202586   \n",
       "Size_Grade_1U                         -0.012618       -0.012138   \n",
       "Size_Grade_1X                         -0.075793       -0.100508   \n",
       "Size_Grade_2L                         -0.105784       -0.085270   \n",
       "Size_Grade_2M                         -0.109908       -0.037270   \n",
       "Size_Grade_2S                         -0.132595       -0.027759   \n",
       "Size_Grade_2U                         -0.040623       -0.032337   \n",
       "Size_Grade_2X                         -0.046104       -0.033339   \n",
       "Commodities_APPLE_GOLDEN_DELICIOUS          NaN             NaN   \n",
       "avg_price_per_kg                       0.108473        0.087536   \n",
       "\n",
       "                                    Total_Kg_Sold  Stock_On_Hand      Year  \\\n",
       "Weight_Kg                                0.294117      -0.144105 -0.019772   \n",
       "Low_Price                                0.269744      -0.127677 -0.021276   \n",
       "High_Price                               0.372282      -0.094174 -0.018911   \n",
       "Sales_Total                              0.962338       0.284693  0.031264   \n",
       "Total_Qty_Sold                           0.651440       0.390168  0.042132   \n",
       "Total_Kg_Sold                            1.000000       0.229062  0.030462   \n",
       "Stock_On_Hand                            0.229062       1.000000 -0.045846   \n",
       "Year                                     0.030462      -0.045846  1.000000   \n",
       "Month                                   -0.023098      -0.011749 -0.430853   \n",
       "Day                                      0.003238       0.081923 -0.023257   \n",
       "Province_CAPE                            0.248872       0.268337 -0.028164   \n",
       "Province_EASTERN_CAPE                   -0.139492      -0.140210  0.033688   \n",
       "Province_NATAL                          -0.060972      -0.135137 -0.005984   \n",
       "Province_ORANGE_FREE_STATE              -0.005604      -0.036748  0.012327   \n",
       "Province_TRANSVAAL                       0.041585      -0.046745  0.015938   \n",
       "Province_W_CAPE_BERGRIVER_ETC           -0.123775      -0.068248  0.020802   \n",
       "Province_WEST_COAST                     -0.076015      -0.099175 -0.023752   \n",
       "Container_AC030                         -0.051262       0.014166  0.023008   \n",
       "Container_DT063                         -0.026515      -0.029355  0.010057   \n",
       "Container_EC120                          0.030087       0.138249 -0.005353   \n",
       "Container_EF120                         -0.070662      -0.074805  0.005360   \n",
       "Container_EG140                          0.001132      -0.022123  0.007106   \n",
       "Container_IA400                          0.288659      -0.147545 -0.018005   \n",
       "Container_JE090                         -0.194275      -0.066647  0.057624   \n",
       "Container_JG110                         -0.008118      -0.071657 -0.061555   \n",
       "Container_M4183                          0.058321       0.093458 -0.027531   \n",
       "Container_M6125                         -0.029402      -0.032883  0.012997   \n",
       "Container_M9125                         -0.011677      -0.022123  0.007106   \n",
       "Size_Grade_1L                            0.042648       0.013519 -0.053546   \n",
       "Size_Grade_1M                           -0.076261      -0.028461 -0.006856   \n",
       "Size_Grade_1S                            0.306478       0.171355  0.012449   \n",
       "Size_Grade_1U                           -0.010024      -0.015715  0.005800   \n",
       "Size_Grade_1X                           -0.081291      -0.044300  0.004457   \n",
       "Size_Grade_2L                           -0.097158      -0.086927 -0.014455   \n",
       "Size_Grade_2M                           -0.093815      -0.086702  0.012357   \n",
       "Size_Grade_2S                           -0.100862      -0.008891  0.030314   \n",
       "Size_Grade_2U                           -0.035961      -0.046085  0.016977   \n",
       "Size_Grade_2X                           -0.041667      -0.005271 -0.004439   \n",
       "Commodities_APPLE_GOLDEN_DELICIOUS            NaN            NaN       NaN   \n",
       "avg_price_per_kg                        -0.001007       0.105028 -0.135526   \n",
       "\n",
       "                                       Month       Day  ...  Size_Grade_1S  \\\n",
       "Weight_Kg                           0.047613  0.016251  ...       0.314679   \n",
       "Low_Price                           0.039084 -0.015764  ...       0.288148   \n",
       "High_Price                          0.047717  0.002058  ...       0.331683   \n",
       "Sales_Total                        -0.055853 -0.011699  ...       0.285465   \n",
       "Total_Qty_Sold                     -0.058639 -0.020402  ...       0.202586   \n",
       "Total_Kg_Sold                      -0.023098  0.003238  ...       0.306478   \n",
       "Stock_On_Hand                      -0.011749  0.081923  ...       0.171355   \n",
       "Year                               -0.430853 -0.023257  ...       0.012449   \n",
       "Month                               1.000000  0.010012  ...       0.035952   \n",
       "Day                                 0.010012  1.000000  ...       0.028307   \n",
       "Province_CAPE                      -0.088139 -0.027058  ...       0.023518   \n",
       "Province_EASTERN_CAPE              -0.004021  0.022327  ...      -0.011771   \n",
       "Province_NATAL                      0.064545  0.035035  ...       0.048429   \n",
       "Province_ORANGE_FREE_STATE         -0.080171 -0.040660  ...      -0.007691   \n",
       "Province_TRANSVAAL                  0.034641  0.000004  ...       0.117419   \n",
       "Province_W_CAPE_BERGRIVER_ETC       0.040153  0.004343  ...      -0.041076   \n",
       "Province_WEST_COAST                 0.064604 -0.002192  ...      -0.048414   \n",
       "Container_AC030                     0.044413  0.048093  ...       0.087901   \n",
       "Container_DT063                     0.008079  0.005106  ...      -0.033987   \n",
       "Container_EC120                    -0.011738  0.019442  ...       0.317107   \n",
       "Container_EF120                     0.020893  0.050822  ...       0.258038   \n",
       "Container_EG140                     0.020312  0.027649  ...       0.064098   \n",
       "Container_IA400                     0.049925  0.018444  ...       0.313686   \n",
       "Container_JE090                     0.030631 -0.005251  ...      -0.390659   \n",
       "Container_JG110                    -0.019412 -0.000471  ...      -0.130602   \n",
       "Container_M4183                    -0.050774 -0.060604  ...      -0.146087   \n",
       "Container_M6125                    -0.064348  0.010172  ...      -0.043922   \n",
       "Container_M9125                    -0.018631 -0.011418  ...      -0.024014   \n",
       "Size_Grade_1L                       0.006537 -0.029844  ...      -0.220931   \n",
       "Size_Grade_1M                      -0.023882 -0.001329  ...      -0.270529   \n",
       "Size_Grade_1S                       0.035952  0.028307  ...       1.000000   \n",
       "Size_Grade_1U                      -0.007261  0.009691  ...      -0.019602   \n",
       "Size_Grade_1X                      -0.064184 -0.030633  ...      -0.189661   \n",
       "Size_Grade_2L                       0.067404  0.014469  ...      -0.156653   \n",
       "Size_Grade_2M                       0.012777 -0.029280  ...      -0.224797   \n",
       "Size_Grade_2S                      -0.022811  0.035713  ...      -0.264933   \n",
       "Size_Grade_2U                      -0.047931  0.019178  ...      -0.057371   \n",
       "Size_Grade_2X                       0.013578 -0.026454  ...      -0.071116   \n",
       "Commodities_APPLE_GOLDEN_DELICIOUS       NaN       NaN  ...            NaN   \n",
       "avg_price_per_kg                    0.005205 -0.071334  ...      -0.028506   \n",
       "\n",
       "                                    Size_Grade_1U  Size_Grade_1X  \\\n",
       "Weight_Kg                               -0.007124      -0.068923   \n",
       "Low_Price                               -0.008087      -0.025554   \n",
       "High_Price                              -0.007067      -0.030418   \n",
       "Sales_Total                             -0.012618      -0.075793   \n",
       "Total_Qty_Sold                          -0.012138      -0.100508   \n",
       "Total_Kg_Sold                           -0.010024      -0.081291   \n",
       "Stock_On_Hand                           -0.015715      -0.044300   \n",
       "Year                                     0.005800       0.004457   \n",
       "Month                                   -0.007261      -0.064184   \n",
       "Day                                      0.009691      -0.030633   \n",
       "Province_CAPE                            0.029836      -0.023778   \n",
       "Province_EASTERN_CAPE                   -0.011000      -0.094638   \n",
       "Province_NATAL                          -0.007864      -0.076085   \n",
       "Province_ORANGE_FREE_STATE              -0.002180       0.085903   \n",
       "Province_TRANSVAAL                      -0.002818      -0.027268   \n",
       "Province_W_CAPE_BERGRIVER_ETC           -0.017276       0.140743   \n",
       "Province_WEST_COAST                     -0.008413      -0.015028   \n",
       "Container_AC030                         -0.004068      -0.039363   \n",
       "Container_DT063                         -0.001778      -0.017206   \n",
       "Container_EC120                         -0.017479      -0.169115   \n",
       "Container_EF120                         -0.006357      -0.061508   \n",
       "Container_EG140                         -0.001256      -0.012157   \n",
       "Container_IA400                         -0.008868      -0.085797   \n",
       "Container_JE090                         -0.020440      -0.197766   \n",
       "Container_JG110                         -0.006833      -0.066116   \n",
       "Container_M4183                          0.048777       0.471938   \n",
       "Container_M6125                         -0.002298      -0.022235   \n",
       "Container_M9125                         -0.001256      -0.012157   \n",
       "Size_Grade_1L                           -0.011560      -0.111844   \n",
       "Size_Grade_1M                           -0.014155      -0.136952   \n",
       "Size_Grade_1S                           -0.019602      -0.189661   \n",
       "Size_Grade_1U                            1.000000      -0.009923   \n",
       "Size_Grade_1X                           -0.009923       1.000000   \n",
       "Size_Grade_2L                           -0.008196      -0.079304   \n",
       "Size_Grade_2M                           -0.011762      -0.113801   \n",
       "Size_Grade_2S                           -0.013862      -0.134119   \n",
       "Size_Grade_2U                           -0.003002      -0.029044   \n",
       "Size_Grade_2X                           -0.003721      -0.036002   \n",
       "Commodities_APPLE_GOLDEN_DELICIOUS            NaN            NaN   \n",
       "avg_price_per_kg                        -0.027335       0.251451   \n",
       "\n",
       "                                    Size_Grade_2L  Size_Grade_2M  \\\n",
       "Weight_Kg                               -0.080647      -0.083726   \n",
       "Low_Price                               -0.084578      -0.104532   \n",
       "High_Price                              -0.092192      -0.118314   \n",
       "Sales_Total                             -0.105784      -0.109908   \n",
       "Total_Qty_Sold                          -0.085270      -0.037270   \n",
       "Total_Kg_Sold                           -0.097158      -0.093815   \n",
       "Stock_On_Hand                           -0.086927      -0.086702   \n",
       "Year                                    -0.014455       0.012357   \n",
       "Month                                    0.067404       0.012777   \n",
       "Day                                      0.014469      -0.029280   \n",
       "Province_CAPE                           -0.026692      -0.035552   \n",
       "Province_EASTERN_CAPE                    0.057867       0.157235   \n",
       "Province_NATAL                          -0.062844      -0.056002   \n",
       "Province_ORANGE_FREE_STATE              -0.017419      -0.001628   \n",
       "Province_TRANSVAAL                      -0.022522      -0.032319   \n",
       "Province_W_CAPE_BERGRIVER_ETC            0.020166      -0.069311   \n",
       "Province_WEST_COAST                      0.019564       0.058138   \n",
       "Container_AC030                         -0.032512      -0.046655   \n",
       "Container_DT063                         -0.014211       0.036801   \n",
       "Container_EC120                         -0.139683      -0.200445   \n",
       "Container_EF120                         -0.050804      -0.072903   \n",
       "Container_EG140                         -0.010041      -0.014409   \n",
       "Container_IA400                         -0.070866      -0.070915   \n",
       "Container_JE090                          0.382186       0.411370   \n",
       "Container_JG110                         -0.012806       0.231913   \n",
       "Container_M4183                         -0.168039      -0.241136   \n",
       "Container_M6125                         -0.018366      -0.026355   \n",
       "Container_M9125                         -0.010041      -0.014409   \n",
       "Size_Grade_1L                           -0.092379      -0.132564   \n",
       "Size_Grade_1M                           -0.113118      -0.162324   \n",
       "Size_Grade_1S                           -0.156653      -0.224797   \n",
       "Size_Grade_1U                           -0.008196      -0.011762   \n",
       "Size_Grade_1X                           -0.079304      -0.113801   \n",
       "Size_Grade_2L                            1.000000      -0.093996   \n",
       "Size_Grade_2M                           -0.093996       1.000000   \n",
       "Size_Grade_2S                           -0.110778      -0.158966   \n",
       "Size_Grade_2U                           -0.023989      -0.034424   \n",
       "Size_Grade_2X                           -0.029736      -0.042672   \n",
       "Commodities_APPLE_GOLDEN_DELICIOUS            NaN            NaN   \n",
       "avg_price_per_kg                        -0.089733      -0.153372   \n",
       "\n",
       "                                    Size_Grade_2S  Size_Grade_2U  \\\n",
       "Weight_Kg                               -0.064374      -0.029488   \n",
       "Low_Price                               -0.102040      -0.032675   \n",
       "High_Price                              -0.118517      -0.035822   \n",
       "Sales_Total                             -0.132595      -0.040623   \n",
       "Total_Qty_Sold                          -0.027759      -0.032337   \n",
       "Total_Kg_Sold                           -0.100862      -0.035961   \n",
       "Stock_On_Hand                           -0.008891      -0.046085   \n",
       "Year                                     0.030314       0.016977   \n",
       "Month                                   -0.022811      -0.047931   \n",
       "Day                                      0.035713       0.019178   \n",
       "Province_CAPE                           -0.070124       0.065213   \n",
       "Province_EASTERN_CAPE                   -0.048046      -0.032196   \n",
       "Province_NATAL                           0.221405      -0.023015   \n",
       "Province_ORANGE_FREE_STATE              -0.008714      -0.006379   \n",
       "Province_TRANSVAAL                      -0.005903      -0.008248   \n",
       "Province_W_CAPE_BERGRIVER_ETC           -0.024976      -0.050563   \n",
       "Province_WEST_COAST                      0.040713       0.020254   \n",
       "Container_AC030                          0.079909      -0.011907   \n",
       "Container_DT063                          0.077513      -0.005205   \n",
       "Container_EC120                         -0.182762      -0.051156   \n",
       "Container_EF120                         -0.085920      -0.018606   \n",
       "Container_EG140                         -0.016982      -0.003677   \n",
       "Container_IA400                         -0.048811      -0.025953   \n",
       "Container_JE090                          0.417872       0.134700   \n",
       "Container_JG110                          0.176202       0.007017   \n",
       "Container_M4183                         -0.284188      -0.061541   \n",
       "Container_M6125                         -0.031060      -0.006726   \n",
       "Container_M9125                         -0.016982      -0.003677   \n",
       "Size_Grade_1L                           -0.156232      -0.033832   \n",
       "Size_Grade_1M                           -0.191305      -0.041427   \n",
       "Size_Grade_1S                           -0.264933      -0.057371   \n",
       "Size_Grade_1U                           -0.013862      -0.003002   \n",
       "Size_Grade_1X                           -0.134119      -0.029044   \n",
       "Size_Grade_2L                           -0.110778      -0.023989   \n",
       "Size_Grade_2M                           -0.158966      -0.034424   \n",
       "Size_Grade_2S                            1.000000      -0.040570   \n",
       "Size_Grade_2U                           -0.040570       1.000000   \n",
       "Size_Grade_2X                           -0.050290      -0.010890   \n",
       "Commodities_APPLE_GOLDEN_DELICIOUS            NaN            NaN   \n",
       "avg_price_per_kg                        -0.352996      -0.069457   \n",
       "\n",
       "                                    Size_Grade_2X  \\\n",
       "Weight_Kg                               -0.036183   \n",
       "Low_Price                               -0.038494   \n",
       "High_Price                              -0.042342   \n",
       "Sales_Total                             -0.046104   \n",
       "Total_Qty_Sold                          -0.033339   \n",
       "Total_Kg_Sold                           -0.041667   \n",
       "Stock_On_Hand                           -0.005271   \n",
       "Year                                    -0.004439   \n",
       "Month                                    0.013578   \n",
       "Day                                     -0.026454   \n",
       "Province_CAPE                            0.072404   \n",
       "Province_EASTERN_CAPE                   -0.039909   \n",
       "Province_NATAL                          -0.028529   \n",
       "Province_ORANGE_FREE_STATE              -0.007908   \n",
       "Province_TRANSVAAL                      -0.010224   \n",
       "Province_W_CAPE_BERGRIVER_ETC           -0.019899   \n",
       "Province_WEST_COAST                     -0.030521   \n",
       "Container_AC030                         -0.014760   \n",
       "Container_DT063                         -0.006452   \n",
       "Container_EC120                         -0.063412   \n",
       "Container_EF120                         -0.023064   \n",
       "Container_EG140                         -0.004558   \n",
       "Container_IA400                         -0.032171   \n",
       "Container_JE090                          0.162335   \n",
       "Container_JG110                         -0.002894   \n",
       "Container_M4183                         -0.066545   \n",
       "Container_M6125                         -0.008337   \n",
       "Container_M9125                         -0.004558   \n",
       "Size_Grade_1L                           -0.041938   \n",
       "Size_Grade_1M                           -0.051352   \n",
       "Size_Grade_1S                           -0.071116   \n",
       "Size_Grade_1U                           -0.003721   \n",
       "Size_Grade_1X                           -0.036002   \n",
       "Size_Grade_2L                           -0.029736   \n",
       "Size_Grade_2M                           -0.042672   \n",
       "Size_Grade_2S                           -0.050290   \n",
       "Size_Grade_2U                           -0.010890   \n",
       "Size_Grade_2X                            1.000000   \n",
       "Commodities_APPLE_GOLDEN_DELICIOUS            NaN   \n",
       "avg_price_per_kg                        -0.051624   \n",
       "\n",
       "                                    Commodities_APPLE_GOLDEN_DELICIOUS  \\\n",
       "Weight_Kg                                                          NaN   \n",
       "Low_Price                                                          NaN   \n",
       "High_Price                                                         NaN   \n",
       "Sales_Total                                                        NaN   \n",
       "Total_Qty_Sold                                                     NaN   \n",
       "Total_Kg_Sold                                                      NaN   \n",
       "Stock_On_Hand                                                      NaN   \n",
       "Year                                                               NaN   \n",
       "Month                                                              NaN   \n",
       "Day                                                                NaN   \n",
       "Province_CAPE                                                      NaN   \n",
       "Province_EASTERN_CAPE                                              NaN   \n",
       "Province_NATAL                                                     NaN   \n",
       "Province_ORANGE_FREE_STATE                                         NaN   \n",
       "Province_TRANSVAAL                                                 NaN   \n",
       "Province_W_CAPE_BERGRIVER_ETC                                      NaN   \n",
       "Province_WEST_COAST                                                NaN   \n",
       "Container_AC030                                                    NaN   \n",
       "Container_DT063                                                    NaN   \n",
       "Container_EC120                                                    NaN   \n",
       "Container_EF120                                                    NaN   \n",
       "Container_EG140                                                    NaN   \n",
       "Container_IA400                                                    NaN   \n",
       "Container_JE090                                                    NaN   \n",
       "Container_JG110                                                    NaN   \n",
       "Container_M4183                                                    NaN   \n",
       "Container_M6125                                                    NaN   \n",
       "Container_M9125                                                    NaN   \n",
       "Size_Grade_1L                                                      NaN   \n",
       "Size_Grade_1M                                                      NaN   \n",
       "Size_Grade_1S                                                      NaN   \n",
       "Size_Grade_1U                                                      NaN   \n",
       "Size_Grade_1X                                                      NaN   \n",
       "Size_Grade_2L                                                      NaN   \n",
       "Size_Grade_2M                                                      NaN   \n",
       "Size_Grade_2S                                                      NaN   \n",
       "Size_Grade_2U                                                      NaN   \n",
       "Size_Grade_2X                                                      NaN   \n",
       "Commodities_APPLE_GOLDEN_DELICIOUS                                 NaN   \n",
       "avg_price_per_kg                                                   NaN   \n",
       "\n",
       "                                    avg_price_per_kg  \n",
       "Weight_Kg                                  -0.337886  \n",
       "Low_Price                                  -0.141740  \n",
       "High_Price                                 -0.164496  \n",
       "Sales_Total                                 0.108473  \n",
       "Total_Qty_Sold                              0.087536  \n",
       "Total_Kg_Sold                              -0.001007  \n",
       "Stock_On_Hand                               0.105028  \n",
       "Year                                       -0.135526  \n",
       "Month                                       0.005205  \n",
       "Day                                        -0.071334  \n",
       "Province_CAPE                               0.086135  \n",
       "Province_EASTERN_CAPE                      -0.178531  \n",
       "Province_NATAL                             -0.379801  \n",
       "Province_ORANGE_FREE_STATE                 -0.025026  \n",
       "Province_TRANSVAAL                         -0.020415  \n",
       "Province_W_CAPE_BERGRIVER_ETC               0.262051  \n",
       "Province_WEST_COAST                        -0.025122  \n",
       "Container_AC030                            -0.144427  \n",
       "Container_DT063                            -0.059579  \n",
       "Container_EC120                             0.188162  \n",
       "Container_EF120                             0.114297  \n",
       "Container_EG140                             0.023753  \n",
       "Container_IA400                            -0.355565  \n",
       "Container_JE090                            -0.322235  \n",
       "Container_JG110                            -0.140148  \n",
       "Container_M4183                             0.403229  \n",
       "Container_M6125                             0.007568  \n",
       "Container_M9125                             0.002812  \n",
       "Size_Grade_1L                               0.280966  \n",
       "Size_Grade_1M                               0.175779  \n",
       "Size_Grade_1S                              -0.028506  \n",
       "Size_Grade_1U                              -0.027335  \n",
       "Size_Grade_1X                               0.251451  \n",
       "Size_Grade_2L                              -0.089733  \n",
       "Size_Grade_2M                              -0.153372  \n",
       "Size_Grade_2S                              -0.352996  \n",
       "Size_Grade_2U                              -0.069457  \n",
       "Size_Grade_2X                              -0.051624  \n",
       "Commodities_APPLE_GOLDEN_DELICIOUS               NaN  \n",
       "avg_price_per_kg                            1.000000  \n",
       "\n",
       "[40 rows x 40 columns]"
      ]
     },
     "execution_count": 110,
     "metadata": {},
     "output_type": "execute_result"
    }
   ],
   "source": [
    "df_dummies.corr()"
   ]
  },
  {
   "cell_type": "markdown",
   "metadata": {},
   "source": [
    "Correlation heatmap"
   ]
  },
  {
   "cell_type": "code",
   "execution_count": 111,
   "metadata": {},
   "outputs": [
    {
     "data": {
      "image/png": "[encoded data removed]",
      "text/plain": [
       "<Figure size 1080x1080 with 1 Axes>"
      ]
     },
     "metadata": {
      "needs_background": "light"
     },
     "output_type": "display_data"
    }
   ],
   "source": [
    "from statsmodels.graphics.correlation import plot_corr\n",
    "\n",
    "fig = plt.figure(figsize=(15,15));\n",
    "ax = fig.add_subplot(111);\n",
    "plot_corr(df_dummies.corr(), xnames = df_dummies.corr().columns, ax = ax);"
   ]
  },
  {
   "cell_type": "markdown",
   "metadata": {},
   "source": [
    "# Fitting the Model"
   ]
  },
  {
   "cell_type": "code",
   "execution_count": 112,
   "metadata": {},
   "outputs": [
    {
     "name": "stdout",
     "output_type": "stream",
     "text": [
      "Formula:\n",
      "\t avg_price_per_kg ~ Weight_Kg + Low_Price + High_Price + Sales_Total + Total_Qty_Sold + Total_Kg_Sold + Stock_On_Hand + Year + Month + Day + Province_CAPE + Province_EASTERN_CAPE + Province_NATAL + Province_ORANGE_FREE_STATE + Province_TRANSVAAL + Province_W_CAPE_BERGRIVER_ETC + Province_WEST_COAST + Container_AC030 + Container_DT063 + Container_EC120 + Container_EF120 + Container_EG140 + Container_IA400 + Container_JE090 + Container_JG110 + Container_M4183 + Container_M6125 + Container_M9125 + Size_Grade_1L + Size_Grade_1M + Size_Grade_1S + Size_Grade_1U + Size_Grade_1X + Size_Grade_2L + Size_Grade_2M + Size_Grade_2S + Size_Grade_2U + Size_Grade_2X + Commodities_APPLE_GOLDEN_DELICIOUS\n"
     ]
    }
   ],
   "source": [
    "from statsmodels.formula.api import ols\n",
    "\n",
    "\n",
    "# Model DataFrame with all of the columns:\n",
    "dfm = df_dummies.copy()\n",
    "\n",
    "# The dependent variable:\n",
    "y_name = 'avg_price_per_kg'\n",
    "# The independent variable\n",
    "# (let's first try all of the columns in the model DataFrame)\n",
    "X_names = [col for col in dfm.columns if col != y_name]\n",
    "\n",
    "# Build the OLS formula string \" y ~ X \"\n",
    "formula_str = y_name+\" ~ \"+\" + \".join(X_names);\n",
    "print('Formula:\\n\\t {}'.format(formula_str))"
   ]
  },
  {
   "cell_type": "code",
   "execution_count": 113,
   "metadata": {},
   "outputs": [
    {
     "name": "stdout",
     "output_type": "stream",
     "text": [
      "                            OLS Regression Results                            \n",
      "==============================================================================\n",
      "Dep. Variable:       avg_price_per_kg   R-squared:                       0.627\n",
      "Model:                            OLS   Adj. R-squared:                  0.620\n",
      "Method:                 Least Squares   F-statistic:                     94.72\n",
      "Date:                Mon, 17 May 2021   Prob (F-statistic):               0.00\n",
      "Time:                        00:31:07   Log-Likelihood:                -3389.0\n",
      "No. Observations:                1952   AIC:                             6848.\n",
      "Df Residuals:                    1917   BIC:                             7043.\n",
      "Df Model:                          34                                         \n",
      "Covariance Type:            nonrobust                                         \n",
      "======================================================================================================\n",
      "                                         coef    std err          t      P>|t|      [0.025      0.975]\n",
      "------------------------------------------------------------------------------------------------------\n",
      "Intercept                           1310.4750    173.367      7.559      0.000     970.468    1650.482\n",
      "Weight_Kg                              0.4278      0.058      7.322      0.000       0.313       0.542\n",
      "Low_Price                              0.0004      0.000      1.416      0.157      -0.000       0.001\n",
      "High_Price                             0.0016      0.000      5.793      0.000       0.001       0.002\n",
      "Sales_Total                         6.855e-05   4.85e-06     14.127      0.000     5.9e-05    7.81e-05\n",
      "Total_Qty_Sold                        -0.0021      0.000     -9.346      0.000      -0.003      -0.002\n",
      "Total_Kg_Sold                         -0.0004   2.64e-05    -13.393      0.000      -0.000      -0.000\n",
      "Stock_On_Hand                         -0.0001   5.14e-05     -2.452      0.014      -0.000   -2.53e-05\n",
      "Year                                  -1.5213      0.202     -7.545      0.000      -1.917      -1.126\n",
      "Month                                  0.0121      0.013      0.906      0.365      -0.014       0.038\n",
      "Day                                   -0.0079      0.004     -2.147      0.032      -0.015      -0.001\n",
      "Province_CAPE                        188.0312     24.766      7.592      0.000     139.460     236.602\n",
      "Province_EASTERN_CAPE                186.5981     24.769      7.533      0.000     138.020     235.176\n",
      "Province_NATAL                       185.9908     24.768      7.509      0.000     137.416     234.566\n",
      "Province_ORANGE_FREE_STATE           186.3881     24.758      7.528      0.000     137.832     234.944\n",
      "Province_TRANSVAAL                   187.3867     24.776      7.563      0.000     138.796     235.977\n",
      "Province_W_CAPE_BERGRIVER_ETC        188.4356     24.770      7.607      0.000     139.856     237.015\n",
      "Province_WEST_COAST                  187.6444     24.766      7.577      0.000     139.073     236.215\n",
      "Container_AC030                      137.3853     18.310      7.503      0.000     101.476     173.294\n",
      "Container_DT063                      136.8903     18.123      7.553      0.000     101.347     172.433\n",
      "Container_EC120                      134.9880     17.769      7.597      0.000     100.140     169.836\n",
      "Container_EF120                      135.2155     17.771      7.609      0.000     100.364     170.067\n",
      "Container_EG140                      134.3246     17.682      7.597      0.000      99.646     169.003\n",
      "Container_IA400                      -37.1104      4.906     -7.565      0.000     -46.731     -27.490\n",
      "Container_JE090                      135.5944     17.954      7.552      0.000     100.383     170.806\n",
      "Container_JG110                      134.1338     17.821      7.527      0.000      99.183     169.084\n",
      "Container_M4183                      131.5626     17.403      7.560      0.000      97.433     165.693\n",
      "Container_M6125                      134.2865     17.738      7.571      0.000      99.499     169.074\n",
      "Container_M9125                      133.2044     17.756      7.502      0.000      98.382     168.027\n",
      "Size_Grade_1L                        132.3016     17.337      7.631      0.000      98.300     166.303\n",
      "Size_Grade_1M                        131.8977     17.341      7.606      0.000      97.889     165.906\n",
      "Size_Grade_1S                        131.5110     17.342      7.583      0.000      97.500     165.523\n",
      "Size_Grade_1U                        129.5038     17.366      7.457      0.000      95.446     163.561\n",
      "Size_Grade_1X                        132.7483     17.338      7.656      0.000      98.745     166.752\n",
      "Size_Grade_2L                        130.7459     17.335      7.542      0.000      96.749     164.743\n",
      "Size_Grade_2M                        131.0984     17.336      7.562      0.000      97.098     165.099\n",
      "Size_Grade_2S                        130.4266     17.336      7.523      0.000      96.427     164.426\n",
      "Size_Grade_2U                        129.8909     17.335      7.493      0.000      95.893     163.888\n",
      "Size_Grade_2X                        130.3507     17.336      7.519      0.000      96.351     164.351\n",
      "Commodities_APPLE_GOLDEN_DELICIOUS  1310.4750    173.367      7.559      0.000     970.468    1650.482\n",
      "==============================================================================\n",
      "Omnibus:                      237.650   Durbin-Watson:                   1.978\n",
      "Prob(Omnibus):                  0.000   Jarque-Bera (JB):             1858.732\n",
      "Skew:                           0.280   Prob(JB):                         0.00\n",
      "Kurtosis:                       7.748   Cond. No.                     1.13e+16\n",
      "==============================================================================\n",
      "\n",
      "Notes:\n",
      "[1] Standard Errors assume that the covariance matrix of the errors is correctly specified.\n",
      "[2] The smallest eigenvalue is  3e-20. This might indicate that there are\n",
      "strong multicollinearity problems or that the design matrix is singular.\n"
     ]
    }
   ],
   "source": [
    "# Fit the model using the model dataframe\n",
    "model=ols(formula=formula_str, data=dfm)\n",
    "fitted = model.fit()\n",
    "\n",
    "# Output the fitted summary\n",
    "print(fitted.summary())"
   ]
  },
  {
   "cell_type": "markdown",
   "metadata": {},
   "source": [
    "## Model Training"
   ]
  },
  {
   "cell_type": "code",
   "execution_count": 114,
   "metadata": {},
   "outputs": [],
   "source": [
    "def rmse(y_test, y_pred):\n",
    "    return np.sqrt(mean_squared_error(y_test, y_pred))\n",
    "\n",
    "def r_squared(y_test, y_pred):\n",
    "    return r2_score(y_test, y_pred)\n",
    "\n",
    "def fit_and_evaluate(model,x,y):\n",
    "    \n",
    "    x_train, x_test, y_train,y_test = train_test_split(x, y, test_size = 0.2, random_state = 42)\n",
    "    model.fit(x_train, y_train)\n",
    "    \n",
    "    train_pred = model.predict(x_train)\n",
    "    test_pred = model.predict(x_test)\n",
    "    train_rmse = rmse(y_train, train_pred)\n",
    "    test_rmse = rmse(y_test, test_pred)\n",
    "    \n",
    "    \n",
    "    train_r2 = r_squared(y_train, train_pred)\n",
    "    test_r2 = r_squared(y_test, test_pred)\n",
    "    \n",
    "\n",
    "    df = {'Train RMSE' : train_rmse, 'Train R^2' : train_r2, 'Test RMSE' : test_rmse, 'Test R^2' : test_r2}\n",
    "    \n",
    "    return df"
   ]
  },
  {
   "cell_type": "code",
   "execution_count": 115,
   "metadata": {},
   "outputs": [
    {
     "data": {
      "text/plain": [
       "(1952,)"
      ]
     },
     "execution_count": 115,
     "metadata": {},
     "output_type": "execute_result"
    }
   ],
   "source": [
    "model = LinearRegression(n_jobs = -1)\n",
    "y = df2['avg_price_per_kg']\n",
    "y.shape"
   ]
  },
  {
   "cell_type": "code",
   "execution_count": 116,
   "metadata": {},
   "outputs": [
    {
     "data": {
      "text/plain": [
       "{'Train RMSE': 2.141562200474744,\n",
       " 'Train R^2': 0.11028193098883021,\n",
       " 'Test RMSE': 2.0112189625232535,\n",
       " 'Test R^2': 0.12825310685500813}"
      ]
     },
     "execution_count": 116,
     "metadata": {},
     "output_type": "execute_result"
    }
   ],
   "source": [
    "x = df2['Weight_Kg'].values.reshape(-1, 1)\n",
    "fit_and_evaluate(model,x,y)\n"
   ]
  },
  {
   "cell_type": "code",
   "execution_count": 117,
   "metadata": {},
   "outputs": [
    {
     "data": {
      "text/plain": [
       "{'Train RMSE': 2.249765474546225,\n",
       " 'Train R^2': 0.01810393289249601,\n",
       " 'Test RMSE': 2.126871344094777,\n",
       " 'Test R^2': 0.02511331688069718}"
      ]
     },
     "execution_count": 117,
     "metadata": {},
     "output_type": "execute_result"
    }
   ],
   "source": [
    "x = df2['Low_Price'].values.reshape(-1, 1)\n",
    "fit_and_evaluate(model,x,y)"
   ]
  },
  {
   "cell_type": "code",
   "execution_count": 118,
   "metadata": {},
   "outputs": [
    {
     "data": {
      "text/plain": [
       "{'Train RMSE': 1.8029960581006492,\n",
       " 'Train R^2': 0.36936135627478095,\n",
       " 'Test RMSE': 1.7190231085203471,\n",
       " 'Test R^2': 0.3631529698372783}"
      ]
     },
     "execution_count": 118,
     "metadata": {},
     "output_type": "execute_result"
    }
   ],
   "source": [
    "x = df2[['Weight_Kg', 'Low_Price', 'High_Price', 'Sales_Total', 'Total_Qty_Sold', 'Total_Kg_Sold', 'Stock_On_Hand']].values\n",
    "fit_and_evaluate(model,x,y)"
   ]
  },
  {
   "cell_type": "code",
   "execution_count": 119,
   "metadata": {},
   "outputs": [
    {
     "data": {
      "text/plain": [
       "{'Train RMSE': 1.3684820676474723,\n",
       " 'Train R^2': 0.6366967802150388,\n",
       " 'Test RMSE': 1.4096633688262639,\n",
       " 'Test R^2': 0.5717449163776245}"
      ]
     },
     "execution_count": 119,
     "metadata": {},
     "output_type": "execute_result"
    }
   ],
   "source": [
    "x = df_dummies.drop('avg_price_per_kg',axis=1).values\n",
    "y = df_dummies['avg_price_per_kg']\n",
    "fit_and_evaluate(model,x,y)"
   ]
  },
  {
   "cell_type": "code",
   "execution_count": 120,
   "metadata": {},
   "outputs": [
    {
     "data": {
      "text/plain": [
       "array([6.67767975, 6.67351951, 6.88080461, 6.85502858, 6.90335766,\n",
       "       7.34277432, 7.6135986 , 4.64385978, 7.28907706, 5.57466609,\n",
       "       6.817253  , 7.04102765, 6.37011974, 4.33140321, 3.02979079,\n",
       "       5.85544873, 6.47167201, 7.46263447, 6.63694647, 1.92482374])"
      ]
     },
     "execution_count": 120,
     "metadata": {},
     "output_type": "execute_result"
    }
   ],
   "source": [
    "x = df2[['Weight_Kg', 'Low_Price', 'High_Price', 'Sales_Total', 'Total_Qty_Sold', 'Total_Kg_Sold', 'Stock_On_Hand']].values\n",
    "x_train, x_test, y_train, y_test = train_test_split(x, y, test_size = 0.2, random_state = 4)\n",
    "model.fit(x_train, y_train)\n",
    "new_pred= model.predict(x_test)\n",
    "new_pred [:20]"
   ]
  },
  {
   "cell_type": "code",
   "execution_count": 121,
   "metadata": {},
   "outputs": [],
   "source": [
    "#storing model\n",
    "pkl_file = \"mlr_model.pkl\"\n",
    "with open (pkl_file, 'wb') as file:\n",
    "    pickle.dump(model,file)"
   ]
  },
  {
   "cell_type": "code",
   "execution_count": 122,
   "metadata": {},
   "outputs": [],
   "source": [
    "#Loading the model\n",
    "\n",
    "with open (pkl_file, 'rb') as file:\n",
    "    Pickled_Model = pickle.load(file)"
   ]
  },
  {
   "cell_type": "markdown",
   "metadata": {},
   "source": [
    "# 7. Linear regression & Parameter Tuning"
   ]
  },
  {
   "cell_type": "code",
   "execution_count": 123,
   "metadata": {},
   "outputs": [],
   "source": [
    "# Normalize the feature(this puts the data(variables) in the same space)"
   ]
  },
  {
   "cell_type": "code",
   "execution_count": 124,
   "metadata": {},
   "outputs": [],
   "source": [
    "# Define the linear regression algorithm"
   ]
  },
  {
   "cell_type": "markdown",
   "metadata": {},
   "source": [
    "### Predicting a test set"
   ]
  },
  {
   "cell_type": "code",
   "execution_count": 126,
   "metadata": {},
   "outputs": [
    {
     "data": {
      "text/html": [
       "<div>\n",
       "<style scoped>\n",
       "    .dataframe tbody tr th:only-of-type {\n",
       "        vertical-align: middle;\n",
       "    }\n",
       "\n",
       "    .dataframe tbody tr th {\n",
       "        vertical-align: top;\n",
       "    }\n",
       "\n",
       "    .dataframe thead th {\n",
       "        text-align: right;\n",
       "    }\n",
       "</style>\n",
       "<table border=\"1\" class=\"dataframe\">\n",
       "  <thead>\n",
       "    <tr style=\"text-align: right;\">\n",
       "      <th></th>\n",
       "      <th>Province</th>\n",
       "      <th>Container</th>\n",
       "      <th>Size_Grade</th>\n",
       "      <th>Weight_Kg</th>\n",
       "      <th>Commodities</th>\n",
       "      <th>Low_Price</th>\n",
       "      <th>High_Price</th>\n",
       "      <th>Sales_Total</th>\n",
       "      <th>Total_Qty_Sold</th>\n",
       "      <th>Total_Kg_Sold</th>\n",
       "      <th>Stock_On_Hand</th>\n",
       "      <th>Year</th>\n",
       "      <th>Month</th>\n",
       "      <th>Day</th>\n",
       "    </tr>\n",
       "  </thead>\n",
       "  <tbody>\n",
       "    <tr>\n",
       "      <th>0</th>\n",
       "      <td>W.CAPE-BERGRIVER ETC</td>\n",
       "      <td>EC120</td>\n",
       "      <td>1M</td>\n",
       "      <td>12.0</td>\n",
       "      <td>APPLE GOLDEN DELICIOUS</td>\n",
       "      <td>128.0</td>\n",
       "      <td>136.0</td>\n",
       "      <td>5008.0</td>\n",
       "      <td>38</td>\n",
       "      <td>456.0</td>\n",
       "      <td>0</td>\n",
       "      <td>2020</td>\n",
       "      <td>7</td>\n",
       "      <td>9</td>\n",
       "    </tr>\n",
       "    <tr>\n",
       "      <th>1</th>\n",
       "      <td>W.CAPE-BERGRIVER ETC</td>\n",
       "      <td>M4183</td>\n",
       "      <td>1X</td>\n",
       "      <td>18.3</td>\n",
       "      <td>APPLE GOLDEN DELICIOUS</td>\n",
       "      <td>220.0</td>\n",
       "      <td>220.0</td>\n",
       "      <td>1760.0</td>\n",
       "      <td>8</td>\n",
       "      <td>146.4</td>\n",
       "      <td>2</td>\n",
       "      <td>2020</td>\n",
       "      <td>1</td>\n",
       "      <td>20</td>\n",
       "    </tr>\n",
       "    <tr>\n",
       "      <th>2</th>\n",
       "      <td>W.CAPE-BERGRIVER ETC</td>\n",
       "      <td>EC120</td>\n",
       "      <td>1S</td>\n",
       "      <td>12.0</td>\n",
       "      <td>APPLE GOLDEN DELICIOUS</td>\n",
       "      <td>120.0</td>\n",
       "      <td>120.0</td>\n",
       "      <td>720.0</td>\n",
       "      <td>6</td>\n",
       "      <td>72.0</td>\n",
       "      <td>45</td>\n",
       "      <td>2020</td>\n",
       "      <td>8</td>\n",
       "      <td>19</td>\n",
       "    </tr>\n",
       "    <tr>\n",
       "      <th>3</th>\n",
       "      <td>W.CAPE-BERGRIVER ETC</td>\n",
       "      <td>M4183</td>\n",
       "      <td>1M</td>\n",
       "      <td>18.3</td>\n",
       "      <td>APPLE GOLDEN DELICIOUS</td>\n",
       "      <td>160.0</td>\n",
       "      <td>160.0</td>\n",
       "      <td>160.0</td>\n",
       "      <td>1</td>\n",
       "      <td>18.3</td>\n",
       "      <td>8</td>\n",
       "      <td>2020</td>\n",
       "      <td>5</td>\n",
       "      <td>6</td>\n",
       "    </tr>\n",
       "    <tr>\n",
       "      <th>4</th>\n",
       "      <td>W.CAPE-BERGRIVER ETC</td>\n",
       "      <td>M4183</td>\n",
       "      <td>1L</td>\n",
       "      <td>18.3</td>\n",
       "      <td>APPLE GOLDEN DELICIOUS</td>\n",
       "      <td>140.0</td>\n",
       "      <td>160.0</td>\n",
       "      <td>14140.0</td>\n",
       "      <td>100</td>\n",
       "      <td>1830.0</td>\n",
       "      <td>19</td>\n",
       "      <td>2020</td>\n",
       "      <td>5</td>\n",
       "      <td>4</td>\n",
       "    </tr>\n",
       "  </tbody>\n",
       "</table>\n",
       "</div>"
      ],
      "text/plain": [
       "               Province Container Size_Grade  Weight_Kg  \\\n",
       "0  W.CAPE-BERGRIVER ETC     EC120         1M       12.0   \n",
       "1  W.CAPE-BERGRIVER ETC     M4183         1X       18.3   \n",
       "2  W.CAPE-BERGRIVER ETC     EC120         1S       12.0   \n",
       "3  W.CAPE-BERGRIVER ETC     M4183         1M       18.3   \n",
       "4  W.CAPE-BERGRIVER ETC     M4183         1L       18.3   \n",
       "\n",
       "              Commodities  Low_Price  High_Price  Sales_Total  Total_Qty_Sold  \\\n",
       "0  APPLE GOLDEN DELICIOUS      128.0       136.0       5008.0              38   \n",
       "1  APPLE GOLDEN DELICIOUS      220.0       220.0       1760.0               8   \n",
       "2  APPLE GOLDEN DELICIOUS      120.0       120.0        720.0               6   \n",
       "3  APPLE GOLDEN DELICIOUS      160.0       160.0        160.0               1   \n",
       "4  APPLE GOLDEN DELICIOUS      140.0       160.0      14140.0             100   \n",
       "\n",
       "   Total_Kg_Sold  Stock_On_Hand  Year  Month  Day  \n",
       "0          456.0              0  2020      7    9  \n",
       "1          146.4              2  2020      1   20  \n",
       "2           72.0             45  2020      8   19  \n",
       "3           18.3              8  2020      5    6  \n",
       "4         1830.0             19  2020      5    4  "
      ]
     },
     "execution_count": 126,
     "metadata": {},
     "output_type": "execute_result"
    }
   ],
   "source": [
    "df_test['Year'] = pd.DatetimeIndex(df_test['Date']).year\n",
    "df_test['Month'] = pd.DatetimeIndex(df_test['Date']).month\n",
    "df_test['Day'] = pd.DatetimeIndex(df_test['Date']).day\n",
    "df_test.drop('Date', inplace=True, axis=1)\n",
    "\n",
    "df_test.head()"
   ]
  },
  {
   "cell_type": "code",
   "execution_count": 128,
   "metadata": {},
   "outputs": [
    {
     "data": {
      "text/html": [
       "<div>\n",
       "<style scoped>\n",
       "    .dataframe tbody tr th:only-of-type {\n",
       "        vertical-align: middle;\n",
       "    }\n",
       "\n",
       "    .dataframe tbody tr th {\n",
       "        vertical-align: top;\n",
       "    }\n",
       "\n",
       "    .dataframe thead th {\n",
       "        text-align: right;\n",
       "    }\n",
       "</style>\n",
       "<table border=\"1\" class=\"dataframe\">\n",
       "  <thead>\n",
       "    <tr style=\"text-align: right;\">\n",
       "      <th></th>\n",
       "      <th>Weight_Kg</th>\n",
       "      <th>Low_Price</th>\n",
       "      <th>High_Price</th>\n",
       "      <th>Sales_Total</th>\n",
       "      <th>Total_Qty_Sold</th>\n",
       "      <th>Total_Kg_Sold</th>\n",
       "      <th>Stock_On_Hand</th>\n",
       "      <th>Year</th>\n",
       "      <th>Month</th>\n",
       "      <th>Day</th>\n",
       "      <th>...</th>\n",
       "      <th>Size_Grade_1M</th>\n",
       "      <th>Size_Grade_1S</th>\n",
       "      <th>Size_Grade_1U</th>\n",
       "      <th>Size_Grade_1X</th>\n",
       "      <th>Size_Grade_2L</th>\n",
       "      <th>Size_Grade_2M</th>\n",
       "      <th>Size_Grade_2S</th>\n",
       "      <th>Size_Grade_2U</th>\n",
       "      <th>Size_Grade_2X</th>\n",
       "      <th>Commodities_APPLE_GOLDEN_DELICIOUS</th>\n",
       "    </tr>\n",
       "  </thead>\n",
       "  <tbody>\n",
       "    <tr>\n",
       "      <th>0</th>\n",
       "      <td>12.0</td>\n",
       "      <td>128.0</td>\n",
       "      <td>136.0</td>\n",
       "      <td>5008.0</td>\n",
       "      <td>38</td>\n",
       "      <td>456.0</td>\n",
       "      <td>0</td>\n",
       "      <td>2020</td>\n",
       "      <td>7</td>\n",
       "      <td>9</td>\n",
       "      <td>...</td>\n",
       "      <td>1</td>\n",
       "      <td>0</td>\n",
       "      <td>0</td>\n",
       "      <td>0</td>\n",
       "      <td>0</td>\n",
       "      <td>0</td>\n",
       "      <td>0</td>\n",
       "      <td>0</td>\n",
       "      <td>0</td>\n",
       "      <td>1</td>\n",
       "    </tr>\n",
       "    <tr>\n",
       "      <th>1</th>\n",
       "      <td>18.3</td>\n",
       "      <td>220.0</td>\n",
       "      <td>220.0</td>\n",
       "      <td>1760.0</td>\n",
       "      <td>8</td>\n",
       "      <td>146.4</td>\n",
       "      <td>2</td>\n",
       "      <td>2020</td>\n",
       "      <td>1</td>\n",
       "      <td>20</td>\n",
       "      <td>...</td>\n",
       "      <td>0</td>\n",
       "      <td>0</td>\n",
       "      <td>0</td>\n",
       "      <td>1</td>\n",
       "      <td>0</td>\n",
       "      <td>0</td>\n",
       "      <td>0</td>\n",
       "      <td>0</td>\n",
       "      <td>0</td>\n",
       "      <td>1</td>\n",
       "    </tr>\n",
       "    <tr>\n",
       "      <th>2</th>\n",
       "      <td>12.0</td>\n",
       "      <td>120.0</td>\n",
       "      <td>120.0</td>\n",
       "      <td>720.0</td>\n",
       "      <td>6</td>\n",
       "      <td>72.0</td>\n",
       "      <td>45</td>\n",
       "      <td>2020</td>\n",
       "      <td>8</td>\n",
       "      <td>19</td>\n",
       "      <td>...</td>\n",
       "      <td>0</td>\n",
       "      <td>1</td>\n",
       "      <td>0</td>\n",
       "      <td>0</td>\n",
       "      <td>0</td>\n",
       "      <td>0</td>\n",
       "      <td>0</td>\n",
       "      <td>0</td>\n",
       "      <td>0</td>\n",
       "      <td>1</td>\n",
       "    </tr>\n",
       "    <tr>\n",
       "      <th>3</th>\n",
       "      <td>18.3</td>\n",
       "      <td>160.0</td>\n",
       "      <td>160.0</td>\n",
       "      <td>160.0</td>\n",
       "      <td>1</td>\n",
       "      <td>18.3</td>\n",
       "      <td>8</td>\n",
       "      <td>2020</td>\n",
       "      <td>5</td>\n",
       "      <td>6</td>\n",
       "      <td>...</td>\n",
       "      <td>1</td>\n",
       "      <td>0</td>\n",
       "      <td>0</td>\n",
       "      <td>0</td>\n",
       "      <td>0</td>\n",
       "      <td>0</td>\n",
       "      <td>0</td>\n",
       "      <td>0</td>\n",
       "      <td>0</td>\n",
       "      <td>1</td>\n",
       "    </tr>\n",
       "    <tr>\n",
       "      <th>4</th>\n",
       "      <td>18.3</td>\n",
       "      <td>140.0</td>\n",
       "      <td>160.0</td>\n",
       "      <td>14140.0</td>\n",
       "      <td>100</td>\n",
       "      <td>1830.0</td>\n",
       "      <td>19</td>\n",
       "      <td>2020</td>\n",
       "      <td>5</td>\n",
       "      <td>4</td>\n",
       "      <td>...</td>\n",
       "      <td>0</td>\n",
       "      <td>0</td>\n",
       "      <td>0</td>\n",
       "      <td>0</td>\n",
       "      <td>0</td>\n",
       "      <td>0</td>\n",
       "      <td>0</td>\n",
       "      <td>0</td>\n",
       "      <td>0</td>\n",
       "      <td>1</td>\n",
       "    </tr>\n",
       "  </tbody>\n",
       "</table>\n",
       "<p>5 rows × 39 columns</p>\n",
       "</div>"
      ],
      "text/plain": [
       "   Weight_Kg  Low_Price  High_Price  Sales_Total  Total_Qty_Sold  \\\n",
       "0       12.0      128.0       136.0       5008.0              38   \n",
       "1       18.3      220.0       220.0       1760.0               8   \n",
       "2       12.0      120.0       120.0        720.0               6   \n",
       "3       18.3      160.0       160.0        160.0               1   \n",
       "4       18.3      140.0       160.0      14140.0             100   \n",
       "\n",
       "   Total_Kg_Sold  Stock_On_Hand  Year  Month  Day  ...  Size_Grade_1M  \\\n",
       "0          456.0              0  2020      7    9  ...              1   \n",
       "1          146.4              2  2020      1   20  ...              0   \n",
       "2           72.0             45  2020      8   19  ...              0   \n",
       "3           18.3              8  2020      5    6  ...              1   \n",
       "4         1830.0             19  2020      5    4  ...              0   \n",
       "\n",
       "   Size_Grade_1S  Size_Grade_1U  Size_Grade_1X  Size_Grade_2L  Size_Grade_2M  \\\n",
       "0              0              0              0              0              0   \n",
       "1              0              0              1              0              0   \n",
       "2              1              0              0              0              0   \n",
       "3              0              0              0              0              0   \n",
       "4              0              0              0              0              0   \n",
       "\n",
       "   Size_Grade_2S  Size_Grade_2U  Size_Grade_2X  \\\n",
       "0              0              0              0   \n",
       "1              0              0              0   \n",
       "2              0              0              0   \n",
       "3              0              0              0   \n",
       "4              0              0              0   \n",
       "\n",
       "   Commodities_APPLE_GOLDEN_DELICIOUS  \n",
       "0                                   1  \n",
       "1                                   1  \n",
       "2                                   1  \n",
       "3                                   1  \n",
       "4                                   1  \n",
       "\n",
       "[5 rows x 39 columns]"
      ]
     },
     "execution_count": 128,
     "metadata": {},
     "output_type": "execute_result"
    }
   ],
   "source": [
    "X_real = pd.get_dummies(df_test)\n",
    "# Again we make sure that all the column names have underscores instead of periods,whitespaces and dashes\n",
    "X_real.columns = [col.replace(\".\",\"_\") for col in X_real.columns] \n",
    "X_real.columns = [col.replace(\" \", \"_\")for col in X_real.columns]\n",
    "X_real.columns = [col.replace(\"-\", \"_\")for col in X_real.columns]\n",
    "X_real.head()"
   ]
  },
  {
   "cell_type": "code",
   "execution_count": 129,
   "metadata": {},
   "outputs": [
    {
     "data": {
      "text/plain": [
       "((1952, 15), (685, 14))"
      ]
     },
     "execution_count": 129,
     "metadata": {},
     "output_type": "execute_result"
    }
   ],
   "source": [
    "df2.shape, df_test.shape"
   ]
  },
  {
   "cell_type": "code",
   "execution_count": 130,
   "metadata": {},
   "outputs": [
    {
     "data": {
      "text/plain": [
       "((1952, 40), (685, 39))"
      ]
     },
     "execution_count": 130,
     "metadata": {},
     "output_type": "execute_result"
    }
   ],
   "source": [
    "df_dummies.shape , X_real.shape"
   ]
  },
  {
   "cell_type": "markdown",
   "metadata": {},
   "source": [
    "### Making predictions"
   ]
  },
  {
   "cell_type": "code",
   "execution_count": 131,
   "metadata": {},
   "outputs": [
    {
     "data": {
      "text/plain": [
       "array([7.27790718, 7.36944223, 7.08551263, 7.08211535, 7.25190841,\n",
       "       5.39627452, 6.76642481, 7.42829649, 7.50639921, 7.17820049])"
      ]
     },
     "execution_count": 131,
     "metadata": {},
     "output_type": "execute_result"
    }
   ],
   "source": [
    "pred = Pickled_Model.predict(X_real[['Weight_Kg', 'Low_Price', 'High_Price', 'Sales_Total', 'Total_Qty_Sold', 'Total_Kg_Sold', 'Stock_On_Hand']].values)\n",
    "pred[:10]"
   ]
  },
  {
   "cell_type": "code",
   "execution_count": 122,
   "metadata": {},
   "outputs": [],
   "source": [
    "# Parameter tuning "
   ]
  },
  {
   "cell_type": "code",
   "execution_count": 123,
   "metadata": {},
   "outputs": [],
   "source": [
    "# Predictions"
   ]
  },
  {
   "cell_type": "code",
   "execution_count": null,
   "metadata": {},
   "outputs": [],
   "source": []
  },
  {
   "cell_type": "markdown",
   "metadata": {},
   "source": [
    "# 8. Model Evaluation "
   ]
  },
  {
   "cell_type": "code",
   "execution_count": 124,
   "metadata": {},
   "outputs": [],
   "source": [
    "# This is where we check perfomance matrices(measures)"
   ]
  },
  {
   "cell_type": "markdown",
   "metadata": {},
   "source": [
    "# 9. Submission"
   ]
  },
  {
   "cell_type": "code",
   "execution_count": 132,
   "metadata": {},
   "outputs": [],
   "source": [
    "# create a submission dataframe\n",
    "submission = pd.DataFrame(\n",
    "          {'Index' : test_id,\n",
    "            'Avg_Price_Per_Kg': pred\n",
    "           })"
   ]
  },
  {
   "cell_type": "code",
   "execution_count": 133,
   "metadata": {},
   "outputs": [
    {
     "data": {
      "text/html": [
       "<div>\n",
       "<style scoped>\n",
       "    .dataframe tbody tr th:only-of-type {\n",
       "        vertical-align: middle;\n",
       "    }\n",
       "\n",
       "    .dataframe tbody tr th {\n",
       "        vertical-align: top;\n",
       "    }\n",
       "\n",
       "    .dataframe thead th {\n",
       "        text-align: right;\n",
       "    }\n",
       "</style>\n",
       "<table border=\"1\" class=\"dataframe\">\n",
       "  <thead>\n",
       "    <tr style=\"text-align: right;\">\n",
       "      <th></th>\n",
       "      <th>Index</th>\n",
       "      <th>Avg_Price_Per_Kg</th>\n",
       "    </tr>\n",
       "  </thead>\n",
       "  <tbody>\n",
       "    <tr>\n",
       "      <th>0</th>\n",
       "      <td>1</td>\n",
       "      <td>7.277907</td>\n",
       "    </tr>\n",
       "    <tr>\n",
       "      <th>1</th>\n",
       "      <td>2</td>\n",
       "      <td>7.369442</td>\n",
       "    </tr>\n",
       "    <tr>\n",
       "      <th>2</th>\n",
       "      <td>3</td>\n",
       "      <td>7.085513</td>\n",
       "    </tr>\n",
       "    <tr>\n",
       "      <th>3</th>\n",
       "      <td>4</td>\n",
       "      <td>7.082115</td>\n",
       "    </tr>\n",
       "    <tr>\n",
       "      <th>4</th>\n",
       "      <td>5</td>\n",
       "      <td>7.251908</td>\n",
       "    </tr>\n",
       "  </tbody>\n",
       "</table>\n",
       "</div>"
      ],
      "text/plain": [
       "   Index  Avg_Price_Per_Kg\n",
       "0      1          7.277907\n",
       "1      2          7.369442\n",
       "2      3          7.085513\n",
       "3      4          7.082115\n",
       "4      5          7.251908"
      ]
     },
     "execution_count": 133,
     "metadata": {},
     "output_type": "execute_result"
    }
   ],
   "source": [
    "submission.head()"
   ]
  },
  {
   "cell_type": "code",
   "execution_count": 134,
   "metadata": {},
   "outputs": [],
   "source": [
    "# save DataFrame to csv file for submission\n",
    "submission.to_csv(\"full set.csv\", index=False)"
   ]
  },
  {
   "cell_type": "markdown",
   "metadata": {},
   "source": [
    "# 10. Bibliography"
   ]
  },
  {
   "cell_type": "markdown",
   "metadata": {},
   "source": [
    "[1] https://www.kaggle.com/c/edsa-apple-prices-challenge"
   ]
  },
  {
   "cell_type": "code",
   "execution_count": null,
   "metadata": {},
   "outputs": [],
   "source": []
  }
 ],
 "metadata": {
  "kernelspec": {
   "display_name": "Python 3",
   "language": "python",
   "name": "python3"
  },
  "language_info": {
   "codemirror_mode": {
    "name": "ipython",
    "version": 3
   },
   "file_extension": ".py",
   "mimetype": "text/x-python",
   "name": "python",
   "nbconvert_exporter": "python",
   "pygments_lexer": "ipython3",
   "version": "3.8.5"
  }
 },
 "nbformat": 4,
 "nbformat_minor": 4
}
