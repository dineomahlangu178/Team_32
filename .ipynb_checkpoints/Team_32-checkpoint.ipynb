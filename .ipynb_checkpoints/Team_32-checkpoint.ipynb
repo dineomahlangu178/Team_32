{
 "cells": [
  {
   "cell_type": "markdown",
   "metadata": {},
   "source": [
    "# EDSA Apple Prices Challenge\n",
    "### by team_32 on 20 May  2021\n",
    "###### Dimakatso Mongwegelwa , Dineo Mahlangu , Phuti Marokhu, Letlhogonolo Menwe, Siphamandla Mandindi"
   ]
  },
  {
   "cell_type": "markdown",
   "metadata": {},
   "source": [
    "# Challenge Description\n",
    "Team_32 is required to predict the price of golden delicus apples per kilogram in the fresh produce industry, the prices may depend on seasons. \n",
    "\n",
    "This solution is meant to help the farming industry economically, such that the users of the system are able to accurately determine how much stock they need to have on hand and what price to set the golden delicius apples. "
   ]
  },
  {
   "cell_type": "markdown",
   "metadata": {},
   "source": [
    "# Dataset Description"
   ]
  },
  {
   "cell_type": "markdown",
   "metadata": {},
   "source": [
    "The Golden Delicious apples dataset was taken from the kaggle competition called the EDSA Apple Prices Challenge [1]. We would like to thank the Inventory Management Incubate team who did the initial work with this dataset. The dataset consists of 65 061 instances (rows) and 13 variables (columns).The following table describes variables that are in the dataset:"
   ]
  },
  {
   "cell_type": "markdown",
   "metadata": {},
   "source": [
    "| Variable name | Type   | Definitions                      | Values and/or measure  |\n",
    "|---------------|--------|----------------------------------| -----------------------|  \n",
    "|Province\t|Catagorical |\tProvince to which the apples come from?| *** distict values, eg. 'Cape'       |\n",
    "|Container\t|Catagorical |A Containers unique identifier\t    |Not applicable          |\n",
    "|Size_Grade\t        |Categorical|\tQuantity and Size if the grade of apples      | '1M' = '1 medium', '1L', '1X', '1S'| \n",
    "|Weight\t        |Numeric\t |Weight of apples in Kilograms        |  \tIn Kilograms(kg)           |\n",
    "|Commodities        |Categorical | raw material or primary agricultural product that can be bought and sold | 'APPLE GOLDEN DELICIOUS' |\n",
    "|Date\t        | Date-time | \t    Dates                    | in \"YYYY-MM-DD\" format     |\n",
    "|Low_Price\t        | Numeric  | Lowest prices\t    | Positive integers    |\n",
    "|High_Price|\tNumeric | Highest prices |Positive integers|\n",
    "|Sales_Total|\tNumeric| Total sales made| Positive  floats | \n",
    "|Total_Kg_Sold\t| Numeric|\tTotal unit(kg) of Apples sold |\tPositive integers|\n",
    "|Stock_On_Hand|Numeric |Shows how the hospital bill is to be paid or is paid|Positive integers|\n"
   ]
  },
  {
   "cell_type": "markdown",
   "metadata": {},
   "source": [
    "## Notebook Outline\n",
    " 1. Package Installation\n",
    " 2. Importing Libraries\n",
    " 3. Loading the Data\n",
    " 4. Data Cleaning and Formating\n",
    " 5. Exploratory Data Analysis\n",
    " 6. Feature Engineering and Selection\n",
    " 7. Linear regression & Parameter Tuning\n",
    " 8. Model Evaluation\n",
    " 9. Submission\n"
   ]
  },
  {
   "cell_type": "markdown",
   "metadata": {},
   "source": [
    "# 1. Package Installation"
   ]
  },
  {
   "cell_type": "code",
   "execution_count": 263,
   "metadata": {},
   "outputs": [
    {
     "name": "stdout",
     "output_type": "stream",
     "text": [
      "Requirement already up-to-date: flask in c:\\users\\dineo\\anaconda3\\lib\\site-packages (2.0.0)Note: you may need to restart the kernel to use updated packages.\n",
      "Requirement already up-to-date: numpy in c:\\users\\dineo\\anaconda3\\lib\\site-packages (1.20.3)\n",
      "Requirement already up-to-date: pandas in c:\\users\\dineo\\anaconda3\\lib\\site-packages (1.2.4)\n",
      "Requirement already up-to-date: scikit-learn in c:\\users\\dineo\\anaconda3\\lib\\site-packages (0.24.2)\n",
      "Requirement already satisfied, skipping upgrade: click>=7.1.2 in c:\\users\\dineo\\anaconda3\\lib\\site-packages (from flask) (7.1.2)\n",
      "Requirement already satisfied, skipping upgrade: Werkzeug>=2.0 in c:\\users\\dineo\\anaconda3\\lib\\site-packages (from flask) (2.0.0)\n",
      "Requirement already satisfied, skipping upgrade: Jinja2>=3.0 in c:\\users\\dineo\\anaconda3\\lib\\site-packages (from flask) (3.0.0)\n",
      "Requirement already satisfied, skipping upgrade: itsdangerous>=2.0 in c:\\users\\dineo\\anaconda3\\lib\\site-packages (from flask) (2.0.0)\n",
      "Requirement already satisfied, skipping upgrade: python-dateutil>=2.7.3 in c:\\users\\dineo\\anaconda3\\lib\\site-packages (from pandas) (2.8.1)\n",
      "Requirement already satisfied, skipping upgrade: pytz>=2017.3 in c:\\users\\dineo\\anaconda3\\lib\\site-packages (from pandas) (2020.1)\n",
      "Requirement already satisfied, skipping upgrade: threadpoolctl>=2.0.0 in c:\\users\\dineo\\anaconda3\\lib\\site-packages (from scikit-learn) (2.1.0)\n",
      "Requirement already satisfied, skipping upgrade: joblib>=0.11 in c:\\users\\dineo\\anaconda3\\lib\\site-packages (from scikit-learn) (0.17.0)\n",
      "Requirement already satisfied, skipping upgrade: scipy>=0.19.1 in c:\\users\\dineo\\anaconda3\\lib\\site-packages (from scikit-learn) (1.5.2)\n",
      "Requirement already satisfied, skipping upgrade: MarkupSafe>=2.0.0rc2 in c:\\users\\dineo\\anaconda3\\lib\\site-packages (from Jinja2>=3.0->flask) (2.0.0)\n",
      "Requirement already satisfied, skipping upgrade: six>=1.5 in c:\\users\\dineo\\anaconda3\\lib\\site-packages (from python-dateutil>=2.7.3->pandas) (1.15.0)\n",
      "\n"
     ]
    }
   ],
   "source": [
    "pip install -U flask numpy pandas scikit-learn"
   ]
  },
  {
   "cell_type": "markdown",
   "metadata": {},
   "source": [
    "# 2. Importing Libraries"
   ]
  },
  {
   "cell_type": "code",
   "execution_count": 211,
   "metadata": {},
   "outputs": [],
   "source": [
    "import numpy as np\n",
    "import pandas as pd\n",
    "import matplotlib as plt\n",
    "import matplotlib.pyplot as plt\n",
    "import seaborn as sns\n",
    "import datetime\n",
    "import math\n",
    "from sklearn.linear_model import LinearRegression\n",
    "from sklearn.model_selection import train_test_split\n",
    "from sklearn import metrics\n",
    "from sklearn.metrics import mean_squared_error\n",
    "from sklearn.metrics import r2_score\n",
    "import pickle"
   ]
  },
  {
   "cell_type": "markdown",
   "metadata": {},
   "source": [
    "# 3. Loading the Dataset"
   ]
  },
  {
   "cell_type": "code",
   "execution_count": 212,
   "metadata": {
    "scrolled": true
   },
   "outputs": [],
   "source": [
    "df_test = pd.read_csv('df-test_set.csv')\n",
    "df_train = pd.read_csv('df-train_set.csv')\n",
    "test_id = df_test ['Index']\n",
    "df_test = df_test.drop ('Index', axis = 1)"
   ]
  },
  {
   "cell_type": "markdown",
   "metadata": {},
   "source": [
    "## 3.1 Understanding the Data"
   ]
  },
  {
   "cell_type": "code",
   "execution_count": 213,
   "metadata": {},
   "outputs": [
    {
     "data": {
      "text/html": [
       "<div>\n",
       "<style scoped>\n",
       "    .dataframe tbody tr th:only-of-type {\n",
       "        vertical-align: middle;\n",
       "    }\n",
       "\n",
       "    .dataframe tbody tr th {\n",
       "        vertical-align: top;\n",
       "    }\n",
       "\n",
       "    .dataframe thead th {\n",
       "        text-align: right;\n",
       "    }\n",
       "</style>\n",
       "<table border=\"1\" class=\"dataframe\">\n",
       "  <thead>\n",
       "    <tr style=\"text-align: right;\">\n",
       "      <th></th>\n",
       "      <th>Province</th>\n",
       "      <th>Container</th>\n",
       "      <th>Size_Grade</th>\n",
       "      <th>Weight_Kg</th>\n",
       "      <th>Commodities</th>\n",
       "      <th>Date</th>\n",
       "      <th>Low_Price</th>\n",
       "      <th>High_Price</th>\n",
       "      <th>Sales_Total</th>\n",
       "      <th>Total_Qty_Sold</th>\n",
       "      <th>Total_Kg_Sold</th>\n",
       "      <th>Stock_On_Hand</th>\n",
       "    </tr>\n",
       "  </thead>\n",
       "  <tbody>\n",
       "    <tr>\n",
       "      <th>0</th>\n",
       "      <td>W.CAPE-BERGRIVER ETC</td>\n",
       "      <td>EC120</td>\n",
       "      <td>1M</td>\n",
       "      <td>12.0</td>\n",
       "      <td>APPLE GOLDEN DELICIOUS</td>\n",
       "      <td>2020-07-09</td>\n",
       "      <td>128.0</td>\n",
       "      <td>136.0</td>\n",
       "      <td>5008.0</td>\n",
       "      <td>38</td>\n",
       "      <td>456.0</td>\n",
       "      <td>0</td>\n",
       "    </tr>\n",
       "    <tr>\n",
       "      <th>1</th>\n",
       "      <td>W.CAPE-BERGRIVER ETC</td>\n",
       "      <td>M4183</td>\n",
       "      <td>1X</td>\n",
       "      <td>18.3</td>\n",
       "      <td>APPLE GOLDEN DELICIOUS</td>\n",
       "      <td>2020-01-20</td>\n",
       "      <td>220.0</td>\n",
       "      <td>220.0</td>\n",
       "      <td>1760.0</td>\n",
       "      <td>8</td>\n",
       "      <td>146.4</td>\n",
       "      <td>2</td>\n",
       "    </tr>\n",
       "    <tr>\n",
       "      <th>2</th>\n",
       "      <td>W.CAPE-BERGRIVER ETC</td>\n",
       "      <td>EC120</td>\n",
       "      <td>1S</td>\n",
       "      <td>12.0</td>\n",
       "      <td>APPLE GOLDEN DELICIOUS</td>\n",
       "      <td>2020-08-19</td>\n",
       "      <td>120.0</td>\n",
       "      <td>120.0</td>\n",
       "      <td>720.0</td>\n",
       "      <td>6</td>\n",
       "      <td>72.0</td>\n",
       "      <td>45</td>\n",
       "    </tr>\n",
       "    <tr>\n",
       "      <th>3</th>\n",
       "      <td>W.CAPE-BERGRIVER ETC</td>\n",
       "      <td>M4183</td>\n",
       "      <td>1M</td>\n",
       "      <td>18.3</td>\n",
       "      <td>APPLE GOLDEN DELICIOUS</td>\n",
       "      <td>2020-05-06</td>\n",
       "      <td>160.0</td>\n",
       "      <td>160.0</td>\n",
       "      <td>160.0</td>\n",
       "      <td>1</td>\n",
       "      <td>18.3</td>\n",
       "      <td>8</td>\n",
       "    </tr>\n",
       "    <tr>\n",
       "      <th>4</th>\n",
       "      <td>W.CAPE-BERGRIVER ETC</td>\n",
       "      <td>M4183</td>\n",
       "      <td>1L</td>\n",
       "      <td>18.3</td>\n",
       "      <td>APPLE GOLDEN DELICIOUS</td>\n",
       "      <td>2020-05-04</td>\n",
       "      <td>140.0</td>\n",
       "      <td>160.0</td>\n",
       "      <td>14140.0</td>\n",
       "      <td>100</td>\n",
       "      <td>1830.0</td>\n",
       "      <td>19</td>\n",
       "    </tr>\n",
       "  </tbody>\n",
       "</table>\n",
       "</div>"
      ],
      "text/plain": [
       "               Province Container Size_Grade  Weight_Kg  \\\n",
       "0  W.CAPE-BERGRIVER ETC     EC120         1M       12.0   \n",
       "1  W.CAPE-BERGRIVER ETC     M4183         1X       18.3   \n",
       "2  W.CAPE-BERGRIVER ETC     EC120         1S       12.0   \n",
       "3  W.CAPE-BERGRIVER ETC     M4183         1M       18.3   \n",
       "4  W.CAPE-BERGRIVER ETC     M4183         1L       18.3   \n",
       "\n",
       "              Commodities        Date  Low_Price  High_Price  Sales_Total  \\\n",
       "0  APPLE GOLDEN DELICIOUS  2020-07-09      128.0       136.0       5008.0   \n",
       "1  APPLE GOLDEN DELICIOUS  2020-01-20      220.0       220.0       1760.0   \n",
       "2  APPLE GOLDEN DELICIOUS  2020-08-19      120.0       120.0        720.0   \n",
       "3  APPLE GOLDEN DELICIOUS  2020-05-06      160.0       160.0        160.0   \n",
       "4  APPLE GOLDEN DELICIOUS  2020-05-04      140.0       160.0      14140.0   \n",
       "\n",
       "   Total_Qty_Sold  Total_Kg_Sold  Stock_On_Hand  \n",
       "0              38          456.0              0  \n",
       "1               8          146.4              2  \n",
       "2               6           72.0             45  \n",
       "3               1           18.3              8  \n",
       "4             100         1830.0             19  "
      ]
     },
     "execution_count": 213,
     "metadata": {},
     "output_type": "execute_result"
    }
   ],
   "source": [
    "df_test.head()"
   ]
  },
  {
   "cell_type": "code",
   "execution_count": 214,
   "metadata": {
    "scrolled": true
   },
   "outputs": [
    {
     "data": {
      "text/html": [
       "<div>\n",
       "<style scoped>\n",
       "    .dataframe tbody tr th:only-of-type {\n",
       "        vertical-align: middle;\n",
       "    }\n",
       "\n",
       "    .dataframe tbody tr th {\n",
       "        vertical-align: top;\n",
       "    }\n",
       "\n",
       "    .dataframe thead th {\n",
       "        text-align: right;\n",
       "    }\n",
       "</style>\n",
       "<table border=\"1\" class=\"dataframe\">\n",
       "  <thead>\n",
       "    <tr style=\"text-align: right;\">\n",
       "      <th></th>\n",
       "      <th>Province</th>\n",
       "      <th>Container</th>\n",
       "      <th>Size_Grade</th>\n",
       "      <th>Weight_Kg</th>\n",
       "      <th>Commodities</th>\n",
       "      <th>Date</th>\n",
       "      <th>Low_Price</th>\n",
       "      <th>High_Price</th>\n",
       "      <th>Sales_Total</th>\n",
       "      <th>Total_Qty_Sold</th>\n",
       "      <th>Total_Kg_Sold</th>\n",
       "      <th>Stock_On_Hand</th>\n",
       "      <th>avg_price_per_kg</th>\n",
       "    </tr>\n",
       "  </thead>\n",
       "  <tbody>\n",
       "    <tr>\n",
       "      <th>0</th>\n",
       "      <td>CAPE</td>\n",
       "      <td>EC120</td>\n",
       "      <td>1L</td>\n",
       "      <td>12.0</td>\n",
       "      <td>APPLE GRANNY SMITH</td>\n",
       "      <td>2020-03-10</td>\n",
       "      <td>108.0</td>\n",
       "      <td>112.0</td>\n",
       "      <td>3236.0</td>\n",
       "      <td>29</td>\n",
       "      <td>348.0</td>\n",
       "      <td>0</td>\n",
       "      <td>9.30</td>\n",
       "    </tr>\n",
       "    <tr>\n",
       "      <th>1</th>\n",
       "      <td>CAPE</td>\n",
       "      <td>M4183</td>\n",
       "      <td>1L</td>\n",
       "      <td>18.3</td>\n",
       "      <td>APPLE GOLDEN DELICIOUS</td>\n",
       "      <td>2020-09-09</td>\n",
       "      <td>150.0</td>\n",
       "      <td>170.0</td>\n",
       "      <td>51710.0</td>\n",
       "      <td>332</td>\n",
       "      <td>6075.6</td>\n",
       "      <td>822</td>\n",
       "      <td>8.51</td>\n",
       "    </tr>\n",
       "    <tr>\n",
       "      <th>2</th>\n",
       "      <td>GAUTENG</td>\n",
       "      <td>AT200</td>\n",
       "      <td>1L</td>\n",
       "      <td>20.0</td>\n",
       "      <td>AVOCADO PINKERTON</td>\n",
       "      <td>2020-05-05</td>\n",
       "      <td>70.0</td>\n",
       "      <td>80.0</td>\n",
       "      <td>4860.0</td>\n",
       "      <td>66</td>\n",
       "      <td>1320.0</td>\n",
       "      <td>50</td>\n",
       "      <td>3.68</td>\n",
       "    </tr>\n",
       "    <tr>\n",
       "      <th>3</th>\n",
       "      <td>TRANSVAAL</td>\n",
       "      <td>BJ090</td>\n",
       "      <td>1L</td>\n",
       "      <td>9.0</td>\n",
       "      <td>TOMATOES-LONG LIFE</td>\n",
       "      <td>2020-01-20</td>\n",
       "      <td>60.0</td>\n",
       "      <td>60.0</td>\n",
       "      <td>600.0</td>\n",
       "      <td>10</td>\n",
       "      <td>90.0</td>\n",
       "      <td>0</td>\n",
       "      <td>6.67</td>\n",
       "    </tr>\n",
       "    <tr>\n",
       "      <th>4</th>\n",
       "      <td>WESTERN FREESTATE</td>\n",
       "      <td>PP100</td>\n",
       "      <td>1R</td>\n",
       "      <td>10.0</td>\n",
       "      <td>POTATO SIFRA (WASHED)</td>\n",
       "      <td>2020-07-14</td>\n",
       "      <td>40.0</td>\n",
       "      <td>45.0</td>\n",
       "      <td>41530.0</td>\n",
       "      <td>927</td>\n",
       "      <td>9270.0</td>\n",
       "      <td>393</td>\n",
       "      <td>4.48</td>\n",
       "    </tr>\n",
       "  </tbody>\n",
       "</table>\n",
       "</div>"
      ],
      "text/plain": [
       "            Province Container Size_Grade  Weight_Kg             Commodities  \\\n",
       "0               CAPE     EC120         1L       12.0      APPLE GRANNY SMITH   \n",
       "1               CAPE     M4183         1L       18.3  APPLE GOLDEN DELICIOUS   \n",
       "2            GAUTENG     AT200         1L       20.0       AVOCADO PINKERTON   \n",
       "3          TRANSVAAL     BJ090         1L        9.0      TOMATOES-LONG LIFE   \n",
       "4  WESTERN FREESTATE     PP100         1R       10.0   POTATO SIFRA (WASHED)   \n",
       "\n",
       "         Date  Low_Price  High_Price  Sales_Total  Total_Qty_Sold  \\\n",
       "0  2020-03-10      108.0       112.0       3236.0              29   \n",
       "1  2020-09-09      150.0       170.0      51710.0             332   \n",
       "2  2020-05-05       70.0        80.0       4860.0              66   \n",
       "3  2020-01-20       60.0        60.0        600.0              10   \n",
       "4  2020-07-14       40.0        45.0      41530.0             927   \n",
       "\n",
       "   Total_Kg_Sold  Stock_On_Hand  avg_price_per_kg  \n",
       "0          348.0              0              9.30  \n",
       "1         6075.6            822              8.51  \n",
       "2         1320.0             50              3.68  \n",
       "3           90.0              0              6.67  \n",
       "4         9270.0            393              4.48  "
      ]
     },
     "execution_count": 214,
     "metadata": {},
     "output_type": "execute_result"
    }
   ],
   "source": [
    "df_train.head()"
   ]
  },
  {
   "cell_type": "code",
   "execution_count": 215,
   "metadata": {},
   "outputs": [],
   "source": [
    "# filtered the Commodities column for a specific value thus resulting in a reduced dataset == df2\n",
    "\n",
    "df2=df_train[df_train['Commodities']=='APPLE GOLDEN DELICIOUS']"
   ]
  },
  {
   "cell_type": "code",
   "execution_count": 216,
   "metadata": {},
   "outputs": [
    {
     "name": "stderr",
     "output_type": "stream",
     "text": [
      "<ipython-input-216-05ab2e20c09e>:33: SettingWithCopyWarning: \n",
      "A value is trying to be set on a copy of a slice from a DataFrame.\n",
      "Try using .loc[row_indexer,col_indexer] = value instead\n",
      "\n",
      "See the caveats in the documentation: https://pandas.pydata.org/pandas-docs/stable/user_guide/indexing.html#returning-a-view-versus-a-copy\n",
      "  df2['Province'] = province_list\n"
     ]
    }
   ],
   "source": [
    "province_list = df2['Province'].unique()\n",
    "western_cape = ('CAPE', 'W.CAPE-BERGRIVER ETC','WEST COAST','WESTERN CAPE - CERES','SOUTHERN CAPE')\n",
    "eastern_cape = ('NORTH EASTERN CAPE', 'EASTERN CAPE')\n",
    "freestate = ('WESTERN FREESTATE','SOUTH WESTERN FREE STATE','EASTERN FREESTATE')\n",
    "gauteng = ('GAUTENG','NORTH WEST')\n",
    "transvaal = ('TRANSVAAL','ORANGE FREE STATE')\n",
    "natal = ('NATAL','KWAZULU NATAL')\n",
    "mpumalanga = ('MPUMALANGA','MPUMALANGA MIDVELD')\n",
    "other = ('IMPORTS - OUTSIDE RSA', 'OTHER AREAS','NAMIBIA')\n",
    "\n",
    "province_list = []\n",
    "\n",
    "for i in df2['Province']:\n",
    "    if i in western_cape:\n",
    "        province_list.append('western cape')\n",
    "    elif i in eastern_cape:\n",
    "        province_list.append('eastern cape')\n",
    "    elif i in freestate:\n",
    "        province_list.append('freestate')\n",
    "    elif i in gauteng:\n",
    "        province_list.append('gauteng')\n",
    "    elif i in transvaal:\n",
    "        province_list.append('transvaal')\n",
    "    elif i in natal:\n",
    "        province_list.append('natal')\n",
    "    elif i in mpumalanga:\n",
    "        province_list.append('mpumalanga')\n",
    "    elif i in other:\n",
    "        province_list.append('other')\n",
    "    else:\n",
    "        province_list.append(i)\n",
    "\n",
    "df2['Province'] = province_list"
   ]
  },
  {
   "cell_type": "code",
   "execution_count": 217,
   "metadata": {},
   "outputs": [
    {
     "data": {
      "text/html": [
       "<div>\n",
       "<style scoped>\n",
       "    .dataframe tbody tr th:only-of-type {\n",
       "        vertical-align: middle;\n",
       "    }\n",
       "\n",
       "    .dataframe tbody tr th {\n",
       "        vertical-align: top;\n",
       "    }\n",
       "\n",
       "    .dataframe thead th {\n",
       "        text-align: right;\n",
       "    }\n",
       "</style>\n",
       "<table border=\"1\" class=\"dataframe\">\n",
       "  <thead>\n",
       "    <tr style=\"text-align: right;\">\n",
       "      <th></th>\n",
       "      <th>Province</th>\n",
       "      <th>Container</th>\n",
       "      <th>Size_Grade</th>\n",
       "      <th>Weight_Kg</th>\n",
       "      <th>Commodities</th>\n",
       "      <th>Date</th>\n",
       "      <th>Low_Price</th>\n",
       "      <th>High_Price</th>\n",
       "      <th>Sales_Total</th>\n",
       "      <th>Total_Qty_Sold</th>\n",
       "      <th>Total_Kg_Sold</th>\n",
       "      <th>Stock_On_Hand</th>\n",
       "      <th>avg_price_per_kg</th>\n",
       "    </tr>\n",
       "  </thead>\n",
       "  <tbody>\n",
       "    <tr>\n",
       "      <th>1</th>\n",
       "      <td>western cape</td>\n",
       "      <td>M4183</td>\n",
       "      <td>1L</td>\n",
       "      <td>18.3</td>\n",
       "      <td>APPLE GOLDEN DELICIOUS</td>\n",
       "      <td>2020-09-09</td>\n",
       "      <td>150.0</td>\n",
       "      <td>170.0</td>\n",
       "      <td>51710.0</td>\n",
       "      <td>332</td>\n",
       "      <td>6075.6</td>\n",
       "      <td>822</td>\n",
       "      <td>8.51</td>\n",
       "    </tr>\n",
       "    <tr>\n",
       "      <th>7</th>\n",
       "      <td>western cape</td>\n",
       "      <td>JG110</td>\n",
       "      <td>2M</td>\n",
       "      <td>11.0</td>\n",
       "      <td>APPLE GOLDEN DELICIOUS</td>\n",
       "      <td>2020-04-14</td>\n",
       "      <td>50.0</td>\n",
       "      <td>50.0</td>\n",
       "      <td>16000.0</td>\n",
       "      <td>320</td>\n",
       "      <td>3520.0</td>\n",
       "      <td>0</td>\n",
       "      <td>4.55</td>\n",
       "    </tr>\n",
       "    <tr>\n",
       "      <th>24</th>\n",
       "      <td>western cape</td>\n",
       "      <td>JE090</td>\n",
       "      <td>2S</td>\n",
       "      <td>9.0</td>\n",
       "      <td>APPLE GOLDEN DELICIOUS</td>\n",
       "      <td>2020-04-16</td>\n",
       "      <td>55.0</td>\n",
       "      <td>55.0</td>\n",
       "      <td>990.0</td>\n",
       "      <td>18</td>\n",
       "      <td>162.0</td>\n",
       "      <td>1506</td>\n",
       "      <td>6.11</td>\n",
       "    </tr>\n",
       "    <tr>\n",
       "      <th>40</th>\n",
       "      <td>western cape</td>\n",
       "      <td>M4183</td>\n",
       "      <td>1S</td>\n",
       "      <td>18.3</td>\n",
       "      <td>APPLE GOLDEN DELICIOUS</td>\n",
       "      <td>2020-05-04</td>\n",
       "      <td>80.0</td>\n",
       "      <td>120.0</td>\n",
       "      <td>32020.0</td>\n",
       "      <td>388</td>\n",
       "      <td>7100.4</td>\n",
       "      <td>443</td>\n",
       "      <td>4.51</td>\n",
       "    </tr>\n",
       "    <tr>\n",
       "      <th>69</th>\n",
       "      <td>eastern cape</td>\n",
       "      <td>IA400</td>\n",
       "      <td>1S</td>\n",
       "      <td>400.0</td>\n",
       "      <td>APPLE GOLDEN DELICIOUS</td>\n",
       "      <td>2020-09-28</td>\n",
       "      <td>1800.0</td>\n",
       "      <td>1800.0</td>\n",
       "      <td>1800.0</td>\n",
       "      <td>1</td>\n",
       "      <td>400.0</td>\n",
       "      <td>2</td>\n",
       "      <td>4.50</td>\n",
       "    </tr>\n",
       "  </tbody>\n",
       "</table>\n",
       "</div>"
      ],
      "text/plain": [
       "        Province Container Size_Grade  Weight_Kg             Commodities  \\\n",
       "1   western cape     M4183         1L       18.3  APPLE GOLDEN DELICIOUS   \n",
       "7   western cape     JG110         2M       11.0  APPLE GOLDEN DELICIOUS   \n",
       "24  western cape     JE090         2S        9.0  APPLE GOLDEN DELICIOUS   \n",
       "40  western cape     M4183         1S       18.3  APPLE GOLDEN DELICIOUS   \n",
       "69  eastern cape     IA400         1S      400.0  APPLE GOLDEN DELICIOUS   \n",
       "\n",
       "          Date  Low_Price  High_Price  Sales_Total  Total_Qty_Sold  \\\n",
       "1   2020-09-09      150.0       170.0      51710.0             332   \n",
       "7   2020-04-14       50.0        50.0      16000.0             320   \n",
       "24  2020-04-16       55.0        55.0        990.0              18   \n",
       "40  2020-05-04       80.0       120.0      32020.0             388   \n",
       "69  2020-09-28     1800.0      1800.0       1800.0               1   \n",
       "\n",
       "    Total_Kg_Sold  Stock_On_Hand  avg_price_per_kg  \n",
       "1          6075.6            822              8.51  \n",
       "7          3520.0              0              4.55  \n",
       "24          162.0           1506              6.11  \n",
       "40         7100.4            443              4.51  \n",
       "69          400.0              2              4.50  "
      ]
     },
     "execution_count": 217,
     "metadata": {},
     "output_type": "execute_result"
    }
   ],
   "source": [
    "df2.head()"
   ]
  },
  {
   "cell_type": "code",
   "execution_count": 218,
   "metadata": {},
   "outputs": [
    {
     "name": "stdout",
     "output_type": "stream",
     "text": [
      "The number of entries in training set:\n",
      "1952\n",
      "The number of entries in testing set:\n",
      "685\n",
      "The shape of the dataFrame is:\n",
      "(1952, 13)\n",
      "The shape of the dataFrame is:\n",
      "(685, 12)\n",
      "the total entries of the dataset\n",
      "2637\n"
     ]
    }
   ],
   "source": [
    "# checking how many entries are there in the dataset, this should correspond to the 65061 noted above\n",
    "print (\"The number of entries in training set:\")\n",
    "print(len(df2))  #  we were checking rows in the dataset\n",
    "print (\"The number of entries in testing set:\")\n",
    "print(len(df_test)) #  we were checking rows in the dataset\n",
    "print(\"The shape of the dataFrame is:\")\n",
    "print(df2.shape)  #  we were checking rows how the dataset us structured\n",
    "print(\"The shape of the dataFrame is:\")\n",
    "print(df_test.shape) \n",
    "# adding the rows of both training and testing set\n",
    "print(\"the total entries of the dataset\")\n",
    "print(len(df2) + len(df_test))  "
   ]
  },
  {
   "cell_type": "code",
   "execution_count": 219,
   "metadata": {},
   "outputs": [
    {
     "data": {
      "text/plain": [
       "Index(['Province', 'Container', 'Size_Grade', 'Weight_Kg', 'Commodities',\n",
       "       'Date', 'Low_Price', 'High_Price', 'Sales_Total', 'Total_Qty_Sold',\n",
       "       'Total_Kg_Sold', 'Stock_On_Hand', 'avg_price_per_kg'],\n",
       "      dtype='object')"
      ]
     },
     "execution_count": 219,
     "metadata": {},
     "output_type": "execute_result"
    }
   ],
   "source": [
    "# Listing the Column names\n",
    "df2.columns"
   ]
  },
  {
   "cell_type": "code",
   "execution_count": 220,
   "metadata": {},
   "outputs": [
    {
     "data": {
      "text/plain": [
       "Province             object\n",
       "Container            object\n",
       "Size_Grade           object\n",
       "Weight_Kg           float64\n",
       "Commodities          object\n",
       "Date                 object\n",
       "Low_Price           float64\n",
       "High_Price          float64\n",
       "Sales_Total         float64\n",
       "Total_Qty_Sold        int64\n",
       "Total_Kg_Sold       float64\n",
       "Stock_On_Hand         int64\n",
       "avg_price_per_kg    float64\n",
       "dtype: object"
      ]
     },
     "execution_count": 220,
     "metadata": {},
     "output_type": "execute_result"
    }
   ],
   "source": [
    "# Checking Data types of the variables\n",
    "df2.dtypes"
   ]
  },
  {
   "cell_type": "code",
   "execution_count": 221,
   "metadata": {},
   "outputs": [
    {
     "data": {
      "text/plain": [
       "Province            1952\n",
       "Container           1952\n",
       "Size_Grade          1952\n",
       "Weight_Kg           1952\n",
       "Commodities         1952\n",
       "Date                1952\n",
       "Low_Price           1952\n",
       "High_Price          1952\n",
       "Sales_Total         1952\n",
       "Total_Qty_Sold      1952\n",
       "Total_Kg_Sold       1952\n",
       "Stock_On_Hand       1952\n",
       "avg_price_per_kg    1952\n",
       "dtype: int64"
      ]
     },
     "execution_count": 221,
     "metadata": {},
     "output_type": "execute_result"
    }
   ],
   "source": [
    "df2.count()"
   ]
  },
  {
   "cell_type": "markdown",
   "metadata": {},
   "source": [
    "###### There are no empty cells in this dataframe. Thus we can continue with cleaning the data."
   ]
  },
  {
   "cell_type": "markdown",
   "metadata": {},
   "source": [
    "# 4. Data Cleaning and Formating"
   ]
  },
  {
   "cell_type": "markdown",
   "metadata": {},
   "source": [
    "#### 4.1 Dealing with Missing Values "
   ]
  },
  {
   "cell_type": "code",
   "execution_count": 222,
   "metadata": {},
   "outputs": [
    {
     "data": {
      "text/plain": [
       "Province            0\n",
       "Container           0\n",
       "Size_Grade          0\n",
       "Weight_Kg           0\n",
       "Commodities         0\n",
       "Date                0\n",
       "Low_Price           0\n",
       "High_Price          0\n",
       "Sales_Total         0\n",
       "Total_Qty_Sold      0\n",
       "Total_Kg_Sold       0\n",
       "Stock_On_Hand       0\n",
       "avg_price_per_kg    0\n",
       "dtype: int64"
      ]
     },
     "execution_count": 222,
     "metadata": {},
     "output_type": "execute_result"
    }
   ],
   "source": [
    "# check for cell that are empty \n",
    "((df2 == \" \").sum())\n",
    "((df2 == \"-\").sum())\n",
    "((df2 == \"999\").sum())\n",
    "((df2 == \"NaN\").sum())"
   ]
  },
  {
   "cell_type": "code",
   "execution_count": 223,
   "metadata": {},
   "outputs": [],
   "source": [
    "# defining a function that will count all null values\n",
    "def count_nulls(df):\n",
    "    lis_count = []\n",
    "    for i in df2.columns:\n",
    "        lis_count.append(len(df[(df[i].isnull())]))\n",
    "    return pd.DataFrame({'col_name':df2.columns,'no_nulls': lis_count})"
   ]
  },
  {
   "cell_type": "code",
   "execution_count": 224,
   "metadata": {},
   "outputs": [
    {
     "data": {
      "text/html": [
       "<div>\n",
       "<style scoped>\n",
       "    .dataframe tbody tr th:only-of-type {\n",
       "        vertical-align: middle;\n",
       "    }\n",
       "\n",
       "    .dataframe tbody tr th {\n",
       "        vertical-align: top;\n",
       "    }\n",
       "\n",
       "    .dataframe thead th {\n",
       "        text-align: right;\n",
       "    }\n",
       "</style>\n",
       "<table border=\"1\" class=\"dataframe\">\n",
       "  <thead>\n",
       "    <tr style=\"text-align: right;\">\n",
       "      <th></th>\n",
       "      <th>col_name</th>\n",
       "      <th>no_nulls</th>\n",
       "    </tr>\n",
       "  </thead>\n",
       "  <tbody>\n",
       "    <tr>\n",
       "      <th>0</th>\n",
       "      <td>Province</td>\n",
       "      <td>0</td>\n",
       "    </tr>\n",
       "    <tr>\n",
       "      <th>1</th>\n",
       "      <td>Container</td>\n",
       "      <td>0</td>\n",
       "    </tr>\n",
       "    <tr>\n",
       "      <th>2</th>\n",
       "      <td>Size_Grade</td>\n",
       "      <td>0</td>\n",
       "    </tr>\n",
       "    <tr>\n",
       "      <th>3</th>\n",
       "      <td>Weight_Kg</td>\n",
       "      <td>0</td>\n",
       "    </tr>\n",
       "    <tr>\n",
       "      <th>4</th>\n",
       "      <td>Commodities</td>\n",
       "      <td>0</td>\n",
       "    </tr>\n",
       "    <tr>\n",
       "      <th>5</th>\n",
       "      <td>Date</td>\n",
       "      <td>0</td>\n",
       "    </tr>\n",
       "    <tr>\n",
       "      <th>6</th>\n",
       "      <td>Low_Price</td>\n",
       "      <td>0</td>\n",
       "    </tr>\n",
       "    <tr>\n",
       "      <th>7</th>\n",
       "      <td>High_Price</td>\n",
       "      <td>0</td>\n",
       "    </tr>\n",
       "    <tr>\n",
       "      <th>8</th>\n",
       "      <td>Sales_Total</td>\n",
       "      <td>0</td>\n",
       "    </tr>\n",
       "    <tr>\n",
       "      <th>9</th>\n",
       "      <td>Total_Qty_Sold</td>\n",
       "      <td>0</td>\n",
       "    </tr>\n",
       "    <tr>\n",
       "      <th>10</th>\n",
       "      <td>Total_Kg_Sold</td>\n",
       "      <td>0</td>\n",
       "    </tr>\n",
       "    <tr>\n",
       "      <th>11</th>\n",
       "      <td>Stock_On_Hand</td>\n",
       "      <td>0</td>\n",
       "    </tr>\n",
       "    <tr>\n",
       "      <th>12</th>\n",
       "      <td>avg_price_per_kg</td>\n",
       "      <td>0</td>\n",
       "    </tr>\n",
       "  </tbody>\n",
       "</table>\n",
       "</div>"
      ],
      "text/plain": [
       "            col_name  no_nulls\n",
       "0           Province         0\n",
       "1          Container         0\n",
       "2         Size_Grade         0\n",
       "3          Weight_Kg         0\n",
       "4        Commodities         0\n",
       "5               Date         0\n",
       "6          Low_Price         0\n",
       "7         High_Price         0\n",
       "8        Sales_Total         0\n",
       "9     Total_Qty_Sold         0\n",
       "10     Total_Kg_Sold         0\n",
       "11     Stock_On_Hand         0\n",
       "12  avg_price_per_kg         0"
      ]
     },
     "execution_count": 224,
     "metadata": {},
     "output_type": "execute_result"
    }
   ],
   "source": [
    "count_nulls(df2)"
   ]
  },
  {
   "cell_type": "code",
   "execution_count": 225,
   "metadata": {},
   "outputs": [
    {
     "data": {
      "text/html": [
       "<div>\n",
       "<style scoped>\n",
       "    .dataframe tbody tr th:only-of-type {\n",
       "        vertical-align: middle;\n",
       "    }\n",
       "\n",
       "    .dataframe tbody tr th {\n",
       "        vertical-align: top;\n",
       "    }\n",
       "\n",
       "    .dataframe thead th {\n",
       "        text-align: right;\n",
       "    }\n",
       "</style>\n",
       "<table border=\"1\" class=\"dataframe\">\n",
       "  <thead>\n",
       "    <tr style=\"text-align: right;\">\n",
       "      <th></th>\n",
       "      <th>Province</th>\n",
       "      <th>Container</th>\n",
       "      <th>Size_Grade</th>\n",
       "      <th>Weight_Kg</th>\n",
       "      <th>Commodities</th>\n",
       "      <th>Date</th>\n",
       "      <th>Low_Price</th>\n",
       "      <th>High_Price</th>\n",
       "      <th>Sales_Total</th>\n",
       "      <th>Total_Qty_Sold</th>\n",
       "      <th>Total_Kg_Sold</th>\n",
       "      <th>Stock_On_Hand</th>\n",
       "      <th>avg_price_per_kg</th>\n",
       "    </tr>\n",
       "  </thead>\n",
       "  <tbody>\n",
       "    <tr>\n",
       "      <th>1</th>\n",
       "      <td>False</td>\n",
       "      <td>False</td>\n",
       "      <td>False</td>\n",
       "      <td>False</td>\n",
       "      <td>False</td>\n",
       "      <td>False</td>\n",
       "      <td>False</td>\n",
       "      <td>False</td>\n",
       "      <td>False</td>\n",
       "      <td>False</td>\n",
       "      <td>False</td>\n",
       "      <td>False</td>\n",
       "      <td>False</td>\n",
       "    </tr>\n",
       "    <tr>\n",
       "      <th>7</th>\n",
       "      <td>False</td>\n",
       "      <td>False</td>\n",
       "      <td>False</td>\n",
       "      <td>False</td>\n",
       "      <td>False</td>\n",
       "      <td>False</td>\n",
       "      <td>False</td>\n",
       "      <td>False</td>\n",
       "      <td>False</td>\n",
       "      <td>False</td>\n",
       "      <td>False</td>\n",
       "      <td>False</td>\n",
       "      <td>False</td>\n",
       "    </tr>\n",
       "    <tr>\n",
       "      <th>24</th>\n",
       "      <td>False</td>\n",
       "      <td>False</td>\n",
       "      <td>False</td>\n",
       "      <td>False</td>\n",
       "      <td>False</td>\n",
       "      <td>False</td>\n",
       "      <td>False</td>\n",
       "      <td>False</td>\n",
       "      <td>False</td>\n",
       "      <td>False</td>\n",
       "      <td>False</td>\n",
       "      <td>False</td>\n",
       "      <td>False</td>\n",
       "    </tr>\n",
       "    <tr>\n",
       "      <th>40</th>\n",
       "      <td>False</td>\n",
       "      <td>False</td>\n",
       "      <td>False</td>\n",
       "      <td>False</td>\n",
       "      <td>False</td>\n",
       "      <td>False</td>\n",
       "      <td>False</td>\n",
       "      <td>False</td>\n",
       "      <td>False</td>\n",
       "      <td>False</td>\n",
       "      <td>False</td>\n",
       "      <td>False</td>\n",
       "      <td>False</td>\n",
       "    </tr>\n",
       "    <tr>\n",
       "      <th>69</th>\n",
       "      <td>False</td>\n",
       "      <td>False</td>\n",
       "      <td>False</td>\n",
       "      <td>False</td>\n",
       "      <td>False</td>\n",
       "      <td>False</td>\n",
       "      <td>False</td>\n",
       "      <td>False</td>\n",
       "      <td>False</td>\n",
       "      <td>False</td>\n",
       "      <td>False</td>\n",
       "      <td>False</td>\n",
       "      <td>False</td>\n",
       "    </tr>\n",
       "    <tr>\n",
       "      <th>...</th>\n",
       "      <td>...</td>\n",
       "      <td>...</td>\n",
       "      <td>...</td>\n",
       "      <td>...</td>\n",
       "      <td>...</td>\n",
       "      <td>...</td>\n",
       "      <td>...</td>\n",
       "      <td>...</td>\n",
       "      <td>...</td>\n",
       "      <td>...</td>\n",
       "      <td>...</td>\n",
       "      <td>...</td>\n",
       "      <td>...</td>\n",
       "    </tr>\n",
       "    <tr>\n",
       "      <th>64276</th>\n",
       "      <td>False</td>\n",
       "      <td>False</td>\n",
       "      <td>False</td>\n",
       "      <td>False</td>\n",
       "      <td>False</td>\n",
       "      <td>False</td>\n",
       "      <td>False</td>\n",
       "      <td>False</td>\n",
       "      <td>False</td>\n",
       "      <td>False</td>\n",
       "      <td>False</td>\n",
       "      <td>False</td>\n",
       "      <td>False</td>\n",
       "    </tr>\n",
       "    <tr>\n",
       "      <th>64291</th>\n",
       "      <td>False</td>\n",
       "      <td>False</td>\n",
       "      <td>False</td>\n",
       "      <td>False</td>\n",
       "      <td>False</td>\n",
       "      <td>False</td>\n",
       "      <td>False</td>\n",
       "      <td>False</td>\n",
       "      <td>False</td>\n",
       "      <td>False</td>\n",
       "      <td>False</td>\n",
       "      <td>False</td>\n",
       "      <td>False</td>\n",
       "    </tr>\n",
       "    <tr>\n",
       "      <th>64297</th>\n",
       "      <td>False</td>\n",
       "      <td>False</td>\n",
       "      <td>False</td>\n",
       "      <td>False</td>\n",
       "      <td>False</td>\n",
       "      <td>False</td>\n",
       "      <td>False</td>\n",
       "      <td>False</td>\n",
       "      <td>False</td>\n",
       "      <td>False</td>\n",
       "      <td>False</td>\n",
       "      <td>False</td>\n",
       "      <td>False</td>\n",
       "    </tr>\n",
       "    <tr>\n",
       "      <th>64304</th>\n",
       "      <td>False</td>\n",
       "      <td>False</td>\n",
       "      <td>False</td>\n",
       "      <td>False</td>\n",
       "      <td>False</td>\n",
       "      <td>False</td>\n",
       "      <td>False</td>\n",
       "      <td>False</td>\n",
       "      <td>False</td>\n",
       "      <td>False</td>\n",
       "      <td>False</td>\n",
       "      <td>False</td>\n",
       "      <td>False</td>\n",
       "    </tr>\n",
       "    <tr>\n",
       "      <th>64310</th>\n",
       "      <td>False</td>\n",
       "      <td>False</td>\n",
       "      <td>False</td>\n",
       "      <td>False</td>\n",
       "      <td>False</td>\n",
       "      <td>False</td>\n",
       "      <td>False</td>\n",
       "      <td>False</td>\n",
       "      <td>False</td>\n",
       "      <td>False</td>\n",
       "      <td>False</td>\n",
       "      <td>False</td>\n",
       "      <td>False</td>\n",
       "    </tr>\n",
       "  </tbody>\n",
       "</table>\n",
       "<p>1952 rows × 13 columns</p>\n",
       "</div>"
      ],
      "text/plain": [
       "       Province  Container  Size_Grade  Weight_Kg  Commodities   Date  \\\n",
       "1         False      False       False      False        False  False   \n",
       "7         False      False       False      False        False  False   \n",
       "24        False      False       False      False        False  False   \n",
       "40        False      False       False      False        False  False   \n",
       "69        False      False       False      False        False  False   \n",
       "...         ...        ...         ...        ...          ...    ...   \n",
       "64276     False      False       False      False        False  False   \n",
       "64291     False      False       False      False        False  False   \n",
       "64297     False      False       False      False        False  False   \n",
       "64304     False      False       False      False        False  False   \n",
       "64310     False      False       False      False        False  False   \n",
       "\n",
       "       Low_Price  High_Price  Sales_Total  Total_Qty_Sold  Total_Kg_Sold  \\\n",
       "1          False       False        False           False          False   \n",
       "7          False       False        False           False          False   \n",
       "24         False       False        False           False          False   \n",
       "40         False       False        False           False          False   \n",
       "69         False       False        False           False          False   \n",
       "...          ...         ...          ...             ...            ...   \n",
       "64276      False       False        False           False          False   \n",
       "64291      False       False        False           False          False   \n",
       "64297      False       False        False           False          False   \n",
       "64304      False       False        False           False          False   \n",
       "64310      False       False        False           False          False   \n",
       "\n",
       "       Stock_On_Hand  avg_price_per_kg  \n",
       "1              False             False  \n",
       "7              False             False  \n",
       "24             False             False  \n",
       "40             False             False  \n",
       "69             False             False  \n",
       "...              ...               ...  \n",
       "64276          False             False  \n",
       "64291          False             False  \n",
       "64297          False             False  \n",
       "64304          False             False  \n",
       "64310          False             False  \n",
       "\n",
       "[1952 rows x 13 columns]"
      ]
     },
     "execution_count": 225,
     "metadata": {},
     "output_type": "execute_result"
    }
   ],
   "source": [
    "# checking your NaN (triple check)\n",
    "df2.isnull()"
   ]
  },
  {
   "cell_type": "code",
   "execution_count": 226,
   "metadata": {},
   "outputs": [
    {
     "data": {
      "text/plain": [
       "Province            64376\n",
       "Container           64376\n",
       "Size_Grade          64376\n",
       "Weight_Kg           64376\n",
       "Commodities         64376\n",
       "Date                64376\n",
       "Low_Price           64376\n",
       "High_Price          64376\n",
       "Sales_Total         64376\n",
       "Total_Qty_Sold      64376\n",
       "Total_Kg_Sold       64376\n",
       "Stock_On_Hand       64376\n",
       "avg_price_per_kg    64376\n",
       "dtype: int64"
      ]
     },
     "execution_count": 226,
     "metadata": {},
     "output_type": "execute_result"
    }
   ],
   "source": [
    "\n",
    "\n",
    "\n",
    "\n",
    "df_train.isnull().count()"
   ]
  },
  {
   "cell_type": "markdown",
   "metadata": {},
   "source": [
    "##### All the data is present in the datset as we observed no empty cells and no null values."
   ]
  },
  {
   "cell_type": "markdown",
   "metadata": {},
   "source": [
    "#### 4.2 Dealing with outliers"
   ]
  },
  {
   "cell_type": "code",
   "execution_count": 227,
   "metadata": {},
   "outputs": [
    {
     "name": "stderr",
     "output_type": "stream",
     "text": [
      "C:\\Users\\leseg\\anaconda3\\lib\\site-packages\\seaborn\\_decorators.py:36: FutureWarning: Pass the following variable as a keyword arg: x. From version 0.12, the only valid positional argument will be `data`, and passing other arguments without an explicit keyword will result in an error or misinterpretation.\n",
      "  warnings.warn(\n"
     ]
    },
    {
     "data": {
      "text/plain": [
       "<AxesSubplot:xlabel='Sales_Total'>"
      ]
     },
     "execution_count": 227,
     "metadata": {},
     "output_type": "execute_result"
    },
    {
     "data": {
      "image/png": "[encoded data removed]",
      "text/plain": [
       "<Figure size 432x288 with 1 Axes>"
      ]
     },
     "metadata": {
      "needs_background": "light"
     },
     "output_type": "display_data"
    }
   ],
   "source": [
    "# use Histogram or Boxplot to see outliers and then remove\n",
    "sns.boxplot(df2['Sales_Total'])"
   ]
  },
  {
   "cell_type": "code",
   "execution_count": 228,
   "metadata": {},
   "outputs": [
    {
     "name": "stderr",
     "output_type": "stream",
     "text": [
      "C:\\Users\\leseg\\anaconda3\\lib\\site-packages\\seaborn\\_decorators.py:36: FutureWarning: Pass the following variable as a keyword arg: x. From version 0.12, the only valid positional argument will be `data`, and passing other arguments without an explicit keyword will result in an error or misinterpretation.\n",
      "  warnings.warn(\n"
     ]
    },
    {
     "data": {
      "text/plain": [
       "<AxesSubplot:xlabel='Weight_Kg'>"
      ]
     },
     "execution_count": 228,
     "metadata": {},
     "output_type": "execute_result"
    },
    {
     "data": {
      "image/png": "[encoded data removed]",
      "text/plain": [
       "<Figure size 432x288 with 1 Axes>"
      ]
     },
     "metadata": {
      "needs_background": "light"
     },
     "output_type": "display_data"
    }
   ],
   "source": [
    "sns.boxplot(df2['Weight_Kg'])"
   ]
  },
  {
   "cell_type": "code",
   "execution_count": 229,
   "metadata": {},
   "outputs": [
    {
     "name": "stderr",
     "output_type": "stream",
     "text": [
      "C:\\Users\\leseg\\anaconda3\\lib\\site-packages\\seaborn\\_decorators.py:36: FutureWarning: Pass the following variable as a keyword arg: x. From version 0.12, the only valid positional argument will be `data`, and passing other arguments without an explicit keyword will result in an error or misinterpretation.\n",
      "  warnings.warn(\n"
     ]
    },
    {
     "data": {
      "text/plain": [
       "<AxesSubplot:xlabel='Low_Price'>"
      ]
     },
     "execution_count": 229,
     "metadata": {},
     "output_type": "execute_result"
    },
    {
     "data": {
      "image/png": "[encoded data removed]",
      "text/plain": [
       "<Figure size 432x288 with 1 Axes>"
      ]
     },
     "metadata": {
      "needs_background": "light"
     },
     "output_type": "display_data"
    }
   ],
   "source": [
    "sns.boxplot(df2['Low_Price'])"
   ]
  },
  {
   "cell_type": "code",
   "execution_count": 230,
   "metadata": {},
   "outputs": [
    {
     "name": "stderr",
     "output_type": "stream",
     "text": [
      "C:\\Users\\leseg\\anaconda3\\lib\\site-packages\\seaborn\\_decorators.py:36: FutureWarning: Pass the following variable as a keyword arg: x. From version 0.12, the only valid positional argument will be `data`, and passing other arguments without an explicit keyword will result in an error or misinterpretation.\n",
      "  warnings.warn(\n"
     ]
    },
    {
     "data": {
      "text/plain": [
       "<AxesSubplot:xlabel='High_Price'>"
      ]
     },
     "execution_count": 230,
     "metadata": {},
     "output_type": "execute_result"
    },
    {
     "data": {
      "image/png": "[encoded data removed]",
      "text/plain": [
       "<Figure size 432x288 with 1 Axes>"
      ]
     },
     "metadata": {
      "needs_background": "light"
     },
     "output_type": "display_data"
    }
   ],
   "source": [
    "sns.boxplot(df2['High_Price'])"
   ]
  },
  {
   "cell_type": "code",
   "execution_count": 231,
   "metadata": {},
   "outputs": [
    {
     "name": "stderr",
     "output_type": "stream",
     "text": [
      "C:\\Users\\leseg\\anaconda3\\lib\\site-packages\\seaborn\\_decorators.py:36: FutureWarning: Pass the following variable as a keyword arg: x. From version 0.12, the only valid positional argument will be `data`, and passing other arguments without an explicit keyword will result in an error or misinterpretation.\n",
      "  warnings.warn(\n"
     ]
    },
    {
     "data": {
      "text/plain": [
       "<AxesSubplot:xlabel='Total_Qty_Sold'>"
      ]
     },
     "execution_count": 231,
     "metadata": {},
     "output_type": "execute_result"
    },
    {
     "data": {
      "image/png": "[encoded data removed]",
      "text/plain": [
       "<Figure size 432x288 with 1 Axes>"
      ]
     },
     "metadata": {
      "needs_background": "light"
     },
     "output_type": "display_data"
    }
   ],
   "source": [
    "sns.boxplot(df2['Total_Qty_Sold'])"
   ]
  },
  {
   "cell_type": "code",
   "execution_count": 232,
   "metadata": {},
   "outputs": [
    {
     "name": "stderr",
     "output_type": "stream",
     "text": [
      "C:\\Users\\leseg\\anaconda3\\lib\\site-packages\\seaborn\\_decorators.py:36: FutureWarning: Pass the following variable as a keyword arg: x. From version 0.12, the only valid positional argument will be `data`, and passing other arguments without an explicit keyword will result in an error or misinterpretation.\n",
      "  warnings.warn(\n"
     ]
    },
    {
     "data": {
      "text/plain": [
       "<AxesSubplot:xlabel='Stock_On_Hand'>"
      ]
     },
     "execution_count": 232,
     "metadata": {},
     "output_type": "execute_result"
    },
    {
     "data": {
      "image/png": "[encoded data removed]",
      "text/plain": [
       "<Figure size 432x288 with 1 Axes>"
      ]
     },
     "metadata": {
      "needs_background": "light"
     },
     "output_type": "display_data"
    }
   ],
   "source": [
    "sns.boxplot(df2['Stock_On_Hand'])"
   ]
  },
  {
   "cell_type": "code",
   "execution_count": 233,
   "metadata": {},
   "outputs": [
    {
     "name": "stderr",
     "output_type": "stream",
     "text": [
      "C:\\Users\\leseg\\anaconda3\\lib\\site-packages\\seaborn\\_decorators.py:36: FutureWarning: Pass the following variable as a keyword arg: x. From version 0.12, the only valid positional argument will be `data`, and passing other arguments without an explicit keyword will result in an error or misinterpretation.\n",
      "  warnings.warn(\n"
     ]
    },
    {
     "data": {
      "text/plain": [
       "<AxesSubplot:xlabel='avg_price_per_kg'>"
      ]
     },
     "execution_count": 233,
     "metadata": {},
     "output_type": "execute_result"
    },
    {
     "data": {
      "image/png": "[encoded data removed]",
      "text/plain": [
       "<Figure size 432x288 with 1 Axes>"
      ]
     },
     "metadata": {
      "needs_background": "light"
     },
     "output_type": "display_data"
    }
   ],
   "source": [
    "sns.boxplot(df2['avg_price_per_kg']) "
   ]
  },
  {
   "cell_type": "code",
   "execution_count": 234,
   "metadata": {},
   "outputs": [
    {
     "data": {
      "image/png": "[encoded data removed]",
      "text/plain": [
       "<Figure size 864x864 with 6 Axes>"
      ]
     },
     "metadata": {
      "needs_background": "light"
     },
     "output_type": "display_data"
    }
   ],
   "source": [
    "# create a list of all numerical features\n",
    "features = ['Sales_Total','Weight_Kg','Low_Price', 'High_Price', 'Total_Qty_Sold', 'Stock_On_Hand'] \n",
    "df2[features].hist(figsize=(12,12));"
   ]
  },
  {
   "cell_type": "markdown",
   "metadata": {},
   "source": [
    "#### 4.4 Dealing with Inconsistancies"
   ]
  },
  {
   "cell_type": "code",
   "execution_count": 235,
   "metadata": {},
   "outputs": [
    {
     "data": {
      "text/plain": [
       "western cape    1611\n",
       "eastern cape     206\n",
       "natal            111\n",
       "transvaal         24\n",
       "Name: Province, dtype: int64"
      ]
     },
     "execution_count": 235,
     "metadata": {},
     "output_type": "execute_result"
    }
   ],
   "source": [
    "# here, we will go through all the catagorical to look for inconsistancies\n",
    "df2[\"Province\"].value_counts()"
   ]
  },
  {
   "cell_type": "code",
   "execution_count": 236,
   "metadata": {},
   "outputs": [
    {
     "data": {
      "text/plain": [
       "M4183    588\n",
       "JE090    565\n",
       "EC120    448\n",
       "IA400    139\n",
       "JG110     85\n",
       "EF120     74\n",
       "AC030     31\n",
       "M6125     10\n",
       "DT063      6\n",
       "EG140      3\n",
       "M9125      3\n",
       "Name: Container, dtype: int64"
      ]
     },
     "execution_count": 236,
     "metadata": {},
     "output_type": "execute_result"
    }
   ],
   "source": [
    "df2[\"Container\"].value_counts()"
   ]
  },
  {
   "cell_type": "code",
   "execution_count": 237,
   "metadata": {},
   "outputs": [
    {
     "data": {
      "text/plain": [
       "1S    532\n",
       "1M    319\n",
       "2S    308\n",
       "2M    232\n",
       "1L    225\n",
       "1X    171\n",
       "2L    120\n",
       "2X     26\n",
       "2U     17\n",
       "1U      2\n",
       "Name: Size_Grade, dtype: int64"
      ]
     },
     "execution_count": 237,
     "metadata": {},
     "output_type": "execute_result"
    }
   ],
   "source": [
    "df2[\"Size_Grade\"].value_counts()"
   ]
  },
  {
   "cell_type": "code",
   "execution_count": 238,
   "metadata": {},
   "outputs": [
    {
     "data": {
      "text/plain": [
       "APPLE GOLDEN DELICIOUS    1952\n",
       "Name: Commodities, dtype: int64"
      ]
     },
     "execution_count": 238,
     "metadata": {},
     "output_type": "execute_result"
    }
   ],
   "source": [
    "df2[\"Commodities\"].value_counts() "
   ]
  },
  {
   "cell_type": "markdown",
   "metadata": {},
   "source": [
    "###### No inconsistancies were observed in the data"
   ]
  },
  {
   "cell_type": "markdown",
   "metadata": {},
   "source": [
    "# 5. Exploratory Data Analysis"
   ]
  },
  {
   "cell_type": "markdown",
   "metadata": {},
   "source": [
    "### 5.1 Univaraite Data analysis"
   ]
  },
  {
   "cell_type": "markdown",
   "metadata": {},
   "source": [
    "##### Univariate Analysis: Non-Graphical"
   ]
  },
  {
   "cell_type": "markdown",
   "metadata": {},
   "source": [
    "##### Summary Statistics"
   ]
  },
  {
   "cell_type": "code",
   "execution_count": 239,
   "metadata": {},
   "outputs": [
    {
     "data": {
      "text/html": [
       "<div>\n",
       "<style scoped>\n",
       "    .dataframe tbody tr th:only-of-type {\n",
       "        vertical-align: middle;\n",
       "    }\n",
       "\n",
       "    .dataframe tbody tr th {\n",
       "        vertical-align: top;\n",
       "    }\n",
       "\n",
       "    .dataframe thead th {\n",
       "        text-align: right;\n",
       "    }\n",
       "</style>\n",
       "<table border=\"1\" class=\"dataframe\">\n",
       "  <thead>\n",
       "    <tr style=\"text-align: right;\">\n",
       "      <th></th>\n",
       "      <th>Weight_Kg</th>\n",
       "      <th>Low_Price</th>\n",
       "      <th>High_Price</th>\n",
       "      <th>Sales_Total</th>\n",
       "      <th>Total_Qty_Sold</th>\n",
       "      <th>Total_Kg_Sold</th>\n",
       "      <th>Stock_On_Hand</th>\n",
       "      <th>avg_price_per_kg</th>\n",
       "    </tr>\n",
       "  </thead>\n",
       "  <tbody>\n",
       "    <tr>\n",
       "      <th>count</th>\n",
       "      <td>1952.000000</td>\n",
       "      <td>1952.000000</td>\n",
       "      <td>1952.000000</td>\n",
       "      <td>1952.000000</td>\n",
       "      <td>1952.000000</td>\n",
       "      <td>1952.000000</td>\n",
       "      <td>1952.000000</td>\n",
       "      <td>1952.000000</td>\n",
       "    </tr>\n",
       "    <tr>\n",
       "      <th>mean</th>\n",
       "      <td>40.460912</td>\n",
       "      <td>174.307377</td>\n",
       "      <td>215.648053</td>\n",
       "      <td>20053.533811</td>\n",
       "      <td>174.510758</td>\n",
       "      <td>2960.176332</td>\n",
       "      <td>408.393955</td>\n",
       "      <td>6.778893</td>\n",
       "    </tr>\n",
       "    <tr>\n",
       "      <th>std</th>\n",
       "      <td>99.655169</td>\n",
       "      <td>373.553578</td>\n",
       "      <td>433.546159</td>\n",
       "      <td>39005.069445</td>\n",
       "      <td>308.810797</td>\n",
       "      <td>6097.416527</td>\n",
       "      <td>724.450582</td>\n",
       "      <td>2.248744</td>\n",
       "    </tr>\n",
       "    <tr>\n",
       "      <th>min</th>\n",
       "      <td>3.000000</td>\n",
       "      <td>2.000000</td>\n",
       "      <td>5.000000</td>\n",
       "      <td>5.000000</td>\n",
       "      <td>1.000000</td>\n",
       "      <td>3.000000</td>\n",
       "      <td>0.000000</td>\n",
       "      <td>0.250000</td>\n",
       "    </tr>\n",
       "    <tr>\n",
       "      <th>25%</th>\n",
       "      <td>9.000000</td>\n",
       "      <td>50.000000</td>\n",
       "      <td>60.000000</td>\n",
       "      <td>1325.000000</td>\n",
       "      <td>12.000000</td>\n",
       "      <td>219.600000</td>\n",
       "      <td>9.000000</td>\n",
       "      <td>5.460000</td>\n",
       "    </tr>\n",
       "    <tr>\n",
       "      <th>50%</th>\n",
       "      <td>12.000000</td>\n",
       "      <td>80.000000</td>\n",
       "      <td>108.000000</td>\n",
       "      <td>5495.000000</td>\n",
       "      <td>64.000000</td>\n",
       "      <td>853.500000</td>\n",
       "      <td>126.500000</td>\n",
       "      <td>6.670000</td>\n",
       "    </tr>\n",
       "    <tr>\n",
       "      <th>75%</th>\n",
       "      <td>18.300000</td>\n",
       "      <td>127.250000</td>\n",
       "      <td>160.000000</td>\n",
       "      <td>21082.500000</td>\n",
       "      <td>200.000000</td>\n",
       "      <td>3093.525000</td>\n",
       "      <td>468.000000</td>\n",
       "      <td>8.280000</td>\n",
       "    </tr>\n",
       "    <tr>\n",
       "      <th>max</th>\n",
       "      <td>400.000000</td>\n",
       "      <td>2300.000000</td>\n",
       "      <td>3300.000000</td>\n",
       "      <td>369464.000000</td>\n",
       "      <td>4237.000000</td>\n",
       "      <td>74000.000000</td>\n",
       "      <td>6400.000000</td>\n",
       "      <td>21.240000</td>\n",
       "    </tr>\n",
       "  </tbody>\n",
       "</table>\n",
       "</div>"
      ],
      "text/plain": [
       "         Weight_Kg    Low_Price   High_Price    Sales_Total  Total_Qty_Sold  \\\n",
       "count  1952.000000  1952.000000  1952.000000    1952.000000     1952.000000   \n",
       "mean     40.460912   174.307377   215.648053   20053.533811      174.510758   \n",
       "std      99.655169   373.553578   433.546159   39005.069445      308.810797   \n",
       "min       3.000000     2.000000     5.000000       5.000000        1.000000   \n",
       "25%       9.000000    50.000000    60.000000    1325.000000       12.000000   \n",
       "50%      12.000000    80.000000   108.000000    5495.000000       64.000000   \n",
       "75%      18.300000   127.250000   160.000000   21082.500000      200.000000   \n",
       "max     400.000000  2300.000000  3300.000000  369464.000000     4237.000000   \n",
       "\n",
       "       Total_Kg_Sold  Stock_On_Hand  avg_price_per_kg  \n",
       "count    1952.000000    1952.000000       1952.000000  \n",
       "mean     2960.176332     408.393955          6.778893  \n",
       "std      6097.416527     724.450582          2.248744  \n",
       "min         3.000000       0.000000          0.250000  \n",
       "25%       219.600000       9.000000          5.460000  \n",
       "50%       853.500000     126.500000          6.670000  \n",
       "75%      3093.525000     468.000000          8.280000  \n",
       "max     74000.000000    6400.000000         21.240000  "
      ]
     },
     "execution_count": 239,
     "metadata": {},
     "output_type": "execute_result"
    }
   ],
   "source": [
    "# Numeric Stats\n",
    "df2.describe() "
   ]
  },
  {
   "cell_type": "code",
   "execution_count": 240,
   "metadata": {},
   "outputs": [
    {
     "data": {
      "text/html": [
       "<div>\n",
       "<style scoped>\n",
       "    .dataframe tbody tr th:only-of-type {\n",
       "        vertical-align: middle;\n",
       "    }\n",
       "\n",
       "    .dataframe tbody tr th {\n",
       "        vertical-align: top;\n",
       "    }\n",
       "\n",
       "    .dataframe thead th {\n",
       "        text-align: right;\n",
       "    }\n",
       "</style>\n",
       "<table border=\"1\" class=\"dataframe\">\n",
       "  <thead>\n",
       "    <tr style=\"text-align: right;\">\n",
       "      <th></th>\n",
       "      <th>Province</th>\n",
       "      <th>Container</th>\n",
       "      <th>Size_Grade</th>\n",
       "      <th>Commodities</th>\n",
       "      <th>Date</th>\n",
       "    </tr>\n",
       "  </thead>\n",
       "  <tbody>\n",
       "    <tr>\n",
       "      <th>count</th>\n",
       "      <td>1952</td>\n",
       "      <td>1952</td>\n",
       "      <td>1952</td>\n",
       "      <td>1952</td>\n",
       "      <td>1952</td>\n",
       "    </tr>\n",
       "    <tr>\n",
       "      <th>unique</th>\n",
       "      <td>4</td>\n",
       "      <td>11</td>\n",
       "      <td>10</td>\n",
       "      <td>1</td>\n",
       "      <td>147</td>\n",
       "    </tr>\n",
       "    <tr>\n",
       "      <th>top</th>\n",
       "      <td>western cape</td>\n",
       "      <td>M4183</td>\n",
       "      <td>1S</td>\n",
       "      <td>APPLE GOLDEN DELICIOUS</td>\n",
       "      <td>2020-07-20</td>\n",
       "    </tr>\n",
       "    <tr>\n",
       "      <th>freq</th>\n",
       "      <td>1611</td>\n",
       "      <td>588</td>\n",
       "      <td>532</td>\n",
       "      <td>1952</td>\n",
       "      <td>35</td>\n",
       "    </tr>\n",
       "  </tbody>\n",
       "</table>\n",
       "</div>"
      ],
      "text/plain": [
       "            Province Container Size_Grade             Commodities        Date\n",
       "count           1952      1952       1952                    1952        1952\n",
       "unique             4        11         10                       1         147\n",
       "top     western cape     M4183         1S  APPLE GOLDEN DELICIOUS  2020-07-20\n",
       "freq            1611       588        532                    1952          35"
      ]
     },
     "execution_count": 240,
     "metadata": {},
     "output_type": "execute_result"
    }
   ],
   "source": [
    "# Catagotical Stats\n",
    "df2.describe(include='O')"
   ]
  },
  {
   "cell_type": "code",
   "execution_count": null,
   "metadata": {},
   "outputs": [],
   "source": []
  },
  {
   "cell_type": "markdown",
   "metadata": {},
   "source": [
    "###### Checking skewness and Kurtosis"
   ]
  },
  {
   "cell_type": "markdown",
   "metadata": {},
   "source": [
    "|   Skew Value (x)  |       Description of Data      |\n",
    "|:-------------------|:---------------:|\n",
    "| -0.5 < x < 0.5              |Fairly Symmetrical |\n",
    "| -1 < x < -0.5 | Moderate Negative Skew  | \n",
    "| 0.5 < x < 1             | Moderate Positive Skew  | \n",
    "|       x < -1     |High Negative Skew  | \n",
    "|       x > 1  |High Positve Skew | "
   ]
  },
  {
   "cell_type": "code",
   "execution_count": 241,
   "metadata": {},
   "outputs": [
    {
     "data": {
      "text/plain": [
       "Weight_Kg           3.328254\n",
       "Low_Price           4.222672\n",
       "High_Price          3.828819\n",
       "Sales_Total         4.250317\n",
       "Total_Qty_Sold      4.445169\n",
       "Total_Kg_Sold       5.529586\n",
       "Stock_On_Hand       3.391815\n",
       "avg_price_per_kg    0.082452\n",
       "dtype: float64"
      ]
     },
     "execution_count": 241,
     "metadata": {},
     "output_type": "execute_result"
    }
   ],
   "source": [
    "df2.skew()"
   ]
  },
  {
   "cell_type": "code",
   "execution_count": 242,
   "metadata": {},
   "outputs": [
    {
     "data": {
      "text/plain": [
       "Weight_Kg            9.109698\n",
       "Low_Price           17.073369\n",
       "High_Price          13.630768\n",
       "Sales_Total         24.200524\n",
       "Total_Qty_Sold      32.338123\n",
       "Total_Kg_Sold       45.153801\n",
       "Stock_On_Hand       14.671224\n",
       "avg_price_per_kg     1.042921\n",
       "dtype: float64"
      ]
     },
     "execution_count": 242,
     "metadata": {},
     "output_type": "execute_result"
    }
   ],
   "source": [
    "df2.kurtosis()"
   ]
  },
  {
   "cell_type": "markdown",
   "metadata": {},
   "source": [
    "##### Univariate Analysis: Graphical"
   ]
  },
  {
   "cell_type": "code",
   "execution_count": 243,
   "metadata": {},
   "outputs": [
    {
     "data": {
      "image/png": "[encoded data removed]",
      "text/plain": [
       "<Figure size 720x720 with 6 Axes>"
      ]
     },
     "metadata": {
      "needs_background": "light"
     },
     "output_type": "display_data"
    }
   ],
   "source": [
    "\n",
    "df2[features].plot(kind='density', subplots=True, layout=(3, 2), sharex=False, figsize=(10, 10));"
   ]
  },
  {
   "cell_type": "code",
   "execution_count": 244,
   "metadata": {},
   "outputs": [
    {
     "data": {
      "text/plain": [
       "([0, 1, 2, 3],\n",
       " [Text(0, 0, ''), Text(0, 0, ''), Text(0, 0, ''), Text(0, 0, '')])"
      ]
     },
     "execution_count": 244,
     "metadata": {},
     "output_type": "execute_result"
    },
    {
     "data": {
      "image/png": "[encoded data removed]",
      "text/plain": [
       "<Figure size 432x288 with 1 Axes>"
      ]
     },
     "metadata": {
      "needs_background": "light"
     },
     "output_type": "display_data"
    }
   ],
   "source": [
    "sns.scatterplot(x = 'Province',y = 'avg_price_per_kg', data = df2, palette=\"hls\")\n",
    "plt.xticks(rotation=45)"
   ]
  },
  {
   "cell_type": "code",
   "execution_count": 245,
   "metadata": {},
   "outputs": [
    {
     "data": {
      "text/plain": [
       "([0, 1, 2, 3, 4, 5, 6, 7, 8, 9, 10],\n",
       " [Text(0, 0, ''),\n",
       "  Text(0, 0, ''),\n",
       "  Text(0, 0, ''),\n",
       "  Text(0, 0, ''),\n",
       "  Text(0, 0, ''),\n",
       "  Text(0, 0, ''),\n",
       "  Text(0, 0, ''),\n",
       "  Text(0, 0, ''),\n",
       "  Text(0, 0, ''),\n",
       "  Text(0, 0, ''),\n",
       "  Text(0, 0, '')])"
      ]
     },
     "execution_count": 245,
     "metadata": {},
     "output_type": "execute_result"
    },
    {
     "data": {
      "image/png": "[encoded data removed]",
      "text/plain": [
       "<Figure size 432x288 with 1 Axes>"
      ]
     },
     "metadata": {
      "needs_background": "light"
     },
     "output_type": "display_data"
    }
   ],
   "source": [
    "sns.scatterplot(x = 'Container',y = 'avg_price_per_kg', data = df2, palette=\"hls\")\n",
    "plt.xticks(rotation=45)"
   ]
  },
  {
   "cell_type": "code",
   "execution_count": 246,
   "metadata": {},
   "outputs": [
    {
     "data": {
      "text/plain": [
       "<AxesSubplot:xlabel='Size_Grade', ylabel='avg_price_per_kg'>"
      ]
     },
     "execution_count": 246,
     "metadata": {},
     "output_type": "execute_result"
    },
    {
     "data": {
      "image/png": "[encoded data removed]",
      "text/plain": [
       "<Figure size 432x288 with 1 Axes>"
      ]
     },
     "metadata": {
      "needs_background": "light"
     },
     "output_type": "display_data"
    }
   ],
   "source": [
    "sns.scatterplot(x = 'Size_Grade',y = 'avg_price_per_kg', data = df2, palette=\"hls\")"
   ]
  },
  {
   "cell_type": "code",
   "execution_count": 247,
   "metadata": {},
   "outputs": [
    {
     "name": "stderr",
     "output_type": "stream",
     "text": [
      "C:\\Users\\leseg\\anaconda3\\lib\\site-packages\\seaborn\\distributions.py:2551: FutureWarning: `distplot` is a deprecated function and will be removed in a future version. Please adapt your code to use either `displot` (a figure-level function with similar flexibility) or `histplot` (an axes-level function for histograms).\n",
      "  warnings.warn(msg, FutureWarning)\n"
     ]
    },
    {
     "data": {
      "text/plain": [
       "<AxesSubplot:xlabel='avg_price_per_kg', ylabel='Density'>"
      ]
     },
     "execution_count": 247,
     "metadata": {},
     "output_type": "execute_result"
    },
    {
     "data": {
      "image/png": "[encoded data removed]",
      "text/plain": [
       "<Figure size 720x504 with 1 Axes>"
      ]
     },
     "metadata": {
      "needs_background": "light"
     },
     "output_type": "display_data"
    }
   ],
   "source": [
    "plt.subplots(figsize=(10,7))\n",
    "sns.distplot(df2['avg_price_per_kg'],kde=True)"
   ]
  },
  {
   "cell_type": "markdown",
   "metadata": {},
   "source": [
    "#### 5.2 Multivariate Data analysis"
   ]
  },
  {
   "cell_type": "code",
   "execution_count": 248,
   "metadata": {},
   "outputs": [
    {
     "data": {
      "text/html": [
       "<div>\n",
       "<style scoped>\n",
       "    .dataframe tbody tr th:only-of-type {\n",
       "        vertical-align: middle;\n",
       "    }\n",
       "\n",
       "    .dataframe tbody tr th {\n",
       "        vertical-align: top;\n",
       "    }\n",
       "\n",
       "    .dataframe thead th {\n",
       "        text-align: right;\n",
       "    }\n",
       "</style>\n",
       "<table border=\"1\" class=\"dataframe\">\n",
       "  <thead>\n",
       "    <tr style=\"text-align: right;\">\n",
       "      <th></th>\n",
       "      <th>Weight_Kg</th>\n",
       "      <th>Low_Price</th>\n",
       "      <th>High_Price</th>\n",
       "      <th>Sales_Total</th>\n",
       "      <th>Total_Qty_Sold</th>\n",
       "      <th>Total_Kg_Sold</th>\n",
       "      <th>Stock_On_Hand</th>\n",
       "      <th>avg_price_per_kg</th>\n",
       "    </tr>\n",
       "  </thead>\n",
       "  <tbody>\n",
       "    <tr>\n",
       "      <th>Weight_Kg</th>\n",
       "      <td>1.000000</td>\n",
       "      <td>0.863182</td>\n",
       "      <td>0.905852</td>\n",
       "      <td>0.180518</td>\n",
       "      <td>-0.133317</td>\n",
       "      <td>0.294117</td>\n",
       "      <td>-0.144105</td>\n",
       "      <td>-0.337886</td>\n",
       "    </tr>\n",
       "    <tr>\n",
       "      <th>Low_Price</th>\n",
       "      <td>0.863182</td>\n",
       "      <td>1.000000</td>\n",
       "      <td>0.938140</td>\n",
       "      <td>0.183230</td>\n",
       "      <td>-0.122823</td>\n",
       "      <td>0.269744</td>\n",
       "      <td>-0.127677</td>\n",
       "      <td>-0.141740</td>\n",
       "    </tr>\n",
       "    <tr>\n",
       "      <th>High_Price</th>\n",
       "      <td>0.905852</td>\n",
       "      <td>0.938140</td>\n",
       "      <td>1.000000</td>\n",
       "      <td>0.265672</td>\n",
       "      <td>-0.096456</td>\n",
       "      <td>0.372282</td>\n",
       "      <td>-0.094174</td>\n",
       "      <td>-0.164496</td>\n",
       "    </tr>\n",
       "    <tr>\n",
       "      <th>Sales_Total</th>\n",
       "      <td>0.180518</td>\n",
       "      <td>0.183230</td>\n",
       "      <td>0.265672</td>\n",
       "      <td>1.000000</td>\n",
       "      <td>0.771865</td>\n",
       "      <td>0.962338</td>\n",
       "      <td>0.284693</td>\n",
       "      <td>0.108473</td>\n",
       "    </tr>\n",
       "    <tr>\n",
       "      <th>Total_Qty_Sold</th>\n",
       "      <td>-0.133317</td>\n",
       "      <td>-0.122823</td>\n",
       "      <td>-0.096456</td>\n",
       "      <td>0.771865</td>\n",
       "      <td>1.000000</td>\n",
       "      <td>0.651440</td>\n",
       "      <td>0.390168</td>\n",
       "      <td>0.087536</td>\n",
       "    </tr>\n",
       "    <tr>\n",
       "      <th>Total_Kg_Sold</th>\n",
       "      <td>0.294117</td>\n",
       "      <td>0.269744</td>\n",
       "      <td>0.372282</td>\n",
       "      <td>0.962338</td>\n",
       "      <td>0.651440</td>\n",
       "      <td>1.000000</td>\n",
       "      <td>0.229062</td>\n",
       "      <td>-0.001007</td>\n",
       "    </tr>\n",
       "    <tr>\n",
       "      <th>Stock_On_Hand</th>\n",
       "      <td>-0.144105</td>\n",
       "      <td>-0.127677</td>\n",
       "      <td>-0.094174</td>\n",
       "      <td>0.284693</td>\n",
       "      <td>0.390168</td>\n",
       "      <td>0.229062</td>\n",
       "      <td>1.000000</td>\n",
       "      <td>0.105028</td>\n",
       "    </tr>\n",
       "    <tr>\n",
       "      <th>avg_price_per_kg</th>\n",
       "      <td>-0.337886</td>\n",
       "      <td>-0.141740</td>\n",
       "      <td>-0.164496</td>\n",
       "      <td>0.108473</td>\n",
       "      <td>0.087536</td>\n",
       "      <td>-0.001007</td>\n",
       "      <td>0.105028</td>\n",
       "      <td>1.000000</td>\n",
       "    </tr>\n",
       "  </tbody>\n",
       "</table>\n",
       "</div>"
      ],
      "text/plain": [
       "                  Weight_Kg  Low_Price  High_Price  Sales_Total  \\\n",
       "Weight_Kg          1.000000   0.863182    0.905852     0.180518   \n",
       "Low_Price          0.863182   1.000000    0.938140     0.183230   \n",
       "High_Price         0.905852   0.938140    1.000000     0.265672   \n",
       "Sales_Total        0.180518   0.183230    0.265672     1.000000   \n",
       "Total_Qty_Sold    -0.133317  -0.122823   -0.096456     0.771865   \n",
       "Total_Kg_Sold      0.294117   0.269744    0.372282     0.962338   \n",
       "Stock_On_Hand     -0.144105  -0.127677   -0.094174     0.284693   \n",
       "avg_price_per_kg  -0.337886  -0.141740   -0.164496     0.108473   \n",
       "\n",
       "                  Total_Qty_Sold  Total_Kg_Sold  Stock_On_Hand  \\\n",
       "Weight_Kg              -0.133317       0.294117      -0.144105   \n",
       "Low_Price              -0.122823       0.269744      -0.127677   \n",
       "High_Price             -0.096456       0.372282      -0.094174   \n",
       "Sales_Total             0.771865       0.962338       0.284693   \n",
       "Total_Qty_Sold          1.000000       0.651440       0.390168   \n",
       "Total_Kg_Sold           0.651440       1.000000       0.229062   \n",
       "Stock_On_Hand           0.390168       0.229062       1.000000   \n",
       "avg_price_per_kg        0.087536      -0.001007       0.105028   \n",
       "\n",
       "                  avg_price_per_kg  \n",
       "Weight_Kg                -0.337886  \n",
       "Low_Price                -0.141740  \n",
       "High_Price               -0.164496  \n",
       "Sales_Total               0.108473  \n",
       "Total_Qty_Sold            0.087536  \n",
       "Total_Kg_Sold            -0.001007  \n",
       "Stock_On_Hand             0.105028  \n",
       "avg_price_per_kg          1.000000  "
      ]
     },
     "execution_count": 248,
     "metadata": {},
     "output_type": "execute_result"
    }
   ],
   "source": [
    "# check correlation with sales(research this). The ones(variables) with a high correlation we should select in below step.\n",
    "df2.corr()"
   ]
  },
  {
   "cell_type": "markdown",
   "metadata": {},
   "source": [
    "# 6. Feature Engineering and Selection"
   ]
  },
  {
   "cell_type": "code",
   "execution_count": 249,
   "metadata": {},
   "outputs": [
    {
     "name": "stdout",
     "output_type": "stream",
     "text": [
      "<class 'pandas.core.frame.DataFrame'>\n",
      "Int64Index: 1952 entries, 1 to 64310\n",
      "Data columns (total 13 columns):\n",
      " #   Column            Non-Null Count  Dtype  \n",
      "---  ------            --------------  -----  \n",
      " 0   Province          1952 non-null   object \n",
      " 1   Container         1952 non-null   object \n",
      " 2   Size_Grade        1952 non-null   object \n",
      " 3   Weight_Kg         1952 non-null   float64\n",
      " 4   Commodities       1952 non-null   object \n",
      " 5   Date              1952 non-null   object \n",
      " 6   Low_Price         1952 non-null   float64\n",
      " 7   High_Price        1952 non-null   float64\n",
      " 8   Sales_Total       1952 non-null   float64\n",
      " 9   Total_Qty_Sold    1952 non-null   int64  \n",
      " 10  Total_Kg_Sold     1952 non-null   float64\n",
      " 11  Stock_On_Hand     1952 non-null   int64  \n",
      " 12  avg_price_per_kg  1952 non-null   float64\n",
      "dtypes: float64(6), int64(2), object(5)\n",
      "memory usage: 213.5+ KB\n"
     ]
    }
   ],
   "source": [
    "# here, we will create new variable that will help in the prediction (if necessary) eg BMI\n",
    "df2.info()"
   ]
  },
  {
   "cell_type": "code",
   "execution_count": 250,
   "metadata": {},
   "outputs": [
    {
     "name": "stderr",
     "output_type": "stream",
     "text": [
      "<ipython-input-250-60d1e461ea1b>:2: SettingWithCopyWarning: \n",
      "A value is trying to be set on a copy of a slice from a DataFrame.\n",
      "Try using .loc[row_indexer,col_indexer] = value instead\n",
      "\n",
      "See the caveats in the documentation: https://pandas.pydata.org/pandas-docs/stable/user_guide/indexing.html#returning-a-view-versus-a-copy\n",
      "  df2['Year'] = pd.DatetimeIndex(df2['Date']).year\n",
      "<ipython-input-250-60d1e461ea1b>:3: SettingWithCopyWarning: \n",
      "A value is trying to be set on a copy of a slice from a DataFrame.\n",
      "Try using .loc[row_indexer,col_indexer] = value instead\n",
      "\n",
      "See the caveats in the documentation: https://pandas.pydata.org/pandas-docs/stable/user_guide/indexing.html#returning-a-view-versus-a-copy\n",
      "  df2['Month'] = pd.DatetimeIndex(df2['Date']).month\n",
      "<ipython-input-250-60d1e461ea1b>:4: SettingWithCopyWarning: \n",
      "A value is trying to be set on a copy of a slice from a DataFrame.\n",
      "Try using .loc[row_indexer,col_indexer] = value instead\n",
      "\n",
      "See the caveats in the documentation: https://pandas.pydata.org/pandas-docs/stable/user_guide/indexing.html#returning-a-view-versus-a-copy\n",
      "  df2['Day'] = pd.DatetimeIndex(df2['Date']).day\n",
      "C:\\Users\\leseg\\anaconda3\\lib\\site-packages\\pandas\\core\\frame.py:4308: SettingWithCopyWarning: \n",
      "A value is trying to be set on a copy of a slice from a DataFrame\n",
      "\n",
      "See the caveats in the documentation: https://pandas.pydata.org/pandas-docs/stable/user_guide/indexing.html#returning-a-view-versus-a-copy\n",
      "  return super().drop(\n"
     ]
    },
    {
     "data": {
      "text/html": [
       "<div>\n",
       "<style scoped>\n",
       "    .dataframe tbody tr th:only-of-type {\n",
       "        vertical-align: middle;\n",
       "    }\n",
       "\n",
       "    .dataframe tbody tr th {\n",
       "        vertical-align: top;\n",
       "    }\n",
       "\n",
       "    .dataframe thead th {\n",
       "        text-align: right;\n",
       "    }\n",
       "</style>\n",
       "<table border=\"1\" class=\"dataframe\">\n",
       "  <thead>\n",
       "    <tr style=\"text-align: right;\">\n",
       "      <th></th>\n",
       "      <th>Province</th>\n",
       "      <th>Container</th>\n",
       "      <th>Size_Grade</th>\n",
       "      <th>Weight_Kg</th>\n",
       "      <th>Commodities</th>\n",
       "      <th>Low_Price</th>\n",
       "      <th>High_Price</th>\n",
       "      <th>Sales_Total</th>\n",
       "      <th>Total_Qty_Sold</th>\n",
       "      <th>Total_Kg_Sold</th>\n",
       "      <th>Stock_On_Hand</th>\n",
       "      <th>avg_price_per_kg</th>\n",
       "      <th>Year</th>\n",
       "      <th>Month</th>\n",
       "      <th>Day</th>\n",
       "    </tr>\n",
       "  </thead>\n",
       "  <tbody>\n",
       "    <tr>\n",
       "      <th>1</th>\n",
       "      <td>western cape</td>\n",
       "      <td>M4183</td>\n",
       "      <td>1L</td>\n",
       "      <td>18.3</td>\n",
       "      <td>APPLE GOLDEN DELICIOUS</td>\n",
       "      <td>150.0</td>\n",
       "      <td>170.0</td>\n",
       "      <td>51710.0</td>\n",
       "      <td>332</td>\n",
       "      <td>6075.6</td>\n",
       "      <td>822</td>\n",
       "      <td>8.51</td>\n",
       "      <td>2020</td>\n",
       "      <td>9</td>\n",
       "      <td>9</td>\n",
       "    </tr>\n",
       "    <tr>\n",
       "      <th>7</th>\n",
       "      <td>western cape</td>\n",
       "      <td>JG110</td>\n",
       "      <td>2M</td>\n",
       "      <td>11.0</td>\n",
       "      <td>APPLE GOLDEN DELICIOUS</td>\n",
       "      <td>50.0</td>\n",
       "      <td>50.0</td>\n",
       "      <td>16000.0</td>\n",
       "      <td>320</td>\n",
       "      <td>3520.0</td>\n",
       "      <td>0</td>\n",
       "      <td>4.55</td>\n",
       "      <td>2020</td>\n",
       "      <td>4</td>\n",
       "      <td>14</td>\n",
       "    </tr>\n",
       "    <tr>\n",
       "      <th>24</th>\n",
       "      <td>western cape</td>\n",
       "      <td>JE090</td>\n",
       "      <td>2S</td>\n",
       "      <td>9.0</td>\n",
       "      <td>APPLE GOLDEN DELICIOUS</td>\n",
       "      <td>55.0</td>\n",
       "      <td>55.0</td>\n",
       "      <td>990.0</td>\n",
       "      <td>18</td>\n",
       "      <td>162.0</td>\n",
       "      <td>1506</td>\n",
       "      <td>6.11</td>\n",
       "      <td>2020</td>\n",
       "      <td>4</td>\n",
       "      <td>16</td>\n",
       "    </tr>\n",
       "    <tr>\n",
       "      <th>40</th>\n",
       "      <td>western cape</td>\n",
       "      <td>M4183</td>\n",
       "      <td>1S</td>\n",
       "      <td>18.3</td>\n",
       "      <td>APPLE GOLDEN DELICIOUS</td>\n",
       "      <td>80.0</td>\n",
       "      <td>120.0</td>\n",
       "      <td>32020.0</td>\n",
       "      <td>388</td>\n",
       "      <td>7100.4</td>\n",
       "      <td>443</td>\n",
       "      <td>4.51</td>\n",
       "      <td>2020</td>\n",
       "      <td>5</td>\n",
       "      <td>4</td>\n",
       "    </tr>\n",
       "    <tr>\n",
       "      <th>69</th>\n",
       "      <td>eastern cape</td>\n",
       "      <td>IA400</td>\n",
       "      <td>1S</td>\n",
       "      <td>400.0</td>\n",
       "      <td>APPLE GOLDEN DELICIOUS</td>\n",
       "      <td>1800.0</td>\n",
       "      <td>1800.0</td>\n",
       "      <td>1800.0</td>\n",
       "      <td>1</td>\n",
       "      <td>400.0</td>\n",
       "      <td>2</td>\n",
       "      <td>4.50</td>\n",
       "      <td>2020</td>\n",
       "      <td>9</td>\n",
       "      <td>28</td>\n",
       "    </tr>\n",
       "  </tbody>\n",
       "</table>\n",
       "</div>"
      ],
      "text/plain": [
       "        Province Container Size_Grade  Weight_Kg             Commodities  \\\n",
       "1   western cape     M4183         1L       18.3  APPLE GOLDEN DELICIOUS   \n",
       "7   western cape     JG110         2M       11.0  APPLE GOLDEN DELICIOUS   \n",
       "24  western cape     JE090         2S        9.0  APPLE GOLDEN DELICIOUS   \n",
       "40  western cape     M4183         1S       18.3  APPLE GOLDEN DELICIOUS   \n",
       "69  eastern cape     IA400         1S      400.0  APPLE GOLDEN DELICIOUS   \n",
       "\n",
       "    Low_Price  High_Price  Sales_Total  Total_Qty_Sold  Total_Kg_Sold  \\\n",
       "1       150.0       170.0      51710.0             332         6075.6   \n",
       "7        50.0        50.0      16000.0             320         3520.0   \n",
       "24       55.0        55.0        990.0              18          162.0   \n",
       "40       80.0       120.0      32020.0             388         7100.4   \n",
       "69     1800.0      1800.0       1800.0               1          400.0   \n",
       "\n",
       "    Stock_On_Hand  avg_price_per_kg  Year  Month  Day  \n",
       "1             822              8.51  2020      9    9  \n",
       "7               0              4.55  2020      4   14  \n",
       "24           1506              6.11  2020      4   16  \n",
       "40            443              4.51  2020      5    4  \n",
       "69              2              4.50  2020      9   28  "
      ]
     },
     "execution_count": 250,
     "metadata": {},
     "output_type": "execute_result"
    }
   ],
   "source": [
    "# Converting the dates into Year , Month  and Day column\n",
    "df2['Year'] = pd.DatetimeIndex(df2['Date']).year\n",
    "df2['Month'] = pd.DatetimeIndex(df2['Date']).month\n",
    "df2['Day'] = pd.DatetimeIndex(df2['Date']).day\n",
    "df2.drop('Date', inplace=True, axis=1)\n",
    "\n",
    "df2.head()"
   ]
  },
  {
   "cell_type": "code",
   "execution_count": 251,
   "metadata": {},
   "outputs": [],
   "source": [
    "# encode the Month Variable into the 4 Seasons:\n",
    "\n",
    "def create_classes(Month):\n",
    "        if Month==12 or Month<=2:  \n",
    "            return 'Summer'  # Summer\n",
    "        elif Month<=5:  \n",
    "            return 'Autunm'  # Autunm\n",
    "        elif Month<=8:\n",
    "            return 'Spring'  # Spring\n",
    "        else:\n",
    "            return 'Winter'  # "
   ]
  },
  {
   "cell_type": "code",
   "execution_count": 252,
   "metadata": {},
   "outputs": [
    {
     "name": "stderr",
     "output_type": "stream",
     "text": [
      "<ipython-input-252-b70cd89fc4cb>:1: SettingWithCopyWarning: \n",
      "A value is trying to be set on a copy of a slice from a DataFrame.\n",
      "Try using .loc[row_indexer,col_indexer] = value instead\n",
      "\n",
      "See the caveats in the documentation: https://pandas.pydata.org/pandas-docs/stable/user_guide/indexing.html#returning-a-view-versus-a-copy\n",
      "  df2['Season'] = df2['Month'].apply(create_classes)\n"
     ]
    }
   ],
   "source": [
    "df2['Season'] = df2['Month'].apply(create_classes)"
   ]
  },
  {
   "cell_type": "code",
   "execution_count": 253,
   "metadata": {},
   "outputs": [
    {
     "data": {
      "text/plain": [
       "array(['Winter', 'Autunm', 'Summer', 'Spring'], dtype=object)"
      ]
     },
     "execution_count": 253,
     "metadata": {},
     "output_type": "execute_result"
    }
   ],
   "source": [
    "df2['Season'].unique()"
   ]
  },
  {
   "cell_type": "code",
   "execution_count": 254,
   "metadata": {},
   "outputs": [
    {
     "data": {
      "text/plain": [
       "Index(['Province', 'Container', 'Size_Grade', 'Weight_Kg', 'Commodities',\n",
       "       'Low_Price', 'High_Price', 'Sales_Total', 'Total_Qty_Sold',\n",
       "       'Total_Kg_Sold', 'Stock_On_Hand', 'avg_price_per_kg', 'Year', 'Month',\n",
       "       'Day', 'Season'],\n",
       "      dtype='object')"
      ]
     },
     "execution_count": 254,
     "metadata": {},
     "output_type": "execute_result"
    }
   ],
   "source": [
    "df2.columns"
   ]
  },
  {
   "cell_type": "code",
   "execution_count": 255,
   "metadata": {},
   "outputs": [
    {
     "data": {
      "text/html": [
       "<div>\n",
       "<style scoped>\n",
       "    .dataframe tbody tr th:only-of-type {\n",
       "        vertical-align: middle;\n",
       "    }\n",
       "\n",
       "    .dataframe tbody tr th {\n",
       "        vertical-align: top;\n",
       "    }\n",
       "\n",
       "    .dataframe thead th {\n",
       "        text-align: right;\n",
       "    }\n",
       "</style>\n",
       "<table border=\"1\" class=\"dataframe\">\n",
       "  <thead>\n",
       "    <tr style=\"text-align: right;\">\n",
       "      <th></th>\n",
       "      <th>Weight_Kg</th>\n",
       "      <th>Low_Price</th>\n",
       "      <th>High_Price</th>\n",
       "      <th>Sales_Total</th>\n",
       "      <th>Total_Qty_Sold</th>\n",
       "      <th>Total_Kg_Sold</th>\n",
       "      <th>Stock_On_Hand</th>\n",
       "      <th>avg_price_per_kg</th>\n",
       "      <th>Year</th>\n",
       "      <th>Month</th>\n",
       "      <th>...</th>\n",
       "      <th>Size_Grade_1U</th>\n",
       "      <th>Size_Grade_1X</th>\n",
       "      <th>Size_Grade_2L</th>\n",
       "      <th>Size_Grade_2M</th>\n",
       "      <th>Size_Grade_2S</th>\n",
       "      <th>Size_Grade_2U</th>\n",
       "      <th>Size_Grade_2X</th>\n",
       "      <th>Season_Spring</th>\n",
       "      <th>Season_Summer</th>\n",
       "      <th>Season_Winter</th>\n",
       "    </tr>\n",
       "  </thead>\n",
       "  <tbody>\n",
       "    <tr>\n",
       "      <th>1</th>\n",
       "      <td>18.3</td>\n",
       "      <td>150.0</td>\n",
       "      <td>170.0</td>\n",
       "      <td>51710.0</td>\n",
       "      <td>332</td>\n",
       "      <td>6075.6</td>\n",
       "      <td>822</td>\n",
       "      <td>8.51</td>\n",
       "      <td>2020</td>\n",
       "      <td>9</td>\n",
       "      <td>...</td>\n",
       "      <td>0</td>\n",
       "      <td>0</td>\n",
       "      <td>0</td>\n",
       "      <td>0</td>\n",
       "      <td>0</td>\n",
       "      <td>0</td>\n",
       "      <td>0</td>\n",
       "      <td>0</td>\n",
       "      <td>0</td>\n",
       "      <td>1</td>\n",
       "    </tr>\n",
       "    <tr>\n",
       "      <th>7</th>\n",
       "      <td>11.0</td>\n",
       "      <td>50.0</td>\n",
       "      <td>50.0</td>\n",
       "      <td>16000.0</td>\n",
       "      <td>320</td>\n",
       "      <td>3520.0</td>\n",
       "      <td>0</td>\n",
       "      <td>4.55</td>\n",
       "      <td>2020</td>\n",
       "      <td>4</td>\n",
       "      <td>...</td>\n",
       "      <td>0</td>\n",
       "      <td>0</td>\n",
       "      <td>0</td>\n",
       "      <td>1</td>\n",
       "      <td>0</td>\n",
       "      <td>0</td>\n",
       "      <td>0</td>\n",
       "      <td>0</td>\n",
       "      <td>0</td>\n",
       "      <td>0</td>\n",
       "    </tr>\n",
       "    <tr>\n",
       "      <th>24</th>\n",
       "      <td>9.0</td>\n",
       "      <td>55.0</td>\n",
       "      <td>55.0</td>\n",
       "      <td>990.0</td>\n",
       "      <td>18</td>\n",
       "      <td>162.0</td>\n",
       "      <td>1506</td>\n",
       "      <td>6.11</td>\n",
       "      <td>2020</td>\n",
       "      <td>4</td>\n",
       "      <td>...</td>\n",
       "      <td>0</td>\n",
       "      <td>0</td>\n",
       "      <td>0</td>\n",
       "      <td>0</td>\n",
       "      <td>1</td>\n",
       "      <td>0</td>\n",
       "      <td>0</td>\n",
       "      <td>0</td>\n",
       "      <td>0</td>\n",
       "      <td>0</td>\n",
       "    </tr>\n",
       "    <tr>\n",
       "      <th>40</th>\n",
       "      <td>18.3</td>\n",
       "      <td>80.0</td>\n",
       "      <td>120.0</td>\n",
       "      <td>32020.0</td>\n",
       "      <td>388</td>\n",
       "      <td>7100.4</td>\n",
       "      <td>443</td>\n",
       "      <td>4.51</td>\n",
       "      <td>2020</td>\n",
       "      <td>5</td>\n",
       "      <td>...</td>\n",
       "      <td>0</td>\n",
       "      <td>0</td>\n",
       "      <td>0</td>\n",
       "      <td>0</td>\n",
       "      <td>0</td>\n",
       "      <td>0</td>\n",
       "      <td>0</td>\n",
       "      <td>0</td>\n",
       "      <td>0</td>\n",
       "      <td>0</td>\n",
       "    </tr>\n",
       "    <tr>\n",
       "      <th>69</th>\n",
       "      <td>400.0</td>\n",
       "      <td>1800.0</td>\n",
       "      <td>1800.0</td>\n",
       "      <td>1800.0</td>\n",
       "      <td>1</td>\n",
       "      <td>400.0</td>\n",
       "      <td>2</td>\n",
       "      <td>4.50</td>\n",
       "      <td>2020</td>\n",
       "      <td>9</td>\n",
       "      <td>...</td>\n",
       "      <td>0</td>\n",
       "      <td>0</td>\n",
       "      <td>0</td>\n",
       "      <td>0</td>\n",
       "      <td>0</td>\n",
       "      <td>0</td>\n",
       "      <td>0</td>\n",
       "      <td>0</td>\n",
       "      <td>0</td>\n",
       "      <td>1</td>\n",
       "    </tr>\n",
       "  </tbody>\n",
       "</table>\n",
       "<p>5 rows × 36 columns</p>\n",
       "</div>"
      ],
      "text/plain": [
       "    Weight_Kg  Low_Price  High_Price  Sales_Total  Total_Qty_Sold  \\\n",
       "1        18.3      150.0       170.0      51710.0             332   \n",
       "7        11.0       50.0        50.0      16000.0             320   \n",
       "24        9.0       55.0        55.0        990.0              18   \n",
       "40       18.3       80.0       120.0      32020.0             388   \n",
       "69      400.0     1800.0      1800.0       1800.0               1   \n",
       "\n",
       "    Total_Kg_Sold  Stock_On_Hand  avg_price_per_kg  Year  Month  ...  \\\n",
       "1          6075.6            822              8.51  2020      9  ...   \n",
       "7          3520.0              0              4.55  2020      4  ...   \n",
       "24          162.0           1506              6.11  2020      4  ...   \n",
       "40         7100.4            443              4.51  2020      5  ...   \n",
       "69          400.0              2              4.50  2020      9  ...   \n",
       "\n",
       "    Size_Grade_1U  Size_Grade_1X  Size_Grade_2L  Size_Grade_2M  Size_Grade_2S  \\\n",
       "1               0              0              0              0              0   \n",
       "7               0              0              0              1              0   \n",
       "24              0              0              0              0              1   \n",
       "40              0              0              0              0              0   \n",
       "69              0              0              0              0              0   \n",
       "\n",
       "    Size_Grade_2U  Size_Grade_2X  Season_Spring  Season_Summer  Season_Winter  \n",
       "1               0              0              0              0              1  \n",
       "7               0              0              0              0              0  \n",
       "24              0              0              0              0              0  \n",
       "40              0              0              0              0              0  \n",
       "69              0              0              0              0              1  \n",
       "\n",
       "[5 rows x 36 columns]"
      ]
     },
     "execution_count": 255,
     "metadata": {},
     "output_type": "execute_result"
    }
   ],
   "source": [
    "# Transform string into Dummy\n",
    "df_dummies = pd.get_dummies(df2,drop_first = True)\n",
    "\n",
    "# Again we make sure that all the column names have underscores instead of periods,whitespaces and dashes\n",
    "df_dummies.columns = [col.replace(\".\",\"_\") for col in df_dummies.columns] \n",
    "df_dummies.columns = [col.replace(\" \", \"_\")for col in df_dummies.columns]\n",
    "df_dummies.columns = [col.replace(\"-\", \"_\")for col in df_dummies.columns]\n",
    "\n",
    "df_dummies.head()"
   ]
  },
  {
   "cell_type": "code",
   "execution_count": 256,
   "metadata": {},
   "outputs": [
    {
     "data": {
      "text/plain": [
       "(1952, 36)"
      ]
     },
     "execution_count": 256,
     "metadata": {},
     "output_type": "execute_result"
    }
   ],
   "source": [
    "df_dummies.shape"
   ]
  },
  {
   "cell_type": "code",
   "execution_count": 257,
   "metadata": {},
   "outputs": [
    {
     "data": {
      "text/plain": [
       "Index(['Weight_Kg', 'Low_Price', 'High_Price', 'Sales_Total', 'Total_Qty_Sold',\n",
       "       'Total_Kg_Sold', 'Stock_On_Hand', 'avg_price_per_kg', 'Year', 'Month',\n",
       "       'Day', 'Province_natal', 'Province_transvaal', 'Province_western_cape',\n",
       "       'Container_DT063', 'Container_EC120', 'Container_EF120',\n",
       "       'Container_EG140', 'Container_IA400', 'Container_JE090',\n",
       "       'Container_JG110', 'Container_M4183', 'Container_M6125',\n",
       "       'Container_M9125', 'Size_Grade_1M', 'Size_Grade_1S', 'Size_Grade_1U',\n",
       "       'Size_Grade_1X', 'Size_Grade_2L', 'Size_Grade_2M', 'Size_Grade_2S',\n",
       "       'Size_Grade_2U', 'Size_Grade_2X', 'Season_Spring', 'Season_Summer',\n",
       "       'Season_Winter'],\n",
       "      dtype='object')"
      ]
     },
     "execution_count": 257,
     "metadata": {},
     "output_type": "execute_result"
    }
   ],
   "source": [
    "df_dummies.columns"
   ]
  },
  {
   "cell_type": "markdown",
   "metadata": {},
   "source": [
    "### Re-order my dependendent variable (avg_price_per_kg) to be the last column"
   ]
  },
  {
   "cell_type": "code",
   "execution_count": 258,
   "metadata": {},
   "outputs": [],
   "source": [
    "column_titles = [col for col in df_dummies.columns if col!= 'avg_price_per_kg'] + ['avg_price_per_kg']\n",
    "df_dummies=df_dummies.reindex(columns=column_titles)"
   ]
  },
  {
   "cell_type": "markdown",
   "metadata": {},
   "source": [
    "### Correlation Matrix"
   ]
  },
  {
   "cell_type": "code",
   "execution_count": 259,
   "metadata": {
    "scrolled": true
   },
   "outputs": [
    {
     "data": {
      "text/html": [
       "<div>\n",
       "<style scoped>\n",
       "    .dataframe tbody tr th:only-of-type {\n",
       "        vertical-align: middle;\n",
       "    }\n",
       "\n",
       "    .dataframe tbody tr th {\n",
       "        vertical-align: top;\n",
       "    }\n",
       "\n",
       "    .dataframe thead th {\n",
       "        text-align: right;\n",
       "    }\n",
       "</style>\n",
       "<table border=\"1\" class=\"dataframe\">\n",
       "  <thead>\n",
       "    <tr style=\"text-align: right;\">\n",
       "      <th></th>\n",
       "      <th>Weight_Kg</th>\n",
       "      <th>Low_Price</th>\n",
       "      <th>High_Price</th>\n",
       "      <th>Sales_Total</th>\n",
       "      <th>Total_Qty_Sold</th>\n",
       "      <th>Total_Kg_Sold</th>\n",
       "      <th>Stock_On_Hand</th>\n",
       "      <th>Year</th>\n",
       "      <th>Month</th>\n",
       "      <th>Day</th>\n",
       "      <th>...</th>\n",
       "      <th>Size_Grade_1X</th>\n",
       "      <th>Size_Grade_2L</th>\n",
       "      <th>Size_Grade_2M</th>\n",
       "      <th>Size_Grade_2S</th>\n",
       "      <th>Size_Grade_2U</th>\n",
       "      <th>Size_Grade_2X</th>\n",
       "      <th>Season_Spring</th>\n",
       "      <th>Season_Summer</th>\n",
       "      <th>Season_Winter</th>\n",
       "      <th>avg_price_per_kg</th>\n",
       "    </tr>\n",
       "  </thead>\n",
       "  <tbody>\n",
       "    <tr>\n",
       "      <th>Weight_Kg</th>\n",
       "      <td>1.000000</td>\n",
       "      <td>0.863182</td>\n",
       "      <td>0.905852</td>\n",
       "      <td>0.180518</td>\n",
       "      <td>-0.133317</td>\n",
       "      <td>0.294117</td>\n",
       "      <td>-0.144105</td>\n",
       "      <td>-0.019772</td>\n",
       "      <td>0.047613</td>\n",
       "      <td>0.016251</td>\n",
       "      <td>...</td>\n",
       "      <td>-0.068923</td>\n",
       "      <td>-0.080647</td>\n",
       "      <td>-0.083726</td>\n",
       "      <td>-0.064374</td>\n",
       "      <td>-0.029488</td>\n",
       "      <td>-0.036183</td>\n",
       "      <td>0.029092</td>\n",
       "      <td>0.018783</td>\n",
       "      <td>0.043158</td>\n",
       "      <td>-0.337886</td>\n",
       "    </tr>\n",
       "    <tr>\n",
       "      <th>Low_Price</th>\n",
       "      <td>0.863182</td>\n",
       "      <td>1.000000</td>\n",
       "      <td>0.938140</td>\n",
       "      <td>0.183230</td>\n",
       "      <td>-0.122823</td>\n",
       "      <td>0.269744</td>\n",
       "      <td>-0.127677</td>\n",
       "      <td>-0.021276</td>\n",
       "      <td>0.039084</td>\n",
       "      <td>-0.015764</td>\n",
       "      <td>...</td>\n",
       "      <td>-0.025554</td>\n",
       "      <td>-0.084578</td>\n",
       "      <td>-0.104532</td>\n",
       "      <td>-0.102040</td>\n",
       "      <td>-0.032675</td>\n",
       "      <td>-0.038494</td>\n",
       "      <td>0.011442</td>\n",
       "      <td>0.035123</td>\n",
       "      <td>0.051099</td>\n",
       "      <td>-0.141740</td>\n",
       "    </tr>\n",
       "    <tr>\n",
       "      <th>High_Price</th>\n",
       "      <td>0.905852</td>\n",
       "      <td>0.938140</td>\n",
       "      <td>1.000000</td>\n",
       "      <td>0.265672</td>\n",
       "      <td>-0.096456</td>\n",
       "      <td>0.372282</td>\n",
       "      <td>-0.094174</td>\n",
       "      <td>-0.018911</td>\n",
       "      <td>0.047717</td>\n",
       "      <td>0.002058</td>\n",
       "      <td>...</td>\n",
       "      <td>-0.030418</td>\n",
       "      <td>-0.092192</td>\n",
       "      <td>-0.118314</td>\n",
       "      <td>-0.118517</td>\n",
       "      <td>-0.035822</td>\n",
       "      <td>-0.042342</td>\n",
       "      <td>0.027304</td>\n",
       "      <td>0.034613</td>\n",
       "      <td>0.051895</td>\n",
       "      <td>-0.164496</td>\n",
       "    </tr>\n",
       "    <tr>\n",
       "      <th>Sales_Total</th>\n",
       "      <td>0.180518</td>\n",
       "      <td>0.183230</td>\n",
       "      <td>0.265672</td>\n",
       "      <td>1.000000</td>\n",
       "      <td>0.771865</td>\n",
       "      <td>0.962338</td>\n",
       "      <td>0.284693</td>\n",
       "      <td>0.031264</td>\n",
       "      <td>-0.055853</td>\n",
       "      <td>-0.011699</td>\n",
       "      <td>...</td>\n",
       "      <td>-0.075793</td>\n",
       "      <td>-0.105784</td>\n",
       "      <td>-0.109908</td>\n",
       "      <td>-0.132595</td>\n",
       "      <td>-0.040623</td>\n",
       "      <td>-0.046104</td>\n",
       "      <td>0.024760</td>\n",
       "      <td>0.069020</td>\n",
       "      <td>-0.020775</td>\n",
       "      <td>0.108473</td>\n",
       "    </tr>\n",
       "    <tr>\n",
       "      <th>Total_Qty_Sold</th>\n",
       "      <td>-0.133317</td>\n",
       "      <td>-0.122823</td>\n",
       "      <td>-0.096456</td>\n",
       "      <td>0.771865</td>\n",
       "      <td>1.000000</td>\n",
       "      <td>0.651440</td>\n",
       "      <td>0.390168</td>\n",
       "      <td>0.042132</td>\n",
       "      <td>-0.058639</td>\n",
       "      <td>-0.020402</td>\n",
       "      <td>...</td>\n",
       "      <td>-0.100508</td>\n",
       "      <td>-0.085270</td>\n",
       "      <td>-0.037270</td>\n",
       "      <td>-0.027759</td>\n",
       "      <td>-0.032337</td>\n",
       "      <td>-0.033339</td>\n",
       "      <td>0.013122</td>\n",
       "      <td>0.036170</td>\n",
       "      <td>-0.023310</td>\n",
       "      <td>0.087536</td>\n",
       "    </tr>\n",
       "    <tr>\n",
       "      <th>Total_Kg_Sold</th>\n",
       "      <td>0.294117</td>\n",
       "      <td>0.269744</td>\n",
       "      <td>0.372282</td>\n",
       "      <td>0.962338</td>\n",
       "      <td>0.651440</td>\n",
       "      <td>1.000000</td>\n",
       "      <td>0.229062</td>\n",
       "      <td>0.030462</td>\n",
       "      <td>-0.023098</td>\n",
       "      <td>0.003238</td>\n",
       "      <td>...</td>\n",
       "      <td>-0.081291</td>\n",
       "      <td>-0.097158</td>\n",
       "      <td>-0.093815</td>\n",
       "      <td>-0.100862</td>\n",
       "      <td>-0.035961</td>\n",
       "      <td>-0.041667</td>\n",
       "      <td>0.042450</td>\n",
       "      <td>0.035695</td>\n",
       "      <td>-0.010217</td>\n",
       "      <td>-0.001007</td>\n",
       "    </tr>\n",
       "    <tr>\n",
       "      <th>Stock_On_Hand</th>\n",
       "      <td>-0.144105</td>\n",
       "      <td>-0.127677</td>\n",
       "      <td>-0.094174</td>\n",
       "      <td>0.284693</td>\n",
       "      <td>0.390168</td>\n",
       "      <td>0.229062</td>\n",
       "      <td>1.000000</td>\n",
       "      <td>-0.045846</td>\n",
       "      <td>-0.011749</td>\n",
       "      <td>0.081923</td>\n",
       "      <td>...</td>\n",
       "      <td>-0.044300</td>\n",
       "      <td>-0.086927</td>\n",
       "      <td>-0.086702</td>\n",
       "      <td>-0.008891</td>\n",
       "      <td>-0.046085</td>\n",
       "      <td>-0.005271</td>\n",
       "      <td>-0.125327</td>\n",
       "      <td>-0.034244</td>\n",
       "      <td>0.035331</td>\n",
       "      <td>0.105028</td>\n",
       "    </tr>\n",
       "    <tr>\n",
       "      <th>Year</th>\n",
       "      <td>-0.019772</td>\n",
       "      <td>-0.021276</td>\n",
       "      <td>-0.018911</td>\n",
       "      <td>0.031264</td>\n",
       "      <td>0.042132</td>\n",
       "      <td>0.030462</td>\n",
       "      <td>-0.045846</td>\n",
       "      <td>1.000000</td>\n",
       "      <td>-0.430853</td>\n",
       "      <td>-0.023257</td>\n",
       "      <td>...</td>\n",
       "      <td>0.004457</td>\n",
       "      <td>-0.014455</td>\n",
       "      <td>0.012357</td>\n",
       "      <td>0.030314</td>\n",
       "      <td>0.016977</td>\n",
       "      <td>-0.004439</td>\n",
       "      <td>0.155289</td>\n",
       "      <td>-0.386148</td>\n",
       "      <td>0.055580</td>\n",
       "      <td>-0.135526</td>\n",
       "    </tr>\n",
       "    <tr>\n",
       "      <th>Month</th>\n",
       "      <td>0.047613</td>\n",
       "      <td>0.039084</td>\n",
       "      <td>0.047717</td>\n",
       "      <td>-0.055853</td>\n",
       "      <td>-0.058639</td>\n",
       "      <td>-0.023098</td>\n",
       "      <td>-0.011749</td>\n",
       "      <td>-0.430853</td>\n",
       "      <td>1.000000</td>\n",
       "      <td>0.010012</td>\n",
       "      <td>...</td>\n",
       "      <td>-0.064184</td>\n",
       "      <td>0.067404</td>\n",
       "      <td>0.012777</td>\n",
       "      <td>-0.022811</td>\n",
       "      <td>-0.047931</td>\n",
       "      <td>0.013578</td>\n",
       "      <td>0.481703</td>\n",
       "      <td>-0.388563</td>\n",
       "      <td>0.407720</td>\n",
       "      <td>0.005205</td>\n",
       "    </tr>\n",
       "    <tr>\n",
       "      <th>Day</th>\n",
       "      <td>0.016251</td>\n",
       "      <td>-0.015764</td>\n",
       "      <td>0.002058</td>\n",
       "      <td>-0.011699</td>\n",
       "      <td>-0.020402</td>\n",
       "      <td>0.003238</td>\n",
       "      <td>0.081923</td>\n",
       "      <td>-0.023257</td>\n",
       "      <td>0.010012</td>\n",
       "      <td>1.000000</td>\n",
       "      <td>...</td>\n",
       "      <td>-0.030633</td>\n",
       "      <td>0.014469</td>\n",
       "      <td>-0.029280</td>\n",
       "      <td>0.035713</td>\n",
       "      <td>0.019178</td>\n",
       "      <td>-0.026454</td>\n",
       "      <td>0.089288</td>\n",
       "      <td>-0.084654</td>\n",
       "      <td>-0.137579</td>\n",
       "      <td>-0.071334</td>\n",
       "    </tr>\n",
       "    <tr>\n",
       "      <th>Province_natal</th>\n",
       "      <td>0.182454</td>\n",
       "      <td>0.000035</td>\n",
       "      <td>0.033792</td>\n",
       "      <td>-0.088184</td>\n",
       "      <td>-0.091620</td>\n",
       "      <td>-0.060972</td>\n",
       "      <td>-0.135137</td>\n",
       "      <td>-0.005984</td>\n",
       "      <td>0.064545</td>\n",
       "      <td>0.035035</td>\n",
       "      <td>...</td>\n",
       "      <td>-0.076085</td>\n",
       "      <td>-0.062844</td>\n",
       "      <td>-0.056002</td>\n",
       "      <td>0.221405</td>\n",
       "      <td>-0.023015</td>\n",
       "      <td>-0.028529</td>\n",
       "      <td>0.120751</td>\n",
       "      <td>-0.034618</td>\n",
       "      <td>-0.035914</td>\n",
       "      <td>-0.379801</td>\n",
       "    </tr>\n",
       "    <tr>\n",
       "      <th>Province_transvaal</th>\n",
       "      <td>-0.012858</td>\n",
       "      <td>-0.006117</td>\n",
       "      <td>-0.012287</td>\n",
       "      <td>0.028536</td>\n",
       "      <td>0.068735</td>\n",
       "      <td>0.029507</td>\n",
       "      <td>-0.059632</td>\n",
       "      <td>0.020208</td>\n",
       "      <td>-0.021836</td>\n",
       "      <td>-0.024992</td>\n",
       "      <td>...</td>\n",
       "      <td>0.031202</td>\n",
       "      <td>-0.028555</td>\n",
       "      <td>-0.026611</td>\n",
       "      <td>-0.010035</td>\n",
       "      <td>-0.010458</td>\n",
       "      <td>-0.012963</td>\n",
       "      <td>0.036051</td>\n",
       "      <td>0.008127</td>\n",
       "      <td>-0.034238</td>\n",
       "      <td>-0.031562</td>\n",
       "    </tr>\n",
       "    <tr>\n",
       "      <th>Province_western_cape</th>\n",
       "      <td>-0.040655</td>\n",
       "      <td>0.070902</td>\n",
       "      <td>0.061907</td>\n",
       "      <td>0.169769</td>\n",
       "      <td>0.152501</td>\n",
       "      <td>0.141494</td>\n",
       "      <td>0.213179</td>\n",
       "      <td>-0.029474</td>\n",
       "      <td>-0.029776</td>\n",
       "      <td>-0.032181</td>\n",
       "      <td>...</td>\n",
       "      <td>0.113926</td>\n",
       "      <td>-0.000207</td>\n",
       "      <td>-0.085348</td>\n",
       "      <td>-0.093248</td>\n",
       "      <td>0.043123</td>\n",
       "      <td>0.053455</td>\n",
       "      <td>-0.110661</td>\n",
       "      <td>0.061384</td>\n",
       "      <td>0.040161</td>\n",
       "      <td>0.385262</td>\n",
       "    </tr>\n",
       "    <tr>\n",
       "      <th>Container_DT063</th>\n",
       "      <td>-0.019039</td>\n",
       "      <td>-0.021828</td>\n",
       "      <td>-0.024103</td>\n",
       "      <td>-0.028371</td>\n",
       "      <td>-0.029978</td>\n",
       "      <td>-0.026515</td>\n",
       "      <td>-0.029355</td>\n",
       "      <td>0.010057</td>\n",
       "      <td>0.008079</td>\n",
       "      <td>0.005106</td>\n",
       "      <td>...</td>\n",
       "      <td>-0.017206</td>\n",
       "      <td>-0.014211</td>\n",
       "      <td>0.036801</td>\n",
       "      <td>0.077513</td>\n",
       "      <td>-0.005205</td>\n",
       "      <td>-0.006452</td>\n",
       "      <td>-0.028880</td>\n",
       "      <td>-0.026044</td>\n",
       "      <td>0.048955</td>\n",
       "      <td>-0.059579</td>\n",
       "    </tr>\n",
       "    <tr>\n",
       "      <th>Container_EC120</th>\n",
       "      <td>-0.155910</td>\n",
       "      <td>-0.136387</td>\n",
       "      <td>-0.131819</td>\n",
       "      <td>0.072059</td>\n",
       "      <td>0.177089</td>\n",
       "      <td>0.030087</td>\n",
       "      <td>0.138249</td>\n",
       "      <td>-0.005353</td>\n",
       "      <td>-0.011738</td>\n",
       "      <td>0.019442</td>\n",
       "      <td>...</td>\n",
       "      <td>-0.169115</td>\n",
       "      <td>-0.139683</td>\n",
       "      <td>-0.200445</td>\n",
       "      <td>-0.182762</td>\n",
       "      <td>-0.051156</td>\n",
       "      <td>-0.063412</td>\n",
       "      <td>0.025139</td>\n",
       "      <td>0.016519</td>\n",
       "      <td>-0.032827</td>\n",
       "      <td>0.188162</td>\n",
       "    </tr>\n",
       "    <tr>\n",
       "      <th>Container_EF120</th>\n",
       "      <td>-0.056706</td>\n",
       "      <td>-0.042398</td>\n",
       "      <td>-0.051627</td>\n",
       "      <td>-0.072041</td>\n",
       "      <td>-0.069864</td>\n",
       "      <td>-0.070662</td>\n",
       "      <td>-0.074805</td>\n",
       "      <td>0.005360</td>\n",
       "      <td>0.020893</td>\n",
       "      <td>0.050822</td>\n",
       "      <td>...</td>\n",
       "      <td>-0.061508</td>\n",
       "      <td>-0.050804</td>\n",
       "      <td>-0.072903</td>\n",
       "      <td>-0.085920</td>\n",
       "      <td>-0.018606</td>\n",
       "      <td>-0.023064</td>\n",
       "      <td>0.079521</td>\n",
       "      <td>-0.051243</td>\n",
       "      <td>-0.051351</td>\n",
       "      <td>0.114297</td>\n",
       "    </tr>\n",
       "    <tr>\n",
       "      <th>Container_EG140</th>\n",
       "      <td>-0.010420</td>\n",
       "      <td>-0.006336</td>\n",
       "      <td>-0.009201</td>\n",
       "      <td>0.005516</td>\n",
       "      <td>0.006289</td>\n",
       "      <td>0.001132</td>\n",
       "      <td>-0.022123</td>\n",
       "      <td>0.007106</td>\n",
       "      <td>0.020312</td>\n",
       "      <td>0.027649</td>\n",
       "      <td>...</td>\n",
       "      <td>-0.012157</td>\n",
       "      <td>-0.010041</td>\n",
       "      <td>-0.014409</td>\n",
       "      <td>-0.016982</td>\n",
       "      <td>-0.003677</td>\n",
       "      <td>-0.004558</td>\n",
       "      <td>0.045759</td>\n",
       "      <td>-0.018402</td>\n",
       "      <td>-0.012040</td>\n",
       "      <td>0.023753</td>\n",
       "    </tr>\n",
       "    <tr>\n",
       "      <th>Container_IA400</th>\n",
       "      <td>0.999231</td>\n",
       "      <td>0.860219</td>\n",
       "      <td>0.902518</td>\n",
       "      <td>0.172753</td>\n",
       "      <td>-0.135627</td>\n",
       "      <td>0.288659</td>\n",
       "      <td>-0.147545</td>\n",
       "      <td>-0.018005</td>\n",
       "      <td>0.049925</td>\n",
       "      <td>0.018444</td>\n",
       "      <td>...</td>\n",
       "      <td>-0.085797</td>\n",
       "      <td>-0.070866</td>\n",
       "      <td>-0.070915</td>\n",
       "      <td>-0.048811</td>\n",
       "      <td>-0.025953</td>\n",
       "      <td>-0.032171</td>\n",
       "      <td>0.032694</td>\n",
       "      <td>0.015204</td>\n",
       "      <td>0.042878</td>\n",
       "      <td>-0.355565</td>\n",
       "    </tr>\n",
       "    <tr>\n",
       "      <th>Container_JE090</th>\n",
       "      <td>-0.201543</td>\n",
       "      <td>-0.216723</td>\n",
       "      <td>-0.234796</td>\n",
       "      <td>-0.225452</td>\n",
       "      <td>-0.107026</td>\n",
       "      <td>-0.194275</td>\n",
       "      <td>-0.066647</td>\n",
       "      <td>0.057624</td>\n",
       "      <td>0.030631</td>\n",
       "      <td>-0.005251</td>\n",
       "      <td>...</td>\n",
       "      <td>-0.197766</td>\n",
       "      <td>0.382186</td>\n",
       "      <td>0.411370</td>\n",
       "      <td>0.417872</td>\n",
       "      <td>0.134700</td>\n",
       "      <td>0.162335</td>\n",
       "      <td>0.012865</td>\n",
       "      <td>-0.087810</td>\n",
       "      <td>0.033724</td>\n",
       "      <td>-0.322235</td>\n",
       "    </tr>\n",
       "    <tr>\n",
       "      <th>Container_JG110</th>\n",
       "      <td>-0.063095</td>\n",
       "      <td>-0.067325</td>\n",
       "      <td>-0.074943</td>\n",
       "      <td>-0.025977</td>\n",
       "      <td>0.050806</td>\n",
       "      <td>-0.008118</td>\n",
       "      <td>-0.071657</td>\n",
       "      <td>-0.061555</td>\n",
       "      <td>-0.019412</td>\n",
       "      <td>-0.000471</td>\n",
       "      <td>...</td>\n",
       "      <td>-0.066116</td>\n",
       "      <td>-0.012806</td>\n",
       "      <td>0.231913</td>\n",
       "      <td>0.176202</td>\n",
       "      <td>0.007017</td>\n",
       "      <td>-0.002894</td>\n",
       "      <td>-0.005140</td>\n",
       "      <td>0.082740</td>\n",
       "      <td>-0.056527</td>\n",
       "      <td>-0.140148</td>\n",
       "    </tr>\n",
       "    <tr>\n",
       "      <th>Container_M4183</th>\n",
       "      <td>-0.146043</td>\n",
       "      <td>-0.073773</td>\n",
       "      <td>-0.074061</td>\n",
       "      <td>0.125820</td>\n",
       "      <td>0.035805</td>\n",
       "      <td>0.058321</td>\n",
       "      <td>0.093458</td>\n",
       "      <td>-0.027531</td>\n",
       "      <td>-0.050774</td>\n",
       "      <td>-0.060604</td>\n",
       "      <td>...</td>\n",
       "      <td>0.471938</td>\n",
       "      <td>-0.168039</td>\n",
       "      <td>-0.241136</td>\n",
       "      <td>-0.284188</td>\n",
       "      <td>-0.061541</td>\n",
       "      <td>-0.066545</td>\n",
       "      <td>-0.095172</td>\n",
       "      <td>0.060897</td>\n",
       "      <td>0.021473</td>\n",
       "      <td>0.403229</td>\n",
       "    </tr>\n",
       "    <tr>\n",
       "      <th>Container_M6125</th>\n",
       "      <td>-0.020139</td>\n",
       "      <td>-0.016776</td>\n",
       "      <td>-0.020885</td>\n",
       "      <td>-0.031959</td>\n",
       "      <td>-0.031962</td>\n",
       "      <td>-0.029402</td>\n",
       "      <td>-0.032883</td>\n",
       "      <td>0.012997</td>\n",
       "      <td>-0.064348</td>\n",
       "      <td>0.010172</td>\n",
       "      <td>...</td>\n",
       "      <td>-0.022235</td>\n",
       "      <td>-0.018366</td>\n",
       "      <td>-0.026355</td>\n",
       "      <td>-0.031060</td>\n",
       "      <td>-0.006726</td>\n",
       "      <td>-0.008337</td>\n",
       "      <td>-0.047003</td>\n",
       "      <td>0.059666</td>\n",
       "      <td>-0.022021</td>\n",
       "      <td>0.007568</td>\n",
       "    </tr>\n",
       "    <tr>\n",
       "      <th>Container_M9125</th>\n",
       "      <td>-0.011011</td>\n",
       "      <td>-0.009207</td>\n",
       "      <td>-0.011222</td>\n",
       "      <td>-0.012063</td>\n",
       "      <td>-0.010528</td>\n",
       "      <td>-0.011677</td>\n",
       "      <td>-0.022123</td>\n",
       "      <td>0.007106</td>\n",
       "      <td>-0.018631</td>\n",
       "      <td>-0.011418</td>\n",
       "      <td>...</td>\n",
       "      <td>-0.012157</td>\n",
       "      <td>-0.010041</td>\n",
       "      <td>-0.014409</td>\n",
       "      <td>-0.016982</td>\n",
       "      <td>-0.003677</td>\n",
       "      <td>-0.004558</td>\n",
       "      <td>-0.033638</td>\n",
       "      <td>-0.018402</td>\n",
       "      <td>-0.012040</td>\n",
       "      <td>0.002812</td>\n",
       "    </tr>\n",
       "    <tr>\n",
       "      <th>Size_Grade_1M</th>\n",
       "      <td>-0.046532</td>\n",
       "      <td>-0.023629</td>\n",
       "      <td>-0.039365</td>\n",
       "      <td>-0.057071</td>\n",
       "      <td>-0.061837</td>\n",
       "      <td>-0.076261</td>\n",
       "      <td>-0.028461</td>\n",
       "      <td>-0.006856</td>\n",
       "      <td>-0.023882</td>\n",
       "      <td>-0.001329</td>\n",
       "      <td>...</td>\n",
       "      <td>-0.136952</td>\n",
       "      <td>-0.113118</td>\n",
       "      <td>-0.162324</td>\n",
       "      <td>-0.191305</td>\n",
       "      <td>-0.041427</td>\n",
       "      <td>-0.051352</td>\n",
       "      <td>0.002383</td>\n",
       "      <td>0.008921</td>\n",
       "      <td>-0.036828</td>\n",
       "      <td>0.175779</td>\n",
       "    </tr>\n",
       "    <tr>\n",
       "      <th>Size_Grade_1S</th>\n",
       "      <td>0.314679</td>\n",
       "      <td>0.288148</td>\n",
       "      <td>0.331683</td>\n",
       "      <td>0.285465</td>\n",
       "      <td>0.202586</td>\n",
       "      <td>0.306478</td>\n",
       "      <td>0.171355</td>\n",
       "      <td>0.012449</td>\n",
       "      <td>0.035952</td>\n",
       "      <td>0.028307</td>\n",
       "      <td>...</td>\n",
       "      <td>-0.189661</td>\n",
       "      <td>-0.156653</td>\n",
       "      <td>-0.224797</td>\n",
       "      <td>-0.264933</td>\n",
       "      <td>-0.057371</td>\n",
       "      <td>-0.071116</td>\n",
       "      <td>0.036343</td>\n",
       "      <td>-0.032722</td>\n",
       "      <td>0.033693</td>\n",
       "      <td>-0.028506</td>\n",
       "    </tr>\n",
       "    <tr>\n",
       "      <th>Size_Grade_1U</th>\n",
       "      <td>-0.007124</td>\n",
       "      <td>-0.008087</td>\n",
       "      <td>-0.007067</td>\n",
       "      <td>-0.012618</td>\n",
       "      <td>-0.012138</td>\n",
       "      <td>-0.010024</td>\n",
       "      <td>-0.015715</td>\n",
       "      <td>0.005800</td>\n",
       "      <td>-0.007261</td>\n",
       "      <td>0.009691</td>\n",
       "      <td>...</td>\n",
       "      <td>-0.009923</td>\n",
       "      <td>-0.008196</td>\n",
       "      <td>-0.011762</td>\n",
       "      <td>-0.013862</td>\n",
       "      <td>-0.003002</td>\n",
       "      <td>-0.003721</td>\n",
       "      <td>-0.027458</td>\n",
       "      <td>-0.015021</td>\n",
       "      <td>-0.009828</td>\n",
       "      <td>-0.027335</td>\n",
       "    </tr>\n",
       "    <tr>\n",
       "      <th>Size_Grade_1X</th>\n",
       "      <td>-0.068923</td>\n",
       "      <td>-0.025554</td>\n",
       "      <td>-0.030418</td>\n",
       "      <td>-0.075793</td>\n",
       "      <td>-0.100508</td>\n",
       "      <td>-0.081291</td>\n",
       "      <td>-0.044300</td>\n",
       "      <td>0.004457</td>\n",
       "      <td>-0.064184</td>\n",
       "      <td>-0.030633</td>\n",
       "      <td>...</td>\n",
       "      <td>1.000000</td>\n",
       "      <td>-0.079304</td>\n",
       "      <td>-0.113801</td>\n",
       "      <td>-0.134119</td>\n",
       "      <td>-0.029044</td>\n",
       "      <td>-0.036002</td>\n",
       "      <td>-0.052979</td>\n",
       "      <td>0.057331</td>\n",
       "      <td>-0.017556</td>\n",
       "      <td>0.251451</td>\n",
       "    </tr>\n",
       "    <tr>\n",
       "      <th>Size_Grade_2L</th>\n",
       "      <td>-0.080647</td>\n",
       "      <td>-0.084578</td>\n",
       "      <td>-0.092192</td>\n",
       "      <td>-0.105784</td>\n",
       "      <td>-0.085270</td>\n",
       "      <td>-0.097158</td>\n",
       "      <td>-0.086927</td>\n",
       "      <td>-0.014455</td>\n",
       "      <td>0.067404</td>\n",
       "      <td>0.014469</td>\n",
       "      <td>...</td>\n",
       "      <td>-0.079304</td>\n",
       "      <td>1.000000</td>\n",
       "      <td>-0.093996</td>\n",
       "      <td>-0.110778</td>\n",
       "      <td>-0.023989</td>\n",
       "      <td>-0.029736</td>\n",
       "      <td>-0.003626</td>\n",
       "      <td>-0.014642</td>\n",
       "      <td>0.088761</td>\n",
       "      <td>-0.089733</td>\n",
       "    </tr>\n",
       "    <tr>\n",
       "      <th>Size_Grade_2M</th>\n",
       "      <td>-0.083726</td>\n",
       "      <td>-0.104532</td>\n",
       "      <td>-0.118314</td>\n",
       "      <td>-0.109908</td>\n",
       "      <td>-0.037270</td>\n",
       "      <td>-0.093815</td>\n",
       "      <td>-0.086702</td>\n",
       "      <td>0.012357</td>\n",
       "      <td>0.012777</td>\n",
       "      <td>-0.029280</td>\n",
       "      <td>...</td>\n",
       "      <td>-0.113801</td>\n",
       "      <td>-0.093996</td>\n",
       "      <td>1.000000</td>\n",
       "      <td>-0.158966</td>\n",
       "      <td>-0.034424</td>\n",
       "      <td>-0.042672</td>\n",
       "      <td>0.024697</td>\n",
       "      <td>-0.003443</td>\n",
       "      <td>-0.005459</td>\n",
       "      <td>-0.153372</td>\n",
       "    </tr>\n",
       "    <tr>\n",
       "      <th>Size_Grade_2S</th>\n",
       "      <td>-0.064374</td>\n",
       "      <td>-0.102040</td>\n",
       "      <td>-0.118517</td>\n",
       "      <td>-0.132595</td>\n",
       "      <td>-0.027759</td>\n",
       "      <td>-0.100862</td>\n",
       "      <td>-0.008891</td>\n",
       "      <td>0.030314</td>\n",
       "      <td>-0.022811</td>\n",
       "      <td>0.035713</td>\n",
       "      <td>...</td>\n",
       "      <td>-0.134119</td>\n",
       "      <td>-0.110778</td>\n",
       "      <td>-0.158966</td>\n",
       "      <td>1.000000</td>\n",
       "      <td>-0.040570</td>\n",
       "      <td>-0.050290</td>\n",
       "      <td>0.012827</td>\n",
       "      <td>-0.020254</td>\n",
       "      <td>-0.037622</td>\n",
       "      <td>-0.352996</td>\n",
       "    </tr>\n",
       "    <tr>\n",
       "      <th>Size_Grade_2U</th>\n",
       "      <td>-0.029488</td>\n",
       "      <td>-0.032675</td>\n",
       "      <td>-0.035822</td>\n",
       "      <td>-0.040623</td>\n",
       "      <td>-0.032337</td>\n",
       "      <td>-0.035961</td>\n",
       "      <td>-0.046085</td>\n",
       "      <td>0.016977</td>\n",
       "      <td>-0.047931</td>\n",
       "      <td>0.019178</td>\n",
       "      <td>...</td>\n",
       "      <td>-0.029044</td>\n",
       "      <td>-0.023989</td>\n",
       "      <td>-0.034424</td>\n",
       "      <td>-0.040570</td>\n",
       "      <td>1.000000</td>\n",
       "      <td>-0.010890</td>\n",
       "      <td>-0.046890</td>\n",
       "      <td>-0.015282</td>\n",
       "      <td>-0.028763</td>\n",
       "      <td>-0.069457</td>\n",
       "    </tr>\n",
       "    <tr>\n",
       "      <th>Size_Grade_2X</th>\n",
       "      <td>-0.036183</td>\n",
       "      <td>-0.038494</td>\n",
       "      <td>-0.042342</td>\n",
       "      <td>-0.046104</td>\n",
       "      <td>-0.033339</td>\n",
       "      <td>-0.041667</td>\n",
       "      <td>-0.005271</td>\n",
       "      <td>-0.004439</td>\n",
       "      <td>0.013578</td>\n",
       "      <td>-0.026454</td>\n",
       "      <td>...</td>\n",
       "      <td>-0.036002</td>\n",
       "      <td>-0.029736</td>\n",
       "      <td>-0.042672</td>\n",
       "      <td>-0.050290</td>\n",
       "      <td>-0.010890</td>\n",
       "      <td>1.000000</td>\n",
       "      <td>-0.000139</td>\n",
       "      <td>-0.031250</td>\n",
       "      <td>-0.019721</td>\n",
       "      <td>-0.051624</td>\n",
       "    </tr>\n",
       "    <tr>\n",
       "      <th>Season_Spring</th>\n",
       "      <td>0.029092</td>\n",
       "      <td>0.011442</td>\n",
       "      <td>0.027304</td>\n",
       "      <td>0.024760</td>\n",
       "      <td>0.013122</td>\n",
       "      <td>0.042450</td>\n",
       "      <td>-0.125327</td>\n",
       "      <td>0.155289</td>\n",
       "      <td>0.481703</td>\n",
       "      <td>0.089288</td>\n",
       "      <td>...</td>\n",
       "      <td>-0.052979</td>\n",
       "      <td>-0.003626</td>\n",
       "      <td>0.024697</td>\n",
       "      <td>0.012827</td>\n",
       "      <td>-0.046890</td>\n",
       "      <td>-0.000139</td>\n",
       "      <td>1.000000</td>\n",
       "      <td>-0.402150</td>\n",
       "      <td>-0.263108</td>\n",
       "      <td>-0.053468</td>\n",
       "    </tr>\n",
       "    <tr>\n",
       "      <th>Season_Summer</th>\n",
       "      <td>0.018783</td>\n",
       "      <td>0.035123</td>\n",
       "      <td>0.034613</td>\n",
       "      <td>0.069020</td>\n",
       "      <td>0.036170</td>\n",
       "      <td>0.035695</td>\n",
       "      <td>-0.034244</td>\n",
       "      <td>-0.386148</td>\n",
       "      <td>-0.388563</td>\n",
       "      <td>-0.084654</td>\n",
       "      <td>...</td>\n",
       "      <td>0.057331</td>\n",
       "      <td>-0.014642</td>\n",
       "      <td>-0.003443</td>\n",
       "      <td>-0.020254</td>\n",
       "      <td>-0.015282</td>\n",
       "      <td>-0.031250</td>\n",
       "      <td>-0.402150</td>\n",
       "      <td>1.000000</td>\n",
       "      <td>-0.143936</td>\n",
       "      <td>0.185013</td>\n",
       "    </tr>\n",
       "    <tr>\n",
       "      <th>Season_Winter</th>\n",
       "      <td>0.043158</td>\n",
       "      <td>0.051099</td>\n",
       "      <td>0.051895</td>\n",
       "      <td>-0.020775</td>\n",
       "      <td>-0.023310</td>\n",
       "      <td>-0.010217</td>\n",
       "      <td>0.035331</td>\n",
       "      <td>0.055580</td>\n",
       "      <td>0.407720</td>\n",
       "      <td>-0.137579</td>\n",
       "      <td>...</td>\n",
       "      <td>-0.017556</td>\n",
       "      <td>0.088761</td>\n",
       "      <td>-0.005459</td>\n",
       "      <td>-0.037622</td>\n",
       "      <td>-0.028763</td>\n",
       "      <td>-0.019721</td>\n",
       "      <td>-0.263108</td>\n",
       "      <td>-0.143936</td>\n",
       "      <td>1.000000</td>\n",
       "      <td>0.026971</td>\n",
       "    </tr>\n",
       "    <tr>\n",
       "      <th>avg_price_per_kg</th>\n",
       "      <td>-0.337886</td>\n",
       "      <td>-0.141740</td>\n",
       "      <td>-0.164496</td>\n",
       "      <td>0.108473</td>\n",
       "      <td>0.087536</td>\n",
       "      <td>-0.001007</td>\n",
       "      <td>0.105028</td>\n",
       "      <td>-0.135526</td>\n",
       "      <td>0.005205</td>\n",
       "      <td>-0.071334</td>\n",
       "      <td>...</td>\n",
       "      <td>0.251451</td>\n",
       "      <td>-0.089733</td>\n",
       "      <td>-0.153372</td>\n",
       "      <td>-0.352996</td>\n",
       "      <td>-0.069457</td>\n",
       "      <td>-0.051624</td>\n",
       "      <td>-0.053468</td>\n",
       "      <td>0.185013</td>\n",
       "      <td>0.026971</td>\n",
       "      <td>1.000000</td>\n",
       "    </tr>\n",
       "  </tbody>\n",
       "</table>\n",
       "<p>36 rows × 36 columns</p>\n",
       "</div>"
      ],
      "text/plain": [
       "                       Weight_Kg  Low_Price  High_Price  Sales_Total  \\\n",
       "Weight_Kg               1.000000   0.863182    0.905852     0.180518   \n",
       "Low_Price               0.863182   1.000000    0.938140     0.183230   \n",
       "High_Price              0.905852   0.938140    1.000000     0.265672   \n",
       "Sales_Total             0.180518   0.183230    0.265672     1.000000   \n",
       "Total_Qty_Sold         -0.133317  -0.122823   -0.096456     0.771865   \n",
       "Total_Kg_Sold           0.294117   0.269744    0.372282     0.962338   \n",
       "Stock_On_Hand          -0.144105  -0.127677   -0.094174     0.284693   \n",
       "Year                   -0.019772  -0.021276   -0.018911     0.031264   \n",
       "Month                   0.047613   0.039084    0.047717    -0.055853   \n",
       "Day                     0.016251  -0.015764    0.002058    -0.011699   \n",
       "Province_natal          0.182454   0.000035    0.033792    -0.088184   \n",
       "Province_transvaal     -0.012858  -0.006117   -0.012287     0.028536   \n",
       "Province_western_cape  -0.040655   0.070902    0.061907     0.169769   \n",
       "Container_DT063        -0.019039  -0.021828   -0.024103    -0.028371   \n",
       "Container_EC120        -0.155910  -0.136387   -0.131819     0.072059   \n",
       "Container_EF120        -0.056706  -0.042398   -0.051627    -0.072041   \n",
       "Container_EG140        -0.010420  -0.006336   -0.009201     0.005516   \n",
       "Container_IA400         0.999231   0.860219    0.902518     0.172753   \n",
       "Container_JE090        -0.201543  -0.216723   -0.234796    -0.225452   \n",
       "Container_JG110        -0.063095  -0.067325   -0.074943    -0.025977   \n",
       "Container_M4183        -0.146043  -0.073773   -0.074061     0.125820   \n",
       "Container_M6125        -0.020139  -0.016776   -0.020885    -0.031959   \n",
       "Container_M9125        -0.011011  -0.009207   -0.011222    -0.012063   \n",
       "Size_Grade_1M          -0.046532  -0.023629   -0.039365    -0.057071   \n",
       "Size_Grade_1S           0.314679   0.288148    0.331683     0.285465   \n",
       "Size_Grade_1U          -0.007124  -0.008087   -0.007067    -0.012618   \n",
       "Size_Grade_1X          -0.068923  -0.025554   -0.030418    -0.075793   \n",
       "Size_Grade_2L          -0.080647  -0.084578   -0.092192    -0.105784   \n",
       "Size_Grade_2M          -0.083726  -0.104532   -0.118314    -0.109908   \n",
       "Size_Grade_2S          -0.064374  -0.102040   -0.118517    -0.132595   \n",
       "Size_Grade_2U          -0.029488  -0.032675   -0.035822    -0.040623   \n",
       "Size_Grade_2X          -0.036183  -0.038494   -0.042342    -0.046104   \n",
       "Season_Spring           0.029092   0.011442    0.027304     0.024760   \n",
       "Season_Summer           0.018783   0.035123    0.034613     0.069020   \n",
       "Season_Winter           0.043158   0.051099    0.051895    -0.020775   \n",
       "avg_price_per_kg       -0.337886  -0.141740   -0.164496     0.108473   \n",
       "\n",
       "                       Total_Qty_Sold  Total_Kg_Sold  Stock_On_Hand      Year  \\\n",
       "Weight_Kg                   -0.133317       0.294117      -0.144105 -0.019772   \n",
       "Low_Price                   -0.122823       0.269744      -0.127677 -0.021276   \n",
       "High_Price                  -0.096456       0.372282      -0.094174 -0.018911   \n",
       "Sales_Total                  0.771865       0.962338       0.284693  0.031264   \n",
       "Total_Qty_Sold               1.000000       0.651440       0.390168  0.042132   \n",
       "Total_Kg_Sold                0.651440       1.000000       0.229062  0.030462   \n",
       "Stock_On_Hand                0.390168       0.229062       1.000000 -0.045846   \n",
       "Year                         0.042132       0.030462      -0.045846  1.000000   \n",
       "Month                       -0.058639      -0.023098      -0.011749 -0.430853   \n",
       "Day                         -0.020402       0.003238       0.081923 -0.023257   \n",
       "Province_natal              -0.091620      -0.060972      -0.135137 -0.005984   \n",
       "Province_transvaal           0.068735       0.029507      -0.059632  0.020208   \n",
       "Province_western_cape        0.152501       0.141494       0.213179 -0.029474   \n",
       "Container_DT063             -0.029978      -0.026515      -0.029355  0.010057   \n",
       "Container_EC120              0.177089       0.030087       0.138249 -0.005353   \n",
       "Container_EF120             -0.069864      -0.070662      -0.074805  0.005360   \n",
       "Container_EG140              0.006289       0.001132      -0.022123  0.007106   \n",
       "Container_IA400             -0.135627       0.288659      -0.147545 -0.018005   \n",
       "Container_JE090             -0.107026      -0.194275      -0.066647  0.057624   \n",
       "Container_JG110              0.050806      -0.008118      -0.071657 -0.061555   \n",
       "Container_M4183              0.035805       0.058321       0.093458 -0.027531   \n",
       "Container_M6125             -0.031962      -0.029402      -0.032883  0.012997   \n",
       "Container_M9125             -0.010528      -0.011677      -0.022123  0.007106   \n",
       "Size_Grade_1M               -0.061837      -0.076261      -0.028461 -0.006856   \n",
       "Size_Grade_1S                0.202586       0.306478       0.171355  0.012449   \n",
       "Size_Grade_1U               -0.012138      -0.010024      -0.015715  0.005800   \n",
       "Size_Grade_1X               -0.100508      -0.081291      -0.044300  0.004457   \n",
       "Size_Grade_2L               -0.085270      -0.097158      -0.086927 -0.014455   \n",
       "Size_Grade_2M               -0.037270      -0.093815      -0.086702  0.012357   \n",
       "Size_Grade_2S               -0.027759      -0.100862      -0.008891  0.030314   \n",
       "Size_Grade_2U               -0.032337      -0.035961      -0.046085  0.016977   \n",
       "Size_Grade_2X               -0.033339      -0.041667      -0.005271 -0.004439   \n",
       "Season_Spring                0.013122       0.042450      -0.125327  0.155289   \n",
       "Season_Summer                0.036170       0.035695      -0.034244 -0.386148   \n",
       "Season_Winter               -0.023310      -0.010217       0.035331  0.055580   \n",
       "avg_price_per_kg             0.087536      -0.001007       0.105028 -0.135526   \n",
       "\n",
       "                          Month       Day  ...  Size_Grade_1X  Size_Grade_2L  \\\n",
       "Weight_Kg              0.047613  0.016251  ...      -0.068923      -0.080647   \n",
       "Low_Price              0.039084 -0.015764  ...      -0.025554      -0.084578   \n",
       "High_Price             0.047717  0.002058  ...      -0.030418      -0.092192   \n",
       "Sales_Total           -0.055853 -0.011699  ...      -0.075793      -0.105784   \n",
       "Total_Qty_Sold        -0.058639 -0.020402  ...      -0.100508      -0.085270   \n",
       "Total_Kg_Sold         -0.023098  0.003238  ...      -0.081291      -0.097158   \n",
       "Stock_On_Hand         -0.011749  0.081923  ...      -0.044300      -0.086927   \n",
       "Year                  -0.430853 -0.023257  ...       0.004457      -0.014455   \n",
       "Month                  1.000000  0.010012  ...      -0.064184       0.067404   \n",
       "Day                    0.010012  1.000000  ...      -0.030633       0.014469   \n",
       "Province_natal         0.064545  0.035035  ...      -0.076085      -0.062844   \n",
       "Province_transvaal    -0.021836 -0.024992  ...       0.031202      -0.028555   \n",
       "Province_western_cape -0.029776 -0.032181  ...       0.113926      -0.000207   \n",
       "Container_DT063        0.008079  0.005106  ...      -0.017206      -0.014211   \n",
       "Container_EC120       -0.011738  0.019442  ...      -0.169115      -0.139683   \n",
       "Container_EF120        0.020893  0.050822  ...      -0.061508      -0.050804   \n",
       "Container_EG140        0.020312  0.027649  ...      -0.012157      -0.010041   \n",
       "Container_IA400        0.049925  0.018444  ...      -0.085797      -0.070866   \n",
       "Container_JE090        0.030631 -0.005251  ...      -0.197766       0.382186   \n",
       "Container_JG110       -0.019412 -0.000471  ...      -0.066116      -0.012806   \n",
       "Container_M4183       -0.050774 -0.060604  ...       0.471938      -0.168039   \n",
       "Container_M6125       -0.064348  0.010172  ...      -0.022235      -0.018366   \n",
       "Container_M9125       -0.018631 -0.011418  ...      -0.012157      -0.010041   \n",
       "Size_Grade_1M         -0.023882 -0.001329  ...      -0.136952      -0.113118   \n",
       "Size_Grade_1S          0.035952  0.028307  ...      -0.189661      -0.156653   \n",
       "Size_Grade_1U         -0.007261  0.009691  ...      -0.009923      -0.008196   \n",
       "Size_Grade_1X         -0.064184 -0.030633  ...       1.000000      -0.079304   \n",
       "Size_Grade_2L          0.067404  0.014469  ...      -0.079304       1.000000   \n",
       "Size_Grade_2M          0.012777 -0.029280  ...      -0.113801      -0.093996   \n",
       "Size_Grade_2S         -0.022811  0.035713  ...      -0.134119      -0.110778   \n",
       "Size_Grade_2U         -0.047931  0.019178  ...      -0.029044      -0.023989   \n",
       "Size_Grade_2X          0.013578 -0.026454  ...      -0.036002      -0.029736   \n",
       "Season_Spring          0.481703  0.089288  ...      -0.052979      -0.003626   \n",
       "Season_Summer         -0.388563 -0.084654  ...       0.057331      -0.014642   \n",
       "Season_Winter          0.407720 -0.137579  ...      -0.017556       0.088761   \n",
       "avg_price_per_kg       0.005205 -0.071334  ...       0.251451      -0.089733   \n",
       "\n",
       "                       Size_Grade_2M  Size_Grade_2S  Size_Grade_2U  \\\n",
       "Weight_Kg                  -0.083726      -0.064374      -0.029488   \n",
       "Low_Price                  -0.104532      -0.102040      -0.032675   \n",
       "High_Price                 -0.118314      -0.118517      -0.035822   \n",
       "Sales_Total                -0.109908      -0.132595      -0.040623   \n",
       "Total_Qty_Sold             -0.037270      -0.027759      -0.032337   \n",
       "Total_Kg_Sold              -0.093815      -0.100862      -0.035961   \n",
       "Stock_On_Hand              -0.086702      -0.008891      -0.046085   \n",
       "Year                        0.012357       0.030314       0.016977   \n",
       "Month                       0.012777      -0.022811      -0.047931   \n",
       "Day                        -0.029280       0.035713       0.019178   \n",
       "Province_natal             -0.056002       0.221405      -0.023015   \n",
       "Province_transvaal         -0.026611      -0.010035      -0.010458   \n",
       "Province_western_cape      -0.085348      -0.093248       0.043123   \n",
       "Container_DT063             0.036801       0.077513      -0.005205   \n",
       "Container_EC120            -0.200445      -0.182762      -0.051156   \n",
       "Container_EF120            -0.072903      -0.085920      -0.018606   \n",
       "Container_EG140            -0.014409      -0.016982      -0.003677   \n",
       "Container_IA400            -0.070915      -0.048811      -0.025953   \n",
       "Container_JE090             0.411370       0.417872       0.134700   \n",
       "Container_JG110             0.231913       0.176202       0.007017   \n",
       "Container_M4183            -0.241136      -0.284188      -0.061541   \n",
       "Container_M6125            -0.026355      -0.031060      -0.006726   \n",
       "Container_M9125            -0.014409      -0.016982      -0.003677   \n",
       "Size_Grade_1M              -0.162324      -0.191305      -0.041427   \n",
       "Size_Grade_1S              -0.224797      -0.264933      -0.057371   \n",
       "Size_Grade_1U              -0.011762      -0.013862      -0.003002   \n",
       "Size_Grade_1X              -0.113801      -0.134119      -0.029044   \n",
       "Size_Grade_2L              -0.093996      -0.110778      -0.023989   \n",
       "Size_Grade_2M               1.000000      -0.158966      -0.034424   \n",
       "Size_Grade_2S              -0.158966       1.000000      -0.040570   \n",
       "Size_Grade_2U              -0.034424      -0.040570       1.000000   \n",
       "Size_Grade_2X              -0.042672      -0.050290      -0.010890   \n",
       "Season_Spring               0.024697       0.012827      -0.046890   \n",
       "Season_Summer              -0.003443      -0.020254      -0.015282   \n",
       "Season_Winter              -0.005459      -0.037622      -0.028763   \n",
       "avg_price_per_kg           -0.153372      -0.352996      -0.069457   \n",
       "\n",
       "                       Size_Grade_2X  Season_Spring  Season_Summer  \\\n",
       "Weight_Kg                  -0.036183       0.029092       0.018783   \n",
       "Low_Price                  -0.038494       0.011442       0.035123   \n",
       "High_Price                 -0.042342       0.027304       0.034613   \n",
       "Sales_Total                -0.046104       0.024760       0.069020   \n",
       "Total_Qty_Sold             -0.033339       0.013122       0.036170   \n",
       "Total_Kg_Sold              -0.041667       0.042450       0.035695   \n",
       "Stock_On_Hand              -0.005271      -0.125327      -0.034244   \n",
       "Year                       -0.004439       0.155289      -0.386148   \n",
       "Month                       0.013578       0.481703      -0.388563   \n",
       "Day                        -0.026454       0.089288      -0.084654   \n",
       "Province_natal             -0.028529       0.120751      -0.034618   \n",
       "Province_transvaal         -0.012963       0.036051       0.008127   \n",
       "Province_western_cape       0.053455      -0.110661       0.061384   \n",
       "Container_DT063            -0.006452      -0.028880      -0.026044   \n",
       "Container_EC120            -0.063412       0.025139       0.016519   \n",
       "Container_EF120            -0.023064       0.079521      -0.051243   \n",
       "Container_EG140            -0.004558       0.045759      -0.018402   \n",
       "Container_IA400            -0.032171       0.032694       0.015204   \n",
       "Container_JE090             0.162335       0.012865      -0.087810   \n",
       "Container_JG110            -0.002894      -0.005140       0.082740   \n",
       "Container_M4183            -0.066545      -0.095172       0.060897   \n",
       "Container_M6125            -0.008337      -0.047003       0.059666   \n",
       "Container_M9125            -0.004558      -0.033638      -0.018402   \n",
       "Size_Grade_1M              -0.051352       0.002383       0.008921   \n",
       "Size_Grade_1S              -0.071116       0.036343      -0.032722   \n",
       "Size_Grade_1U              -0.003721      -0.027458      -0.015021   \n",
       "Size_Grade_1X              -0.036002      -0.052979       0.057331   \n",
       "Size_Grade_2L              -0.029736      -0.003626      -0.014642   \n",
       "Size_Grade_2M              -0.042672       0.024697      -0.003443   \n",
       "Size_Grade_2S              -0.050290       0.012827      -0.020254   \n",
       "Size_Grade_2U              -0.010890      -0.046890      -0.015282   \n",
       "Size_Grade_2X               1.000000      -0.000139      -0.031250   \n",
       "Season_Spring              -0.000139       1.000000      -0.402150   \n",
       "Season_Summer              -0.031250      -0.402150       1.000000   \n",
       "Season_Winter              -0.019721      -0.263108      -0.143936   \n",
       "avg_price_per_kg           -0.051624      -0.053468       0.185013   \n",
       "\n",
       "                       Season_Winter  avg_price_per_kg  \n",
       "Weight_Kg                   0.043158         -0.337886  \n",
       "Low_Price                   0.051099         -0.141740  \n",
       "High_Price                  0.051895         -0.164496  \n",
       "Sales_Total                -0.020775          0.108473  \n",
       "Total_Qty_Sold             -0.023310          0.087536  \n",
       "Total_Kg_Sold              -0.010217         -0.001007  \n",
       "Stock_On_Hand               0.035331          0.105028  \n",
       "Year                        0.055580         -0.135526  \n",
       "Month                       0.407720          0.005205  \n",
       "Day                        -0.137579         -0.071334  \n",
       "Province_natal             -0.035914         -0.379801  \n",
       "Province_transvaal         -0.034238         -0.031562  \n",
       "Province_western_cape       0.040161          0.385262  \n",
       "Container_DT063             0.048955         -0.059579  \n",
       "Container_EC120            -0.032827          0.188162  \n",
       "Container_EF120            -0.051351          0.114297  \n",
       "Container_EG140            -0.012040          0.023753  \n",
       "Container_IA400             0.042878         -0.355565  \n",
       "Container_JE090             0.033724         -0.322235  \n",
       "Container_JG110            -0.056527         -0.140148  \n",
       "Container_M4183             0.021473          0.403229  \n",
       "Container_M6125            -0.022021          0.007568  \n",
       "Container_M9125            -0.012040          0.002812  \n",
       "Size_Grade_1M              -0.036828          0.175779  \n",
       "Size_Grade_1S               0.033693         -0.028506  \n",
       "Size_Grade_1U              -0.009828         -0.027335  \n",
       "Size_Grade_1X              -0.017556          0.251451  \n",
       "Size_Grade_2L               0.088761         -0.089733  \n",
       "Size_Grade_2M              -0.005459         -0.153372  \n",
       "Size_Grade_2S              -0.037622         -0.352996  \n",
       "Size_Grade_2U              -0.028763         -0.069457  \n",
       "Size_Grade_2X              -0.019721         -0.051624  \n",
       "Season_Spring              -0.263108         -0.053468  \n",
       "Season_Summer              -0.143936          0.185013  \n",
       "Season_Winter               1.000000          0.026971  \n",
       "avg_price_per_kg            0.026971          1.000000  \n",
       "\n",
       "[36 rows x 36 columns]"
      ]
     },
     "execution_count": 259,
     "metadata": {},
     "output_type": "execute_result"
    }
   ],
   "source": [
    "df_dummies.corr()"
   ]
  },
  {
   "cell_type": "markdown",
   "metadata": {},
   "source": [
    "Correlation heatmap"
   ]
  },
  {
   "cell_type": "code",
   "execution_count": 260,
   "metadata": {},
   "outputs": [
    {
     "data": {
      "text/plain": [
       "<AxesSubplot:>"
      ]
     },
     "execution_count": 260,
     "metadata": {},
     "output_type": "execute_result"
    },
    {
     "data": {
      "image/png": "[encoded data removed]",
      "text/plain": [
       "<Figure size 432x288 with 2 Axes>"
      ]
     },
     "metadata": {
      "needs_background": "light"
     },
     "output_type": "display_data"
    }
   ],
   "source": [
    "from statsmodels.graphics.correlation import plot_corr\n",
    "\n",
    "sns.heatmap(df2.corr(), vmin = -1, vmax =1, annot = True)"
   ]
  },
  {
   "cell_type": "markdown",
   "metadata": {},
   "source": [
    "# 7. Regression Models training "
   ]
  },
  {
   "cell_type": "markdown",
   "metadata": {},
   "source": [
    "# 7.1 Training the model on Non-Scaled Data"
   ]
  },
  {
   "cell_type": "code",
   "execution_count": 261,
   "metadata": {},
   "outputs": [],
   "source": [
    "# isolating X and Y\n",
    "y = df_dummies.avg_price_per_kg\n",
    "X = df_dummies.iloc[:,:-1]"
   ]
  },
  {
   "cell_type": "code",
   "execution_count": 262,
   "metadata": {},
   "outputs": [],
   "source": [
    "X_train, X_test, y_train, y_test = train_test_split(X, y, test_size = 0.2,random_state=42)"
   ]
  },
  {
   "cell_type": "markdown",
   "metadata": {},
   "source": [
    "### Training the Multiple Linear Regression model on the Training set"
   ]
  },
  {
   "cell_type": "code",
   "execution_count": 263,
   "metadata": {},
   "outputs": [],
   "source": [
    "\n",
    "# Function to fit data, make predictions, and evaluate model\n",
    "def rmse(y_test, y_pred):\n",
    "    return np.sqrt(mean_squared_error(y_pred,y_test))\n",
    "    \n",
    "# Takes in a model, trains the model, and evaluates the model on the test set\n",
    "def fit_and_evaluate(model,X,y):\n",
    "    \n",
    "  \n",
    "    # Train the model\n",
    "    model.fit(X_train, y_train)\n",
    "    \n",
    "    # Make predictions and evalute\n",
    "    train_pred = model.predict(X_train)\n",
    "    test_pred = model.predict(X_test)\n",
    "    \n",
    "    train_rmse = rmse(y_train, train_pred)\n",
    "    test_rmse = rmse(y_test, test_pred)\n",
    "    \n",
    "    df = {'Train RMSE': train_rmse,'Test RMSE': test_rmse}\n",
    "    \n",
    "    return df"
   ]
  },
  {
   "cell_type": "code",
   "execution_count": 264,
   "metadata": {},
   "outputs": [],
   "source": [
    "from sklearn.linear_model import LinearRegression\n",
    "regressor = LinearRegression()"
   ]
  },
  {
   "cell_type": "code",
   "execution_count": 265,
   "metadata": {},
   "outputs": [
    {
     "data": {
      "text/plain": [
       "{'Train RMSE': 1.3584208111304288, 'Test RMSE': 1.4062470314567805}"
      ]
     },
     "execution_count": 265,
     "metadata": {},
     "output_type": "execute_result"
    }
   ],
   "source": [
    "fit_and_evaluate(regressor,X_train,y_train)"
   ]
  },
  {
   "cell_type": "markdown",
   "metadata": {},
   "source": [
    "### Training the Polynomial Regression model on the whole dataset"
   ]
  },
  {
   "cell_type": "code",
   "execution_count": 167,
   "metadata": {},
   "outputs": [],
   "source": [
    "from sklearn.preprocessing import PolynomialFeatures\n",
    "poly_reg = PolynomialFeatures(degree = 4, include_bias= False)\n",
    "X_poly = poly_reg.fit(X_train)"
   ]
  },
  {
   "cell_type": "code",
   "execution_count": 168,
   "metadata": {},
   "outputs": [],
   "source": [
    "X_poly2 = X_poly.transform(X_train)"
   ]
  },
  {
   "cell_type": "code",
   "execution_count": 169,
   "metadata": {},
   "outputs": [
    {
     "data": {
      "text/plain": [
       "array([[ 18.3, 100. , 140. , ...,   0. ,   0. ,   0. ],\n",
       "       [ 12. , 120. , 120. , ...,   0. ,   0. ,   0. ],\n",
       "       [  9. ,  55. ,  55. , ...,   0. ,   0. ,   0. ],\n",
       "       ...,\n",
       "       [  9. ,  60. ,  70. , ...,   0. ,   0. ,   0. ],\n",
       "       [ 12. ,  85. ,  85. , ...,   0. ,   0. ,   0. ],\n",
       "       [ 12. , 120. , 120. , ...,   0. ,   0. ,   0. ]])"
      ]
     },
     "execution_count": 169,
     "metadata": {},
     "output_type": "execute_result"
    }
   ],
   "source": [
    "X_poly2"
   ]
  },
  {
   "cell_type": "code",
   "execution_count": 170,
   "metadata": {},
   "outputs": [],
   "source": [
    "# Creating and fiting a polynomial model\n",
    "p_reg = LinearRegression().fit(X_poly2,y_train)"
   ]
  },
  {
   "cell_type": "code",
   "execution_count": 171,
   "metadata": {},
   "outputs": [
    {
     "data": {
      "text/plain": [
       "LinearRegression()"
      ]
     },
     "execution_count": 171,
     "metadata": {},
     "output_type": "execute_result"
    }
   ],
   "source": [
    "p_reg"
   ]
  },
  {
   "cell_type": "code",
   "execution_count": 172,
   "metadata": {},
   "outputs": [
    {
     "name": "stdout",
     "output_type": "stream",
     "text": [
      "8.59397353566567\n"
     ]
    }
   ],
   "source": [
    "# Extract the model intercept value\n",
    "b0 = float(p_reg.intercept_)\n",
    "print(b0)"
   ]
  },
  {
   "cell_type": "code",
   "execution_count": 173,
   "metadata": {},
   "outputs": [
    {
     "data": {
      "text/plain": [
       "91389"
      ]
     },
     "execution_count": 173,
     "metadata": {},
     "output_type": "execute_result"
    }
   ],
   "source": [
    "len( p_reg.coef_ )"
   ]
  },
  {
   "cell_type": "code",
   "execution_count": 174,
   "metadata": {},
   "outputs": [
    {
     "data": {
      "text/plain": [
       "{'Train RMSE': 1.3427011035311338, 'Test RMSE': 1.37505883130359}"
      ]
     },
     "execution_count": 174,
     "metadata": {},
     "output_type": "execute_result"
    }
   ],
   "source": [
    "fit_and_evaluate(p_reg,X_poly2,y_train)"
   ]
  },
  {
   "cell_type": "code",
   "execution_count": null,
   "metadata": {},
   "outputs": [],
   "source": []
  },
  {
   "cell_type": "markdown",
   "metadata": {},
   "source": [
    "### Training the SVR model on the whole dataset"
   ]
  },
  {
   "cell_type": "code",
   "execution_count": 266,
   "metadata": {},
   "outputs": [],
   "source": [
    "from sklearn.svm import SVR\n",
    "SVregressor = SVR(kernel = 'rbf')"
   ]
  },
  {
   "cell_type": "code",
   "execution_count": 267,
   "metadata": {},
   "outputs": [
    {
     "data": {
      "text/plain": [
       "{'Train RMSE': 2.0495025630787125, 'Test RMSE': 1.9697279119568876}"
      ]
     },
     "execution_count": 267,
     "metadata": {},
     "output_type": "execute_result"
    }
   ],
   "source": [
    "fit_and_evaluate(SVregressor,X_train,y_train)"
   ]
  },
  {
   "cell_type": "markdown",
   "metadata": {},
   "source": [
    "### Training the Decision Tree Regression model on the whole dataset"
   ]
  },
  {
   "cell_type": "code",
   "execution_count": 268,
   "metadata": {},
   "outputs": [],
   "source": [
    "from sklearn.tree import DecisionTreeRegressor\n",
    "DTregressor = DecisionTreeRegressor(random_state = 0)"
   ]
  },
  {
   "cell_type": "code",
   "execution_count": 269,
   "metadata": {},
   "outputs": [
    {
     "data": {
      "text/plain": [
       "{'Train RMSE': 9.203134570140007e-16, 'Test RMSE': 0.7682415900385513}"
      ]
     },
     "execution_count": 269,
     "metadata": {},
     "output_type": "execute_result"
    }
   ],
   "source": [
    "fit_and_evaluate(DTregressor,X_train,y_train)"
   ]
  },
  {
   "cell_type": "markdown",
   "metadata": {},
   "source": [
    "### Training the Random Forest Regression model on the whole dataset"
   ]
  },
  {
   "cell_type": "code",
   "execution_count": 270,
   "metadata": {},
   "outputs": [],
   "source": [
    "from sklearn.ensemble import RandomForestRegressor\n",
    "RFregressor = RandomForestRegressor(n_estimators = 10, random_state = 0)"
   ]
  },
  {
   "cell_type": "code",
   "execution_count": 271,
   "metadata": {},
   "outputs": [
    {
     "data": {
      "text/plain": [
       "{'Train RMSE': 0.263189828774844, 'Test RMSE': 0.5833037444693978}"
      ]
     },
     "execution_count": 271,
     "metadata": {},
     "output_type": "execute_result"
    }
   ],
   "source": [
    "fit_and_evaluate(RFregressor,X_train,y_train)"
   ]
  },
  {
   "cell_type": "code",
   "execution_count": 272,
   "metadata": {},
   "outputs": [
    {
     "data": {
      "text/plain": [
       "array([ 1.054,  6.724,  5.56 ,  5.56 ,  7.109, 10.604, 11.255,  4.177,\n",
       "        9.879,  7.418,  6.163,  7.644,  4.818,  6.211,  2.748,  6.444,\n",
       "        5.979,  9.838,  6.873,  2.12 ])"
      ]
     },
     "execution_count": 272,
     "metadata": {},
     "output_type": "execute_result"
    }
   ],
   "source": [
    "X = df2[['Weight_Kg', 'Low_Price', 'High_Price', 'Sales_Total', 'Total_Qty_Sold', 'Total_Kg_Sold', 'Stock_On_Hand']].values\n",
    "X_train, X_test, y_train, y_test = train_test_split(X, y, test_size = 0.2, random_state = 4)\n",
    "RFregressor.fit(X_train, y_train)\n",
    "new_pred= RFregressor.predict(X_test)\n",
    "new_pred [:20]"
   ]
  },
  {
   "cell_type": "markdown",
   "metadata": {},
   "source": [
    "### Training Ridge and Lasso Regression"
   ]
  },
  {
   "cell_type": "markdown",
   "metadata": {},
   "source": [
    "#### Ridge Regression"
   ]
  },
  {
   "cell_type": "code",
   "execution_count": 273,
   "metadata": {},
   "outputs": [],
   "source": [
    "# Import the ridge regression module from sklearn\n",
    "from sklearn.linear_model import Ridge"
   ]
  },
  {
   "cell_type": "code",
   "execution_count": 274,
   "metadata": {},
   "outputs": [],
   "source": [
    "# Create ridge model\n",
    "ridge = Ridge()"
   ]
  },
  {
   "cell_type": "code",
   "execution_count": 275,
   "metadata": {},
   "outputs": [
    {
     "data": {
      "text/plain": [
       "{'Train RMSE': 1.7809663048312414, 'Test RMSE': 1.8077319868321178}"
      ]
     },
     "execution_count": 275,
     "metadata": {},
     "output_type": "execute_result"
    }
   ],
   "source": [
    "fit_and_evaluate(ridge,X_train,y_train)"
   ]
  },
  {
   "cell_type": "markdown",
   "metadata": {},
   "source": [
    "#### Lasso Regression"
   ]
  },
  {
   "cell_type": "code",
   "execution_count": 276,
   "metadata": {},
   "outputs": [],
   "source": [
    "# Import LASSO module\n",
    "from sklearn.linear_model import Lasso"
   ]
  },
  {
   "cell_type": "code",
   "execution_count": 277,
   "metadata": {},
   "outputs": [],
   "source": [
    "# Create LASSO model object, setting alpha to 0.01\n",
    "lasso = Lasso(alpha=0.01)"
   ]
  },
  {
   "cell_type": "code",
   "execution_count": 278,
   "metadata": {},
   "outputs": [
    {
     "data": {
      "text/plain": [
       "{'Train RMSE': 1.7809663271166751, 'Test RMSE': 1.8077433856176137}"
      ]
     },
     "execution_count": 278,
     "metadata": {},
     "output_type": "execute_result"
    }
   ],
   "source": [
    "fit_and_evaluate(lasso,X_train,y_train)"
   ]
  },
  {
   "cell_type": "markdown",
   "metadata": {},
   "source": [
    "## Gradient Boosting Classifier"
   ]
  },
  {
   "cell_type": "code",
   "execution_count": 279,
   "metadata": {},
   "outputs": [],
   "source": [
    "from sklearn.metrics import classification_report, confusion_matrix\n",
    "from sklearn.ensemble import GradientBoostingClassifier"
   ]
  },
  {
   "cell_type": "code",
   "execution_count": 280,
   "metadata": {},
   "outputs": [],
   "source": [
    "glc = GradientBoostingClassifier()"
   ]
  },
  {
   "cell_type": "code",
   "execution_count": 281,
   "metadata": {},
   "outputs": [
    {
     "ename": "ValueError",
     "evalue": "Unknown label type: 'continuous'",
     "output_type": "error",
     "traceback": [
      "\u001b[1;31m---------------------------------------------------------------------------\u001b[0m",
      "\u001b[1;31mValueError\u001b[0m                                Traceback (most recent call last)",
      "\u001b[1;32m<ipython-input-281-44ad5c11afcf>\u001b[0m in \u001b[0;36m<module>\u001b[1;34m\u001b[0m\n\u001b[1;32m----> 1\u001b[1;33m \u001b[0mglc\u001b[0m\u001b[1;33m.\u001b[0m\u001b[0mfit\u001b[0m\u001b[1;33m(\u001b[0m\u001b[0mX_train\u001b[0m\u001b[1;33m,\u001b[0m\u001b[0my_train\u001b[0m\u001b[1;33m)\u001b[0m\u001b[1;33m\u001b[0m\u001b[1;33m\u001b[0m\u001b[0m\n\u001b[0m",
      "\u001b[1;32m~\\anaconda3\\lib\\site-packages\\sklearn\\ensemble\\_gb.py\u001b[0m in \u001b[0;36mfit\u001b[1;34m(self, X, y, sample_weight, monitor)\u001b[0m\n\u001b[0;32m    421\u001b[0m \u001b[1;33m\u001b[0m\u001b[0m\n\u001b[0;32m    422\u001b[0m         \u001b[1;32mif\u001b[0m \u001b[0mis_classifier\u001b[0m\u001b[1;33m(\u001b[0m\u001b[0mself\u001b[0m\u001b[1;33m)\u001b[0m\u001b[1;33m:\u001b[0m\u001b[1;33m\u001b[0m\u001b[1;33m\u001b[0m\u001b[0m\n\u001b[1;32m--> 423\u001b[1;33m             \u001b[0my\u001b[0m \u001b[1;33m=\u001b[0m \u001b[0mself\u001b[0m\u001b[1;33m.\u001b[0m\u001b[0m_validate_y\u001b[0m\u001b[1;33m(\u001b[0m\u001b[0my\u001b[0m\u001b[1;33m,\u001b[0m \u001b[0msample_weight\u001b[0m\u001b[1;33m)\u001b[0m\u001b[1;33m\u001b[0m\u001b[1;33m\u001b[0m\u001b[0m\n\u001b[0m\u001b[0;32m    424\u001b[0m         \u001b[1;32melse\u001b[0m\u001b[1;33m:\u001b[0m\u001b[1;33m\u001b[0m\u001b[1;33m\u001b[0m\u001b[0m\n\u001b[0;32m    425\u001b[0m             \u001b[0my\u001b[0m \u001b[1;33m=\u001b[0m \u001b[0mself\u001b[0m\u001b[1;33m.\u001b[0m\u001b[0m_validate_y\u001b[0m\u001b[1;33m(\u001b[0m\u001b[0my\u001b[0m\u001b[1;33m)\u001b[0m\u001b[1;33m\u001b[0m\u001b[1;33m\u001b[0m\u001b[0m\n",
      "\u001b[1;32m~\\anaconda3\\lib\\site-packages\\sklearn\\ensemble\\_gb.py\u001b[0m in \u001b[0;36m_validate_y\u001b[1;34m(self, y, sample_weight)\u001b[0m\n\u001b[0;32m   1101\u001b[0m \u001b[1;33m\u001b[0m\u001b[0m\n\u001b[0;32m   1102\u001b[0m     \u001b[1;32mdef\u001b[0m \u001b[0m_validate_y\u001b[0m\u001b[1;33m(\u001b[0m\u001b[0mself\u001b[0m\u001b[1;33m,\u001b[0m \u001b[0my\u001b[0m\u001b[1;33m,\u001b[0m \u001b[0msample_weight\u001b[0m\u001b[1;33m)\u001b[0m\u001b[1;33m:\u001b[0m\u001b[1;33m\u001b[0m\u001b[1;33m\u001b[0m\u001b[0m\n\u001b[1;32m-> 1103\u001b[1;33m         \u001b[0mcheck_classification_targets\u001b[0m\u001b[1;33m(\u001b[0m\u001b[0my\u001b[0m\u001b[1;33m)\u001b[0m\u001b[1;33m\u001b[0m\u001b[1;33m\u001b[0m\u001b[0m\n\u001b[0m\u001b[0;32m   1104\u001b[0m         \u001b[0mself\u001b[0m\u001b[1;33m.\u001b[0m\u001b[0mclasses_\u001b[0m\u001b[1;33m,\u001b[0m \u001b[0my\u001b[0m \u001b[1;33m=\u001b[0m \u001b[0mnp\u001b[0m\u001b[1;33m.\u001b[0m\u001b[0munique\u001b[0m\u001b[1;33m(\u001b[0m\u001b[0my\u001b[0m\u001b[1;33m,\u001b[0m \u001b[0mreturn_inverse\u001b[0m\u001b[1;33m=\u001b[0m\u001b[1;32mTrue\u001b[0m\u001b[1;33m)\u001b[0m\u001b[1;33m\u001b[0m\u001b[1;33m\u001b[0m\u001b[0m\n\u001b[0;32m   1105\u001b[0m         \u001b[0mn_trim_classes\u001b[0m \u001b[1;33m=\u001b[0m \u001b[0mnp\u001b[0m\u001b[1;33m.\u001b[0m\u001b[0mcount_nonzero\u001b[0m\u001b[1;33m(\u001b[0m\u001b[0mnp\u001b[0m\u001b[1;33m.\u001b[0m\u001b[0mbincount\u001b[0m\u001b[1;33m(\u001b[0m\u001b[0my\u001b[0m\u001b[1;33m,\u001b[0m \u001b[0msample_weight\u001b[0m\u001b[1;33m)\u001b[0m\u001b[1;33m)\u001b[0m\u001b[1;33m\u001b[0m\u001b[1;33m\u001b[0m\u001b[0m\n",
      "\u001b[1;32m~\\anaconda3\\lib\\site-packages\\sklearn\\utils\\multiclass.py\u001b[0m in \u001b[0;36mcheck_classification_targets\u001b[1;34m(y)\u001b[0m\n\u001b[0;32m    181\u001b[0m     if y_type not in ['binary', 'multiclass', 'multiclass-multioutput',\n\u001b[0;32m    182\u001b[0m                       'multilabel-indicator', 'multilabel-sequences']:\n\u001b[1;32m--> 183\u001b[1;33m         \u001b[1;32mraise\u001b[0m \u001b[0mValueError\u001b[0m\u001b[1;33m(\u001b[0m\u001b[1;34m\"Unknown label type: %r\"\u001b[0m \u001b[1;33m%\u001b[0m \u001b[0my_type\u001b[0m\u001b[1;33m)\u001b[0m\u001b[1;33m\u001b[0m\u001b[1;33m\u001b[0m\u001b[0m\n\u001b[0m\u001b[0;32m    184\u001b[0m \u001b[1;33m\u001b[0m\u001b[0m\n\u001b[0;32m    185\u001b[0m \u001b[1;33m\u001b[0m\u001b[0m\n",
      "\u001b[1;31mValueError\u001b[0m: Unknown label type: 'continuous'"
     ]
    }
   ],
   "source": [
    "glc.fit(X_train,y_train)"
   ]
  },
  {
   "cell_type": "markdown",
   "metadata": {},
   "source": [
    "## Boosting "
   ]
  },
  {
   "cell_type": "code",
   "execution_count": 282,
   "metadata": {},
   "outputs": [],
   "source": [
    "from sklearn.ensemble import AdaBoostRegressor"
   ]
  },
  {
   "cell_type": "code",
   "execution_count": 283,
   "metadata": {},
   "outputs": [],
   "source": [
    "# Instantiate decision tree regression model to use as the base model\n",
    "d_tree = DecisionTreeRegressor(max_depth=10, random_state=42)\n",
    "# Instantiate AdaBoostRegressor model with a decision tree as the base model\n",
    "bst_reg = AdaBoostRegressor(base_estimator = d_tree)"
   ]
  },
  {
   "cell_type": "code",
   "execution_count": 284,
   "metadata": {},
   "outputs": [
    {
     "data": {
      "text/plain": [
       "AdaBoostRegressor(base_estimator=DecisionTreeRegressor(max_depth=10,\n",
       "                                                       random_state=42))"
      ]
     },
     "execution_count": 284,
     "metadata": {},
     "output_type": "execute_result"
    }
   ],
   "source": [
    "bst_reg.fit(X_train, y_train)"
   ]
  },
  {
   "cell_type": "code",
   "execution_count": 285,
   "metadata": {},
   "outputs": [
    {
     "name": "stdout",
     "output_type": "stream",
     "text": [
      "RMSE:  0.46286275580328484\n"
     ]
    }
   ],
   "source": [
    "y_pred_2 = bst_reg.predict(X_test)\n",
    "print(\"RMSE: \", np.sqrt(metrics.mean_squared_error(y_test, y_pred_2)))\n"
   ]
  },
  {
   "cell_type": "markdown",
   "metadata": {},
   "source": [
    "### Bagging (AKA Bootstrap Aggregating)"
   ]
  },
  {
   "cell_type": "code",
   "execution_count": 286,
   "metadata": {},
   "outputs": [],
   "source": [
    "from sklearn.ensemble import BaggingRegressor"
   ]
  },
  {
   "cell_type": "code",
   "execution_count": 287,
   "metadata": {},
   "outputs": [],
   "source": [
    "# Instantiate decision tree regression model to use as the base model\n",
    "d_tree = DecisionTreeRegressor(max_depth=4)\n",
    "# Instantiate BaggingRegressor model with a decision tree as the base model\n",
    "bag_reg = BaggingRegressor(base_estimator = d_tree)"
   ]
  },
  {
   "cell_type": "code",
   "execution_count": 288,
   "metadata": {},
   "outputs": [
    {
     "data": {
      "text/plain": [
       "BaggingRegressor(base_estimator=DecisionTreeRegressor(max_depth=4))"
      ]
     },
     "execution_count": 288,
     "metadata": {},
     "output_type": "execute_result"
    }
   ],
   "source": [
    "bag_reg.fit(X_train,y_train)"
   ]
  },
  {
   "cell_type": "code",
   "execution_count": 289,
   "metadata": {},
   "outputs": [
    {
     "name": "stdout",
     "output_type": "stream",
     "text": [
      "RMSE:  0.9517669653773032\n"
     ]
    }
   ],
   "source": [
    "y_pred = bag_reg.predict(X_test)\n",
    "print(\"RMSE: \", np.sqrt(mean_squared_error(y_test,y_pred)))"
   ]
  },
  {
   "cell_type": "markdown",
   "metadata": {},
   "source": [
    "### XG Boost"
   ]
  },
  {
   "cell_type": "code",
   "execution_count": 290,
   "metadata": {},
   "outputs": [],
   "source": [
    "import xgboost as xg\n",
    "from sklearn.metrics import mean_squared_error as MSE"
   ]
  },
  {
   "cell_type": "code",
   "execution_count": 291,
   "metadata": {},
   "outputs": [],
   "source": [
    "# Instantiation\n",
    "xgb_r = xg.XGBRegressor(objective ='reg:linear',\n",
    "                  n_estimators = 10, seed = 123)"
   ]
  },
  {
   "cell_type": "code",
   "execution_count": 292,
   "metadata": {},
   "outputs": [
    {
     "name": "stdout",
     "output_type": "stream",
     "text": [
      "[13:09:32] WARNING: C:/Users/Administrator/workspace/xgboost-win64_release_1.4.0/src/objective/regression_obj.cu:171: reg:linear is now deprecated in favor of reg:squarederror.\n"
     ]
    },
    {
     "data": {
      "text/plain": [
       "XGBRegressor(base_score=0.5, booster='gbtree', colsample_bylevel=1,\n",
       "             colsample_bynode=1, colsample_bytree=1, gamma=0, gpu_id=-1,\n",
       "             importance_type='gain', interaction_constraints='',\n",
       "             learning_rate=0.300000012, max_delta_step=0, max_depth=6,\n",
       "             min_child_weight=1, missing=nan, monotone_constraints='()',\n",
       "             n_estimators=10, n_jobs=2, num_parallel_tree=1,\n",
       "             objective='reg:linear', random_state=123, reg_alpha=0,\n",
       "             reg_lambda=1, scale_pos_weight=1, seed=123, subsample=1,\n",
       "             tree_method='exact', validate_parameters=1, verbosity=None)"
      ]
     },
     "execution_count": 292,
     "metadata": {},
     "output_type": "execute_result"
    }
   ],
   "source": [
    "# Fitting the model\n",
    "xgb_r.fit(X_train, y_train)"
   ]
  },
  {
   "cell_type": "code",
   "execution_count": 293,
   "metadata": {},
   "outputs": [],
   "source": [
    "# Predict the model\n",
    "pred = xgb_r.predict(X_test)"
   ]
  },
  {
   "cell_type": "code",
   "execution_count": 294,
   "metadata": {},
   "outputs": [
    {
     "name": "stdout",
     "output_type": "stream",
     "text": [
      "RMSE :  0.554359\n"
     ]
    }
   ],
   "source": [
    "# RMSE Computation\n",
    "rmse = np.sqrt(MSE(y_test, pred))\n",
    "print(\"RMSE : % f\" %(rmse))"
   ]
  },
  {
   "cell_type": "code",
   "execution_count": null,
   "metadata": {},
   "outputs": [],
   "source": []
  },
  {
   "cell_type": "code",
   "execution_count": null,
   "metadata": {},
   "outputs": [],
   "source": []
  },
  {
   "cell_type": "code",
   "execution_count": null,
   "metadata": {},
   "outputs": [],
   "source": []
  },
  {
   "cell_type": "markdown",
   "metadata": {},
   "source": [
    "# 7.2 Training the model on Scaled Data "
   ]
  },
  {
   "cell_type": "code",
   "execution_count": 295,
   "metadata": {},
   "outputs": [],
   "source": [
    "# Import scaler method from sklearn\n",
    "from sklearn.preprocessing import StandardScaler"
   ]
  },
  {
   "cell_type": "code",
   "execution_count": 296,
   "metadata": {},
   "outputs": [],
   "source": [
    "scaler = StandardScaler()"
   ]
  },
  {
   "cell_type": "code",
   "execution_count": 297,
   "metadata": {},
   "outputs": [],
   "source": [
    "# Save standardized features into new variable\n",
    "X_scaled = scaler.fit_transform(X)"
   ]
  },
  {
   "cell_type": "code",
   "execution_count": 307,
   "metadata": {},
   "outputs": [
    {
     "ename": "IndentationError",
     "evalue": "unexpected indent (<ipython-input-307-7842355412ad>, line 3)",
     "output_type": "error",
     "traceback": [
      "\u001b[1;36m  File \u001b[1;32m\"<ipython-input-307-7842355412ad>\"\u001b[1;36m, line \u001b[1;32m3\u001b[0m\n\u001b[1;33m    X_train2 = X_train\u001b[0m\n\u001b[1;37m    ^\u001b[0m\n\u001b[1;31mIndentationError\u001b[0m\u001b[1;31m:\u001b[0m unexpected indent\n"
     ]
    }
   ],
   "source": [
    "X_train , X_test, y_train, y_test = train_test_split(X_scaled, y, test_size = 0.2,random_state=42)\n",
    "    \n",
    "    X_train2 = X_train\n",
    "    X_test2 = X_test\n",
    "    y_train2 = y_train\n",
    "    y_test2 = y_test   "
   ]
  },
  {
   "cell_type": "code",
   "execution_count": 302,
   "metadata": {},
   "outputs": [],
   "source": [
    "def fit_and_evaluate_st(model,X,y):\n",
    "    \n",
    "    # Convert the scaled predictor values into a dataframe\n",
    "    #X_standardise = pd.DataFrame(X_scaled,columns=X.columns)\n",
    "    \n",
    "\n",
    "    # Train the model\n",
    "    model.fit(X_train2, y_train2)\n",
    "    \n",
    "    # Make predictions and evalute\n",
    "    train_pred2 = model.predict(X_train2)\n",
    "    test_pred2 = model.predict(X_test2)\n",
    "    \n",
    "    train_rmse2 = rmse(y_train2, train_pred2)\n",
    "    test_rmse2 = rmse(y_test2, test_pred2)\n",
    "    \n",
    "    df2 = {'Train RMSE': train_rmse2,'Test RMSE': test_rmse2}\n",
    "    \n",
    "    return df2"
   ]
  },
  {
   "cell_type": "markdown",
   "metadata": {},
   "source": [
    "### Linear Regression"
   ]
  },
  {
   "cell_type": "code",
   "execution_count": 303,
   "metadata": {},
   "outputs": [
    {
     "ename": "TypeError",
     "evalue": "'numpy.float64' object is not callable",
     "output_type": "error",
     "traceback": [
      "\u001b[1;31m---------------------------------------------------------------------------\u001b[0m",
      "\u001b[1;31mTypeError\u001b[0m                                 Traceback (most recent call last)",
      "\u001b[1;32m<ipython-input-303-ae91abd75ba7>\u001b[0m in \u001b[0;36m<module>\u001b[1;34m\u001b[0m\n\u001b[1;32m----> 1\u001b[1;33m \u001b[0mfit_and_evaluate\u001b[0m\u001b[1;33m(\u001b[0m\u001b[0mregressor\u001b[0m\u001b[1;33m,\u001b[0m\u001b[0mX_train2\u001b[0m\u001b[1;33m,\u001b[0m\u001b[0my_train2\u001b[0m\u001b[1;33m)\u001b[0m\u001b[1;33m\u001b[0m\u001b[1;33m\u001b[0m\u001b[0m\n\u001b[0m",
      "\u001b[1;32m<ipython-input-263-86bbb8e74305>\u001b[0m in \u001b[0;36mfit_and_evaluate\u001b[1;34m(model, X, y)\u001b[0m\n\u001b[0;32m     14\u001b[0m     \u001b[0mtest_pred\u001b[0m \u001b[1;33m=\u001b[0m \u001b[0mmodel\u001b[0m\u001b[1;33m.\u001b[0m\u001b[0mpredict\u001b[0m\u001b[1;33m(\u001b[0m\u001b[0mX_test\u001b[0m\u001b[1;33m)\u001b[0m\u001b[1;33m\u001b[0m\u001b[1;33m\u001b[0m\u001b[0m\n\u001b[0;32m     15\u001b[0m \u001b[1;33m\u001b[0m\u001b[0m\n\u001b[1;32m---> 16\u001b[1;33m     \u001b[0mtrain_rmse\u001b[0m \u001b[1;33m=\u001b[0m \u001b[0mrmse\u001b[0m\u001b[1;33m(\u001b[0m\u001b[0my_train\u001b[0m\u001b[1;33m,\u001b[0m \u001b[0mtrain_pred\u001b[0m\u001b[1;33m)\u001b[0m\u001b[1;33m\u001b[0m\u001b[1;33m\u001b[0m\u001b[0m\n\u001b[0m\u001b[0;32m     17\u001b[0m     \u001b[0mtest_rmse\u001b[0m \u001b[1;33m=\u001b[0m \u001b[0mrmse\u001b[0m\u001b[1;33m(\u001b[0m\u001b[0my_test\u001b[0m\u001b[1;33m,\u001b[0m \u001b[0mtest_pred\u001b[0m\u001b[1;33m)\u001b[0m\u001b[1;33m\u001b[0m\u001b[1;33m\u001b[0m\u001b[0m\n\u001b[0;32m     18\u001b[0m \u001b[1;33m\u001b[0m\u001b[0m\n",
      "\u001b[1;31mTypeError\u001b[0m: 'numpy.float64' object is not callable"
     ]
    }
   ],
   "source": [
    "fit_and_evaluate(regressor,X_train2,y_train2)"
   ]
  },
  {
   "cell_type": "markdown",
   "metadata": {},
   "source": [
    "### SV Regressor"
   ]
  },
  {
   "cell_type": "code",
   "execution_count": 304,
   "metadata": {},
   "outputs": [
    {
     "ename": "TypeError",
     "evalue": "'numpy.float64' object is not callable",
     "output_type": "error",
     "traceback": [
      "\u001b[1;31m---------------------------------------------------------------------------\u001b[0m",
      "\u001b[1;31mTypeError\u001b[0m                                 Traceback (most recent call last)",
      "\u001b[1;32m<ipython-input-304-2600f506ecb0>\u001b[0m in \u001b[0;36m<module>\u001b[1;34m\u001b[0m\n\u001b[1;32m----> 1\u001b[1;33m \u001b[0mfit_and_evaluate\u001b[0m\u001b[1;33m(\u001b[0m\u001b[0mSVregressor\u001b[0m\u001b[1;33m,\u001b[0m\u001b[0mX_train2\u001b[0m\u001b[1;33m,\u001b[0m\u001b[0my_train2\u001b[0m\u001b[1;33m)\u001b[0m\u001b[1;33m\u001b[0m\u001b[1;33m\u001b[0m\u001b[0m\n\u001b[0m",
      "\u001b[1;32m<ipython-input-263-86bbb8e74305>\u001b[0m in \u001b[0;36mfit_and_evaluate\u001b[1;34m(model, X, y)\u001b[0m\n\u001b[0;32m     14\u001b[0m     \u001b[0mtest_pred\u001b[0m \u001b[1;33m=\u001b[0m \u001b[0mmodel\u001b[0m\u001b[1;33m.\u001b[0m\u001b[0mpredict\u001b[0m\u001b[1;33m(\u001b[0m\u001b[0mX_test\u001b[0m\u001b[1;33m)\u001b[0m\u001b[1;33m\u001b[0m\u001b[1;33m\u001b[0m\u001b[0m\n\u001b[0;32m     15\u001b[0m \u001b[1;33m\u001b[0m\u001b[0m\n\u001b[1;32m---> 16\u001b[1;33m     \u001b[0mtrain_rmse\u001b[0m \u001b[1;33m=\u001b[0m \u001b[0mrmse\u001b[0m\u001b[1;33m(\u001b[0m\u001b[0my_train\u001b[0m\u001b[1;33m,\u001b[0m \u001b[0mtrain_pred\u001b[0m\u001b[1;33m)\u001b[0m\u001b[1;33m\u001b[0m\u001b[1;33m\u001b[0m\u001b[0m\n\u001b[0m\u001b[0;32m     17\u001b[0m     \u001b[0mtest_rmse\u001b[0m \u001b[1;33m=\u001b[0m \u001b[0mrmse\u001b[0m\u001b[1;33m(\u001b[0m\u001b[0my_test\u001b[0m\u001b[1;33m,\u001b[0m \u001b[0mtest_pred\u001b[0m\u001b[1;33m)\u001b[0m\u001b[1;33m\u001b[0m\u001b[1;33m\u001b[0m\u001b[0m\n\u001b[0;32m     18\u001b[0m \u001b[1;33m\u001b[0m\u001b[0m\n",
      "\u001b[1;31mTypeError\u001b[0m: 'numpy.float64' object is not callable"
     ]
    }
   ],
   "source": [
    "fit_and_evaluate(SVregressor,X_train2,y_train2)"
   ]
  },
  {
   "cell_type": "markdown",
   "metadata": {},
   "source": [
    "### DT Regressor"
   ]
  },
  {
   "cell_type": "code",
   "execution_count": 164,
   "metadata": {},
   "outputs": [
    {
     "data": {
      "text/plain": [
       "{'Train RMSE': 9.241492546434857e-16, 'Test RMSE': 0.8229430685762213}"
      ]
     },
     "execution_count": 164,
     "metadata": {},
     "output_type": "execute_result"
    }
   ],
   "source": [
    "fit_and_evaluate(DTregressor,X_train2,y_train2)"
   ]
  },
  {
   "cell_type": "markdown",
   "metadata": {},
   "source": [
    "### RF Regressor"
   ]
  },
  {
   "cell_type": "code",
   "execution_count": 165,
   "metadata": {},
   "outputs": [
    {
     "data": {
      "text/plain": [
       "{'Train RMSE': 0.2543080045510396, 'Test RMSE': 0.6155356222850066}"
      ]
     },
     "execution_count": 165,
     "metadata": {},
     "output_type": "execute_result"
    }
   ],
   "source": [
    "fit_and_evaluate(RFregressor,X_train2,y_train2)"
   ]
  },
  {
   "cell_type": "markdown",
   "metadata": {},
   "source": [
    "### Rigde Regresion"
   ]
  },
  {
   "cell_type": "code",
   "execution_count": 305,
   "metadata": {},
   "outputs": [
    {
     "ename": "TypeError",
     "evalue": "'numpy.float64' object is not callable",
     "output_type": "error",
     "traceback": [
      "\u001b[1;31m---------------------------------------------------------------------------\u001b[0m",
      "\u001b[1;31mTypeError\u001b[0m                                 Traceback (most recent call last)",
      "\u001b[1;32m<ipython-input-305-02d0773806e7>\u001b[0m in \u001b[0;36m<module>\u001b[1;34m\u001b[0m\n\u001b[1;32m----> 1\u001b[1;33m \u001b[0mfit_and_evaluate\u001b[0m\u001b[1;33m(\u001b[0m\u001b[0mridge\u001b[0m\u001b[1;33m,\u001b[0m\u001b[0mX_train2\u001b[0m\u001b[1;33m,\u001b[0m\u001b[0my_train2\u001b[0m\u001b[1;33m)\u001b[0m\u001b[1;33m\u001b[0m\u001b[1;33m\u001b[0m\u001b[0m\n\u001b[0m",
      "\u001b[1;32m<ipython-input-263-86bbb8e74305>\u001b[0m in \u001b[0;36mfit_and_evaluate\u001b[1;34m(model, X, y)\u001b[0m\n\u001b[0;32m     14\u001b[0m     \u001b[0mtest_pred\u001b[0m \u001b[1;33m=\u001b[0m \u001b[0mmodel\u001b[0m\u001b[1;33m.\u001b[0m\u001b[0mpredict\u001b[0m\u001b[1;33m(\u001b[0m\u001b[0mX_test\u001b[0m\u001b[1;33m)\u001b[0m\u001b[1;33m\u001b[0m\u001b[1;33m\u001b[0m\u001b[0m\n\u001b[0;32m     15\u001b[0m \u001b[1;33m\u001b[0m\u001b[0m\n\u001b[1;32m---> 16\u001b[1;33m     \u001b[0mtrain_rmse\u001b[0m \u001b[1;33m=\u001b[0m \u001b[0mrmse\u001b[0m\u001b[1;33m(\u001b[0m\u001b[0my_train\u001b[0m\u001b[1;33m,\u001b[0m \u001b[0mtrain_pred\u001b[0m\u001b[1;33m)\u001b[0m\u001b[1;33m\u001b[0m\u001b[1;33m\u001b[0m\u001b[0m\n\u001b[0m\u001b[0;32m     17\u001b[0m     \u001b[0mtest_rmse\u001b[0m \u001b[1;33m=\u001b[0m \u001b[0mrmse\u001b[0m\u001b[1;33m(\u001b[0m\u001b[0my_test\u001b[0m\u001b[1;33m,\u001b[0m \u001b[0mtest_pred\u001b[0m\u001b[1;33m)\u001b[0m\u001b[1;33m\u001b[0m\u001b[1;33m\u001b[0m\u001b[0m\n\u001b[0;32m     18\u001b[0m \u001b[1;33m\u001b[0m\u001b[0m\n",
      "\u001b[1;31mTypeError\u001b[0m: 'numpy.float64' object is not callable"
     ]
    }
   ],
   "source": [
    "fit_and_evaluate(ridge,X_train2,y_train2)"
   ]
  },
  {
   "cell_type": "markdown",
   "metadata": {},
   "source": [
    "### Lasso Regression"
   ]
  },
  {
   "cell_type": "code",
   "execution_count": 167,
   "metadata": {},
   "outputs": [
    {
     "data": {
      "text/plain": [
       "{'Train RMSE': 1.8065019360582544, 'Test RMSE': 1.717303356767169}"
      ]
     },
     "execution_count": 167,
     "metadata": {},
     "output_type": "execute_result"
    }
   ],
   "source": [
    "fit_and_evaluate(lasso,X_train2,y_train2)"
   ]
  },
  {
   "cell_type": "code",
   "execution_count": null,
   "metadata": {},
   "outputs": [],
   "source": [
    "fit_and_evaluate(xgb_r,X_train2,y_train2)"
   ]
  },
  {
   "cell_type": "code",
   "execution_count": null,
   "metadata": {},
   "outputs": [],
   "source": [
    "fit_and_evaluate(bag_reg,X_train2,y_train2)"
   ]
  },
  {
   "cell_type": "code",
   "execution_count": null,
   "metadata": {},
   "outputs": [],
   "source": [
    "fit_and_evaluate(bst_reg,X_train2,y_train2)"
   ]
  },
  {
   "cell_type": "code",
   "execution_count": null,
   "metadata": {},
   "outputs": [],
   "source": []
  },
  {
   "cell_type": "markdown",
   "metadata": {},
   "source": [
    "**Metrics used**\n",
    "  - Root Mean Square Error (RMSE) is the standard deviation of the residuals (prediction errors). Residuals are a measure of how far from the regression line data points are; RMSE is a measure of how spread out these residuals are. In other words, it tells you how concentrated the data is around the line of best fit. Root mean square error is commonly used in climatology, forecasting, and regression analysis to verify experimental results."
   ]
  },
  {
   "cell_type": "markdown",
   "metadata": {},
   "source": [
    "## Saving and Restoring a model with Pickle"
   ]
  },
  {
   "cell_type": "code",
   "execution_count": 168,
   "metadata": {},
   "outputs": [],
   "source": [
    "#storing model\n",
    "pkl_file = \"mlr_model.pkl\"\n",
    "with open (pkl_file, 'wb') as file:\n",
    "    pickle.dump(RFregressor,file)"
   ]
  },
  {
   "cell_type": "code",
   "execution_count": 169,
   "metadata": {},
   "outputs": [],
   "source": [
    "#Loading the model\n",
    "\n",
    "with open (pkl_file, 'rb') as file:\n",
    "    Pickled_Model = pickle.load(file)"
   ]
  },
  {
   "cell_type": "markdown",
   "metadata": {},
   "source": [
    "### Predicting a test set"
   ]
  },
  {
   "cell_type": "markdown",
   "metadata": {},
   "source": [
    "The first thing we need to do is to get our data in the correct format. We will use the same techniques we used when preparing the training data to ensure we do not get any errors."
   ]
  },
  {
   "cell_type": "code",
   "execution_count": 170,
   "metadata": {},
   "outputs": [
    {
     "name": "stderr",
     "output_type": "stream",
     "text": [
      "<ipython-input-170-b70cd89fc4cb>:1: SettingWithCopyWarning: \n",
      "A value is trying to be set on a copy of a slice from a DataFrame.\n",
      "Try using .loc[row_indexer,col_indexer] = value instead\n",
      "\n",
      "See the caveats in the documentation: https://pandas.pydata.org/pandas-docs/stable/user_guide/indexing.html#returning-a-view-versus-a-copy\n",
      "  df2['Season'] = df2['Month'].apply(create_classes)\n"
     ]
    }
   ],
   "source": [
    "df2['Season'] = df2['Month'].apply(create_classes)"
   ]
  },
  {
   "cell_type": "code",
   "execution_count": 172,
   "metadata": {},
   "outputs": [],
   "source": [
    "province_list = df_test['Province'].unique()\n",
    "western_cape = ('CAPE', 'W.CAPE-BERGRIVER ETC','WEST COAST','WESTERN CAPE - CERES','SOUTHERN CAPE')\n",
    "eastern_cape = ('NORTH EASTERN CAPE', 'EASTERN CAPE')\n",
    "freestate = ('WESTERN FREESTATE','SOUTH WESTERN FREE STATE','EASTERN FREESTATE')\n",
    "gauteng = ('GAUTENG','NORTH WEST')\n",
    "transvaal = ('TRANSVAAL','ORANGE FREE STATE')\n",
    "natal = ('NATAL','KWAZULU NATAL')\n",
    "mpumalanga = ('MPUMALANGA','MPUMALANGA MIDVELD')\n",
    "other = ('IMPORTS - OUTSIDE RSA', 'OTHER AREAS','NAMIBIA')\n",
    "\n",
    "province_list = []\n",
    "\n",
    "for i in df_test['Province']:\n",
    "    if i in western_cape:\n",
    "        province_list.append('western cape')\n",
    "    elif i in eastern_cape:\n",
    "        province_list.append('eastern cape')\n",
    "    elif i in freestate:\n",
    "        province_list.append('freestate')\n",
    "    elif i in gauteng:\n",
    "        province_list.append('gauteng')\n",
    "    elif i in transvaal:\n",
    "        province_list.append('transvaal')\n",
    "    elif i in natal:\n",
    "        province_list.append('natal')\n",
    "    elif i in mpumalanga:\n",
    "        province_list.append('mpumalanga')\n",
    "    elif i in other:\n",
    "        province_list.append('other')\n",
    "    else:\n",
    "        province_list.append(i)\n",
    "\n",
    "df_test['Province'] = province_list"
   ]
  },
  {
   "cell_type": "code",
   "execution_count": 173,
   "metadata": {},
   "outputs": [
    {
     "data": {
      "text/html": [
       "<div>\n",
       "<style scoped>\n",
       "    .dataframe tbody tr th:only-of-type {\n",
       "        vertical-align: middle;\n",
       "    }\n",
       "\n",
       "    .dataframe tbody tr th {\n",
       "        vertical-align: top;\n",
       "    }\n",
       "\n",
       "    .dataframe thead th {\n",
       "        text-align: right;\n",
       "    }\n",
       "</style>\n",
       "<table border=\"1\" class=\"dataframe\">\n",
       "  <thead>\n",
       "    <tr style=\"text-align: right;\">\n",
       "      <th></th>\n",
       "      <th>Province</th>\n",
       "      <th>Container</th>\n",
       "      <th>Size_Grade</th>\n",
       "      <th>Weight_Kg</th>\n",
       "      <th>Commodities</th>\n",
       "      <th>Low_Price</th>\n",
       "      <th>High_Price</th>\n",
       "      <th>Sales_Total</th>\n",
       "      <th>Total_Qty_Sold</th>\n",
       "      <th>Total_Kg_Sold</th>\n",
       "      <th>Stock_On_Hand</th>\n",
       "      <th>Year</th>\n",
       "      <th>Month</th>\n",
       "      <th>Day</th>\n",
       "    </tr>\n",
       "  </thead>\n",
       "  <tbody>\n",
       "    <tr>\n",
       "      <th>0</th>\n",
       "      <td>western cape</td>\n",
       "      <td>EC120</td>\n",
       "      <td>1M</td>\n",
       "      <td>12.0</td>\n",
       "      <td>APPLE GOLDEN DELICIOUS</td>\n",
       "      <td>128.0</td>\n",
       "      <td>136.0</td>\n",
       "      <td>5008.0</td>\n",
       "      <td>38</td>\n",
       "      <td>456.0</td>\n",
       "      <td>0</td>\n",
       "      <td>2020</td>\n",
       "      <td>7</td>\n",
       "      <td>9</td>\n",
       "    </tr>\n",
       "    <tr>\n",
       "      <th>1</th>\n",
       "      <td>western cape</td>\n",
       "      <td>M4183</td>\n",
       "      <td>1X</td>\n",
       "      <td>18.3</td>\n",
       "      <td>APPLE GOLDEN DELICIOUS</td>\n",
       "      <td>220.0</td>\n",
       "      <td>220.0</td>\n",
       "      <td>1760.0</td>\n",
       "      <td>8</td>\n",
       "      <td>146.4</td>\n",
       "      <td>2</td>\n",
       "      <td>2020</td>\n",
       "      <td>1</td>\n",
       "      <td>20</td>\n",
       "    </tr>\n",
       "    <tr>\n",
       "      <th>2</th>\n",
       "      <td>western cape</td>\n",
       "      <td>EC120</td>\n",
       "      <td>1S</td>\n",
       "      <td>12.0</td>\n",
       "      <td>APPLE GOLDEN DELICIOUS</td>\n",
       "      <td>120.0</td>\n",
       "      <td>120.0</td>\n",
       "      <td>720.0</td>\n",
       "      <td>6</td>\n",
       "      <td>72.0</td>\n",
       "      <td>45</td>\n",
       "      <td>2020</td>\n",
       "      <td>8</td>\n",
       "      <td>19</td>\n",
       "    </tr>\n",
       "    <tr>\n",
       "      <th>3</th>\n",
       "      <td>western cape</td>\n",
       "      <td>M4183</td>\n",
       "      <td>1M</td>\n",
       "      <td>18.3</td>\n",
       "      <td>APPLE GOLDEN DELICIOUS</td>\n",
       "      <td>160.0</td>\n",
       "      <td>160.0</td>\n",
       "      <td>160.0</td>\n",
       "      <td>1</td>\n",
       "      <td>18.3</td>\n",
       "      <td>8</td>\n",
       "      <td>2020</td>\n",
       "      <td>5</td>\n",
       "      <td>6</td>\n",
       "    </tr>\n",
       "    <tr>\n",
       "      <th>4</th>\n",
       "      <td>western cape</td>\n",
       "      <td>M4183</td>\n",
       "      <td>1L</td>\n",
       "      <td>18.3</td>\n",
       "      <td>APPLE GOLDEN DELICIOUS</td>\n",
       "      <td>140.0</td>\n",
       "      <td>160.0</td>\n",
       "      <td>14140.0</td>\n",
       "      <td>100</td>\n",
       "      <td>1830.0</td>\n",
       "      <td>19</td>\n",
       "      <td>2020</td>\n",
       "      <td>5</td>\n",
       "      <td>4</td>\n",
       "    </tr>\n",
       "  </tbody>\n",
       "</table>\n",
       "</div>"
      ],
      "text/plain": [
       "       Province Container Size_Grade  Weight_Kg             Commodities  \\\n",
       "0  western cape     EC120         1M       12.0  APPLE GOLDEN DELICIOUS   \n",
       "1  western cape     M4183         1X       18.3  APPLE GOLDEN DELICIOUS   \n",
       "2  western cape     EC120         1S       12.0  APPLE GOLDEN DELICIOUS   \n",
       "3  western cape     M4183         1M       18.3  APPLE GOLDEN DELICIOUS   \n",
       "4  western cape     M4183         1L       18.3  APPLE GOLDEN DELICIOUS   \n",
       "\n",
       "   Low_Price  High_Price  Sales_Total  Total_Qty_Sold  Total_Kg_Sold  \\\n",
       "0      128.0       136.0       5008.0              38          456.0   \n",
       "1      220.0       220.0       1760.0               8          146.4   \n",
       "2      120.0       120.0        720.0               6           72.0   \n",
       "3      160.0       160.0        160.0               1           18.3   \n",
       "4      140.0       160.0      14140.0             100         1830.0   \n",
       "\n",
       "   Stock_On_Hand  Year  Month  Day  \n",
       "0              0  2020      7    9  \n",
       "1              2  2020      1   20  \n",
       "2             45  2020      8   19  \n",
       "3              8  2020      5    6  \n",
       "4             19  2020      5    4  "
      ]
     },
     "execution_count": 173,
     "metadata": {},
     "output_type": "execute_result"
    }
   ],
   "source": [
    "df_test['Year'] = pd.DatetimeIndex(df_test['Date']).year\n",
    "df_test['Month'] = pd.DatetimeIndex(df_test['Date']).month\n",
    "df_test['Day'] = pd.DatetimeIndex(df_test['Date']).day\n",
    "df_test.drop('Date', inplace=True, axis=1)\n",
    "\n",
    "df_test.head()"
   ]
  },
  {
   "cell_type": "code",
   "execution_count": 174,
   "metadata": {},
   "outputs": [
    {
     "data": {
      "text/html": [
       "<div>\n",
       "<style scoped>\n",
       "    .dataframe tbody tr th:only-of-type {\n",
       "        vertical-align: middle;\n",
       "    }\n",
       "\n",
       "    .dataframe tbody tr th {\n",
       "        vertical-align: top;\n",
       "    }\n",
       "\n",
       "    .dataframe thead th {\n",
       "        text-align: right;\n",
       "    }\n",
       "</style>\n",
       "<table border=\"1\" class=\"dataframe\">\n",
       "  <thead>\n",
       "    <tr style=\"text-align: right;\">\n",
       "      <th></th>\n",
       "      <th>Weight_Kg</th>\n",
       "      <th>Low_Price</th>\n",
       "      <th>High_Price</th>\n",
       "      <th>Sales_Total</th>\n",
       "      <th>Total_Qty_Sold</th>\n",
       "      <th>Total_Kg_Sold</th>\n",
       "      <th>Stock_On_Hand</th>\n",
       "      <th>Year</th>\n",
       "      <th>Month</th>\n",
       "      <th>Day</th>\n",
       "      <th>...</th>\n",
       "      <th>Container_M9125</th>\n",
       "      <th>Size_Grade_1M</th>\n",
       "      <th>Size_Grade_1S</th>\n",
       "      <th>Size_Grade_1U</th>\n",
       "      <th>Size_Grade_1X</th>\n",
       "      <th>Size_Grade_2L</th>\n",
       "      <th>Size_Grade_2M</th>\n",
       "      <th>Size_Grade_2S</th>\n",
       "      <th>Size_Grade_2U</th>\n",
       "      <th>Size_Grade_2X</th>\n",
       "    </tr>\n",
       "  </thead>\n",
       "  <tbody>\n",
       "    <tr>\n",
       "      <th>0</th>\n",
       "      <td>12.0</td>\n",
       "      <td>128.0</td>\n",
       "      <td>136.0</td>\n",
       "      <td>5008.0</td>\n",
       "      <td>38</td>\n",
       "      <td>456.0</td>\n",
       "      <td>0</td>\n",
       "      <td>2020</td>\n",
       "      <td>7</td>\n",
       "      <td>9</td>\n",
       "      <td>...</td>\n",
       "      <td>0</td>\n",
       "      <td>1</td>\n",
       "      <td>0</td>\n",
       "      <td>0</td>\n",
       "      <td>0</td>\n",
       "      <td>0</td>\n",
       "      <td>0</td>\n",
       "      <td>0</td>\n",
       "      <td>0</td>\n",
       "      <td>0</td>\n",
       "    </tr>\n",
       "    <tr>\n",
       "      <th>1</th>\n",
       "      <td>18.3</td>\n",
       "      <td>220.0</td>\n",
       "      <td>220.0</td>\n",
       "      <td>1760.0</td>\n",
       "      <td>8</td>\n",
       "      <td>146.4</td>\n",
       "      <td>2</td>\n",
       "      <td>2020</td>\n",
       "      <td>1</td>\n",
       "      <td>20</td>\n",
       "      <td>...</td>\n",
       "      <td>0</td>\n",
       "      <td>0</td>\n",
       "      <td>0</td>\n",
       "      <td>0</td>\n",
       "      <td>1</td>\n",
       "      <td>0</td>\n",
       "      <td>0</td>\n",
       "      <td>0</td>\n",
       "      <td>0</td>\n",
       "      <td>0</td>\n",
       "    </tr>\n",
       "    <tr>\n",
       "      <th>2</th>\n",
       "      <td>12.0</td>\n",
       "      <td>120.0</td>\n",
       "      <td>120.0</td>\n",
       "      <td>720.0</td>\n",
       "      <td>6</td>\n",
       "      <td>72.0</td>\n",
       "      <td>45</td>\n",
       "      <td>2020</td>\n",
       "      <td>8</td>\n",
       "      <td>19</td>\n",
       "      <td>...</td>\n",
       "      <td>0</td>\n",
       "      <td>0</td>\n",
       "      <td>1</td>\n",
       "      <td>0</td>\n",
       "      <td>0</td>\n",
       "      <td>0</td>\n",
       "      <td>0</td>\n",
       "      <td>0</td>\n",
       "      <td>0</td>\n",
       "      <td>0</td>\n",
       "    </tr>\n",
       "    <tr>\n",
       "      <th>3</th>\n",
       "      <td>18.3</td>\n",
       "      <td>160.0</td>\n",
       "      <td>160.0</td>\n",
       "      <td>160.0</td>\n",
       "      <td>1</td>\n",
       "      <td>18.3</td>\n",
       "      <td>8</td>\n",
       "      <td>2020</td>\n",
       "      <td>5</td>\n",
       "      <td>6</td>\n",
       "      <td>...</td>\n",
       "      <td>0</td>\n",
       "      <td>1</td>\n",
       "      <td>0</td>\n",
       "      <td>0</td>\n",
       "      <td>0</td>\n",
       "      <td>0</td>\n",
       "      <td>0</td>\n",
       "      <td>0</td>\n",
       "      <td>0</td>\n",
       "      <td>0</td>\n",
       "    </tr>\n",
       "    <tr>\n",
       "      <th>4</th>\n",
       "      <td>18.3</td>\n",
       "      <td>140.0</td>\n",
       "      <td>160.0</td>\n",
       "      <td>14140.0</td>\n",
       "      <td>100</td>\n",
       "      <td>1830.0</td>\n",
       "      <td>19</td>\n",
       "      <td>2020</td>\n",
       "      <td>5</td>\n",
       "      <td>4</td>\n",
       "      <td>...</td>\n",
       "      <td>0</td>\n",
       "      <td>0</td>\n",
       "      <td>0</td>\n",
       "      <td>0</td>\n",
       "      <td>0</td>\n",
       "      <td>0</td>\n",
       "      <td>0</td>\n",
       "      <td>0</td>\n",
       "      <td>0</td>\n",
       "      <td>0</td>\n",
       "    </tr>\n",
       "  </tbody>\n",
       "</table>\n",
       "<p>5 rows × 32 columns</p>\n",
       "</div>"
      ],
      "text/plain": [
       "   Weight_Kg  Low_Price  High_Price  Sales_Total  Total_Qty_Sold  \\\n",
       "0       12.0      128.0       136.0       5008.0              38   \n",
       "1       18.3      220.0       220.0       1760.0               8   \n",
       "2       12.0      120.0       120.0        720.0               6   \n",
       "3       18.3      160.0       160.0        160.0               1   \n",
       "4       18.3      140.0       160.0      14140.0             100   \n",
       "\n",
       "   Total_Kg_Sold  Stock_On_Hand  Year  Month  Day  ...  Container_M9125  \\\n",
       "0          456.0              0  2020      7    9  ...                0   \n",
       "1          146.4              2  2020      1   20  ...                0   \n",
       "2           72.0             45  2020      8   19  ...                0   \n",
       "3           18.3              8  2020      5    6  ...                0   \n",
       "4         1830.0             19  2020      5    4  ...                0   \n",
       "\n",
       "   Size_Grade_1M  Size_Grade_1S  Size_Grade_1U  Size_Grade_1X  Size_Grade_2L  \\\n",
       "0              1              0              0              0              0   \n",
       "1              0              0              0              1              0   \n",
       "2              0              1              0              0              0   \n",
       "3              1              0              0              0              0   \n",
       "4              0              0              0              0              0   \n",
       "\n",
       "   Size_Grade_2M  Size_Grade_2S  Size_Grade_2U  Size_Grade_2X  \n",
       "0              0              0              0              0  \n",
       "1              0              0              0              0  \n",
       "2              0              0              0              0  \n",
       "3              0              0              0              0  \n",
       "4              0              0              0              0  \n",
       "\n",
       "[5 rows x 32 columns]"
      ]
     },
     "execution_count": 174,
     "metadata": {},
     "output_type": "execute_result"
    }
   ],
   "source": [
    "X_real = pd.get_dummies(df_test, drop_first = True)\n",
    "# Again we make sure that all the column names have underscores instead of periods,whitespaces and dashes\n",
    "X_real.columns = [col.replace(\".\",\"_\") for col in X_real.columns] \n",
    "X_real.columns = [col.replace(\" \", \"_\")for col in X_real.columns]\n",
    "X_real.columns = [col.replace(\"-\", \"_\")for col in X_real.columns]\n",
    "X_real.head()"
   ]
  },
  {
   "cell_type": "code",
   "execution_count": 175,
   "metadata": {},
   "outputs": [
    {
     "data": {
      "text/plain": [
       "((1952, 16), (685, 14))"
      ]
     },
     "execution_count": 175,
     "metadata": {},
     "output_type": "execute_result"
    }
   ],
   "source": [
    "\n",
    "df2.shape, df_test.shape"
   ]
  },
  {
   "cell_type": "code",
   "execution_count": 176,
   "metadata": {},
   "outputs": [
    {
     "data": {
      "text/plain": [
       "((1952, 36), (685, 32))"
      ]
     },
     "execution_count": 176,
     "metadata": {},
     "output_type": "execute_result"
    }
   ],
   "source": [
    "df_dummies.shape , X_real.shape"
   ]
  },
  {
   "cell_type": "markdown",
   "metadata": {},
   "source": [
    "### Making predictions"
   ]
  },
  {
   "cell_type": "code",
   "execution_count": 177,
   "metadata": {},
   "outputs": [
    {
     "data": {
      "text/plain": [
       "array([6.781, 6.781, 6.781, 6.781, 6.781, 6.781, 6.781, 6.781, 6.781,\n",
       "       6.781])"
      ]
     },
     "execution_count": 177,
     "metadata": {},
     "output_type": "execute_result"
    }
   ],
   "source": [
    "pred = Pickled_Model.predict(X_real[['Weight_Kg', 'Low_Price', 'High_Price', 'Sales_Total', 'Total_Qty_Sold', 'Total_Kg_Sold', 'Stock_On_Hand']].values)\n",
    "pred[:10]"
   ]
  },
  {
   "cell_type": "markdown",
   "metadata": {},
   "source": [
    "# 9. Submission"
   ]
  },
  {
   "cell_type": "code",
   "execution_count": 178,
   "metadata": {},
   "outputs": [],
   "source": [
    "# create a submission dataframe\n",
    "submission = pd.DataFrame(\n",
    "          {'Index' : test_id,\n",
    "            'Avg_Price_Per_Kg': pred\n",
    "           })"
   ]
  },
  {
   "cell_type": "code",
   "execution_count": 179,
   "metadata": {},
   "outputs": [
    {
     "data": {
      "text/html": [
       "<div>\n",
       "<style scoped>\n",
       "    .dataframe tbody tr th:only-of-type {\n",
       "        vertical-align: middle;\n",
       "    }\n",
       "\n",
       "    .dataframe tbody tr th {\n",
       "        vertical-align: top;\n",
       "    }\n",
       "\n",
       "    .dataframe thead th {\n",
       "        text-align: right;\n",
       "    }\n",
       "</style>\n",
       "<table border=\"1\" class=\"dataframe\">\n",
       "  <thead>\n",
       "    <tr style=\"text-align: right;\">\n",
       "      <th></th>\n",
       "      <th>Index</th>\n",
       "      <th>Avg_Price_Per_Kg</th>\n",
       "    </tr>\n",
       "  </thead>\n",
       "  <tbody>\n",
       "    <tr>\n",
       "      <th>0</th>\n",
       "      <td>1</td>\n",
       "      <td>6.781</td>\n",
       "    </tr>\n",
       "    <tr>\n",
       "      <th>1</th>\n",
       "      <td>2</td>\n",
       "      <td>6.781</td>\n",
       "    </tr>\n",
       "    <tr>\n",
       "      <th>2</th>\n",
       "      <td>3</td>\n",
       "      <td>6.781</td>\n",
       "    </tr>\n",
       "    <tr>\n",
       "      <th>3</th>\n",
       "      <td>4</td>\n",
       "      <td>6.781</td>\n",
       "    </tr>\n",
       "    <tr>\n",
       "      <th>4</th>\n",
       "      <td>5</td>\n",
       "      <td>6.781</td>\n",
       "    </tr>\n",
       "  </tbody>\n",
       "</table>\n",
       "</div>"
      ],
      "text/plain": [
       "   Index  Avg_Price_Per_Kg\n",
       "0      1             6.781\n",
       "1      2             6.781\n",
       "2      3             6.781\n",
       "3      4             6.781\n",
       "4      5             6.781"
      ]
     },
     "execution_count": 179,
     "metadata": {},
     "output_type": "execute_result"
    }
   ],
   "source": [
    "\n",
    "submission.head()"
   ]
  },
  {
   "cell_type": "code",
   "execution_count": 313,
   "metadata": {},
   "outputs": [],
   "source": [
    "# save DataFrame to csv file for submission\n",
    "submission.to_csv(\"full set.csv\", index=False)"
   ]
  },
  {
   "cell_type": "markdown",
   "metadata": {},
   "source": [
    "# 7.3 Training the model on Selected Features that is Scaled  "
   ]
  },
  {
   "cell_type": "code",
   "execution_count": 229,
   "metadata": {},
   "outputs": [],
   "source": [
    "###############################################################################################################################"
   ]
  },
  {
   "cell_type": "code",
   "execution_count": 231,
   "metadata": {},
   "outputs": [],
   "source": [
    "# Model Training using TPOT autamated ML"
   ]
  },
  {
   "cell_type": "code",
   "execution_count": 232,
   "metadata": {},
   "outputs": [],
   "source": [
    "#from tpot import TPOTRegressor"
   ]
  },
  {
   "cell_type": "code",
   "execution_count": null,
   "metadata": {},
   "outputs": [],
   "source": [
    "# applying TPOT\n",
    "\n",
    "#tpot = TPOTRegressor(generations= 10,\n",
    "#                    population_size= 50,\n",
    "#                    verbosity= 2,\n",
    "#                    random_state=7)\n",
    "#tpot.fit(X_train,y_train)\n",
    "#print(tpot.score(X_test,y_test))"
   ]
  },
  {
   "cell_type": "code",
   "execution_count": null,
   "metadata": {},
   "outputs": [],
   "source": [
    "# This tell us that the best regression algorithm is XGBRegressor"
   ]
  },
  {
   "cell_type": "code",
   "execution_count": null,
   "metadata": {},
   "outputs": [],
   "source": []
  },
  {
   "cell_type": "code",
   "execution_count": null,
   "metadata": {},
   "outputs": [],
   "source": []
  },
  {
   "cell_type": "markdown",
   "metadata": {},
   "source": [
    "# 9. Submission"
   ]
  },
  {
   "cell_type": "markdown",
   "metadata": {},
   "source": [
    "# 10. Bibliography"
   ]
  },
  {
   "cell_type": "markdown",
   "metadata": {},
   "source": [
    "[1] https://www.kaggle.com/c/edsa-apple-prices-challenge"
   ]
  },
  {
   "cell_type": "code",
   "execution_count": null,
   "metadata": {},
   "outputs": [],
   "source": []
  }
 ],
 "metadata": {
  "kernelspec": {
   "display_name": "Python 3",
   "language": "python",
   "name": "python3"
  },
  "language_info": {
   "codemirror_mode": {
    "name": "ipython",
    "version": 3
   },
   "file_extension": ".py",
   "mimetype": "text/x-python",
   "name": "python",
   "nbconvert_exporter": "python",
   "pygments_lexer": "ipython3",
   "version": "3.8.5"
  }
 },
 "nbformat": 4,
 "nbformat_minor": 4
}
